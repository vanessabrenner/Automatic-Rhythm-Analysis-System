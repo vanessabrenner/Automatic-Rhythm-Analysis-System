{
 "cells": [
  {
   "cell_type": "markdown",
   "metadata": {
    "id": "siNgPv8khlJx"
   },
   "source": [
    "## Setting up environment"
   ]
  },
  {
   "cell_type": "code",
   "execution_count": 1,
   "metadata": {
    "colab": {
     "base_uri": "https://localhost:8080/"
    },
    "id": "B1qHu_z-JDsC",
    "outputId": "9e82ef34-3e1c-4ea2-e640-c4d17f3dd966"
   },
   "outputs": [],
   "source": [
    "import os\n",
    "import sys\n",
    "import warnings\n",
    "\n",
    "import numpy as np\n",
    "import tensorflow as tf\n",
    "import keras\n",
    "import madmom\n",
    "import mirdata\n",
    "import librosa\n",
    "import random\n",
    "from sklearn.model_selection import KFold\n",
    "import json\n",
    "import pickle\n",
    "import librosa.display\n",
    "\n",
    "from scipy.ndimage import maximum_filter1d\n",
    "from scipy.interpolate import interp1d\n",
    "from scipy.signal import argrelmax\n",
    "\n",
    "import matplotlib.pyplot as plt"
   ]
  },
  {
   "cell_type": "code",
   "execution_count": 2,
   "metadata": {
    "id": "iMl5vUrbwSsZ"
   },
   "outputs": [],
   "source": [
    "# ignore certain warnings\n",
    "warnings.filterwarnings('ignore')\n",
    "\n",
    "# set default figure size\n",
    "plt.rcParams['figure.figsize'] = (20, 6)"
   ]
  },
  {
   "cell_type": "markdown",
   "metadata": {
    "id": "q7jA7cDZJDsa"
   },
   "source": [
    "# Dataset handling"
   ]
  },
  {
   "cell_type": "code",
   "execution_count": 3,
   "metadata": {
    "colab": {
     "base_uri": "https://localhost:8080/"
    },
    "id": "K1yRaipz-Icz",
    "outputId": "b2636565-9c7f-4823-d7e9-62e52292b25f"
   },
   "outputs": [
    {
     "name": "stdout",
     "output_type": "stream",
     "text": [
      "GTZAN 1000\n",
      "BALLROOM 698\n",
      "HAINSWORTH 222\n",
      "GIANTSTEPS 664\n",
      "SMC 217\n",
      "CARNATIC 176\n",
      "HARMONIX 821\n"
     ]
    }
   ],
   "source": [
    "gtzan = mirdata.initialize('gtzan_genre', data_home=\"./dataset/gtzan_genre\")\n",
    "# gtzan.download()\n",
    "print(\"GTZAN\", len(gtzan.track_ids))\n",
    "\n",
    "ballroom = mirdata.initialize('ballroom', data_home=\"./dataset/ballroom\")\n",
    "# ballroom.download()\n",
    "print(\"BALLROOM\", len(ballroom.track_ids))\n",
    "\n",
    "hainsworth = mirdata.initialize('hainsworth', data_home=\"C:/Users/vanes/Documents/facultate/licenta/project/dataset/hainsworth/H_1.0\")\n",
    "# hainsworth.download()\n",
    "print(\"HAINSWORTH\", len(hainsworth.track_ids))\n",
    "\n",
    "giantsteps = mirdata.initialize('giantsteps_tempo', data_home=\"C:/Users/vanes/Documents/facultate/licenta/project/dataset/giantsteps_tempo\")\n",
    "# giantsteps.download()\n",
    "print(\"GIANTSTEPS\", len(giantsteps.track_ids))\n",
    "\n",
    "smc = mirdata.initialize('smc', data_home=\"C:/Users/vanes/Documents/facultate/licenta/project/dataset/smc\")\n",
    "# giantsteps.download()\n",
    "print(\"SMC\", len(smc.track_ids))\n",
    "\n",
    "carnatic = mirdata.initialize('carnatic', data_home=\"C:/Users/vanes/Documents/facultate/licenta/project/dataset/carnatic\")\n",
    "# carnatic.download()\n",
    "print(\"CARNATIC\", len(carnatic.track_ids))\n",
    "\n",
    "harmonix = mirdata.initialize('harmonix', data_home=\"C:/Users/vanes/Documents/facultate/licenta/project/dataset/harmonix\")\n",
    "# harmonix.download()\n",
    "print(\"HARMONIX\", len(harmonix.track_ids))"
   ]
  },
  {
   "cell_type": "markdown",
   "metadata": {
    "id": "ZgXF0aWjkMP6"
   },
   "source": [
    "## Define dataset splits\n",
    "\n",
    "* acest lucru l am facut in utils"
   ]
  },
  {
   "cell_type": "code",
   "execution_count": 9,
   "metadata": {},
   "outputs": [],
   "source": [
    "tracks = {\n",
    "    \"gtzan_genre\": gtzan.load_tracks(),\n",
    "    # \"ballroom\": ballroom.load_tracks(),\n",
    "    # \"hainsworth\": hainsworth.load_tracks(),\n",
    "    # \"smc\": smc.load_tracks(),\n",
    "    # \"giantsteps_tempo\" : giantsteps.load_tracks(),\n",
    "    # \"carnatic\": carnatic.load_tracks(),\n",
    "    # \"harmonix\": harmonix.load_tracks()\n",
    "}"
   ]
  },
  {
   "cell_type": "markdown",
   "metadata": {
    "id": "qf8RVoefJDsV"
   },
   "source": [
    "# Preprocesare"
   ]
  },
  {
   "cell_type": "code",
   "execution_count": 10,
   "metadata": {
    "id": "D29A4-5yJDsW"
   },
   "outputs": [],
   "source": [
    "from madmom.processors import ParallelProcessor, SequentialProcessor\n",
    "from madmom.audio.signal import SignalProcessor, FramedSignalProcessor\n",
    "from madmom.audio.stft import ShortTimeFourierTransformProcessor\n",
    "from madmom.audio.spectrogram import FilteredSpectrogramProcessor, LogarithmicSpectrogramProcessor\n",
    "\n",
    "FPS = 100\n",
    "FFT_SIZE = 2048\n",
    "NUM_BANDS = 12\n",
    "\n",
    "# define pre-processor\n",
    "class PreProcessor(SequentialProcessor):\n",
    "    def __init__(self, frame_size=FFT_SIZE, num_bands=NUM_BANDS, log=np.log, add=1e-6, fps=FPS):\n",
    "        # resample to a fixed sample rate in order to get always the same number of filter bins\n",
    "        sig = SignalProcessor(num_channels=1, sample_rate=44100)\n",
    "        # split audio signal in overlapping frames\n",
    "        frames = FramedSignalProcessor(frame_size=frame_size, fps=fps)\n",
    "        # compute STFT\n",
    "        stft = ShortTimeFourierTransformProcessor()\n",
    "        # filter the magnitudes\n",
    "        filt = FilteredSpectrogramProcessor(num_bands=num_bands)\n",
    "        # scale them logarithmically\n",
    "        spec = LogarithmicSpectrogramProcessor(log=log, add=add)\n",
    "        # instantiate a SequentialProcessor\n",
    "        super(PreProcessor, self).__init__((sig, frames, stft, filt, spec, np.array))\n",
    "        # safe fps as attribute (needed for quantization of events)\n",
    "        self.fps = fps"
   ]
  },
  {
   "cell_type": "markdown",
   "metadata": {
    "id": "9Pt2T3CPJDs_"
   },
   "source": [
    "# Reteau neuronala"
   ]
  },
  {
   "cell_type": "code",
   "execution_count": 6,
   "metadata": {
    "id": "EdPM7mSNJDtB"
   },
   "outputs": [],
   "source": [
    "import keras.backend as K\n",
    "\n",
    "from keras.models import Sequential, Model\n",
    "from keras.layers import (\n",
    "    Activation,\n",
    "    Dense,\n",
    "    Input,\n",
    "    Conv1D,\n",
    "    Conv2D,\n",
    "    MaxPooling2D,\n",
    "    Reshape,\n",
    "    Dropout,\n",
    "    SpatialDropout1D,\n",
    "    GaussianNoise,\n",
    "    GlobalAveragePooling1D,\n",
    ")\n",
    "\n",
    "# from keras.legacy import interfaces\n",
    "from keras.utils import Sequence\n",
    "from keras.optimizers import Optimizer"
   ]
  },
  {
   "cell_type": "markdown",
   "metadata": {
    "id": "fRbe5mCe1cf_"
   },
   "source": [
    "## Straturi TCN\n",
    "\n",
    "Componenta principala a retelei este un TCN si este formata din 11 straturi TCN, fiecare avand rate de dilatare din ce in ce mai mari.\n",
    "\n",
    "Structura este urmatoarea:\n",
    "<img src=\"image.png\" alt=\"Structura TCN multi-task\" width=\"400\"/>"
   ]
  },
  {
   "cell_type": "code",
   "execution_count": 7,
   "metadata": {
    "id": "lO4T-PX9Pl90"
   },
   "outputs": [],
   "source": [
    "def residual_block(x, i, activation, num_filters, kernel_size, padding, dropout_rate=0, name=''):\n",
    "    # name of the layer\n",
    "    name = name + '_dilation_%d' % i\n",
    "    # 1x1 conv. of input (so it can be added as residual)\n",
    "    res_x = Conv1D(num_filters, 1, padding='same', name=name + '_1x1_conv_residual')(x)\n",
    "    # two dilated convolutions, with dilation rates of i and 2i\n",
    "    conv_1 = Conv1D(\n",
    "        filters=num_filters,\n",
    "        kernel_size=kernel_size,\n",
    "        dilation_rate=i,\n",
    "        padding=padding,\n",
    "        name=name + '_dilated_conv_1',\n",
    "    )(x)\n",
    "    conv_2 = Conv1D(\n",
    "        filters=num_filters,\n",
    "        kernel_size=kernel_size,\n",
    "        dilation_rate=i * 2,\n",
    "        padding=padding,\n",
    "        name=name + '_dilated_conv_2',\n",
    "    )(x)\n",
    "    # concatenate the output of the two dilations\n",
    "    concat = keras.layers.concatenate([conv_1, conv_2], name=name + '_concat')\n",
    "    # apply activation function\n",
    "    x = Activation(activation, name=name + '_activation')(concat)\n",
    "    # apply spatial dropout\n",
    "    x = SpatialDropout1D(dropout_rate, name=name + '_spatial_dropout_%f' % dropout_rate)(x)\n",
    "    # 1x1 conv. to obtain a representation with the same size as the residual\n",
    "    x = Conv1D(num_filters, 1, padding='same', name=name + '_1x1_conv')(x)\n",
    "    # add the residual to the processed data and also return it as skip connection\n",
    "    return keras.layers.add([res_x, x], name=name + '_merge_residual'), x\n",
    "\n",
    "\n",
    "class TCN:\n",
    "    def __init__(\n",
    "        self,\n",
    "        num_filters=20,\n",
    "        kernel_size=5,\n",
    "        dilations=[1, 2, 4, 8, 16, 32, 64, 128, 256, 512, 1024],\n",
    "        activation='elu',\n",
    "        padding='same',\n",
    "        dropout_rate=0.15,\n",
    "        name='tcn',\n",
    "    ):\n",
    "        self.name = name\n",
    "        self.dropout_rate = dropout_rate\n",
    "        self.activation = activation\n",
    "        self.dilations = dilations\n",
    "        self.kernel_size = kernel_size\n",
    "        self.num_filters = num_filters\n",
    "        self.padding = padding\n",
    "\n",
    "        if padding != 'causal' and padding != 'same':\n",
    "            raise ValueError(\"Only 'causal' or 'same' padding are compatible for this layer.\")\n",
    "\n",
    "    def __call__(self, inputs):\n",
    "        x = inputs\n",
    "        # gather skip connections, each having a different context\n",
    "        skip_connections = []\n",
    "        # build the TCN models\n",
    "        for i, num_filters in zip(self.dilations, self.num_filters):\n",
    "            # feed the output of the previous layer into the next layer\n",
    "            # increase dilation rate for each consecutive layer\n",
    "            x, skip_out = residual_block(\n",
    "                x, i, self.activation, num_filters, self.kernel_size, self.padding, self.dropout_rate, name=self.name\n",
    "            )\n",
    "            # collect skip connection\n",
    "            skip_connections.append(skip_out)\n",
    "        # activate the output of the TCN stack\n",
    "        x = Activation(self.activation, name=self.name + '_activation')(x)\n",
    "        # merge the skip connections by simply adding them\n",
    "        skip = keras.layers.add(skip_connections, name=self.name + '_merge_skip_connections')\n",
    "        return x, skip"
   ]
  },
  {
   "cell_type": "markdown",
   "metadata": {
    "id": "Hh3fBhLXk02a"
   },
   "source": [
    "## Multi-task model\n",
    "\n",
    "Reteaua care urmeaza sa fie antrenata este formata din doua parti principale:\n",
    "\n",
    "* un ansamblu de straturi convolutionale si\n",
    "\n",
    "* TCN-ul propriu-zis\n",
    "\n",
    "Prima parte este folosita pentru a invata trasaturi locale relevante, in timp ce a doua parte invata dependentele temporale ale acestor trasaturi (locale)."
   ]
  },
  {
   "cell_type": "code",
   "execution_count": 9,
   "metadata": {
    "id": "8Wj7Uhaoy7b1"
   },
   "outputs": [],
   "source": [
    "def create_model(input_shape, num_filters=20, num_dilations=11, kernel_size=5, activation='elu', dropout_rate=0.15):\n",
    "    # input layer\n",
    "    input_layer = Input(shape=input_shape)\n",
    "\n",
    "    # stack of 3 conv layers, each conv, activation, max. pooling & dropout\n",
    "    conv_1 = Conv2D(num_filters, (3, 3), padding='valid', name='conv_1_conv')(input_layer)\n",
    "    conv_1 = Activation(activation, name='conv_1_activation')(conv_1)\n",
    "    conv_1 = MaxPooling2D((1, 3), name='conv_1_max_pooling')(conv_1)\n",
    "    conv_1 = Dropout(dropout_rate, name='conv_1_dropout')(conv_1)\n",
    "\n",
    "    conv_2 = Conv2D(num_filters, (1, 10), padding='valid', name='conv_2_conv')(conv_1)\n",
    "    conv_2 = Activation(activation, name='conv_2_activation')(conv_2)\n",
    "    conv_2 = MaxPooling2D((1, 3), name='conv_2_max_pooling')(conv_2)\n",
    "    conv_2 = Dropout(dropout_rate, name='conv_2_dropout')(conv_2)\n",
    "\n",
    "    conv_3 = Conv2D(num_filters, (3, 3), padding='valid', name='conv_3_conv')(conv_2)\n",
    "    conv_3 = Activation(activation, name='conv_3_activation')(conv_3)\n",
    "    conv_3 = MaxPooling2D((1, 3), name='conv_3_max_pooling')(conv_3)\n",
    "    conv_3 = Dropout(dropout_rate, name='conv_3_dropout')(conv_3)\n",
    "\n",
    "    # reshape layer to reduce dimensions\n",
    "    x = Reshape((-1, num_filters), name='tcn_input_reshape')(conv_3)\n",
    "\n",
    "    # TCN layers\n",
    "    dilations = [2 ** i for i in range(num_dilations)]\n",
    "    tcn, skip = TCN(\n",
    "        num_filters=[num_filters] * len(dilations),\n",
    "        kernel_size=kernel_size,\n",
    "        dilations=dilations,\n",
    "        activation=activation,\n",
    "        padding='same',\n",
    "        dropout_rate=dropout_rate,\n",
    "    )(x)\n",
    "\n",
    "    # output layers; beats & downbeats use TCN output, tempo the skip connections\n",
    "    beats = Dropout(dropout_rate, name='beats_dropout')(tcn)\n",
    "    beats = Dense(1, name='beats_dense')(beats)\n",
    "    beats = Activation('sigmoid', name='beats')(beats)\n",
    "\n",
    "    downbeats = Dropout(dropout_rate, name='downbeats_dropout')(tcn)\n",
    "    downbeats = Dense(1, name='downbeats_dense')(downbeats)\n",
    "    downbeats = Activation('sigmoid', name='downbeats')(downbeats)\n",
    "\n",
    "    tempo = Dropout(dropout_rate, name='tempo_dropout')(skip)\n",
    "    tempo = GlobalAveragePooling1D(name='tempo_global_average_pooling')(tempo)\n",
    "    tempo = GaussianNoise(dropout_rate, name='tempo_noise')(tempo)\n",
    "    tempo = Dense(300, name='tempo_dense')(tempo)\n",
    "    tempo = Activation('softmax', name='tempo')(tempo)\n",
    "\n",
    "    # instantiate a Model and return it\n",
    "    return Model(input_layer, outputs=[beats, downbeats, tempo])"
   ]
  },
  {
   "cell_type": "markdown",
   "metadata": {
    "id": "AgpYoZ7kjrWy"
   },
   "source": [
    "## DataSequence\n",
    "\n",
    "Pentru a putea antrena reteaua, trebuie sa furnizam piesele intr-un mod pe care reteaua il poate procesa.\n",
    "\n",
    "Deoarece modelul trebuie sa poata procesa secvente (adica piese muzicale) de lungime variabila, se va folosi un batch size de 1.\n",
    "Astfel, nu este nevoie de padding pentru secvente si putem pur si simplu sa iteram peste ele.\n",
    "\n",
    "Ca trasaturi (features), folosim o reprezentare spectrograma, iar ca tinte (targets) folosim adnotarile beats, downbeats si tempo ale pieselor.\n",
    "Informatiile despre tempo sunt intotdeauna calculate din beats.\n",
    "\n",
    "Beats si downbeats sunt codificate one-hot, adica frame-urile care corespund unui downbeat au valoarea 1, iar toate celelalte frame-uri au valoarea 0.\n",
    "\n",
    "Tempo-ul este codificat ca un vector in care bin-ul corespunzator valorii tinta a tempo-ului (in bpm – batai pe minut) are valoarea 1, iar toate celelalte 0.\n",
    "\n",
    "Daca nu exista informatii despre downbeats, mascam tintele (toate valorile setate la -1).\n",
    "In acest fel, eroarea poate fi ignorata si nu se propaga inapoi (backpropagation) la actualizarea ponderilor.\n",
    "\n",
    "Pentru a imbunatati acuratetea si viteza de antrenare, „largim” tintele, adica oferim frame-urilor / bin-urilor vecine o valoare intre 0 si 1."
   ]
  },
  {
   "cell_type": "code",
   "execution_count": null,
   "metadata": {
    "id": "SuTZNkq4QL53"
   },
   "outputs": [],
   "source": [
    "MASK_VALUE = -1\n",
    "\n",
    "# infer (global) tempo from beats\n",
    "def infer_tempo(beats, hist_smooth=15, fps=FPS, no_tempo=MASK_VALUE):\n",
    "    ibis = np.diff(beats) * fps\n",
    "    bins = np.bincount(np.round(ibis).astype(int))\n",
    "    # if no beats are present, there is no tempo\n",
    "    if not bins.any():\n",
    "        return NO_TEMPO\n",
    "    intervals = np.arange(len(bins))\n",
    "    # smooth histogram bins\n",
    "    if hist_smooth > 0:\n",
    "        bins = madmom.audio.signal.smooth(bins, hist_smooth)\n",
    "    # create interpolation function\n",
    "    interpolation_fn = interp1d(intervals, bins, 'quadratic')\n",
    "    # generate new intervals with 1000x the resolution\n",
    "    intervals = np.arange(intervals[0], intervals[-1], 0.001)\n",
    "    tempi = 60.0 * fps / intervals\n",
    "    # apply quadratic interpolation\n",
    "    bins = interpolation_fn(intervals)\n",
    "    peaks = argrelmax(bins, mode='wrap')[0]\n",
    "    if len(peaks) == 0:\n",
    "        # no peaks, no tempo\n",
    "        return no_tempo\n",
    "    else:\n",
    "        # report only the strongest tempo\n",
    "        sorted_peaks = peaks[np.argsort(bins[peaks])[::-1]]\n",
    "        return tempi[sorted_peaks][0]\n",
    "\n",
    "\n",
    "# pad features\n",
    "def cnn_pad(data, pad_frames):\n",
    "    \"\"\"Pad the data by repeating the first and last frame N times.\"\"\"\n",
    "    pad_start = np.repeat(data[:1], pad_frames, axis=0)\n",
    "    pad_stop = np.repeat(data[-1:], pad_frames, axis=0)\n",
    "    return np.concatenate((pad_start, data, pad_stop))"
   ]
  },
  {
   "cell_type": "code",
   "execution_count": null,
   "metadata": {},
   "outputs": [],
   "source": [
    "# nu permite piese fara adnotari de beat (trece peste ele)\n",
    "# wrap training/test data as a Keras sequence so we can use it with fit_generator()\n",
    "class DataSequence(Sequence):\n",
    "    def __init__(self, tracks, pre_processor, num_tempo_bins=300, pad_frames=None):\n",
    "        # store features and targets in dictionaries with name of the song as key\n",
    "        self.x = {}\n",
    "        self.beats = {}\n",
    "        self.downbeats = {}\n",
    "        self.tempo = {}\n",
    "        self.pad_frames = pad_frames\n",
    "        self.ids = []\n",
    "        # iterate over all tracks\n",
    "        for i, key in enumerate(tracks):\n",
    "            # print progress\n",
    "            sys.stderr.write(f'\\rprocessing track {i + 1}/{len(tracks)}: {key + \" \" * 20}')\n",
    "            sys.stderr.flush()\n",
    "            t = tracks[key]\n",
    "            try:\n",
    "                # use track only if it contains beats\n",
    "                beats = t.beats.times\n",
    "                # wrap librosa wav data & sample rate as Signal\n",
    "                s = madmom.audio.Signal(*t.audio)\n",
    "                # compute features first to be able to quantize beats\n",
    "                x = pre_processor(s)\n",
    "                self.x[key] = x\n",
    "                # quantize beats\n",
    "                beats = madmom.utils.quantize_events(beats, fps=pre_processor.fps, length=len(x))\n",
    "                self.beats[key] = beats\n",
    "            except AttributeError as e:\n",
    "                # no beats found, skip this file\n",
    "                print(f'\\r{key} has no beat information, skipping\\n')\n",
    "                print(e)\n",
    "                continue\n",
    "            # downbeats\n",
    "            try:\n",
    "                downbeats = t.beats.positions.astype(int) == 1\n",
    "                downbeats = t.beats.times[downbeats]\n",
    "                downbeats = madmom.utils.quantize_events(downbeats, fps=pre_processor.fps, length=len(x))\n",
    "            except AttributeError:\n",
    "                print(f'\\r{key} has no downbeat information, masking\\n')\n",
    "                downbeats = np.ones(len(x), dtype='float32') * MASK_VALUE\n",
    "            self.downbeats[key] = downbeats\n",
    "            # tempo\n",
    "            tempo = None\n",
    "            try:\n",
    "                # Note: to be able to augment a dataset, we need to scale the beat times\n",
    "                tempo = infer_tempo(t.beats.times * pre_processor.fps / 100, fps=pre_processor.fps)\n",
    "                tempo = keras.utils.to_categorical(int(np.round(tempo)), num_classes=num_tempo_bins, dtype='float32')\n",
    "            except IndexError:\n",
    "                # tempo out of bounds (too high)\n",
    "                print(f'\\r{key} has no valid tempo ({tempo}), masking\\n')\n",
    "                tempo = np.ones(num_tempo_bins, dtype='float32') * MASK_VALUE\n",
    "            self.tempo[key] = tempo\n",
    "            # keep track of IDs\n",
    "            self.ids.append(key)\n",
    "        assert len(self.x) == len(self.beats) == len(self.downbeats) == len(self.tempo) == len(self.ids)\n",
    "\n",
    "    def __len__(self):\n",
    "        return len(self.ids)\n",
    "\n",
    "    def __getitem__(self, idx):\n",
    "        # convert int idx to key\n",
    "        if isinstance(idx, int):\n",
    "            idx = self.ids[idx]\n",
    "        # Note: we always use a batch size of 1 since the tracks have variable length\n",
    "        #       keras expects the batch to be the first dimension, the prepend an axis;\n",
    "        #       append an axis to beats and downbeats as well\n",
    "        # define targets\n",
    "        y = {}\n",
    "        y['beats'] = self.beats[idx][np.newaxis, ..., np.newaxis]\n",
    "        y['downbeats'] = self.downbeats[idx][np.newaxis, ..., np.newaxis]\n",
    "        y['tempo'] = self.tempo[idx][np.newaxis, ...]\n",
    "        # add context to frames\n",
    "        x = self.x[idx]\n",
    "        if self.pad_frames:\n",
    "            x = cnn_pad(x, self.pad_frames)\n",
    "        return x[np.newaxis, ..., np.newaxis], y\n",
    "\n",
    "    def widen_beat_targets(self, size=3, value=0.5):\n",
    "        for y in self.beats.values():\n",
    "            # skip masked beat targets\n",
    "            if np.allclose(y, MASK_VALUE):\n",
    "                continue\n",
    "            np.maximum(y, maximum_filter1d(y, size=size) * value, out=y)\n",
    "\n",
    "    def widen_downbeat_targets(self, size=3, value=0.5):\n",
    "        for y in self.downbeats.values():\n",
    "            # skip masked downbeat targets\n",
    "            if np.allclose(y, MASK_VALUE):\n",
    "                continue\n",
    "            np.maximum(y, maximum_filter1d(y, size=size) * value, out=y)\n",
    "\n",
    "    def widen_tempo_targets(self, size=3, value=0.5):\n",
    "        for y in self.tempo.values():\n",
    "            # skip masked tempo targets\n",
    "            if np.allclose(y, MASK_VALUE):\n",
    "                continue\n",
    "            np.maximum(y, maximum_filter1d(y, size=size) * value, out=y)\n",
    "\n",
    "    def append(self, other):\n",
    "        assert not any(key in self.ids for key in other.ids), 'IDs must be unique'\n",
    "        self.x.update(other.x)\n",
    "        self.beats.update(other.beats)\n",
    "        self.downbeats.update(other.downbeats)\n",
    "        self.tempo.update(other.tempo)\n",
    "        self.ids.extend(other.ids)"
   ]
  },
  {
   "cell_type": "code",
   "execution_count": null,
   "metadata": {},
   "outputs": [],
   "source": [
    "# permite si beat uri lipsa\n",
    "class DataSequence(Sequence):\n",
    "    def __init__(self, tracks, pre_processor, num_tempo_bins=300, pad_frames=None):\n",
    "        self.x = {}\n",
    "        self.beats = {}\n",
    "        self.downbeats = {}\n",
    "        self.tempo = {}\n",
    "        self.pad_frames = pad_frames\n",
    "        self.ids = []\n",
    "\n",
    "        for i, key in enumerate(tracks):\n",
    "            sys.stderr.write(f'\\rprocessing track {i + 1}/{len(tracks)}: {key + \" \" * 20}')\n",
    "            sys.stderr.flush()\n",
    "            t = tracks[key]\n",
    "\n",
    "            try:\n",
    "                s = madmom.audio.Signal(*t.audio)\n",
    "                x = pre_processor(s)\n",
    "                self.x[key] = x\n",
    "                length = len(x)\n",
    "            except Exception as e:\n",
    "                print(f\"\\nCould not process audio for {key}: {e}\")\n",
    "                continue\n",
    "\n",
    "            # beats\n",
    "            try:\n",
    "                beats = t.beats.times\n",
    "                beats = madmom.utils.quantize_events(beats, fps=pre_processor.fps, length=length)\n",
    "            except AttributeError:\n",
    "                beats = np.ones(length, dtype='float32') * MASK_VALUE\n",
    "            self.beats[key] = beats\n",
    "\n",
    "            # downbeats\n",
    "            try:\n",
    "                downbeats = t.beats.positions.astype(int) == 1\n",
    "                downbeats = t.beats.times[downbeats]\n",
    "                downbeats = madmom.utils.quantize_events(downbeats, fps=pre_processor.fps, length=length)\n",
    "            except AttributeError:\n",
    "                downbeats = np.ones(length, dtype='float32') * MASK_VALUE\n",
    "            self.downbeats[key] = downbeats\n",
    "\n",
    "            # tempo\n",
    "            try:\n",
    "                tempo = infer_tempo(t.beats.times * pre_processor.fps / 100, fps=pre_processor.fps)\n",
    "                tempo = keras.utils.to_categorical(int(np.round(tempo)), num_classes=num_tempo_bins, dtype='float32')\n",
    "            except Exception:\n",
    "                tempo = np.ones(num_tempo_bins, dtype='float32') * MASK_VALUE\n",
    "            self.tempo[key] = tempo\n",
    "\n",
    "            self.ids.append(key)\n",
    "\n",
    "        assert len(self.x) == len(self.beats) == len(self.downbeats) == len(self.tempo) == len(self.ids)\n",
    "\n",
    "    def __len__(self):\n",
    "        return len(self.ids)\n",
    "\n",
    "    def __getitem__(self, idx):\n",
    "        if isinstance(idx, int):\n",
    "            idx = self.ids[idx]\n",
    "\n",
    "        y = {\n",
    "            'beats': self.beats[idx][np.newaxis, ..., np.newaxis],\n",
    "            'downbeats': self.downbeats[idx][np.newaxis, ..., np.newaxis],\n",
    "            'tempo': self.tempo[idx][np.newaxis, ...]\n",
    "        }\n",
    "\n",
    "        x = self.x[idx]\n",
    "        if self.pad_frames:\n",
    "            x = cnn_pad(x, self.pad_frames)\n",
    "        return x[np.newaxis, ..., np.newaxis], y\n",
    "    \n",
    "    def widen_beat_targets(self, size=3, value=0.5):\n",
    "        for y in self.beats.values():\n",
    "            # skip masked beat targets\n",
    "            if np.allclose(y, MASK_VALUE):\n",
    "                continue\n",
    "            np.maximum(y, maximum_filter1d(y, size=size) * value, out=y)\n",
    "\n",
    "    def widen_downbeat_targets(self, size=3, value=0.5):\n",
    "        for y in self.downbeats.values():\n",
    "            # skip masked downbeat targets\n",
    "            if np.allclose(y, MASK_VALUE):\n",
    "                continue\n",
    "            np.maximum(y, maximum_filter1d(y, size=size) * value, out=y)\n",
    "\n",
    "    def widen_tempo_targets(self, size=3, value=0.5):\n",
    "        for y in self.tempo.values():\n",
    "            # skip masked tempo targets\n",
    "            if np.allclose(y, MASK_VALUE):\n",
    "                continue\n",
    "            np.maximum(y, maximum_filter1d(y, size=size) * value, out=y)\n",
    "\n",
    "    def append(self, other):\n",
    "        assert not any(key in self.ids for key in other.ids), 'IDs must be unique'\n",
    "        self.x.update(other.x)\n",
    "        self.beats.update(other.beats)\n",
    "        self.downbeats.update(other.downbeats)\n",
    "        self.tempo.update(other.tempo)\n",
    "        self.ids.extend(other.ids)\n"
   ]
  },
  {
   "cell_type": "markdown",
   "metadata": {
    "id": "zMStOOkNjlnW"
   },
   "source": [
    "## Loss si metrici\n",
    "\n",
    "Antrenăm modelul folosind funcția de pierdere cross entropy, însă trebuie să mascăm această funcție de pierdere și metricele asociate în cazul în care adnotarile sunt mascate."
   ]
  },
  {
   "cell_type": "code",
   "execution_count": null,
   "metadata": {
    "id": "dCvDErAFJDtJ"
   },
   "outputs": [],
   "source": [
    "# https://github.com/keras-team/keras/issues/3893\n",
    "def build_masked_loss(loss_function, mask_value=MASK_VALUE):\n",
    "    \"\"\"Builds a loss function that masks based on targets\n",
    "\n",
    "    Args:\n",
    "        loss_function: The loss function to mask\n",
    "        mask_value: The value to mask in the targets\n",
    "\n",
    "    Returns:\n",
    "        function: a loss function that acts like loss_function with masked inputs\n",
    "    \"\"\"\n",
    "\n",
    "    def masked_loss_function(y_true, y_pred):\n",
    "        mask = K.cast(K.not_equal(y_true, mask_value), K.floatx())\n",
    "        return loss_function(y_true * mask, y_pred * mask)\n",
    "\n",
    "    return masked_loss_function"
   ]
  },
  {
   "cell_type": "markdown",
   "metadata": {
    "id": "ZpIFrkTYMfM_"
   },
   "source": [
    "# Train network"
   ]
  },
  {
   "cell_type": "markdown",
   "metadata": {
    "id": "8jq0hJE7kgsY"
   },
   "source": [
    "## Training & testing sequences\n",
    "\n",
    "We wrap our previously split dataset as `DataSequences`.\n",
    "\n",
    "We widen the beat and downbeat targets to have a value of 0.5 at the frames next to the annotated beat locations.\n",
    "\n",
    "We assign tempo values ±1 bpm apart a value of 0.5, and those ±2bpm a value of0.25."
   ]
  },
  {
   "cell_type": "code",
   "execution_count": null,
   "metadata": {},
   "outputs": [],
   "source": [
    "# pentru eficienta am salvat o singura data DataSequence cu toate si apoi am facut foldurile (tot DataSequence)\n",
    "\n",
    "# Preprocesor\n",
    "pre_processor = PreProcessor()\n",
    "\n",
    "all_tracks = {}\n",
    "for dataset_name, dataset_tracks in tracks.items():\n",
    "    for track_id, track in dataset_tracks.items():\n",
    "        all_tracks[(dataset_name, track_id)] = track\n",
    "\n",
    "sequence = DataSequence(\n",
    "    {f\"{ds}_{tid}\": t for (ds, tid), t in all_tracks.items()},\n",
    "    pre_processor=pre_processor,\n",
    "    # num_tempo_bins=300,\n",
    "    pad_frames=2\n",
    ")\n",
    "\n",
    "with open(\"fold_all.pkl\", \"wb\") as f:\n",
    "    pickle.dump(sequence, f)\n"
   ]
  },
  {
   "cell_type": "code",
   "execution_count": null,
   "metadata": {},
   "outputs": [],
   "source": [
    "with open(\"data_sequence_all.pkl\", \"rb\") as f:\n",
    "    full_sequence = pickle.load(f)"
   ]
  },
  {
   "cell_type": "code",
   "execution_count": null,
   "metadata": {},
   "outputs": [],
   "source": [
    "# Preprocesor\n",
    "pre_processor = PreProcessor()\n",
    "\n",
    "os.makedirs(\"folds_all\", exist_ok=True)\n",
    "\n",
    "# Încarcă folds.json\n",
    "with open(\"folds_all.json\", \"r\") as f:\n",
    "    folds = json.load(f)\n",
    "\n",
    "for i, fold in enumerate(folds):\n",
    "    for split in ['train','test']:\n",
    "        split_ids = [f\"{dataset}_{track_id}\" for dataset, track_id in fold[split] if f\"{dataset}_{track_id}\" in full_sequence.ids]\n",
    "        \n",
    "        split_seq = DataSequence({}, pre_processor=pre_processor, pad_frames=2)\n",
    "        for track_id in split_ids:\n",
    "            split_seq.x[track_id] = full_sequence.x[track_id]\n",
    "            split_seq.beats[track_id] = full_sequence.beats[track_id]\n",
    "            split_seq.downbeats[track_id] = full_sequence.downbeats[track_id]\n",
    "            split_seq.tempo[track_id] = full_sequence.tempo[track_id]\n",
    "            split_seq.ids.append(track_id)\n",
    "\n",
    "        with open(f\"folds_giantsteps/fold_{i}_{split}.pkl\", \"wb\") as f_out:\n",
    "            pickle.dump(split_seq, f_out)\n",
    "\n",
    "        print(f\"Salvat: fold_{i}_{split}.pkl ({len(split_seq)} piese)\")"
   ]
  },
  {
   "cell_type": "code",
   "execution_count": null,
   "metadata": {},
   "outputs": [],
   "source": [
    "with open(\"./folds_gtzan/fold_8_train.pkl\", \"rb\") as f:\n",
    "    train = pickle.load(f)\n",
    "\n",
    "with open(\"./folds_gtzan/fold_8_test.pkl\", \"rb\") as f:\n",
    "    test = pickle.load(f) "
   ]
  },
  {
   "cell_type": "code",
   "execution_count": null,
   "metadata": {},
   "outputs": [],
   "source": [
    "train.widen_beat_targets()\n",
    "train.widen_downbeat_targets()\n",
    "train.widen_tempo_targets()\n",
    "train.widen_tempo_targets()\n",
    "\n",
    "test.widen_beat_targets()\n",
    "test.widen_downbeat_targets()\n",
    "test.widen_tempo_targets()\n",
    "test.widen_tempo_targets()"
   ]
  },
  {
   "cell_type": "markdown",
   "metadata": {
    "id": "IyPJa2GuWZ3M"
   },
   "source": [
    "## Visualizam training data-ul"
   ]
  },
  {
   "cell_type": "code",
   "execution_count": null,
   "metadata": {},
   "outputs": [],
   "source": [
    "# cum arata spectrograma reala (modificata putin fta de cea reala)\n",
    "# pentru primele 5 piese din train\n",
    "\n",
    "DATASETS = [\n",
    "    \"gtzan_genre\", \"ballroom\", \"hainsworth\",\n",
    "    \"giantsteps_tempo\", \"smc\", \"carnatic\", \"harmonix\"\n",
    "]\n",
    "\n",
    "sr = 44100\n",
    "fps = 100\n",
    "hop_duration = 1.0 / fps\n",
    "\n",
    "for i in range(min(5, len(train))):\n",
    "    plt.clf()      # Clear current figure\n",
    "    plt.cla()      # Clear current axes\n",
    "    plt.close()    # Close the figure window (de obicei opțional)\n",
    "\n",
    "    x, y = train[i]\n",
    "    full_id = train.ids[i]\n",
    "    print(f\"\\nTrack {i} - ID complet: {full_id}\")\n",
    "\n",
    "    dataset = next((d for d in DATASETS if full_id.startswith(f\"{d}_\")), None)\n",
    "    if dataset is None:\n",
    "        print(\"Dataset necunoscut\")\n",
    "        continue\n",
    "\n",
    "    track_id = full_id[len(dataset) + 1:]\n",
    "    \n",
    "    try:\n",
    "        track = tracks[dataset][track_id]\n",
    "    except KeyError:\n",
    "        print(f\"Track ID {track_id} nu există în datasetul {dataset}.\")\n",
    "        continue\n",
    "\n",
    "    spec = x[0, :, :, 0].T\n",
    "    n_frames = spec.shape[1]\n",
    "    duration_sec = n_frames * hop_duration\n",
    "\n",
    "    fig_width = (duration_sec / 30) * 12\n",
    "    plt.figure(figsize=(fig_width, 4))\n",
    "    plt.imshow(spec, aspect='auto', origin='lower', cmap='magma',\n",
    "               extent=[0, duration_sec, 0, fps / 2])\n",
    "\n",
    "    try:\n",
    "        beat_times = track.beats.times\n",
    "        plt.vlines(beat_times, 0, fps / 2, linestyles='dotted', color='w', linewidth=0.9)\n",
    "    except AttributeError:\n",
    "        print(\"Beats indisponibili\")\n",
    "\n",
    "    try:\n",
    "        downbeat_times = track.beats.times[track.beats.positions == 1]\n",
    "        plt.vlines(downbeat_times, 0, fps / 2, color='w', linewidth=0.8)\n",
    "    except (AttributeError, IndexError):\n",
    "        print(\"Downbeats indisponibili\")\n",
    "\n",
    "    plt.title(f\"Spectrograma (madmom PreProcessor) – {full_id}\")\n",
    "    plt.xlabel(\"Timp (secunde)\")\n",
    "    plt.ylabel(\"Benzi log (nu Hz)\")\n",
    "    plt.colorbar(label=\"Log-energie\")\n",
    "    plt.tight_layout()\n",
    "    plt.show()\n"
   ]
  },
  {
   "cell_type": "code",
   "execution_count": null,
   "metadata": {
    "colab": {
     "base_uri": "https://localhost:8080/",
     "height": 404
    },
    "id": "no7VgV1Ne6Lo",
    "outputId": "4379b105-0fef-4843-80ef-63fd4681a6a5"
   },
   "outputs": [],
   "source": [
    "# cum arata ea de obicei\n",
    "\n",
    "song = train.ids[4]\n",
    "print(f\"Song ID: {song}\")\n",
    "\n",
    "DATASETS = [\n",
    "    \"gtzan_genre\", \"ballroom\", \"hainsworth\",\n",
    "    \"giantsteps_tempo\", \"smc\", \"carnatic\", \"harmonix\"\n",
    "]\n",
    "\n",
    "dataset = next((d for d in DATASETS if song.startswith(f\"{d}_\")), None)\n",
    "\n",
    "if dataset:\n",
    "    print(f\"Song provine din datasetul: {dataset}\")\n",
    "    track_id = song[len(dataset) + 1:]  # elimină prefixul și \"_\" ca să rămână doar ID-ul\n",
    "    track = tracks[dataset][track_id]\n",
    "else:\n",
    "    raise ValueError(\"Piesa nu apartine unui dataset cunoscut\")\n",
    "\n",
    "audio, sr = track.audio\n",
    "hop_length = 512\n",
    "\n",
    "duration_sec = len(audio) / sr\n",
    "\n",
    "fig_width = (duration_sec / 30) * 12\n",
    "\n",
    "plt.figure(figsize=(fig_width, 4))\n",
    "spec = librosa.amplitude_to_db(np.abs(librosa.stft(audio, hop_length=hop_length)), ref=np.max)\n",
    "img = librosa.display.specshow(spec, y_axis='log', sr=sr, hop_length=hop_length, x_axis='time')\n",
    "\n",
    "try:\n",
    "    beat_times = track.beats.times\n",
    "    plt.vlines(beat_times, 0, sr / 2, linestyles='dotted', color='w', linewidth=0.9)\n",
    "except AttributeError:\n",
    "    print(\"Nu are beat-uri\")\n",
    "\n",
    "try:\n",
    "    downbeat_times = track.beats.times[track.beats.positions == 1]\n",
    "    plt.vlines(downbeat_times, 0, sr / 2, color='w', linewidth=0.8)\n",
    "except (AttributeError, IndexError):\n",
    "    print(\"Nu are downbeat-uri\")\n",
    "\n",
    "plt.title(f'Log-frequency power spectrogram of track: \"{song}\"')\n",
    "plt.colorbar(format=\"%+2.f dB\")\n",
    "plt.show()"
   ]
  },
  {
   "cell_type": "markdown",
   "metadata": {
    "id": "u3bEZIZSlY1u"
   },
   "source": [
    "## Putem modelul cap la cap"
   ]
  },
  {
   "cell_type": "code",
   "execution_count": null,
   "metadata": {
    "colab": {
     "base_uri": "https://localhost:8080/"
    },
    "id": "UEoPLhnXlEd5",
    "outputId": "820cc485-9566-412f-9dac-be7626ceb08e"
   },
   "outputs": [
    {
     "name": "stdout",
     "output_type": "stream",
     "text": [
      "Model: \"model\"\n",
      "________________________________________________________________________________________________________________________________________________________________________________________________________\n",
      " Layer (type)                                                     Output Shape                                Param #                 Connected to                                                      \n",
      "========================================================================================================================================================================================================\n",
      " input_1 (InputLayer)                                             [(None, None, 81, 1)]                       0                       []                                                                \n",
      "                                                                                                                                                                                                        \n",
      " conv_1_conv (Conv2D)                                             (None, None, 79, 20)                        200                     ['input_1[0][0]']                                                 \n",
      "                                                                                                                                                                                                        \n",
      " conv_1_activation (Activation)                                   (None, None, 79, 20)                        0                       ['conv_1_conv[0][0]']                                             \n",
      "                                                                                                                                                                                                        \n",
      " conv_1_max_pooling (MaxPooling2D)                                (None, None, 26, 20)                        0                       ['conv_1_activation[0][0]']                                       \n",
      "                                                                                                                                                                                                        \n",
      " conv_1_dropout (Dropout)                                         (None, None, 26, 20)                        0                       ['conv_1_max_pooling[0][0]']                                      \n",
      "                                                                                                                                                                                                        \n",
      " conv_2_conv (Conv2D)                                             (None, None, 17, 20)                        4020                    ['conv_1_dropout[0][0]']                                          \n",
      "                                                                                                                                                                                                        \n",
      " conv_2_activation (Activation)                                   (None, None, 17, 20)                        0                       ['conv_2_conv[0][0]']                                             \n",
      "                                                                                                                                                                                                        \n",
      " conv_2_max_pooling (MaxPooling2D)                                (None, None, 5, 20)                         0                       ['conv_2_activation[0][0]']                                       \n",
      "                                                                                                                                                                                                        \n",
      " conv_2_dropout (Dropout)                                         (None, None, 5, 20)                         0                       ['conv_2_max_pooling[0][0]']                                      \n",
      "                                                                                                                                                                                                        \n",
      " conv_3_conv (Conv2D)                                             (None, None, 3, 20)                         3620                    ['conv_2_dropout[0][0]']                                          \n",
      "                                                                                                                                                                                                        \n",
      " conv_3_activation (Activation)                                   (None, None, 3, 20)                         0                       ['conv_3_conv[0][0]']                                             \n",
      "                                                                                                                                                                                                        \n",
      " conv_3_max_pooling (MaxPooling2D)                                (None, None, 1, 20)                         0                       ['conv_3_activation[0][0]']                                       \n",
      "                                                                                                                                                                                                        \n",
      " conv_3_dropout (Dropout)                                         (None, None, 1, 20)                         0                       ['conv_3_max_pooling[0][0]']                                      \n",
      "                                                                                                                                                                                                        \n",
      " tcn_input_reshape (Reshape)                                      (None, None, 20)                            0                       ['conv_3_dropout[0][0]']                                          \n",
      "                                                                                                                                                                                                        \n",
      " tcn_dilation_1_dilated_conv_1 (Conv1D)                           (None, None, 20)                            2020                    ['tcn_input_reshape[0][0]']                                       \n",
      "                                                                                                                                                                                                        \n",
      " tcn_dilation_1_dilated_conv_2 (Conv1D)                           (None, None, 20)                            2020                    ['tcn_input_reshape[0][0]']                                       \n",
      "                                                                                                                                                                                                        \n",
      " tcn_dilation_1_concat (Concatenate)                              (None, None, 40)                            0                       ['tcn_dilation_1_dilated_conv_1[0][0]',                           \n",
      "                                                                                                                                       'tcn_dilation_1_dilated_conv_2[0][0]']                           \n",
      "                                                                                                                                                                                                        \n",
      " tcn_dilation_1_activation (Activation)                           (None, None, 40)                            0                       ['tcn_dilation_1_concat[0][0]']                                   \n",
      "                                                                                                                                                                                                        \n",
      " tcn_dilation_1_spatial_dropout_0.150000 (SpatialDropout1D)       (None, None, 40)                            0                       ['tcn_dilation_1_activation[0][0]']                               \n",
      "                                                                                                                                                                                                        \n",
      " tcn_dilation_1_1x1_conv_residual (Conv1D)                        (None, None, 20)                            420                     ['tcn_input_reshape[0][0]']                                       \n",
      "                                                                                                                                                                                                        \n",
      " tcn_dilation_1_1x1_conv (Conv1D)                                 (None, None, 20)                            820                     ['tcn_dilation_1_spatial_dropout_0.150000[0][0]']                 \n",
      "                                                                                                                                                                                                        \n",
      " tcn_dilation_1_merge_residual (Add)                              (None, None, 20)                            0                       ['tcn_dilation_1_1x1_conv_residual[0][0]',                        \n",
      "                                                                                                                                       'tcn_dilation_1_1x1_conv[0][0]']                                 \n",
      "                                                                                                                                                                                                        \n",
      " tcn_dilation_2_dilated_conv_1 (Conv1D)                           (None, None, 20)                            2020                    ['tcn_dilation_1_merge_residual[0][0]']                           \n",
      "                                                                                                                                                                                                        \n",
      " tcn_dilation_2_dilated_conv_2 (Conv1D)                           (None, None, 20)                            2020                    ['tcn_dilation_1_merge_residual[0][0]']                           \n",
      "                                                                                                                                                                                                        \n",
      " tcn_dilation_2_concat (Concatenate)                              (None, None, 40)                            0                       ['tcn_dilation_2_dilated_conv_1[0][0]',                           \n",
      "                                                                                                                                       'tcn_dilation_2_dilated_conv_2[0][0]']                           \n",
      "                                                                                                                                                                                                        \n",
      " tcn_dilation_2_activation (Activation)                           (None, None, 40)                            0                       ['tcn_dilation_2_concat[0][0]']                                   \n",
      "                                                                                                                                                                                                        \n",
      " tcn_dilation_2_spatial_dropout_0.150000 (SpatialDropout1D)       (None, None, 40)                            0                       ['tcn_dilation_2_activation[0][0]']                               \n",
      "                                                                                                                                                                                                        \n",
      " tcn_dilation_2_1x1_conv_residual (Conv1D)                        (None, None, 20)                            420                     ['tcn_dilation_1_merge_residual[0][0]']                           \n",
      "                                                                                                                                                                                                        \n",
      " tcn_dilation_2_1x1_conv (Conv1D)                                 (None, None, 20)                            820                     ['tcn_dilation_2_spatial_dropout_0.150000[0][0]']                 \n",
      "                                                                                                                                                                                                        \n",
      " tcn_dilation_2_merge_residual (Add)                              (None, None, 20)                            0                       ['tcn_dilation_2_1x1_conv_residual[0][0]',                        \n",
      "                                                                                                                                       'tcn_dilation_2_1x1_conv[0][0]']                                 \n",
      "                                                                                                                                                                                                        \n",
      " tcn_dilation_4_dilated_conv_1 (Conv1D)                           (None, None, 20)                            2020                    ['tcn_dilation_2_merge_residual[0][0]']                           \n",
      "                                                                                                                                                                                                        \n",
      " tcn_dilation_4_dilated_conv_2 (Conv1D)                           (None, None, 20)                            2020                    ['tcn_dilation_2_merge_residual[0][0]']                           \n",
      "                                                                                                                                                                                                        \n",
      " tcn_dilation_4_concat (Concatenate)                              (None, None, 40)                            0                       ['tcn_dilation_4_dilated_conv_1[0][0]',                           \n",
      "                                                                                                                                       'tcn_dilation_4_dilated_conv_2[0][0]']                           \n",
      "                                                                                                                                                                                                        \n",
      " tcn_dilation_4_activation (Activation)                           (None, None, 40)                            0                       ['tcn_dilation_4_concat[0][0]']                                   \n",
      "                                                                                                                                                                                                        \n",
      " tcn_dilation_4_spatial_dropout_0.150000 (SpatialDropout1D)       (None, None, 40)                            0                       ['tcn_dilation_4_activation[0][0]']                               \n",
      "                                                                                                                                                                                                        \n",
      " tcn_dilation_4_1x1_conv_residual (Conv1D)                        (None, None, 20)                            420                     ['tcn_dilation_2_merge_residual[0][0]']                           \n",
      "                                                                                                                                                                                                        \n",
      " tcn_dilation_4_1x1_conv (Conv1D)                                 (None, None, 20)                            820                     ['tcn_dilation_4_spatial_dropout_0.150000[0][0]']                 \n",
      "                                                                                                                                                                                                        \n",
      " tcn_dilation_4_merge_residual (Add)                              (None, None, 20)                            0                       ['tcn_dilation_4_1x1_conv_residual[0][0]',                        \n",
      "                                                                                                                                       'tcn_dilation_4_1x1_conv[0][0]']                                 \n",
      "                                                                                                                                                                                                        \n",
      " tcn_dilation_8_dilated_conv_1 (Conv1D)                           (None, None, 20)                            2020                    ['tcn_dilation_4_merge_residual[0][0]']                           \n",
      "                                                                                                                                                                                                        \n",
      " tcn_dilation_8_dilated_conv_2 (Conv1D)                           (None, None, 20)                            2020                    ['tcn_dilation_4_merge_residual[0][0]']                           \n",
      "                                                                                                                                                                                                        \n",
      " tcn_dilation_8_concat (Concatenate)                              (None, None, 40)                            0                       ['tcn_dilation_8_dilated_conv_1[0][0]',                           \n",
      "                                                                                                                                       'tcn_dilation_8_dilated_conv_2[0][0]']                           \n",
      "                                                                                                                                                                                                        \n",
      " tcn_dilation_8_activation (Activation)                           (None, None, 40)                            0                       ['tcn_dilation_8_concat[0][0]']                                   \n",
      "                                                                                                                                                                                                        \n",
      " tcn_dilation_8_spatial_dropout_0.150000 (SpatialDropout1D)       (None, None, 40)                            0                       ['tcn_dilation_8_activation[0][0]']                               \n",
      "                                                                                                                                                                                                        \n",
      " tcn_dilation_8_1x1_conv_residual (Conv1D)                        (None, None, 20)                            420                     ['tcn_dilation_4_merge_residual[0][0]']                           \n",
      "                                                                                                                                                                                                        \n",
      " tcn_dilation_8_1x1_conv (Conv1D)                                 (None, None, 20)                            820                     ['tcn_dilation_8_spatial_dropout_0.150000[0][0]']                 \n",
      "                                                                                                                                                                                                        \n",
      " tcn_dilation_8_merge_residual (Add)                              (None, None, 20)                            0                       ['tcn_dilation_8_1x1_conv_residual[0][0]',                        \n",
      "                                                                                                                                       'tcn_dilation_8_1x1_conv[0][0]']                                 \n",
      "                                                                                                                                                                                                        \n",
      " tcn_dilation_16_dilated_conv_1 (Conv1D)                          (None, None, 20)                            2020                    ['tcn_dilation_8_merge_residual[0][0]']                           \n",
      "                                                                                                                                                                                                        \n",
      " tcn_dilation_16_dilated_conv_2 (Conv1D)                          (None, None, 20)                            2020                    ['tcn_dilation_8_merge_residual[0][0]']                           \n",
      "                                                                                                                                                                                                        \n",
      " tcn_dilation_16_concat (Concatenate)                             (None, None, 40)                            0                       ['tcn_dilation_16_dilated_conv_1[0][0]',                          \n",
      "                                                                                                                                       'tcn_dilation_16_dilated_conv_2[0][0]']                          \n",
      "                                                                                                                                                                                                        \n",
      " tcn_dilation_16_activation (Activation)                          (None, None, 40)                            0                       ['tcn_dilation_16_concat[0][0]']                                  \n",
      "                                                                                                                                                                                                        \n",
      " tcn_dilation_16_spatial_dropout_0.150000 (SpatialDropout1D)      (None, None, 40)                            0                       ['tcn_dilation_16_activation[0][0]']                              \n",
      "                                                                                                                                                                                                        \n",
      " tcn_dilation_16_1x1_conv_residual (Conv1D)                       (None, None, 20)                            420                     ['tcn_dilation_8_merge_residual[0][0]']                           \n",
      "                                                                                                                                                                                                        \n",
      " tcn_dilation_16_1x1_conv (Conv1D)                                (None, None, 20)                            820                     ['tcn_dilation_16_spatial_dropout_0.150000[0][0]']                \n",
      "                                                                                                                                                                                                        \n",
      " tcn_dilation_16_merge_residual (Add)                             (None, None, 20)                            0                       ['tcn_dilation_16_1x1_conv_residual[0][0]',                       \n",
      "                                                                                                                                       'tcn_dilation_16_1x1_conv[0][0]']                                \n",
      "                                                                                                                                                                                                        \n",
      " tcn_dilation_32_dilated_conv_1 (Conv1D)                          (None, None, 20)                            2020                    ['tcn_dilation_16_merge_residual[0][0]']                          \n",
      "                                                                                                                                                                                                        \n",
      " tcn_dilation_32_dilated_conv_2 (Conv1D)                          (None, None, 20)                            2020                    ['tcn_dilation_16_merge_residual[0][0]']                          \n",
      "                                                                                                                                                                                                        \n",
      " tcn_dilation_32_concat (Concatenate)                             (None, None, 40)                            0                       ['tcn_dilation_32_dilated_conv_1[0][0]',                          \n",
      "                                                                                                                                       'tcn_dilation_32_dilated_conv_2[0][0]']                          \n",
      "                                                                                                                                                                                                        \n",
      " tcn_dilation_32_activation (Activation)                          (None, None, 40)                            0                       ['tcn_dilation_32_concat[0][0]']                                  \n",
      "                                                                                                                                                                                                        \n",
      " tcn_dilation_32_spatial_dropout_0.150000 (SpatialDropout1D)      (None, None, 40)                            0                       ['tcn_dilation_32_activation[0][0]']                              \n",
      "                                                                                                                                                                                                        \n",
      " tcn_dilation_32_1x1_conv_residual (Conv1D)                       (None, None, 20)                            420                     ['tcn_dilation_16_merge_residual[0][0]']                          \n",
      "                                                                                                                                                                                                        \n",
      " tcn_dilation_32_1x1_conv (Conv1D)                                (None, None, 20)                            820                     ['tcn_dilation_32_spatial_dropout_0.150000[0][0]']                \n",
      "                                                                                                                                                                                                        \n",
      " tcn_dilation_32_merge_residual (Add)                             (None, None, 20)                            0                       ['tcn_dilation_32_1x1_conv_residual[0][0]',                       \n",
      "                                                                                                                                       'tcn_dilation_32_1x1_conv[0][0]']                                \n",
      "                                                                                                                                                                                                        \n",
      " tcn_dilation_64_dilated_conv_1 (Conv1D)                          (None, None, 20)                            2020                    ['tcn_dilation_32_merge_residual[0][0]']                          \n",
      "                                                                                                                                                                                                        \n",
      " tcn_dilation_64_dilated_conv_2 (Conv1D)                          (None, None, 20)                            2020                    ['tcn_dilation_32_merge_residual[0][0]']                          \n",
      "                                                                                                                                                                                                        \n",
      " tcn_dilation_64_concat (Concatenate)                             (None, None, 40)                            0                       ['tcn_dilation_64_dilated_conv_1[0][0]',                          \n",
      "                                                                                                                                       'tcn_dilation_64_dilated_conv_2[0][0]']                          \n",
      "                                                                                                                                                                                                        \n",
      " tcn_dilation_64_activation (Activation)                          (None, None, 40)                            0                       ['tcn_dilation_64_concat[0][0]']                                  \n",
      "                                                                                                                                                                                                        \n",
      " tcn_dilation_64_spatial_dropout_0.150000 (SpatialDropout1D)      (None, None, 40)                            0                       ['tcn_dilation_64_activation[0][0]']                              \n",
      "                                                                                                                                                                                                        \n",
      " tcn_dilation_64_1x1_conv_residual (Conv1D)                       (None, None, 20)                            420                     ['tcn_dilation_32_merge_residual[0][0]']                          \n",
      "                                                                                                                                                                                                        \n",
      " tcn_dilation_64_1x1_conv (Conv1D)                                (None, None, 20)                            820                     ['tcn_dilation_64_spatial_dropout_0.150000[0][0]']                \n",
      "                                                                                                                                                                                                        \n",
      " tcn_dilation_64_merge_residual (Add)                             (None, None, 20)                            0                       ['tcn_dilation_64_1x1_conv_residual[0][0]',                       \n",
      "                                                                                                                                       'tcn_dilation_64_1x1_conv[0][0]']                                \n",
      "                                                                                                                                                                                                        \n",
      " tcn_dilation_128_dilated_conv_1 (Conv1D)                         (None, None, 20)                            2020                    ['tcn_dilation_64_merge_residual[0][0]']                          \n",
      "                                                                                                                                                                                                        \n",
      " tcn_dilation_128_dilated_conv_2 (Conv1D)                         (None, None, 20)                            2020                    ['tcn_dilation_64_merge_residual[0][0]']                          \n",
      "                                                                                                                                                                                                        \n",
      " tcn_dilation_128_concat (Concatenate)                            (None, None, 40)                            0                       ['tcn_dilation_128_dilated_conv_1[0][0]',                         \n",
      "                                                                                                                                       'tcn_dilation_128_dilated_conv_2[0][0]']                         \n",
      "                                                                                                                                                                                                        \n",
      " tcn_dilation_128_activation (Activation)                         (None, None, 40)                            0                       ['tcn_dilation_128_concat[0][0]']                                 \n",
      "                                                                                                                                                                                                        \n",
      " tcn_dilation_128_spatial_dropout_0.150000 (SpatialDropout1D)     (None, None, 40)                            0                       ['tcn_dilation_128_activation[0][0]']                             \n",
      "                                                                                                                                                                                                        \n",
      " tcn_dilation_128_1x1_conv_residual (Conv1D)                      (None, None, 20)                            420                     ['tcn_dilation_64_merge_residual[0][0]']                          \n",
      "                                                                                                                                                                                                        \n",
      " tcn_dilation_128_1x1_conv (Conv1D)                               (None, None, 20)                            820                     ['tcn_dilation_128_spatial_dropout_0.150000[0][0]']               \n",
      "                                                                                                                                                                                                        \n",
      " tcn_dilation_128_merge_residual (Add)                            (None, None, 20)                            0                       ['tcn_dilation_128_1x1_conv_residual[0][0]',                      \n",
      "                                                                                                                                       'tcn_dilation_128_1x1_conv[0][0]']                               \n",
      "                                                                                                                                                                                                        \n",
      " tcn_dilation_256_dilated_conv_1 (Conv1D)                         (None, None, 20)                            2020                    ['tcn_dilation_128_merge_residual[0][0]']                         \n",
      "                                                                                                                                                                                                        \n",
      " tcn_dilation_256_dilated_conv_2 (Conv1D)                         (None, None, 20)                            2020                    ['tcn_dilation_128_merge_residual[0][0]']                         \n",
      "                                                                                                                                                                                                        \n",
      " tcn_dilation_256_concat (Concatenate)                            (None, None, 40)                            0                       ['tcn_dilation_256_dilated_conv_1[0][0]',                         \n",
      "                                                                                                                                       'tcn_dilation_256_dilated_conv_2[0][0]']                         \n",
      "                                                                                                                                                                                                        \n",
      " tcn_dilation_256_activation (Activation)                         (None, None, 40)                            0                       ['tcn_dilation_256_concat[0][0]']                                 \n",
      "                                                                                                                                                                                                        \n",
      " tcn_dilation_256_spatial_dropout_0.150000 (SpatialDropout1D)     (None, None, 40)                            0                       ['tcn_dilation_256_activation[0][0]']                             \n",
      "                                                                                                                                                                                                        \n",
      " tcn_dilation_256_1x1_conv_residual (Conv1D)                      (None, None, 20)                            420                     ['tcn_dilation_128_merge_residual[0][0]']                         \n",
      "                                                                                                                                                                                                        \n",
      " tcn_dilation_256_1x1_conv (Conv1D)                               (None, None, 20)                            820                     ['tcn_dilation_256_spatial_dropout_0.150000[0][0]']               \n",
      "                                                                                                                                                                                                        \n",
      " tcn_dilation_256_merge_residual (Add)                            (None, None, 20)                            0                       ['tcn_dilation_256_1x1_conv_residual[0][0]',                      \n",
      "                                                                                                                                       'tcn_dilation_256_1x1_conv[0][0]']                               \n",
      "                                                                                                                                                                                                        \n",
      " tcn_dilation_512_dilated_conv_1 (Conv1D)                         (None, None, 20)                            2020                    ['tcn_dilation_256_merge_residual[0][0]']                         \n",
      "                                                                                                                                                                                                        \n",
      " tcn_dilation_512_dilated_conv_2 (Conv1D)                         (None, None, 20)                            2020                    ['tcn_dilation_256_merge_residual[0][0]']                         \n",
      "                                                                                                                                                                                                        \n",
      " tcn_dilation_512_concat (Concatenate)                            (None, None, 40)                            0                       ['tcn_dilation_512_dilated_conv_1[0][0]',                         \n",
      "                                                                                                                                       'tcn_dilation_512_dilated_conv_2[0][0]']                         \n",
      "                                                                                                                                                                                                        \n",
      " tcn_dilation_512_activation (Activation)                         (None, None, 40)                            0                       ['tcn_dilation_512_concat[0][0]']                                 \n",
      "                                                                                                                                                                                                        \n",
      " tcn_dilation_512_spatial_dropout_0.150000 (SpatialDropout1D)     (None, None, 40)                            0                       ['tcn_dilation_512_activation[0][0]']                             \n",
      "                                                                                                                                                                                                        \n",
      " tcn_dilation_512_1x1_conv_residual (Conv1D)                      (None, None, 20)                            420                     ['tcn_dilation_256_merge_residual[0][0]']                         \n",
      "                                                                                                                                                                                                        \n",
      " tcn_dilation_512_1x1_conv (Conv1D)                               (None, None, 20)                            820                     ['tcn_dilation_512_spatial_dropout_0.150000[0][0]']               \n",
      "                                                                                                                                                                                                        \n",
      " tcn_dilation_512_merge_residual (Add)                            (None, None, 20)                            0                       ['tcn_dilation_512_1x1_conv_residual[0][0]',                      \n",
      "                                                                                                                                       'tcn_dilation_512_1x1_conv[0][0]']                               \n",
      "                                                                                                                                                                                                        \n",
      " tcn_dilation_1024_dilated_conv_1 (Conv1D)                        (None, None, 20)                            2020                    ['tcn_dilation_512_merge_residual[0][0]']                         \n",
      "                                                                                                                                                                                                        \n",
      " tcn_dilation_1024_dilated_conv_2 (Conv1D)                        (None, None, 20)                            2020                    ['tcn_dilation_512_merge_residual[0][0]']                         \n",
      "                                                                                                                                                                                                        \n",
      " tcn_dilation_1024_concat (Concatenate)                           (None, None, 40)                            0                       ['tcn_dilation_1024_dilated_conv_1[0][0]',                        \n",
      "                                                                                                                                       'tcn_dilation_1024_dilated_conv_2[0][0]']                        \n",
      "                                                                                                                                                                                                        \n",
      " tcn_dilation_1024_activation (Activation)                        (None, None, 40)                            0                       ['tcn_dilation_1024_concat[0][0]']                                \n",
      "                                                                                                                                                                                                        \n",
      " tcn_dilation_1024_spatial_dropout_0.150000 (SpatialDropout1D)    (None, None, 40)                            0                       ['tcn_dilation_1024_activation[0][0]']                            \n",
      "                                                                                                                                                                                                        \n",
      " tcn_dilation_1024_1x1_conv (Conv1D)                              (None, None, 20)                            820                     ['tcn_dilation_1024_spatial_dropout_0.150000[0][0]']              \n",
      "                                                                                                                                                                                                        \n",
      " tcn_dilation_1024_1x1_conv_residual (Conv1D)                     (None, None, 20)                            420                     ['tcn_dilation_512_merge_residual[0][0]']                         \n",
      "                                                                                                                                                                                                        \n",
      " tcn_merge_skip_connections (Add)                                 (None, None, 20)                            0                       ['tcn_dilation_1_1x1_conv[0][0]',                                 \n",
      "                                                                                                                                       'tcn_dilation_2_1x1_conv[0][0]',                                 \n",
      "                                                                                                                                       'tcn_dilation_4_1x1_conv[0][0]',                                 \n",
      "                                                                                                                                       'tcn_dilation_8_1x1_conv[0][0]',                                 \n",
      "                                                                                                                                       'tcn_dilation_16_1x1_conv[0][0]',                                \n",
      "                                                                                                                                       'tcn_dilation_32_1x1_conv[0][0]',                                \n",
      "                                                                                                                                       'tcn_dilation_64_1x1_conv[0][0]',                                \n",
      "                                                                                                                                       'tcn_dilation_128_1x1_conv[0][0]',                               \n",
      "                                                                                                                                       'tcn_dilation_256_1x1_conv[0][0]',                               \n",
      "                                                                                                                                       'tcn_dilation_512_1x1_conv[0][0]',                               \n",
      "                                                                                                                                       'tcn_dilation_1024_1x1_conv[0][0]']                              \n",
      "                                                                                                                                                                                                        \n",
      " tcn_dilation_1024_merge_residual (Add)                           (None, None, 20)                            0                       ['tcn_dilation_1024_1x1_conv_residual[0][0]',                     \n",
      "                                                                                                                                       'tcn_dilation_1024_1x1_conv[0][0]']                              \n",
      "                                                                                                                                                                                                        \n",
      " tempo_dropout (Dropout)                                          (None, None, 20)                            0                       ['tcn_merge_skip_connections[0][0]']                              \n",
      "                                                                                                                                                                                                        \n",
      " tcn_activation (Activation)                                      (None, None, 20)                            0                       ['tcn_dilation_1024_merge_residual[0][0]']                        \n",
      "                                                                                                                                                                                                        \n",
      " tempo_global_average_pooling (GlobalAveragePooling1D)            (None, 20)                                  0                       ['tempo_dropout[0][0]']                                           \n",
      "                                                                                                                                                                                                        \n",
      " beats_dropout (Dropout)                                          (None, None, 20)                            0                       ['tcn_activation[0][0]']                                          \n",
      "                                                                                                                                                                                                        \n",
      " downbeats_dropout (Dropout)                                      (None, None, 20)                            0                       ['tcn_activation[0][0]']                                          \n",
      "                                                                                                                                                                                                        \n",
      " tempo_noise (GaussianNoise)                                      (None, 20)                                  0                       ['tempo_global_average_pooling[0][0]']                            \n",
      "                                                                                                                                                                                                        \n",
      " beats_dense (Dense)                                              (None, None, 1)                             21                      ['beats_dropout[0][0]']                                           \n",
      "                                                                                                                                                                                                        \n",
      " downbeats_dense (Dense)                                          (None, None, 1)                             21                      ['downbeats_dropout[0][0]']                                       \n",
      "                                                                                                                                                                                                        \n",
      " tempo_dense (Dense)                                              (None, 300)                                 6300                    ['tempo_noise[0][0]']                                             \n",
      "                                                                                                                                                                                                        \n",
      " beats (Activation)                                               (None, None, 1)                             0                       ['beats_dense[0][0]']                                             \n",
      "                                                                                                                                                                                                        \n",
      " downbeats (Activation)                                           (None, None, 1)                             0                       ['downbeats_dense[0][0]']                                         \n",
      "                                                                                                                                                                                                        \n",
      " tempo (Activation)                                               (None, 300)                                 0                       ['tempo_dense[0][0]']                                             \n",
      "                                                                                                                                                                                                        \n",
      "========================================================================================================================================================================================================\n",
      "Total params: 72,262\n",
      "Trainable params: 72,262\n",
      "Non-trainable params: 0\n",
      "________________________________________________________________________________________________________________________________________________________________________________________________________\n"
     ]
    }
   ],
   "source": [
    "from tensorflow.keras.optimizers import Adam\n",
    "import tensorflow_addons as tfa\n",
    "from tensorflow.keras.callbacks import CSVLogger\n",
    "\n",
    "# use a training sample to infer input shape\n",
    "input_shape = (None,) + train[0][0].shape[-2:]\n",
    "model = create_model(input_shape)\n",
    "\n",
    "learnrate = 0.005\n",
    "clipnorm = 0.5\n",
    "\n",
    "optimizer = tfa.optimizers.RectifiedAdam(learning_rate=learnrate,clipnorm=clipnorm)\n",
    "model.compile(\n",
    "    optimizer=optimizer,\n",
    "    loss=[\n",
    "        build_masked_loss(K.binary_crossentropy),\n",
    "        build_masked_loss(K.binary_crossentropy),\n",
    "        build_masked_loss(K.binary_crossentropy),\n",
    "    ],\n",
    "    metrics=['binary_accuracy'],\n",
    ")\n",
    "model.summary(200)"
   ]
  },
  {
   "cell_type": "markdown",
   "metadata": {
    "id": "lbEgoDuklFAL"
   },
   "source": [
    "## Antrenare"
   ]
  },
  {
   "cell_type": "code",
   "execution_count": null,
   "metadata": {},
   "outputs": [
    {
     "name": "stdout",
     "output_type": "stream",
     "text": [
      "output dir: ./models_good/models/multitask_fold_0_1.5\n"
     ]
    }
   ],
   "source": [
    "setting = 'multitask_fold_0_1.5'\n",
    "epochs = 100\n",
    "verbose = 0\n",
    "\n",
    "PATH = '.'\n",
    "\n",
    "# create output dir\n",
    "outdir = f'{PATH}/models/{setting}'\n",
    "os.makedirs(outdir, exist_ok=True)\n",
    "print(f'output dir: {outdir}')"
   ]
  },
  {
   "cell_type": "code",
   "execution_count": 23,
   "metadata": {
    "colab": {
     "base_uri": "https://localhost:8080/"
    },
    "id": "_XyPCTTh13XJ",
    "outputId": "bd391d1c-a496-4d76-d04c-87f524c57876"
   },
   "outputs": [
    {
     "name": "stdout",
     "output_type": "stream",
     "text": [
      "Epoch 1/100\n",
      "874/874 [==============================] - 147s 158ms/step - loss: 0.3298 - beats_loss: 0.1908 - downbeats_loss: 0.0893 - tempo_loss: 0.0497 - beats_binary_accuracy: 0.9342 - downbeats_binary_accuracy: 0.9731 - tempo_binary_accuracy: 0.9822 - val_loss: 0.2026 - val_beats_loss: 0.1157 - val_downbeats_loss: 0.0427 - val_tempo_loss: 0.0442 - val_beats_binary_accuracy: 0.9440 - val_downbeats_binary_accuracy: 0.9779 - val_tempo_binary_accuracy: 0.9833 - lr: 0.0050\n",
      "Epoch 2/100\n",
      "874/874 [==============================] - 156s 178ms/step - loss: 0.2267 - beats_loss: 0.1313 - downbeats_loss: 0.0503 - tempo_loss: 0.0450 - beats_binary_accuracy: 0.9393 - downbeats_binary_accuracy: 0.9786 - tempo_binary_accuracy: 0.9822 - val_loss: 0.1932 - val_beats_loss: 0.1134 - val_downbeats_loss: 0.0423 - val_tempo_loss: 0.0375 - val_beats_binary_accuracy: 0.9441 - val_downbeats_binary_accuracy: 0.9779 - val_tempo_binary_accuracy: 0.9833 - lr: 0.0050\n",
      "Epoch 3/100\n",
      "874/874 [==============================] - 163s 186ms/step - loss: 0.2250 - beats_loss: 0.1307 - downbeats_loss: 0.0525 - tempo_loss: 0.0418 - beats_binary_accuracy: 0.9395 - downbeats_binary_accuracy: 0.9785 - tempo_binary_accuracy: 0.9822 - val_loss: 0.2114 - val_beats_loss: 0.1181 - val_downbeats_loss: 0.0438 - val_tempo_loss: 0.0495 - val_beats_binary_accuracy: 0.9440 - val_downbeats_binary_accuracy: 0.9779 - val_tempo_binary_accuracy: 0.9833 - lr: 0.0050\n",
      "Epoch 4/100\n",
      "874/874 [==============================] - 163s 187ms/step - loss: 0.2169 - beats_loss: 0.1265 - downbeats_loss: 0.0477 - tempo_loss: 0.0428 - beats_binary_accuracy: 0.9399 - downbeats_binary_accuracy: 0.9790 - tempo_binary_accuracy: 0.9822 - val_loss: 0.1917 - val_beats_loss: 0.1120 - val_downbeats_loss: 0.0418 - val_tempo_loss: 0.0379 - val_beats_binary_accuracy: 0.9440 - val_downbeats_binary_accuracy: 0.9779 - val_tempo_binary_accuracy: 0.9833 - lr: 0.0050\n",
      "Epoch 5/100\n",
      "874/874 [==============================] - 115s 131ms/step - loss: 0.2078 - beats_loss: 0.1223 - downbeats_loss: 0.0464 - tempo_loss: 0.0391 - beats_binary_accuracy: 0.9398 - downbeats_binary_accuracy: 0.9790 - tempo_binary_accuracy: 0.9822 - val_loss: 0.1861 - val_beats_loss: 0.1080 - val_downbeats_loss: 0.0419 - val_tempo_loss: 0.0361 - val_beats_binary_accuracy: 0.9440 - val_downbeats_binary_accuracy: 0.9779 - val_tempo_binary_accuracy: 0.9832 - lr: 0.0050\n",
      "Epoch 6/100\n",
      "874/874 [==============================] - 112s 128ms/step - loss: 0.2089 - beats_loss: 0.1233 - downbeats_loss: 0.0465 - tempo_loss: 0.0391 - beats_binary_accuracy: 0.9399 - downbeats_binary_accuracy: 0.9789 - tempo_binary_accuracy: 0.9822 - val_loss: 0.2119 - val_beats_loss: 0.1225 - val_downbeats_loss: 0.0442 - val_tempo_loss: 0.0452 - val_beats_binary_accuracy: 0.9439 - val_downbeats_binary_accuracy: 0.9779 - val_tempo_binary_accuracy: 0.9833 - lr: 0.0050\n",
      "Epoch 7/100\n",
      "874/874 [==============================] - 112s 129ms/step - loss: 0.2704 - beats_loss: 0.1444 - downbeats_loss: 0.0528 - tempo_loss: 0.0732 - beats_binary_accuracy: 0.9395 - downbeats_binary_accuracy: 0.9787 - tempo_binary_accuracy: 0.9815 - val_loss: 0.2015 - val_beats_loss: 0.1184 - val_downbeats_loss: 0.0432 - val_tempo_loss: 0.0399 - val_beats_binary_accuracy: 0.9440 - val_downbeats_binary_accuracy: 0.9779 - val_tempo_binary_accuracy: 0.9833 - lr: 0.0050\n",
      "Epoch 8/100\n",
      "874/874 [==============================] - 114s 130ms/step - loss: 0.2136 - beats_loss: 0.1244 - downbeats_loss: 0.0467 - tempo_loss: 0.0425 - beats_binary_accuracy: 0.9399 - downbeats_binary_accuracy: 0.9790 - tempo_binary_accuracy: 0.9821 - val_loss: 0.1899 - val_beats_loss: 0.1084 - val_downbeats_loss: 0.0412 - val_tempo_loss: 0.0403 - val_beats_binary_accuracy: 0.9440 - val_downbeats_binary_accuracy: 0.9779 - val_tempo_binary_accuracy: 0.9833 - lr: 0.0050\n",
      "Epoch 9/100\n",
      "874/874 [==============================] - 113s 129ms/step - loss: 0.2079 - beats_loss: 0.1219 - downbeats_loss: 0.0459 - tempo_loss: 0.0401 - beats_binary_accuracy: 0.9399 - downbeats_binary_accuracy: 0.9790 - tempo_binary_accuracy: 0.9822 - val_loss: 0.1759 - val_beats_loss: 0.1031 - val_downbeats_loss: 0.0398 - val_tempo_loss: 0.0329 - val_beats_binary_accuracy: 0.9440 - val_downbeats_binary_accuracy: 0.9779 - val_tempo_binary_accuracy: 0.9833 - lr: 0.0050\n",
      "Epoch 10/100\n",
      "874/874 [==============================] - 112s 128ms/step - loss: 0.2127 - beats_loss: 0.1241 - downbeats_loss: 0.0464 - tempo_loss: 0.0422 - beats_binary_accuracy: 0.9399 - downbeats_binary_accuracy: 0.9790 - tempo_binary_accuracy: 0.9821 - val_loss: 0.1933 - val_beats_loss: 0.1168 - val_downbeats_loss: 0.0429 - val_tempo_loss: 0.0336 - val_beats_binary_accuracy: 0.9440 - val_downbeats_binary_accuracy: 0.9779 - val_tempo_binary_accuracy: 0.9835 - lr: 0.0050\n",
      "Epoch 11/100\n",
      "874/874 [==============================] - 214s 244ms/step - loss: 0.2071 - beats_loss: 0.1210 - downbeats_loss: 0.0457 - tempo_loss: 0.0403 - beats_binary_accuracy: 0.9399 - downbeats_binary_accuracy: 0.9790 - tempo_binary_accuracy: 0.9821 - val_loss: 0.1731 - val_beats_loss: 0.1038 - val_downbeats_loss: 0.0400 - val_tempo_loss: 0.0294 - val_beats_binary_accuracy: 0.9440 - val_downbeats_binary_accuracy: 0.9779 - val_tempo_binary_accuracy: 0.9833 - lr: 0.0050\n",
      "Epoch 12/100\n",
      "874/874 [==============================] - 116s 133ms/step - loss: 0.2089 - beats_loss: 0.1219 - downbeats_loss: 0.0460 - tempo_loss: 0.0410 - beats_binary_accuracy: 0.9399 - downbeats_binary_accuracy: 0.9790 - tempo_binary_accuracy: 0.9821 - val_loss: 0.1914 - val_beats_loss: 0.1094 - val_downbeats_loss: 0.0414 - val_tempo_loss: 0.0406 - val_beats_binary_accuracy: 0.9440 - val_downbeats_binary_accuracy: 0.9779 - val_tempo_binary_accuracy: 0.9835 - lr: 0.0050\n",
      "Epoch 13/100\n",
      "874/874 [==============================] - 117s 134ms/step - loss: 0.2010 - beats_loss: 0.1179 - downbeats_loss: 0.0451 - tempo_loss: 0.0381 - beats_binary_accuracy: 0.9400 - downbeats_binary_accuracy: 0.9790 - tempo_binary_accuracy: 0.9822 - val_loss: 0.1859 - val_beats_loss: 0.1093 - val_downbeats_loss: 0.0416 - val_tempo_loss: 0.0351 - val_beats_binary_accuracy: 0.9440 - val_downbeats_binary_accuracy: 0.9779 - val_tempo_binary_accuracy: 0.9832 - lr: 0.0050\n",
      "Epoch 14/100\n",
      "874/874 [==============================] - 123s 141ms/step - loss: 0.2070 - beats_loss: 0.1206 - downbeats_loss: 0.0457 - tempo_loss: 0.0407 - beats_binary_accuracy: 0.9401 - downbeats_binary_accuracy: 0.9790 - tempo_binary_accuracy: 0.9821 - val_loss: 0.1738 - val_beats_loss: 0.1011 - val_downbeats_loss: 0.0396 - val_tempo_loss: 0.0330 - val_beats_binary_accuracy: 0.9440 - val_downbeats_binary_accuracy: 0.9779 - val_tempo_binary_accuracy: 0.9834 - lr: 0.0050\n",
      "Epoch 15/100\n",
      "874/874 [==============================] - 122s 140ms/step - loss: 0.2038 - beats_loss: 0.1193 - downbeats_loss: 0.0455 - tempo_loss: 0.0389 - beats_binary_accuracy: 0.9403 - downbeats_binary_accuracy: 0.9790 - tempo_binary_accuracy: 0.9821 - val_loss: 0.1780 - val_beats_loss: 0.1043 - val_downbeats_loss: 0.0402 - val_tempo_loss: 0.0335 - val_beats_binary_accuracy: 0.9440 - val_downbeats_binary_accuracy: 0.9779 - val_tempo_binary_accuracy: 0.9833 - lr: 0.0050\n",
      "Epoch 16/100\n",
      "874/874 [==============================] - 123s 141ms/step - loss: 0.2016 - beats_loss: 0.1180 - downbeats_loss: 0.0451 - tempo_loss: 0.0385 - beats_binary_accuracy: 0.9401 - downbeats_binary_accuracy: 0.9790 - tempo_binary_accuracy: 0.9821 - val_loss: 0.1769 - val_beats_loss: 0.1058 - val_downbeats_loss: 0.0405 - val_tempo_loss: 0.0306 - val_beats_binary_accuracy: 0.9440 - val_downbeats_binary_accuracy: 0.9779 - val_tempo_binary_accuracy: 0.9833 - lr: 0.0050\n",
      "Epoch 17/100\n",
      "874/874 [==============================] - 124s 142ms/step - loss: 0.1996 - beats_loss: 0.1171 - downbeats_loss: 0.0448 - tempo_loss: 0.0377 - beats_binary_accuracy: 0.9404 - downbeats_binary_accuracy: 0.9790 - tempo_binary_accuracy: 0.9822 - val_loss: 0.1777 - val_beats_loss: 0.1050 - val_downbeats_loss: 0.0408 - val_tempo_loss: 0.0320 - val_beats_binary_accuracy: 0.9440 - val_downbeats_binary_accuracy: 0.9779 - val_tempo_binary_accuracy: 0.9836 - lr: 0.0050\n",
      "Epoch 18/100\n",
      "874/874 [==============================] - 124s 141ms/step - loss: 0.2002 - beats_loss: 0.1174 - downbeats_loss: 0.0449 - tempo_loss: 0.0380 - beats_binary_accuracy: 0.9403 - downbeats_binary_accuracy: 0.9790 - tempo_binary_accuracy: 0.9821 - val_loss: 0.1784 - val_beats_loss: 0.1006 - val_downbeats_loss: 0.0394 - val_tempo_loss: 0.0384 - val_beats_binary_accuracy: 0.9445 - val_downbeats_binary_accuracy: 0.9779 - val_tempo_binary_accuracy: 0.9832 - lr: 0.0050\n",
      "Epoch 19/100\n",
      "874/874 [==============================] - 131s 150ms/step - loss: 0.2016 - beats_loss: 0.1178 - downbeats_loss: 0.0451 - tempo_loss: 0.0387 - beats_binary_accuracy: 0.9404 - downbeats_binary_accuracy: 0.9790 - tempo_binary_accuracy: 0.9821 - val_loss: 0.1680 - val_beats_loss: 0.1003 - val_downbeats_loss: 0.0396 - val_tempo_loss: 0.0281 - val_beats_binary_accuracy: 0.9446 - val_downbeats_binary_accuracy: 0.9779 - val_tempo_binary_accuracy: 0.9835 - lr: 0.0050\n",
      "Epoch 20/100\n",
      "874/874 [==============================] - 116s 133ms/step - loss: 0.2019 - beats_loss: 0.1184 - downbeats_loss: 0.0451 - tempo_loss: 0.0383 - beats_binary_accuracy: 0.9402 - downbeats_binary_accuracy: 0.9790 - tempo_binary_accuracy: 0.9822 - val_loss: 0.1704 - val_beats_loss: 0.1000 - val_downbeats_loss: 0.0392 - val_tempo_loss: 0.0311 - val_beats_binary_accuracy: 0.9441 - val_downbeats_binary_accuracy: 0.9779 - val_tempo_binary_accuracy: 0.9834 - lr: 0.0050\n",
      "Epoch 21/100\n",
      "874/874 [==============================] - 119s 136ms/step - loss: 0.2010 - beats_loss: 0.1179 - downbeats_loss: 0.0450 - tempo_loss: 0.0382 - beats_binary_accuracy: 0.9403 - downbeats_binary_accuracy: 0.9790 - tempo_binary_accuracy: 0.9821 - val_loss: 0.1812 - val_beats_loss: 0.1050 - val_downbeats_loss: 0.0407 - val_tempo_loss: 0.0354 - val_beats_binary_accuracy: 0.9440 - val_downbeats_binary_accuracy: 0.9779 - val_tempo_binary_accuracy: 0.9833 - lr: 0.0050\n",
      "Epoch 22/100\n",
      "874/874 [==============================] - 123s 141ms/step - loss: 0.2031 - beats_loss: 0.1188 - downbeats_loss: 0.0451 - tempo_loss: 0.0393 - beats_binary_accuracy: 0.9402 - downbeats_binary_accuracy: 0.9789 - tempo_binary_accuracy: 0.9821 - val_loss: 0.1884 - val_beats_loss: 0.1103 - val_downbeats_loss: 0.0413 - val_tempo_loss: 0.0368 - val_beats_binary_accuracy: 0.9441 - val_downbeats_binary_accuracy: 0.9779 - val_tempo_binary_accuracy: 0.9833 - lr: 0.0050\n",
      "Epoch 23/100\n",
      "874/874 [==============================] - 123s 140ms/step - loss: 0.2008 - beats_loss: 0.1174 - downbeats_loss: 0.0449 - tempo_loss: 0.0385 - beats_binary_accuracy: 0.9404 - downbeats_binary_accuracy: 0.9789 - tempo_binary_accuracy: 0.9822 - val_loss: 0.1785 - val_beats_loss: 0.1003 - val_downbeats_loss: 0.0394 - val_tempo_loss: 0.0387 - val_beats_binary_accuracy: 0.9450 - val_downbeats_binary_accuracy: 0.9779 - val_tempo_binary_accuracy: 0.9833 - lr: 0.0050\n",
      "Epoch 24/100\n",
      "874/874 [==============================] - 123s 141ms/step - loss: 0.1996 - beats_loss: 0.1174 - downbeats_loss: 0.0448 - tempo_loss: 0.0374 - beats_binary_accuracy: 0.9405 - downbeats_binary_accuracy: 0.9790 - tempo_binary_accuracy: 0.9822 - val_loss: 0.1785 - val_beats_loss: 0.1041 - val_downbeats_loss: 0.0405 - val_tempo_loss: 0.0340 - val_beats_binary_accuracy: 0.9441 - val_downbeats_binary_accuracy: 0.9779 - val_tempo_binary_accuracy: 0.9834 - lr: 0.0050\n",
      "Epoch 25/100\n",
      "874/874 [==============================] - 124s 141ms/step - loss: 0.2018 - beats_loss: 0.1173 - downbeats_loss: 0.0449 - tempo_loss: 0.0396 - beats_binary_accuracy: 0.9405 - downbeats_binary_accuracy: 0.9790 - tempo_binary_accuracy: 0.9821 - val_loss: 0.1694 - val_beats_loss: 0.0990 - val_downbeats_loss: 0.0393 - val_tempo_loss: 0.0312 - val_beats_binary_accuracy: 0.9456 - val_downbeats_binary_accuracy: 0.9779 - val_tempo_binary_accuracy: 0.9833 - lr: 0.0050\n",
      "Epoch 26/100\n",
      "874/874 [==============================] - 124s 141ms/step - loss: 0.1968 - beats_loss: 0.1159 - downbeats_loss: 0.0445 - tempo_loss: 0.0364 - beats_binary_accuracy: 0.9404 - downbeats_binary_accuracy: 0.9790 - tempo_binary_accuracy: 0.9822 - val_loss: 0.1790 - val_beats_loss: 0.1090 - val_downbeats_loss: 0.0408 - val_tempo_loss: 0.0292 - val_beats_binary_accuracy: 0.9440 - val_downbeats_binary_accuracy: 0.9779 - val_tempo_binary_accuracy: 0.9834 - lr: 0.0050\n",
      "Epoch 27/100\n",
      "874/874 [==============================] - 122s 140ms/step - loss: 0.1955 - beats_loss: 0.1148 - downbeats_loss: 0.0442 - tempo_loss: 0.0365 - beats_binary_accuracy: 0.9406 - downbeats_binary_accuracy: 0.9790 - tempo_binary_accuracy: 0.9821 - val_loss: 0.1896 - val_beats_loss: 0.1135 - val_downbeats_loss: 0.0416 - val_tempo_loss: 0.0345 - val_beats_binary_accuracy: 0.9442 - val_downbeats_binary_accuracy: 0.9779 - val_tempo_binary_accuracy: 0.9833 - lr: 0.0050\n",
      "Epoch 28/100\n",
      "874/874 [==============================] - 117s 134ms/step - loss: 0.2010 - beats_loss: 0.1175 - downbeats_loss: 0.0448 - tempo_loss: 0.0387 - beats_binary_accuracy: 0.9405 - downbeats_binary_accuracy: 0.9790 - tempo_binary_accuracy: 0.9821 - val_loss: 0.1667 - val_beats_loss: 0.0980 - val_downbeats_loss: 0.0392 - val_tempo_loss: 0.0295 - val_beats_binary_accuracy: 0.9465 - val_downbeats_binary_accuracy: 0.9779 - val_tempo_binary_accuracy: 0.9833 - lr: 0.0050\n",
      "Epoch 29/100\n",
      "874/874 [==============================] - 117s 134ms/step - loss: 0.1978 - beats_loss: 0.1158 - downbeats_loss: 0.0445 - tempo_loss: 0.0376 - beats_binary_accuracy: 0.9406 - downbeats_binary_accuracy: 0.9790 - tempo_binary_accuracy: 0.9822 - val_loss: 0.1760 - val_beats_loss: 0.1012 - val_downbeats_loss: 0.0397 - val_tempo_loss: 0.0350 - val_beats_binary_accuracy: 0.9444 - val_downbeats_binary_accuracy: 0.9779 - val_tempo_binary_accuracy: 0.9835 - lr: 0.0050\n",
      "Epoch 30/100\n",
      "874/874 [==============================] - 120s 137ms/step - loss: 0.1973 - beats_loss: 0.1165 - downbeats_loss: 0.0445 - tempo_loss: 0.0362 - beats_binary_accuracy: 0.9404 - downbeats_binary_accuracy: 0.9790 - tempo_binary_accuracy: 0.9822 - val_loss: 0.1801 - val_beats_loss: 0.1024 - val_downbeats_loss: 0.0402 - val_tempo_loss: 0.0375 - val_beats_binary_accuracy: 0.9453 - val_downbeats_binary_accuracy: 0.9779 - val_tempo_binary_accuracy: 0.9833 - lr: 0.0050\n",
      "Epoch 31/100\n",
      "874/874 [==============================] - 123s 141ms/step - loss: 0.1970 - beats_loss: 0.1154 - downbeats_loss: 0.0443 - tempo_loss: 0.0373 - beats_binary_accuracy: 0.9406 - downbeats_binary_accuracy: 0.9790 - tempo_binary_accuracy: 0.9822 - val_loss: 0.1741 - val_beats_loss: 0.1031 - val_downbeats_loss: 0.0404 - val_tempo_loss: 0.0305 - val_beats_binary_accuracy: 0.9443 - val_downbeats_binary_accuracy: 0.9779 - val_tempo_binary_accuracy: 0.9834 - lr: 0.0050\n",
      "Epoch 32/100\n",
      "874/874 [==============================] - 122s 139ms/step - loss: 0.1972 - beats_loss: 0.1164 - downbeats_loss: 0.0444 - tempo_loss: 0.0363 - beats_binary_accuracy: 0.9406 - downbeats_binary_accuracy: 0.9790 - tempo_binary_accuracy: 0.9822 - val_loss: 0.1720 - val_beats_loss: 0.1014 - val_downbeats_loss: 0.0403 - val_tempo_loss: 0.0302 - val_beats_binary_accuracy: 0.9447 - val_downbeats_binary_accuracy: 0.9779 - val_tempo_binary_accuracy: 0.9834 - lr: 0.0050\n",
      "Epoch 33/100\n",
      "874/874 [==============================] - 121s 139ms/step - loss: 0.1956 - beats_loss: 0.1147 - downbeats_loss: 0.0441 - tempo_loss: 0.0369 - beats_binary_accuracy: 0.9406 - downbeats_binary_accuracy: 0.9790 - tempo_binary_accuracy: 0.9822 - val_loss: 0.1754 - val_beats_loss: 0.1019 - val_downbeats_loss: 0.0401 - val_tempo_loss: 0.0333 - val_beats_binary_accuracy: 0.9450 - val_downbeats_binary_accuracy: 0.9779 - val_tempo_binary_accuracy: 0.9834 - lr: 0.0050\n",
      "Epoch 34/100\n",
      "874/874 [==============================] - 121s 138ms/step - loss: 0.1966 - beats_loss: 0.1154 - downbeats_loss: 0.0443 - tempo_loss: 0.0369 - beats_binary_accuracy: 0.9405 - downbeats_binary_accuracy: 0.9790 - tempo_binary_accuracy: 0.9821 - val_loss: 0.1882 - val_beats_loss: 0.1102 - val_downbeats_loss: 0.0436 - val_tempo_loss: 0.0345 - val_beats_binary_accuracy: 0.9441 - val_downbeats_binary_accuracy: 0.9779 - val_tempo_binary_accuracy: 0.9830 - lr: 0.0050\n",
      "Epoch 35/100\n",
      "874/874 [==============================] - 111s 127ms/step - loss: 0.1976 - beats_loss: 0.1156 - downbeats_loss: 0.0442 - tempo_loss: 0.0378 - beats_binary_accuracy: 0.9406 - downbeats_binary_accuracy: 0.9790 - tempo_binary_accuracy: 0.9821 - val_loss: 0.1828 - val_beats_loss: 0.1070 - val_downbeats_loss: 0.0412 - val_tempo_loss: 0.0346 - val_beats_binary_accuracy: 0.9443 - val_downbeats_binary_accuracy: 0.9779 - val_tempo_binary_accuracy: 0.9831 - lr: 0.0050\n",
      "Epoch 36/100\n",
      "874/874 [==============================] - 109s 125ms/step - loss: 0.1957 - beats_loss: 0.1154 - downbeats_loss: 0.0443 - tempo_loss: 0.0361 - beats_binary_accuracy: 0.9404 - downbeats_binary_accuracy: 0.9790 - tempo_binary_accuracy: 0.9821 - val_loss: 0.1731 - val_beats_loss: 0.1031 - val_downbeats_loss: 0.0400 - val_tempo_loss: 0.0300 - val_beats_binary_accuracy: 0.9451 - val_downbeats_binary_accuracy: 0.9779 - val_tempo_binary_accuracy: 0.9834 - lr: 0.0050\n",
      "Epoch 37/100\n",
      "874/874 [==============================] - ETA: 0s - loss: 0.1964 - beats_loss: 0.1158 - downbeats_loss: 0.0443 - tempo_loss: 0.0363 - beats_binary_accuracy: 0.9403 - downbeats_binary_accuracy: 0.9790 - tempo_binary_accuracy: 0.9822\n",
      "Epoch 37: ReduceLROnPlateau reducing learning rate to 0.0009999999776482583.\n",
      "874/874 [==============================] - 110s 126ms/step - loss: 0.1964 - beats_loss: 0.1158 - downbeats_loss: 0.0443 - tempo_loss: 0.0363 - beats_binary_accuracy: 0.9403 - downbeats_binary_accuracy: 0.9790 - tempo_binary_accuracy: 0.9822 - val_loss: 0.1699 - val_beats_loss: 0.0996 - val_downbeats_loss: 0.0395 - val_tempo_loss: 0.0308 - val_beats_binary_accuracy: 0.9443 - val_downbeats_binary_accuracy: 0.9779 - val_tempo_binary_accuracy: 0.9833 - lr: 0.0050\n",
      "Epoch 38/100\n",
      "874/874 [==============================] - 110s 126ms/step - loss: 0.1763 - beats_loss: 0.1080 - downbeats_loss: 0.0423 - tempo_loss: 0.0260 - beats_binary_accuracy: 0.9414 - downbeats_binary_accuracy: 0.9790 - tempo_binary_accuracy: 0.9823 - val_loss: 0.1549 - val_beats_loss: 0.0946 - val_downbeats_loss: 0.0381 - val_tempo_loss: 0.0222 - val_beats_binary_accuracy: 0.9461 - val_downbeats_binary_accuracy: 0.9779 - val_tempo_binary_accuracy: 0.9834 - lr: 1.0000e-03\n",
      "Epoch 39/100\n",
      "874/874 [==============================] - 110s 126ms/step - loss: 0.1720 - beats_loss: 0.1062 - downbeats_loss: 0.0418 - tempo_loss: 0.0240 - beats_binary_accuracy: 0.9416 - downbeats_binary_accuracy: 0.9790 - tempo_binary_accuracy: 0.9823 - val_loss: 0.1599 - val_beats_loss: 0.0972 - val_downbeats_loss: 0.0386 - val_tempo_loss: 0.0241 - val_beats_binary_accuracy: 0.9460 - val_downbeats_binary_accuracy: 0.9779 - val_tempo_binary_accuracy: 0.9833 - lr: 1.0000e-03\n",
      "Epoch 40/100\n",
      "874/874 [==============================] - 110s 126ms/step - loss: 0.1701 - beats_loss: 0.1052 - downbeats_loss: 0.0416 - tempo_loss: 0.0233 - beats_binary_accuracy: 0.9416 - downbeats_binary_accuracy: 0.9790 - tempo_binary_accuracy: 0.9824 - val_loss: 0.1513 - val_beats_loss: 0.0922 - val_downbeats_loss: 0.0375 - val_tempo_loss: 0.0216 - val_beats_binary_accuracy: 0.9467 - val_downbeats_binary_accuracy: 0.9779 - val_tempo_binary_accuracy: 0.9834 - lr: 1.0000e-03\n",
      "Epoch 41/100\n",
      "874/874 [==============================] - 118s 135ms/step - loss: 0.1693 - beats_loss: 0.1051 - downbeats_loss: 0.0415 - tempo_loss: 0.0228 - beats_binary_accuracy: 0.9416 - downbeats_binary_accuracy: 0.9790 - tempo_binary_accuracy: 0.9824 - val_loss: 0.1519 - val_beats_loss: 0.0924 - val_downbeats_loss: 0.0377 - val_tempo_loss: 0.0218 - val_beats_binary_accuracy: 0.9470 - val_downbeats_binary_accuracy: 0.9779 - val_tempo_binary_accuracy: 0.9835 - lr: 1.0000e-03\n",
      "Epoch 42/100\n",
      "874/874 [==============================] - 121s 138ms/step - loss: 0.1677 - beats_loss: 0.1041 - downbeats_loss: 0.0413 - tempo_loss: 0.0223 - beats_binary_accuracy: 0.9417 - downbeats_binary_accuracy: 0.9790 - tempo_binary_accuracy: 0.9824 - val_loss: 0.1592 - val_beats_loss: 0.0963 - val_downbeats_loss: 0.0385 - val_tempo_loss: 0.0243 - val_beats_binary_accuracy: 0.9468 - val_downbeats_binary_accuracy: 0.9779 - val_tempo_binary_accuracy: 0.9836 - lr: 1.0000e-03\n",
      "Epoch 43/100\n",
      "874/874 [==============================] - 122s 140ms/step - loss: 0.1670 - beats_loss: 0.1039 - downbeats_loss: 0.0411 - tempo_loss: 0.0220 - beats_binary_accuracy: 0.9417 - downbeats_binary_accuracy: 0.9790 - tempo_binary_accuracy: 0.9824 - val_loss: 0.1519 - val_beats_loss: 0.0922 - val_downbeats_loss: 0.0375 - val_tempo_loss: 0.0221 - val_beats_binary_accuracy: 0.9466 - val_downbeats_binary_accuracy: 0.9779 - val_tempo_binary_accuracy: 0.9834 - lr: 1.0000e-03\n",
      "Epoch 44/100\n",
      "874/874 [==============================] - 120s 138ms/step - loss: 0.1663 - beats_loss: 0.1033 - downbeats_loss: 0.0410 - tempo_loss: 0.0220 - beats_binary_accuracy: 0.9418 - downbeats_binary_accuracy: 0.9790 - tempo_binary_accuracy: 0.9824 - val_loss: 0.1501 - val_beats_loss: 0.0915 - val_downbeats_loss: 0.0375 - val_tempo_loss: 0.0211 - val_beats_binary_accuracy: 0.9471 - val_downbeats_binary_accuracy: 0.9779 - val_tempo_binary_accuracy: 0.9837 - lr: 1.0000e-03\n",
      "Epoch 45/100\n",
      "874/874 [==============================] - 121s 138ms/step - loss: 0.1654 - beats_loss: 0.1029 - downbeats_loss: 0.0409 - tempo_loss: 0.0216 - beats_binary_accuracy: 0.9418 - downbeats_binary_accuracy: 0.9790 - tempo_binary_accuracy: 0.9824 - val_loss: 0.1495 - val_beats_loss: 0.0918 - val_downbeats_loss: 0.0377 - val_tempo_loss: 0.0201 - val_beats_binary_accuracy: 0.9471 - val_downbeats_binary_accuracy: 0.9779 - val_tempo_binary_accuracy: 0.9835 - lr: 1.0000e-03\n",
      "Epoch 46/100\n",
      "874/874 [==============================] - 116s 132ms/step - loss: 0.1650 - beats_loss: 0.1026 - downbeats_loss: 0.0409 - tempo_loss: 0.0215 - beats_binary_accuracy: 0.9419 - downbeats_binary_accuracy: 0.9790 - tempo_binary_accuracy: 0.9825 - val_loss: 0.1521 - val_beats_loss: 0.0922 - val_downbeats_loss: 0.0374 - val_tempo_loss: 0.0225 - val_beats_binary_accuracy: 0.9465 - val_downbeats_binary_accuracy: 0.9779 - val_tempo_binary_accuracy: 0.9834 - lr: 1.0000e-03\n",
      "Epoch 47/100\n",
      "874/874 [==============================] - 109s 125ms/step - loss: 0.1645 - beats_loss: 0.1025 - downbeats_loss: 0.0407 - tempo_loss: 0.0213 - beats_binary_accuracy: 0.9419 - downbeats_binary_accuracy: 0.9790 - tempo_binary_accuracy: 0.9825 - val_loss: 0.1513 - val_beats_loss: 0.0921 - val_downbeats_loss: 0.0375 - val_tempo_loss: 0.0216 - val_beats_binary_accuracy: 0.9469 - val_downbeats_binary_accuracy: 0.9779 - val_tempo_binary_accuracy: 0.9836 - lr: 1.0000e-03\n",
      "Epoch 48/100\n",
      "874/874 [==============================] - 112s 128ms/step - loss: 0.1644 - beats_loss: 0.1024 - downbeats_loss: 0.0407 - tempo_loss: 0.0213 - beats_binary_accuracy: 0.9418 - downbeats_binary_accuracy: 0.9790 - tempo_binary_accuracy: 0.9824 - val_loss: 0.1517 - val_beats_loss: 0.0922 - val_downbeats_loss: 0.0375 - val_tempo_loss: 0.0220 - val_beats_binary_accuracy: 0.9470 - val_downbeats_binary_accuracy: 0.9779 - val_tempo_binary_accuracy: 0.9836 - lr: 1.0000e-03\n",
      "Epoch 49/100\n",
      "874/874 [==============================] - 120s 137ms/step - loss: 0.1631 - beats_loss: 0.1016 - downbeats_loss: 0.0405 - tempo_loss: 0.0210 - beats_binary_accuracy: 0.9420 - downbeats_binary_accuracy: 0.9790 - tempo_binary_accuracy: 0.9825 - val_loss: 0.1495 - val_beats_loss: 0.0912 - val_downbeats_loss: 0.0372 - val_tempo_loss: 0.0210 - val_beats_binary_accuracy: 0.9473 - val_downbeats_binary_accuracy: 0.9779 - val_tempo_binary_accuracy: 0.9835 - lr: 1.0000e-03\n",
      "Epoch 50/100\n",
      "874/874 [==============================] - 120s 138ms/step - loss: 0.1633 - beats_loss: 0.1016 - downbeats_loss: 0.0405 - tempo_loss: 0.0212 - beats_binary_accuracy: 0.9420 - downbeats_binary_accuracy: 0.9790 - tempo_binary_accuracy: 0.9825 - val_loss: 0.1561 - val_beats_loss: 0.0940 - val_downbeats_loss: 0.0378 - val_tempo_loss: 0.0243 - val_beats_binary_accuracy: 0.9460 - val_downbeats_binary_accuracy: 0.9779 - val_tempo_binary_accuracy: 0.9834 - lr: 1.0000e-03\n",
      "Epoch 51/100\n",
      "874/874 [==============================] - 122s 140ms/step - loss: 0.1626 - beats_loss: 0.1012 - downbeats_loss: 0.0404 - tempo_loss: 0.0210 - beats_binary_accuracy: 0.9420 - downbeats_binary_accuracy: 0.9790 - tempo_binary_accuracy: 0.9825 - val_loss: 0.1606 - val_beats_loss: 0.0972 - val_downbeats_loss: 0.0386 - val_tempo_loss: 0.0248 - val_beats_binary_accuracy: 0.9460 - val_downbeats_binary_accuracy: 0.9779 - val_tempo_binary_accuracy: 0.9836 - lr: 1.0000e-03\n",
      "Epoch 52/100\n",
      "874/874 [==============================] - 120s 137ms/step - loss: 0.1624 - beats_loss: 0.1012 - downbeats_loss: 0.0404 - tempo_loss: 0.0208 - beats_binary_accuracy: 0.9419 - downbeats_binary_accuracy: 0.9790 - tempo_binary_accuracy: 0.9825 - val_loss: 0.1510 - val_beats_loss: 0.0919 - val_downbeats_loss: 0.0373 - val_tempo_loss: 0.0218 - val_beats_binary_accuracy: 0.9469 - val_downbeats_binary_accuracy: 0.9779 - val_tempo_binary_accuracy: 0.9834 - lr: 1.0000e-03\n",
      "Epoch 53/100\n",
      "874/874 [==============================] - 118s 135ms/step - loss: 0.1623 - beats_loss: 0.1011 - downbeats_loss: 0.0404 - tempo_loss: 0.0208 - beats_binary_accuracy: 0.9421 - downbeats_binary_accuracy: 0.9790 - tempo_binary_accuracy: 0.9825 - val_loss: 0.1504 - val_beats_loss: 0.0915 - val_downbeats_loss: 0.0373 - val_tempo_loss: 0.0217 - val_beats_binary_accuracy: 0.9477 - val_downbeats_binary_accuracy: 0.9779 - val_tempo_binary_accuracy: 0.9836 - lr: 1.0000e-03\n",
      "Epoch 54/100\n",
      "874/874 [==============================] - 120s 138ms/step - loss: 0.1615 - beats_loss: 0.1006 - downbeats_loss: 0.0402 - tempo_loss: 0.0207 - beats_binary_accuracy: 0.9420 - downbeats_binary_accuracy: 0.9790 - tempo_binary_accuracy: 0.9825 - val_loss: 0.1499 - val_beats_loss: 0.0916 - val_downbeats_loss: 0.0372 - val_tempo_loss: 0.0211 - val_beats_binary_accuracy: 0.9474 - val_downbeats_binary_accuracy: 0.9779 - val_tempo_binary_accuracy: 0.9835 - lr: 1.0000e-03\n",
      "Epoch 55/100\n",
      "874/874 [==============================] - 119s 136ms/step - loss: 0.1613 - beats_loss: 0.1003 - downbeats_loss: 0.0401 - tempo_loss: 0.0208 - beats_binary_accuracy: 0.9420 - downbeats_binary_accuracy: 0.9790 - tempo_binary_accuracy: 0.9824 - val_loss: 0.1489 - val_beats_loss: 0.0906 - val_downbeats_loss: 0.0372 - val_tempo_loss: 0.0211 - val_beats_binary_accuracy: 0.9475 - val_downbeats_binary_accuracy: 0.9779 - val_tempo_binary_accuracy: 0.9834 - lr: 1.0000e-03\n",
      "Epoch 56/100\n",
      "874/874 [==============================] - 121s 138ms/step - loss: 0.1609 - beats_loss: 0.1005 - downbeats_loss: 0.0401 - tempo_loss: 0.0204 - beats_binary_accuracy: 0.9420 - downbeats_binary_accuracy: 0.9790 - tempo_binary_accuracy: 0.9825 - val_loss: 0.1495 - val_beats_loss: 0.0906 - val_downbeats_loss: 0.0370 - val_tempo_loss: 0.0219 - val_beats_binary_accuracy: 0.9467 - val_downbeats_binary_accuracy: 0.9779 - val_tempo_binary_accuracy: 0.9837 - lr: 1.0000e-03\n",
      "Epoch 57/100\n",
      "874/874 [==============================] - 119s 137ms/step - loss: 0.1598 - beats_loss: 0.0994 - downbeats_loss: 0.0399 - tempo_loss: 0.0205 - beats_binary_accuracy: 0.9422 - downbeats_binary_accuracy: 0.9790 - tempo_binary_accuracy: 0.9825 - val_loss: 0.1477 - val_beats_loss: 0.0898 - val_downbeats_loss: 0.0369 - val_tempo_loss: 0.0209 - val_beats_binary_accuracy: 0.9476 - val_downbeats_binary_accuracy: 0.9779 - val_tempo_binary_accuracy: 0.9835 - lr: 1.0000e-03\n",
      "Epoch 58/100\n",
      "874/874 [==============================] - 124s 141ms/step - loss: 0.1599 - beats_loss: 0.0997 - downbeats_loss: 0.0399 - tempo_loss: 0.0203 - beats_binary_accuracy: 0.9422 - downbeats_binary_accuracy: 0.9790 - tempo_binary_accuracy: 0.9825 - val_loss: 0.1496 - val_beats_loss: 0.0910 - val_downbeats_loss: 0.0371 - val_tempo_loss: 0.0216 - val_beats_binary_accuracy: 0.9474 - val_downbeats_binary_accuracy: 0.9779 - val_tempo_binary_accuracy: 0.9836 - lr: 1.0000e-03\n",
      "Epoch 59/100\n",
      "874/874 [==============================] - 123s 140ms/step - loss: 0.1606 - beats_loss: 0.0999 - downbeats_loss: 0.0399 - tempo_loss: 0.0208 - beats_binary_accuracy: 0.9421 - downbeats_binary_accuracy: 0.9790 - tempo_binary_accuracy: 0.9824 - val_loss: 0.1491 - val_beats_loss: 0.0903 - val_downbeats_loss: 0.0369 - val_tempo_loss: 0.0219 - val_beats_binary_accuracy: 0.9475 - val_downbeats_binary_accuracy: 0.9779 - val_tempo_binary_accuracy: 0.9836 - lr: 1.0000e-03\n",
      "Epoch 60/100\n",
      "874/874 [==============================] - 125s 143ms/step - loss: 0.1599 - beats_loss: 0.0996 - downbeats_loss: 0.0399 - tempo_loss: 0.0204 - beats_binary_accuracy: 0.9422 - downbeats_binary_accuracy: 0.9790 - tempo_binary_accuracy: 0.9824 - val_loss: 0.1495 - val_beats_loss: 0.0909 - val_downbeats_loss: 0.0370 - val_tempo_loss: 0.0216 - val_beats_binary_accuracy: 0.9477 - val_downbeats_binary_accuracy: 0.9779 - val_tempo_binary_accuracy: 0.9838 - lr: 1.0000e-03\n",
      "Epoch 61/100\n",
      "874/874 [==============================] - 125s 143ms/step - loss: 0.1594 - beats_loss: 0.0996 - downbeats_loss: 0.0399 - tempo_loss: 0.0200 - beats_binary_accuracy: 0.9422 - downbeats_binary_accuracy: 0.9790 - tempo_binary_accuracy: 0.9825 - val_loss: 0.1493 - val_beats_loss: 0.0908 - val_downbeats_loss: 0.0370 - val_tempo_loss: 0.0215 - val_beats_binary_accuracy: 0.9477 - val_downbeats_binary_accuracy: 0.9779 - val_tempo_binary_accuracy: 0.9835 - lr: 1.0000e-03\n",
      "Epoch 62/100\n",
      "874/874 [==============================] - 125s 143ms/step - loss: 0.1594 - beats_loss: 0.0994 - downbeats_loss: 0.0398 - tempo_loss: 0.0202 - beats_binary_accuracy: 0.9421 - downbeats_binary_accuracy: 0.9790 - tempo_binary_accuracy: 0.9825 - val_loss: 0.1510 - val_beats_loss: 0.0920 - val_downbeats_loss: 0.0372 - val_tempo_loss: 0.0218 - val_beats_binary_accuracy: 0.9465 - val_downbeats_binary_accuracy: 0.9779 - val_tempo_binary_accuracy: 0.9836 - lr: 1.0000e-03\n",
      "Epoch 63/100\n",
      "874/874 [==============================] - 127s 146ms/step - loss: 0.1584 - beats_loss: 0.0987 - downbeats_loss: 0.0396 - tempo_loss: 0.0201 - beats_binary_accuracy: 0.9422 - downbeats_binary_accuracy: 0.9790 - tempo_binary_accuracy: 0.9825 - val_loss: 0.1496 - val_beats_loss: 0.0911 - val_downbeats_loss: 0.0371 - val_tempo_loss: 0.0214 - val_beats_binary_accuracy: 0.9469 - val_downbeats_binary_accuracy: 0.9779 - val_tempo_binary_accuracy: 0.9834 - lr: 1.0000e-03\n",
      "Epoch 64/100\n",
      "874/874 [==============================] - 124s 142ms/step - loss: 0.1587 - beats_loss: 0.0990 - downbeats_loss: 0.0397 - tempo_loss: 0.0201 - beats_binary_accuracy: 0.9423 - downbeats_binary_accuracy: 0.9790 - tempo_binary_accuracy: 0.9825 - val_loss: 0.1486 - val_beats_loss: 0.0897 - val_downbeats_loss: 0.0369 - val_tempo_loss: 0.0220 - val_beats_binary_accuracy: 0.9472 - val_downbeats_binary_accuracy: 0.9779 - val_tempo_binary_accuracy: 0.9835 - lr: 1.0000e-03\n",
      "Epoch 65/100\n",
      "874/874 [==============================] - 125s 143ms/step - loss: 0.1585 - beats_loss: 0.0988 - downbeats_loss: 0.0396 - tempo_loss: 0.0202 - beats_binary_accuracy: 0.9422 - downbeats_binary_accuracy: 0.9790 - tempo_binary_accuracy: 0.9825 - val_loss: 0.1495 - val_beats_loss: 0.0911 - val_downbeats_loss: 0.0370 - val_tempo_loss: 0.0214 - val_beats_binary_accuracy: 0.9476 - val_downbeats_binary_accuracy: 0.9779 - val_tempo_binary_accuracy: 0.9835 - lr: 1.0000e-03\n",
      "Epoch 66/100\n",
      "874/874 [==============================] - 122s 140ms/step - loss: 0.1585 - beats_loss: 0.0989 - downbeats_loss: 0.0396 - tempo_loss: 0.0200 - beats_binary_accuracy: 0.9423 - downbeats_binary_accuracy: 0.9790 - tempo_binary_accuracy: 0.9825 - val_loss: 0.1459 - val_beats_loss: 0.0891 - val_downbeats_loss: 0.0367 - val_tempo_loss: 0.0201 - val_beats_binary_accuracy: 0.9476 - val_downbeats_binary_accuracy: 0.9779 - val_tempo_binary_accuracy: 0.9837 - lr: 1.0000e-03\n",
      "Epoch 67/100\n",
      "874/874 [==============================] - 123s 140ms/step - loss: 0.1577 - beats_loss: 0.0984 - downbeats_loss: 0.0395 - tempo_loss: 0.0198 - beats_binary_accuracy: 0.9423 - downbeats_binary_accuracy: 0.9790 - tempo_binary_accuracy: 0.9825 - val_loss: 0.1500 - val_beats_loss: 0.0899 - val_downbeats_loss: 0.0367 - val_tempo_loss: 0.0234 - val_beats_binary_accuracy: 0.9471 - val_downbeats_binary_accuracy: 0.9779 - val_tempo_binary_accuracy: 0.9835 - lr: 1.0000e-03\n",
      "Epoch 68/100\n",
      "874/874 [==============================] - 124s 142ms/step - loss: 0.1575 - beats_loss: 0.0982 - downbeats_loss: 0.0395 - tempo_loss: 0.0198 - beats_binary_accuracy: 0.9422 - downbeats_binary_accuracy: 0.9790 - tempo_binary_accuracy: 0.9825 - val_loss: 0.1473 - val_beats_loss: 0.0894 - val_downbeats_loss: 0.0366 - val_tempo_loss: 0.0213 - val_beats_binary_accuracy: 0.9477 - val_downbeats_binary_accuracy: 0.9779 - val_tempo_binary_accuracy: 0.9837 - lr: 1.0000e-03\n",
      "Epoch 69/100\n",
      "874/874 [==============================] - 124s 142ms/step - loss: 0.1574 - beats_loss: 0.0980 - downbeats_loss: 0.0394 - tempo_loss: 0.0200 - beats_binary_accuracy: 0.9423 - downbeats_binary_accuracy: 0.9790 - tempo_binary_accuracy: 0.9825 - val_loss: 0.1483 - val_beats_loss: 0.0896 - val_downbeats_loss: 0.0367 - val_tempo_loss: 0.0220 - val_beats_binary_accuracy: 0.9477 - val_downbeats_binary_accuracy: 0.9779 - val_tempo_binary_accuracy: 0.9838 - lr: 1.0000e-03\n",
      "Epoch 70/100\n",
      "874/874 [==============================] - 123s 141ms/step - loss: 0.1578 - beats_loss: 0.0982 - downbeats_loss: 0.0394 - tempo_loss: 0.0201 - beats_binary_accuracy: 0.9422 - downbeats_binary_accuracy: 0.9790 - tempo_binary_accuracy: 0.9825 - val_loss: 0.1493 - val_beats_loss: 0.0908 - val_downbeats_loss: 0.0369 - val_tempo_loss: 0.0216 - val_beats_binary_accuracy: 0.9476 - val_downbeats_binary_accuracy: 0.9779 - val_tempo_binary_accuracy: 0.9836 - lr: 1.0000e-03\n",
      "Epoch 71/100\n",
      "874/874 [==============================] - 124s 141ms/step - loss: 0.1570 - beats_loss: 0.0978 - downbeats_loss: 0.0394 - tempo_loss: 0.0199 - beats_binary_accuracy: 0.9423 - downbeats_binary_accuracy: 0.9790 - tempo_binary_accuracy: 0.9825 - val_loss: 0.1501 - val_beats_loss: 0.0909 - val_downbeats_loss: 0.0368 - val_tempo_loss: 0.0225 - val_beats_binary_accuracy: 0.9461 - val_downbeats_binary_accuracy: 0.9779 - val_tempo_binary_accuracy: 0.9836 - lr: 1.0000e-03\n",
      "Epoch 72/100\n",
      "874/874 [==============================] - 126s 144ms/step - loss: 0.1570 - beats_loss: 0.0979 - downbeats_loss: 0.0394 - tempo_loss: 0.0197 - beats_binary_accuracy: 0.9423 - downbeats_binary_accuracy: 0.9790 - tempo_binary_accuracy: 0.9825 - val_loss: 0.1494 - val_beats_loss: 0.0904 - val_downbeats_loss: 0.0367 - val_tempo_loss: 0.0223 - val_beats_binary_accuracy: 0.9473 - val_downbeats_binary_accuracy: 0.9779 - val_tempo_binary_accuracy: 0.9838 - lr: 1.0000e-03\n",
      "Epoch 73/100\n",
      "874/874 [==============================] - 122s 139ms/step - loss: 0.1569 - beats_loss: 0.0978 - downbeats_loss: 0.0393 - tempo_loss: 0.0198 - beats_binary_accuracy: 0.9424 - downbeats_binary_accuracy: 0.9790 - tempo_binary_accuracy: 0.9826 - val_loss: 0.1483 - val_beats_loss: 0.0903 - val_downbeats_loss: 0.0366 - val_tempo_loss: 0.0214 - val_beats_binary_accuracy: 0.9468 - val_downbeats_binary_accuracy: 0.9779 - val_tempo_binary_accuracy: 0.9836 - lr: 1.0000e-03\n",
      "Epoch 74/100\n",
      "874/874 [==============================] - 125s 143ms/step - loss: 0.1561 - beats_loss: 0.0972 - downbeats_loss: 0.0392 - tempo_loss: 0.0197 - beats_binary_accuracy: 0.9424 - downbeats_binary_accuracy: 0.9790 - tempo_binary_accuracy: 0.9825 - val_loss: 0.1490 - val_beats_loss: 0.0904 - val_downbeats_loss: 0.0369 - val_tempo_loss: 0.0217 - val_beats_binary_accuracy: 0.9477 - val_downbeats_binary_accuracy: 0.9779 - val_tempo_binary_accuracy: 0.9836 - lr: 1.0000e-03\n",
      "Epoch 75/100\n",
      "874/874 [==============================] - 124s 142ms/step - loss: 0.1559 - beats_loss: 0.0974 - downbeats_loss: 0.0392 - tempo_loss: 0.0192 - beats_binary_accuracy: 0.9423 - downbeats_binary_accuracy: 0.9790 - tempo_binary_accuracy: 0.9825 - val_loss: 0.1465 - val_beats_loss: 0.0894 - val_downbeats_loss: 0.0364 - val_tempo_loss: 0.0207 - val_beats_binary_accuracy: 0.9475 - val_downbeats_binary_accuracy: 0.9779 - val_tempo_binary_accuracy: 0.9836 - lr: 1.0000e-03\n",
      "Epoch 76/100\n",
      "874/874 [==============================] - 124s 142ms/step - loss: 0.1555 - beats_loss: 0.0971 - downbeats_loss: 0.0391 - tempo_loss: 0.0193 - beats_binary_accuracy: 0.9423 - downbeats_binary_accuracy: 0.9790 - tempo_binary_accuracy: 0.9826 - val_loss: 0.1507 - val_beats_loss: 0.0911 - val_downbeats_loss: 0.0370 - val_tempo_loss: 0.0227 - val_beats_binary_accuracy: 0.9471 - val_downbeats_binary_accuracy: 0.9779 - val_tempo_binary_accuracy: 0.9836 - lr: 1.0000e-03\n",
      "Epoch 77/100\n",
      "874/874 [==============================] - 124s 142ms/step - loss: 0.1555 - beats_loss: 0.0970 - downbeats_loss: 0.0390 - tempo_loss: 0.0195 - beats_binary_accuracy: 0.9424 - downbeats_binary_accuracy: 0.9790 - tempo_binary_accuracy: 0.9825 - val_loss: 0.1493 - val_beats_loss: 0.0910 - val_downbeats_loss: 0.0367 - val_tempo_loss: 0.0216 - val_beats_binary_accuracy: 0.9459 - val_downbeats_binary_accuracy: 0.9779 - val_tempo_binary_accuracy: 0.9836 - lr: 1.0000e-03\n",
      "Epoch 78/100\n",
      "874/874 [==============================] - 122s 140ms/step - loss: 0.1555 - beats_loss: 0.0969 - downbeats_loss: 0.0391 - tempo_loss: 0.0195 - beats_binary_accuracy: 0.9424 - downbeats_binary_accuracy: 0.9790 - tempo_binary_accuracy: 0.9825 - val_loss: 0.1502 - val_beats_loss: 0.0918 - val_downbeats_loss: 0.0370 - val_tempo_loss: 0.0215 - val_beats_binary_accuracy: 0.9473 - val_downbeats_binary_accuracy: 0.9779 - val_tempo_binary_accuracy: 0.9835 - lr: 1.0000e-03\n",
      "Epoch 79/100\n",
      "874/874 [==============================] - 122s 140ms/step - loss: 0.1549 - beats_loss: 0.0965 - downbeats_loss: 0.0390 - tempo_loss: 0.0194 - beats_binary_accuracy: 0.9425 - downbeats_binary_accuracy: 0.9790 - tempo_binary_accuracy: 0.9826 - val_loss: 0.1474 - val_beats_loss: 0.0892 - val_downbeats_loss: 0.0366 - val_tempo_loss: 0.0216 - val_beats_binary_accuracy: 0.9476 - val_downbeats_binary_accuracy: 0.9779 - val_tempo_binary_accuracy: 0.9837 - lr: 1.0000e-03\n",
      "Epoch 80/100\n",
      "874/874 [==============================] - 123s 140ms/step - loss: 0.1559 - beats_loss: 0.0971 - downbeats_loss: 0.0391 - tempo_loss: 0.0198 - beats_binary_accuracy: 0.9424 - downbeats_binary_accuracy: 0.9790 - tempo_binary_accuracy: 0.9825 - val_loss: 0.1470 - val_beats_loss: 0.0895 - val_downbeats_loss: 0.0367 - val_tempo_loss: 0.0208 - val_beats_binary_accuracy: 0.9481 - val_downbeats_binary_accuracy: 0.9779 - val_tempo_binary_accuracy: 0.9834 - lr: 1.0000e-03\n",
      "Epoch 81/100\n",
      "874/874 [==============================] - 123s 141ms/step - loss: 0.1554 - beats_loss: 0.0969 - downbeats_loss: 0.0390 - tempo_loss: 0.0195 - beats_binary_accuracy: 0.9424 - downbeats_binary_accuracy: 0.9790 - tempo_binary_accuracy: 0.9825 - val_loss: 0.1514 - val_beats_loss: 0.0908 - val_downbeats_loss: 0.0368 - val_tempo_loss: 0.0238 - val_beats_binary_accuracy: 0.9478 - val_downbeats_binary_accuracy: 0.9779 - val_tempo_binary_accuracy: 0.9836 - lr: 1.0000e-03\n",
      "Epoch 82/100\n",
      "874/874 [==============================] - 120s 138ms/step - loss: 0.1549 - beats_loss: 0.0966 - downbeats_loss: 0.0390 - tempo_loss: 0.0193 - beats_binary_accuracy: 0.9425 - downbeats_binary_accuracy: 0.9790 - tempo_binary_accuracy: 0.9826 - val_loss: 0.1467 - val_beats_loss: 0.0890 - val_downbeats_loss: 0.0363 - val_tempo_loss: 0.0214 - val_beats_binary_accuracy: 0.9473 - val_downbeats_binary_accuracy: 0.9779 - val_tempo_binary_accuracy: 0.9836 - lr: 1.0000e-03\n",
      "Epoch 83/100\n",
      "874/874 [==============================] - 120s 137ms/step - loss: 0.1544 - beats_loss: 0.0963 - downbeats_loss: 0.0388 - tempo_loss: 0.0193 - beats_binary_accuracy: 0.9426 - downbeats_binary_accuracy: 0.9790 - tempo_binary_accuracy: 0.9826 - val_loss: 0.1496 - val_beats_loss: 0.0912 - val_downbeats_loss: 0.0365 - val_tempo_loss: 0.0219 - val_beats_binary_accuracy: 0.9474 - val_downbeats_binary_accuracy: 0.9779 - val_tempo_binary_accuracy: 0.9835 - lr: 1.0000e-03\n",
      "Epoch 84/100\n",
      "874/874 [==============================] - 124s 142ms/step - loss: 0.1542 - beats_loss: 0.0964 - downbeats_loss: 0.0385 - tempo_loss: 0.0193 - beats_binary_accuracy: 0.9424 - downbeats_binary_accuracy: 0.9790 - tempo_binary_accuracy: 0.9826 - val_loss: 0.1488 - val_beats_loss: 0.0903 - val_downbeats_loss: 0.0365 - val_tempo_loss: 0.0220 - val_beats_binary_accuracy: 0.9476 - val_downbeats_binary_accuracy: 0.9779 - val_tempo_binary_accuracy: 0.9838 - lr: 1.0000e-03\n",
      "Epoch 85/100\n",
      "874/874 [==============================] - 124s 142ms/step - loss: 0.1536 - beats_loss: 0.0962 - downbeats_loss: 0.0382 - tempo_loss: 0.0192 - beats_binary_accuracy: 0.9425 - downbeats_binary_accuracy: 0.9790 - tempo_binary_accuracy: 0.9826 - val_loss: 0.1492 - val_beats_loss: 0.0906 - val_downbeats_loss: 0.0360 - val_tempo_loss: 0.0226 - val_beats_binary_accuracy: 0.9479 - val_downbeats_binary_accuracy: 0.9779 - val_tempo_binary_accuracy: 0.9836 - lr: 1.0000e-03\n",
      "Epoch 86/100\n",
      "874/874 [==============================] - 123s 141ms/step - loss: 0.1545 - beats_loss: 0.0966 - downbeats_loss: 0.0383 - tempo_loss: 0.0196 - beats_binary_accuracy: 0.9425 - downbeats_binary_accuracy: 0.9790 - tempo_binary_accuracy: 0.9825 - val_loss: 0.1486 - val_beats_loss: 0.0905 - val_downbeats_loss: 0.0361 - val_tempo_loss: 0.0221 - val_beats_binary_accuracy: 0.9477 - val_downbeats_binary_accuracy: 0.9779 - val_tempo_binary_accuracy: 0.9837 - lr: 1.0000e-03\n",
      "Epoch 87/100\n",
      "874/874 [==============================] - 126s 144ms/step - loss: 0.1531 - beats_loss: 0.0960 - downbeats_loss: 0.0379 - tempo_loss: 0.0191 - beats_binary_accuracy: 0.9426 - downbeats_binary_accuracy: 0.9790 - tempo_binary_accuracy: 0.9826 - val_loss: 0.1476 - val_beats_loss: 0.0899 - val_downbeats_loss: 0.0360 - val_tempo_loss: 0.0218 - val_beats_binary_accuracy: 0.9476 - val_downbeats_binary_accuracy: 0.9779 - val_tempo_binary_accuracy: 0.9837 - lr: 1.0000e-03\n",
      "Epoch 88/100\n",
      "874/874 [==============================] - 123s 141ms/step - loss: 0.1534 - beats_loss: 0.0963 - downbeats_loss: 0.0380 - tempo_loss: 0.0191 - beats_binary_accuracy: 0.9426 - downbeats_binary_accuracy: 0.9790 - tempo_binary_accuracy: 0.9826 - val_loss: 0.1456 - val_beats_loss: 0.0886 - val_downbeats_loss: 0.0356 - val_tempo_loss: 0.0214 - val_beats_binary_accuracy: 0.9478 - val_downbeats_binary_accuracy: 0.9779 - val_tempo_binary_accuracy: 0.9836 - lr: 1.0000e-03\n",
      "Epoch 89/100\n",
      "874/874 [==============================] - 124s 142ms/step - loss: 0.1524 - beats_loss: 0.0957 - downbeats_loss: 0.0378 - tempo_loss: 0.0190 - beats_binary_accuracy: 0.9428 - downbeats_binary_accuracy: 0.9790 - tempo_binary_accuracy: 0.9826 - val_loss: 0.1505 - val_beats_loss: 0.0904 - val_downbeats_loss: 0.0361 - val_tempo_loss: 0.0241 - val_beats_binary_accuracy: 0.9474 - val_downbeats_binary_accuracy: 0.9779 - val_tempo_binary_accuracy: 0.9835 - lr: 1.0000e-03\n",
      "Epoch 90/100\n",
      "874/874 [==============================] - 124s 142ms/step - loss: 0.1524 - beats_loss: 0.0957 - downbeats_loss: 0.0377 - tempo_loss: 0.0190 - beats_binary_accuracy: 0.9426 - downbeats_binary_accuracy: 0.9790 - tempo_binary_accuracy: 0.9826 - val_loss: 0.1459 - val_beats_loss: 0.0887 - val_downbeats_loss: 0.0355 - val_tempo_loss: 0.0217 - val_beats_binary_accuracy: 0.9475 - val_downbeats_binary_accuracy: 0.9779 - val_tempo_binary_accuracy: 0.9835 - lr: 1.0000e-03\n",
      "Epoch 91/100\n",
      "874/874 [==============================] - 127s 146ms/step - loss: 0.1533 - beats_loss: 0.0962 - downbeats_loss: 0.0377 - tempo_loss: 0.0194 - beats_binary_accuracy: 0.9427 - downbeats_binary_accuracy: 0.9790 - tempo_binary_accuracy: 0.9826 - val_loss: 0.1467 - val_beats_loss: 0.0893 - val_downbeats_loss: 0.0355 - val_tempo_loss: 0.0219 - val_beats_binary_accuracy: 0.9478 - val_downbeats_binary_accuracy: 0.9779 - val_tempo_binary_accuracy: 0.9834 - lr: 1.0000e-03\n",
      "Epoch 92/100\n",
      "874/874 [==============================] - 128s 147ms/step - loss: 0.1523 - beats_loss: 0.0957 - downbeats_loss: 0.0376 - tempo_loss: 0.0191 - beats_binary_accuracy: 0.9426 - downbeats_binary_accuracy: 0.9790 - tempo_binary_accuracy: 0.9826 - val_loss: 0.1479 - val_beats_loss: 0.0898 - val_downbeats_loss: 0.0358 - val_tempo_loss: 0.0223 - val_beats_binary_accuracy: 0.9476 - val_downbeats_binary_accuracy: 0.9779 - val_tempo_binary_accuracy: 0.9838 - lr: 1.0000e-03\n",
      "Epoch 93/100\n",
      "874/874 [==============================] - 121s 139ms/step - loss: 0.1526 - beats_loss: 0.0959 - downbeats_loss: 0.0376 - tempo_loss: 0.0191 - beats_binary_accuracy: 0.9426 - downbeats_binary_accuracy: 0.9790 - tempo_binary_accuracy: 0.9825 - val_loss: 0.1475 - val_beats_loss: 0.0895 - val_downbeats_loss: 0.0354 - val_tempo_loss: 0.0225 - val_beats_binary_accuracy: 0.9478 - val_downbeats_binary_accuracy: 0.9779 - val_tempo_binary_accuracy: 0.9835 - lr: 1.0000e-03\n",
      "Epoch 94/100\n",
      "874/874 [==============================] - 116s 133ms/step - loss: 0.1521 - beats_loss: 0.0956 - downbeats_loss: 0.0375 - tempo_loss: 0.0190 - beats_binary_accuracy: 0.9427 - downbeats_binary_accuracy: 0.9790 - tempo_binary_accuracy: 0.9825 - val_loss: 0.1449 - val_beats_loss: 0.0893 - val_downbeats_loss: 0.0352 - val_tempo_loss: 0.0204 - val_beats_binary_accuracy: 0.9477 - val_downbeats_binary_accuracy: 0.9779 - val_tempo_binary_accuracy: 0.9835 - lr: 1.0000e-03\n",
      "Epoch 95/100\n",
      "874/874 [==============================] - 120s 138ms/step - loss: 0.1528 - beats_loss: 0.0961 - downbeats_loss: 0.0376 - tempo_loss: 0.0191 - beats_binary_accuracy: 0.9426 - downbeats_binary_accuracy: 0.9790 - tempo_binary_accuracy: 0.9826 - val_loss: 0.1475 - val_beats_loss: 0.0901 - val_downbeats_loss: 0.0356 - val_tempo_loss: 0.0218 - val_beats_binary_accuracy: 0.9475 - val_downbeats_binary_accuracy: 0.9779 - val_tempo_binary_accuracy: 0.9838 - lr: 1.0000e-03\n",
      "Epoch 96/100\n",
      "874/874 [==============================] - 123s 141ms/step - loss: 0.1519 - beats_loss: 0.0954 - downbeats_loss: 0.0373 - tempo_loss: 0.0192 - beats_binary_accuracy: 0.9427 - downbeats_binary_accuracy: 0.9790 - tempo_binary_accuracy: 0.9825 - val_loss: 0.1445 - val_beats_loss: 0.0883 - val_downbeats_loss: 0.0350 - val_tempo_loss: 0.0212 - val_beats_binary_accuracy: 0.9478 - val_downbeats_binary_accuracy: 0.9779 - val_tempo_binary_accuracy: 0.9836 - lr: 1.0000e-03\n",
      "Epoch 97/100\n",
      "874/874 [==============================] - 122s 139ms/step - loss: 0.1518 - beats_loss: 0.0955 - downbeats_loss: 0.0373 - tempo_loss: 0.0189 - beats_binary_accuracy: 0.9426 - downbeats_binary_accuracy: 0.9790 - tempo_binary_accuracy: 0.9826 - val_loss: 0.1488 - val_beats_loss: 0.0908 - val_downbeats_loss: 0.0354 - val_tempo_loss: 0.0225 - val_beats_binary_accuracy: 0.9468 - val_downbeats_binary_accuracy: 0.9779 - val_tempo_binary_accuracy: 0.9835 - lr: 1.0000e-03\n",
      "Epoch 98/100\n",
      "874/874 [==============================] - 121s 139ms/step - loss: 0.1512 - beats_loss: 0.0950 - downbeats_loss: 0.0372 - tempo_loss: 0.0190 - beats_binary_accuracy: 0.9428 - downbeats_binary_accuracy: 0.9790 - tempo_binary_accuracy: 0.9825 - val_loss: 0.1465 - val_beats_loss: 0.0891 - val_downbeats_loss: 0.0351 - val_tempo_loss: 0.0223 - val_beats_binary_accuracy: 0.9479 - val_downbeats_binary_accuracy: 0.9779 - val_tempo_binary_accuracy: 0.9838 - lr: 1.0000e-03\n",
      "Epoch 99/100\n",
      "874/874 [==============================] - 118s 135ms/step - loss: 0.1509 - beats_loss: 0.0950 - downbeats_loss: 0.0371 - tempo_loss: 0.0187 - beats_binary_accuracy: 0.9427 - downbeats_binary_accuracy: 0.9790 - tempo_binary_accuracy: 0.9826 - val_loss: 0.1486 - val_beats_loss: 0.0903 - val_downbeats_loss: 0.0355 - val_tempo_loss: 0.0229 - val_beats_binary_accuracy: 0.9479 - val_downbeats_binary_accuracy: 0.9779 - val_tempo_binary_accuracy: 0.9838 - lr: 1.0000e-03\n",
      "Epoch 100/100\n",
      "874/874 [==============================] - 120s 137ms/step - loss: 0.1502 - beats_loss: 0.0946 - downbeats_loss: 0.0369 - tempo_loss: 0.0187 - beats_binary_accuracy: 0.9428 - downbeats_binary_accuracy: 0.9790 - tempo_binary_accuracy: 0.9826 - val_loss: 0.1450 - val_beats_loss: 0.0882 - val_downbeats_loss: 0.0349 - val_tempo_loss: 0.0219 - val_beats_binary_accuracy: 0.9476 - val_downbeats_binary_accuracy: 0.9779 - val_tempo_binary_accuracy: 0.9837 - lr: 1.0000e-03\n"
     ]
    }
   ],
   "source": [
    "csv_logger = CSVLogger(f'{outdir}/logs.csv', append=False)\n",
    "\n",
    "# model checkpointing\n",
    "mc = keras.callbacks.ModelCheckpoint(f'{outdir}/model_best.h5', monitor='loss', save_best_only=True, verbose=verbose)\n",
    "\n",
    "# learn rate scheduler\n",
    "lr = keras.callbacks.ReduceLROnPlateau(\n",
    "    monitor='loss', factor=0.2, patience=10, verbose=1, mode='auto', min_delta=1e-3, cooldown=0, min_lr=1e-7\n",
    ")\n",
    "\n",
    "# early stopping\n",
    "es = keras.callbacks.EarlyStopping(monitor='loss', min_delta=1e-4, patience=20, verbose=verbose)\n",
    "\n",
    "# tensorboard logging\n",
    "tb = keras.callbacks.TensorBoard(log_dir=f'{outdir}/logs', write_graph=True, write_images=True)\n",
    "\n",
    "# actually train network\n",
    "history = model.fit_generator(\n",
    "    train,\n",
    "    steps_per_epoch=len(train),\n",
    "    epochs=epochs,\n",
    "    shuffle=True,\n",
    "    validation_data=test,\n",
    "    validation_steps=len(test),\n",
    "    callbacks=[mc, es, tb, lr, csv_logger],\n",
    ")\n",
    "model.save(f'{outdir}/model_final.h5')"
   ]
  },
  {
   "cell_type": "markdown",
   "metadata": {
    "id": "S3gZPfeBJDss"
   },
   "source": [
    "# Post-procesare"
   ]
  },
  {
   "cell_type": "code",
   "execution_count": null,
   "metadata": {
    "id": "xKola6GDJDss"
   },
   "outputs": [],
   "source": [
    "# track beats with a DBN\n",
    "np.int = int\n",
    "np.float = float\n",
    "beat_tracker = madmom.features.beats.DBNBeatTrackingProcessor(\n",
    "    min_bpm=55.0, max_bpm=215.0, fps=FPS, transition_lambda=100, threshold=0.05\n",
    ")\n",
    "\n",
    "# track downbeats with a DBN\n",
    "# as input, use a combined beat & downbeat activation function\n",
    "downbeat_tracker = madmom.features.downbeats.DBNDownBeatTrackingProcessor(\n",
    "    beats_per_bar=[3, 4], min_bpm=55.0, max_bpm=215.0, fps=FPS, transition_lambda=100,\n",
    ")\n",
    "\n",
    "# track bars, i.e. first track the beats and then infer the downbeat positions\n",
    "bar_tracker = madmom.features.downbeats.DBNBarTrackingProcessor(\n",
    "    beats_per_bar=(3, 4), meter_change_prob=1e-3, observation_weight=4,\n",
    ")"
   ]
  },
  {
   "cell_type": "code",
   "execution_count": 43,
   "metadata": {
    "id": "73CuJY7FJDsu"
   },
   "outputs": [],
   "source": [
    "def detect_tempo(bins, hist_smooth=11, min_bpm=10):\n",
    "    min_bpm = int(np.floor(min_bpm))\n",
    "    tempi = np.arange(min_bpm, len(bins))\n",
    "    bins = bins[min_bpm:]\n",
    "    # smooth histogram bins\n",
    "    if hist_smooth > 0:\n",
    "        bins = madmom.audio.signal.smooth(bins, hist_smooth)\n",
    "    # create interpolation function\n",
    "    interpolation_fn = interp1d(tempi, bins, 'quadratic')\n",
    "    # generate new intervals with 1000x the resolution\n",
    "    tempi = np.arange(tempi[0], tempi[-1], 0.001)\n",
    "    # apply quadratic interpolation\n",
    "    bins = interpolation_fn(tempi)\n",
    "    peaks = argrelmax(bins, mode='wrap')[0]\n",
    "    if len(peaks) == 0:\n",
    "        # no peaks, no tempo\n",
    "        tempi = np.array([], ndmin=2)\n",
    "    elif len(peaks) == 1:\n",
    "        # report only the strongest tempo\n",
    "        ret = np.array([tempi[peaks[0]], 1.0])\n",
    "        tempi = np.array([tempi[peaks[0]], 1.0])\n",
    "    else:\n",
    "        # sort the peaks in descending order of bin heights\n",
    "        sorted_peaks = peaks[np.argsort(bins[peaks])[::-1]]\n",
    "        # normalize their strengths\n",
    "        strengths = bins[sorted_peaks]\n",
    "        strengths /= np.sum(strengths)\n",
    "        # return the tempi and their normalized strengths\n",
    "        ret = np.array(list(zip(tempi[sorted_peaks], strengths)))\n",
    "        tempi = np.array(list(zip(tempi[sorted_peaks], strengths)))\n",
    "    return tempi[:2]"
   ]
  },
  {
   "cell_type": "code",
   "execution_count": null,
   "metadata": {},
   "outputs": [],
   "source": [
    "def predict(model, dataset, detdir=None, activations={}, detections={}):\n",
    "    for i, t in enumerate(dataset):\n",
    "        f = dataset.ids[i]\n",
    "        sys.stderr.write('\\rprocessing file %d of %d: %12s' % (i + 1, len(dataset), f))\n",
    "        sys.stderr.flush()\n",
    "\n",
    "        x = t[0]\n",
    "\n",
    "        beats, downbeats, tempo = model.predict(x)\n",
    "\n",
    "        beats_act = beats.squeeze()\n",
    "        downbeats_act = downbeats.squeeze()\n",
    "        tempo_act = tempo.squeeze()\n",
    "\n",
    "        # plt.clf()\n",
    "        # plt.plot(beats_act_smooth)\n",
    "        # plt.title(\"Beat activations\")\n",
    "        # plt.xlabel(\"Frame\")\n",
    "        # plt.ylabel(\"Activation\")\n",
    "        # plt.show()\n",
    "\n",
    "        beats = beat_tracker(beats_act)\n",
    "\n",
    "        # Compute combined activations\n",
    "        assert beats_act.shape == downbeats_act.shape, \"Activations must have same shape\"\n",
    "        beat_prob = np.maximum(beats_act - downbeats_act, 0)\n",
    "        downbeat_prob = downbeats_act\n",
    "\n",
    "        combined_act = np.column_stack((beat_prob, downbeat_prob))\n",
    "\n",
    "        # print(type(combined_act), combined_act.shape)\n",
    "        # print(combined_act.dtype)\n",
    "        for i, row in enumerate(combined_act):\n",
    "            if not (np.isscalar(row[0]) and np.isscalar(row[1])):\n",
    "                print(f\"Row {i} has non-scalar elements: {row}, types: {type(row[0])}, {type(row[1])}\")\n",
    "                break\n",
    "\n",
    "        # Run downbeat tracker safely\n",
    "        try:\n",
    "            downbeats = downbeat_tracker(combined_act)\n",
    "        except Exception as e:\n",
    "            print(f\"\\nError in downbeat tracking for file {f}: {e}\")\n",
    "            continue\n",
    "\n",
    "\n",
    "        # bar tracking\n",
    "        try:\n",
    "            beat_idx = (beats * FPS).astype(int)\n",
    "\n",
    "            #verficare\n",
    "            try:\n",
    "                if beats.size == 0:\n",
    "                    raise ValueError(\"no beats detected\")\n",
    "                beat_idx = (beats * FPS).astype(int)\n",
    "                if beat_idx.size == 0 or np.any(beat_idx < 0) or np.any(beat_idx >= downbeats_act.shape[0]):\n",
    "                    raise ValueError(\"invalid beat indices\")\n",
    "                \n",
    "                bar_act = maximum_filter1d(downbeats_act, size=3)\n",
    "                bar_act = bar_act[beat_idx]\n",
    "                bar_act = np.vstack((beats, bar_act)).T\n",
    "                bars = bar_tracker(bar_act)\n",
    "\n",
    "            except Exception as e:\n",
    "                print(f\"\\nError in bar tracking for file {f}: {e}\")\n",
    "                bars = np.empty((0, 2))\n",
    "\n",
    "            bar_act = maximum_filter1d(downbeats_act, size=3)\n",
    "            bar_act = bar_act[beat_idx]\n",
    "            bar_act = np.vstack((beats, bar_act)).T\n",
    "            bars = bar_tracker(bar_act)\n",
    "        except Exception as e:\n",
    "            print(f\"\\nError in bar tracking for file {f}: {e}\")\n",
    "            bars = np.empty((0, 2))\n",
    "\n",
    "        # tempo detection\n",
    "        tempo = detect_tempo(tempo_act)\n",
    "\n",
    "        activations[f] = {\n",
    "            'beats': beats_act,\n",
    "            'downbeats': downbeats_act,\n",
    "            'combined': combined_act,\n",
    "            'tempo': tempo_act\n",
    "        }\n",
    "\n",
    "        detections[f] = {\n",
    "            'beats': beats,\n",
    "            'downbeats': downbeats,\n",
    "            'bars': bars,\n",
    "            'tempo': tempo\n",
    "        }\n",
    "\n",
    "        # save\n",
    "        if detdir is not None:\n",
    "            save_path = os.path.join(detdir, f)\n",
    "            os.makedirs(os.path.dirname(save_path), exist_ok=True)\n",
    "\n",
    "            np.save(f'{save_path}.beats.npy', beats_act)\n",
    "            np.save(f'{save_path}.downbeats.npy', downbeats_act)\n",
    "            np.save(f'{save_path}.tempo.npy', tempo_act)\n",
    "\n",
    "            madmom.io.write_beats(beats, f'{save_path}.beats.txt')\n",
    "            madmom.io.write_beats(downbeats, f'{save_path}.downbeats.txt')\n",
    "            madmom.io.write_beats(bars, f'{save_path}.bars.txt')\n",
    "            madmom.io.write_tempo(tempo, f'{save_path}.bpm.txt')\n",
    "\n",
    "\n",
    "    return activations, detections\n"
   ]
  },
  {
   "cell_type": "markdown",
   "metadata": {
    "id": "i_rK-XJrB98w"
   },
   "source": [
    "### Predict\n",
    "\n",
    "Facem load la model mai intai"
   ]
  },
  {
   "cell_type": "code",
   "execution_count": null,
   "metadata": {
    "id": "D86wkhermFIs"
   },
   "outputs": [],
   "source": [
    "# if training did not finish, but was almost there, use `model_best.h5` instead of `model_final.h5`\n",
    "# model = keras.models.load_model(f'{outdir}/model_best.h5', compile=False)\n",
    "# from your_module import masked_loss_function  # sau definește-o din nou aici dacă nu o ai\n",
    "from tensorflow_addons.optimizers import RectifiedAdam\n",
    "\n",
    "setting = 'multitask_fold_0_1.3_all5'\n",
    "# setting = 'multitask_small_gtzan_small'\n",
    "\n",
    "PATH = '.'\n",
    "\n",
    "# create output dir\n",
    "outdir = f'{PATH}/models/{setting}'\n",
    "\n",
    "masked_loss_function = build_masked_loss(K.binary_crossentropy, MASK_VALUE)\n",
    "model = keras.models.load_model(\n",
    "    f'{outdir}/model_best.h5',\n",
    "    custom_objects={\n",
    "        'masked_loss_function': masked_loss_function,\n",
    "        'RectifiedAdam': RectifiedAdam\n",
    "    },\n",
    "    compile=True\n",
    ")\n"
   ]
  },
  {
   "cell_type": "markdown",
   "metadata": {
    "id": "zRI146sOZd-m"
   },
   "source": [
    "Predict the model's activations (i.e. the raw outputs) and the post-processed detections."
   ]
  },
  {
   "cell_type": "code",
   "execution_count": 45,
   "metadata": {},
   "outputs": [
    {
     "name": "stderr",
     "output_type": "stream",
     "text": [
      "processing file 1 of 1000: gtzan_genre_classical.00000"
     ]
    },
    {
     "name": "stdout",
     "output_type": "stream",
     "text": [
      "1/1 [==============================] - 0s 49ms/step\n"
     ]
    },
    {
     "name": "stderr",
     "output_type": "stream",
     "text": [
      "processing file 2 of 1000: gtzan_genre_classical.00001"
     ]
    },
    {
     "name": "stdout",
     "output_type": "stream",
     "text": [
      "1/1 [==============================] - 0s 52ms/step\n"
     ]
    },
    {
     "name": "stderr",
     "output_type": "stream",
     "text": [
      "processing file 3 of 1000: gtzan_genre_classical.00002"
     ]
    },
    {
     "name": "stdout",
     "output_type": "stream",
     "text": [
      "1/1 [==============================] - 0s 56ms/step\n"
     ]
    },
    {
     "name": "stderr",
     "output_type": "stream",
     "text": [
      "processing file 4 of 1000: gtzan_genre_classical.00003"
     ]
    },
    {
     "name": "stdout",
     "output_type": "stream",
     "text": [
      "1/1 [==============================] - 0s 54ms/step\n"
     ]
    },
    {
     "name": "stderr",
     "output_type": "stream",
     "text": [
      "processing file 5 of 1000: gtzan_genre_classical.00004"
     ]
    },
    {
     "name": "stdout",
     "output_type": "stream",
     "text": [
      "1/1 [==============================] - 0s 46ms/step\n"
     ]
    },
    {
     "name": "stderr",
     "output_type": "stream",
     "text": [
      "processing file 6 of 1000: gtzan_genre_classical.00005"
     ]
    },
    {
     "name": "stdout",
     "output_type": "stream",
     "text": [
      "1/1 [==============================] - 0s 56ms/step\n"
     ]
    },
    {
     "name": "stderr",
     "output_type": "stream",
     "text": [
      "processing file 7 of 1000: gtzan_genre_classical.00006"
     ]
    },
    {
     "name": "stdout",
     "output_type": "stream",
     "text": [
      "1/1 [==============================] - 0s 56ms/step\n"
     ]
    },
    {
     "name": "stderr",
     "output_type": "stream",
     "text": [
      "processing file 8 of 1000: gtzan_genre_classical.00007"
     ]
    },
    {
     "name": "stdout",
     "output_type": "stream",
     "text": [
      "1/1 [==============================] - 0s 52ms/step\n"
     ]
    },
    {
     "name": "stderr",
     "output_type": "stream",
     "text": [
      "processing file 9 of 1000: gtzan_genre_classical.00008"
     ]
    },
    {
     "name": "stdout",
     "output_type": "stream",
     "text": [
      "1/1 [==============================] - 0s 59ms/step\n"
     ]
    },
    {
     "name": "stderr",
     "output_type": "stream",
     "text": [
      "processing file 10 of 1000: gtzan_genre_classical.00009"
     ]
    },
    {
     "name": "stdout",
     "output_type": "stream",
     "text": [
      "1/1 [==============================] - 0s 48ms/step\n"
     ]
    },
    {
     "name": "stderr",
     "output_type": "stream",
     "text": [
      "processing file 11 of 1000: gtzan_genre_classical.00010"
     ]
    },
    {
     "name": "stdout",
     "output_type": "stream",
     "text": [
      "1/1 [==============================] - 0s 57ms/step\n"
     ]
    },
    {
     "name": "stderr",
     "output_type": "stream",
     "text": [
      "processing file 12 of 1000: gtzan_genre_classical.00011"
     ]
    },
    {
     "name": "stdout",
     "output_type": "stream",
     "text": [
      "1/1 [==============================] - 0s 54ms/step\n"
     ]
    },
    {
     "name": "stderr",
     "output_type": "stream",
     "text": [
      "processing file 13 of 1000: gtzan_genre_classical.00012"
     ]
    },
    {
     "name": "stdout",
     "output_type": "stream",
     "text": [
      "1/1 [==============================] - 0s 56ms/step\n"
     ]
    },
    {
     "name": "stderr",
     "output_type": "stream",
     "text": [
      "processing file 14 of 1000: gtzan_genre_classical.00013"
     ]
    },
    {
     "name": "stdout",
     "output_type": "stream",
     "text": [
      "\n",
      "⚠️  Error in bar tracking for file gtzan_genre_classical.00012: index -1 is out of bounds for axis 0 with size 0\n",
      "\n",
      "⚠️  Error in bar tracking for file gtzan_genre_classical.00012: index -1 is out of bounds for axis 0 with size 0\n",
      "1/1 [==============================] - 0s 53ms/step\n"
     ]
    },
    {
     "name": "stderr",
     "output_type": "stream",
     "text": [
      "processing file 15 of 1000: gtzan_genre_classical.00014"
     ]
    },
    {
     "name": "stdout",
     "output_type": "stream",
     "text": [
      "1/1 [==============================] - 0s 52ms/step\n"
     ]
    },
    {
     "name": "stderr",
     "output_type": "stream",
     "text": [
      "processing file 16 of 1000: gtzan_genre_classical.00015"
     ]
    },
    {
     "name": "stdout",
     "output_type": "stream",
     "text": [
      "1/1 [==============================] - 0s 50ms/step\n"
     ]
    },
    {
     "name": "stderr",
     "output_type": "stream",
     "text": [
      "processing file 17 of 1000: gtzan_genre_classical.00016"
     ]
    },
    {
     "name": "stdout",
     "output_type": "stream",
     "text": [
      "\n",
      "⚠️  Error in bar tracking for file gtzan_genre_classical.00015: index -1 is out of bounds for axis 0 with size 0\n",
      "\n",
      "⚠️  Error in bar tracking for file gtzan_genre_classical.00015: index -1 is out of bounds for axis 0 with size 0\n",
      "1/1 [==============================] - 0s 51ms/step\n"
     ]
    },
    {
     "name": "stderr",
     "output_type": "stream",
     "text": [
      "processing file 18 of 1000: gtzan_genre_classical.00017"
     ]
    },
    {
     "name": "stdout",
     "output_type": "stream",
     "text": [
      "1/1 [==============================] - 0s 52ms/step\n"
     ]
    },
    {
     "name": "stderr",
     "output_type": "stream",
     "text": [
      "processing file 19 of 1000: gtzan_genre_classical.00018"
     ]
    },
    {
     "name": "stdout",
     "output_type": "stream",
     "text": [
      "1/1 [==============================] - 0s 52ms/step\n"
     ]
    },
    {
     "name": "stderr",
     "output_type": "stream",
     "text": [
      "processing file 20 of 1000: gtzan_genre_classical.00019"
     ]
    },
    {
     "name": "stdout",
     "output_type": "stream",
     "text": [
      "1/1 [==============================] - 0s 53ms/step\n"
     ]
    },
    {
     "name": "stderr",
     "output_type": "stream",
     "text": [
      "processing file 21 of 1000: gtzan_genre_classical.00020"
     ]
    },
    {
     "name": "stdout",
     "output_type": "stream",
     "text": [
      "1/1 [==============================] - 0s 53ms/step\n"
     ]
    },
    {
     "name": "stderr",
     "output_type": "stream",
     "text": [
      "processing file 22 of 1000: gtzan_genre_classical.00021"
     ]
    },
    {
     "name": "stdout",
     "output_type": "stream",
     "text": [
      "1/1 [==============================] - 0s 50ms/step\n"
     ]
    },
    {
     "name": "stderr",
     "output_type": "stream",
     "text": [
      "processing file 23 of 1000: gtzan_genre_classical.00022"
     ]
    },
    {
     "name": "stdout",
     "output_type": "stream",
     "text": [
      "1/1 [==============================] - 0s 48ms/step\n"
     ]
    },
    {
     "name": "stderr",
     "output_type": "stream",
     "text": [
      "processing file 24 of 1000: gtzan_genre_classical.00023"
     ]
    },
    {
     "name": "stdout",
     "output_type": "stream",
     "text": [
      "1/1 [==============================] - 0s 66ms/step\n"
     ]
    },
    {
     "name": "stderr",
     "output_type": "stream",
     "text": [
      "processing file 25 of 1000: gtzan_genre_classical.00024"
     ]
    },
    {
     "name": "stdout",
     "output_type": "stream",
     "text": [
      "\n",
      "⚠️  Error in bar tracking for file gtzan_genre_classical.00023: index -1 is out of bounds for axis 0 with size 0\n",
      "\n",
      "⚠️  Error in bar tracking for file gtzan_genre_classical.00023: index -1 is out of bounds for axis 0 with size 0\n",
      "1/1 [==============================] - 0s 46ms/step\n"
     ]
    },
    {
     "name": "stderr",
     "output_type": "stream",
     "text": [
      "processing file 26 of 1000: gtzan_genre_classical.00025"
     ]
    },
    {
     "name": "stdout",
     "output_type": "stream",
     "text": [
      "1/1 [==============================] - 0s 60ms/step\n"
     ]
    },
    {
     "name": "stderr",
     "output_type": "stream",
     "text": [
      "processing file 27 of 1000: gtzan_genre_classical.00026"
     ]
    },
    {
     "name": "stdout",
     "output_type": "stream",
     "text": [
      "1/1 [==============================] - 0s 53ms/step\n"
     ]
    },
    {
     "name": "stderr",
     "output_type": "stream",
     "text": [
      "processing file 28 of 1000: gtzan_genre_classical.00027"
     ]
    },
    {
     "name": "stdout",
     "output_type": "stream",
     "text": [
      "1/1 [==============================] - 0s 52ms/step\n"
     ]
    },
    {
     "name": "stderr",
     "output_type": "stream",
     "text": [
      "processing file 29 of 1000: gtzan_genre_classical.00028"
     ]
    },
    {
     "name": "stdout",
     "output_type": "stream",
     "text": [
      "\n",
      "⚠️  Error in bar tracking for file gtzan_genre_classical.00027: index -1 is out of bounds for axis 0 with size 0\n",
      "\n",
      "⚠️  Error in bar tracking for file gtzan_genre_classical.00027: index -1 is out of bounds for axis 0 with size 0\n",
      "1/1 [==============================] - 0s 51ms/step\n"
     ]
    },
    {
     "name": "stderr",
     "output_type": "stream",
     "text": [
      "processing file 30 of 1000: gtzan_genre_classical.00029"
     ]
    },
    {
     "name": "stdout",
     "output_type": "stream",
     "text": [
      "1/1 [==============================] - 0s 52ms/step\n"
     ]
    },
    {
     "name": "stderr",
     "output_type": "stream",
     "text": [
      "processing file 31 of 1000: gtzan_genre_classical.00030"
     ]
    },
    {
     "name": "stdout",
     "output_type": "stream",
     "text": [
      "1/1 [==============================] - 0s 53ms/step\n"
     ]
    },
    {
     "name": "stderr",
     "output_type": "stream",
     "text": [
      "processing file 32 of 1000: gtzan_genre_classical.00031"
     ]
    },
    {
     "name": "stdout",
     "output_type": "stream",
     "text": [
      "1/1 [==============================] - 0s 41ms/step\n"
     ]
    },
    {
     "name": "stderr",
     "output_type": "stream",
     "text": [
      "processing file 33 of 1000: gtzan_genre_classical.00032"
     ]
    },
    {
     "name": "stdout",
     "output_type": "stream",
     "text": [
      "1/1 [==============================] - 0s 49ms/step\n"
     ]
    },
    {
     "name": "stderr",
     "output_type": "stream",
     "text": [
      "processing file 34 of 1000: gtzan_genre_classical.00033"
     ]
    },
    {
     "name": "stdout",
     "output_type": "stream",
     "text": [
      "\n",
      "⚠️  Error in bar tracking for file gtzan_genre_classical.00032: index -1 is out of bounds for axis 0 with size 0\n",
      "\n",
      "⚠️  Error in bar tracking for file gtzan_genre_classical.00032: index -1 is out of bounds for axis 0 with size 0\n",
      "1/1 [==============================] - 0s 51ms/step\n"
     ]
    },
    {
     "name": "stderr",
     "output_type": "stream",
     "text": [
      "processing file 35 of 1000: gtzan_genre_classical.00034"
     ]
    },
    {
     "name": "stdout",
     "output_type": "stream",
     "text": [
      "1/1 [==============================] - 0s 45ms/step\n"
     ]
    },
    {
     "name": "stderr",
     "output_type": "stream",
     "text": [
      "processing file 36 of 1000: gtzan_genre_classical.00035"
     ]
    },
    {
     "name": "stdout",
     "output_type": "stream",
     "text": [
      "1/1 [==============================] - 0s 55ms/step\n"
     ]
    },
    {
     "name": "stderr",
     "output_type": "stream",
     "text": [
      "processing file 37 of 1000: gtzan_genre_classical.00036"
     ]
    },
    {
     "name": "stdout",
     "output_type": "stream",
     "text": [
      "1/1 [==============================] - 0s 57ms/step\n"
     ]
    },
    {
     "name": "stderr",
     "output_type": "stream",
     "text": [
      "processing file 38 of 1000: gtzan_genre_classical.00037"
     ]
    },
    {
     "name": "stdout",
     "output_type": "stream",
     "text": [
      "1/1 [==============================] - 0s 49ms/step\n"
     ]
    },
    {
     "name": "stderr",
     "output_type": "stream",
     "text": [
      "processing file 39 of 1000: gtzan_genre_classical.00038"
     ]
    },
    {
     "name": "stdout",
     "output_type": "stream",
     "text": [
      "1/1 [==============================] - 0s 54ms/step\n"
     ]
    },
    {
     "name": "stderr",
     "output_type": "stream",
     "text": [
      "processing file 40 of 1000: gtzan_genre_classical.00039"
     ]
    },
    {
     "name": "stdout",
     "output_type": "stream",
     "text": [
      "1/1 [==============================] - 0s 61ms/step\n"
     ]
    },
    {
     "name": "stderr",
     "output_type": "stream",
     "text": [
      "processing file 41 of 1000: gtzan_genre_classical.00040"
     ]
    },
    {
     "name": "stdout",
     "output_type": "stream",
     "text": [
      "1/1 [==============================] - 0s 51ms/step\n"
     ]
    },
    {
     "name": "stderr",
     "output_type": "stream",
     "text": [
      "processing file 42 of 1000: gtzan_genre_classical.00041"
     ]
    },
    {
     "name": "stdout",
     "output_type": "stream",
     "text": [
      "1/1 [==============================] - 0s 53ms/step\n"
     ]
    },
    {
     "name": "stderr",
     "output_type": "stream",
     "text": [
      "processing file 43 of 1000: gtzan_genre_classical.00042"
     ]
    },
    {
     "name": "stdout",
     "output_type": "stream",
     "text": [
      "1/1 [==============================] - 1s 1s/step\n"
     ]
    },
    {
     "name": "stderr",
     "output_type": "stream",
     "text": [
      "processing file 44 of 1000: gtzan_genre_classical.00043"
     ]
    },
    {
     "name": "stdout",
     "output_type": "stream",
     "text": [
      "1/1 [==============================] - 0s 51ms/step\n"
     ]
    },
    {
     "name": "stderr",
     "output_type": "stream",
     "text": [
      "processing file 45 of 1000: gtzan_genre_classical.00044"
     ]
    },
    {
     "name": "stdout",
     "output_type": "stream",
     "text": [
      "1/1 [==============================] - 0s 53ms/step\n"
     ]
    },
    {
     "name": "stderr",
     "output_type": "stream",
     "text": [
      "processing file 46 of 1000: gtzan_genre_classical.00045"
     ]
    },
    {
     "name": "stdout",
     "output_type": "stream",
     "text": [
      "1/1 [==============================] - 0s 40ms/step\n"
     ]
    },
    {
     "name": "stderr",
     "output_type": "stream",
     "text": [
      "processing file 47 of 1000: gtzan_genre_classical.00046"
     ]
    },
    {
     "name": "stdout",
     "output_type": "stream",
     "text": [
      "1/1 [==============================] - 0s 34ms/step\n"
     ]
    },
    {
     "name": "stderr",
     "output_type": "stream",
     "text": [
      "processing file 48 of 1000: gtzan_genre_classical.00047"
     ]
    },
    {
     "name": "stdout",
     "output_type": "stream",
     "text": [
      "1/1 [==============================] - 0s 53ms/step\n"
     ]
    },
    {
     "name": "stderr",
     "output_type": "stream",
     "text": [
      "processing file 49 of 1000: gtzan_genre_classical.00048"
     ]
    },
    {
     "name": "stdout",
     "output_type": "stream",
     "text": [
      "\n",
      "⚠️  Error in bar tracking for file gtzan_genre_classical.00047: index -1 is out of bounds for axis 0 with size 0\n",
      "\n",
      "⚠️  Error in bar tracking for file gtzan_genre_classical.00047: index -1 is out of bounds for axis 0 with size 0\n",
      "1/1 [==============================] - 0s 47ms/step\n"
     ]
    },
    {
     "name": "stderr",
     "output_type": "stream",
     "text": [
      "processing file 50 of 1000: gtzan_genre_classical.00049"
     ]
    },
    {
     "name": "stdout",
     "output_type": "stream",
     "text": [
      "1/1 [==============================] - 0s 40ms/step\n"
     ]
    },
    {
     "name": "stderr",
     "output_type": "stream",
     "text": [
      "processing file 51 of 1000: gtzan_genre_classical.00050"
     ]
    },
    {
     "name": "stdout",
     "output_type": "stream",
     "text": [
      "1/1 [==============================] - 0s 55ms/step\n"
     ]
    },
    {
     "name": "stderr",
     "output_type": "stream",
     "text": [
      "processing file 52 of 1000: gtzan_genre_classical.00051"
     ]
    },
    {
     "name": "stdout",
     "output_type": "stream",
     "text": [
      "\n",
      "⚠️  Error in bar tracking for file gtzan_genre_classical.00050: index -1 is out of bounds for axis 0 with size 0\n",
      "\n",
      "⚠️  Error in bar tracking for file gtzan_genre_classical.00050: index -1 is out of bounds for axis 0 with size 0\n",
      "1/1 [==============================] - 0s 40ms/step\n"
     ]
    },
    {
     "name": "stderr",
     "output_type": "stream",
     "text": [
      "processing file 53 of 1000: gtzan_genre_classical.00052"
     ]
    },
    {
     "name": "stdout",
     "output_type": "stream",
     "text": [
      "1/1 [==============================] - 0s 58ms/step\n"
     ]
    },
    {
     "name": "stderr",
     "output_type": "stream",
     "text": [
      "processing file 54 of 1000: gtzan_genre_classical.00053"
     ]
    },
    {
     "name": "stdout",
     "output_type": "stream",
     "text": [
      "1/1 [==============================] - 0s 35ms/step\n"
     ]
    },
    {
     "name": "stderr",
     "output_type": "stream",
     "text": [
      "processing file 55 of 1000: gtzan_genre_classical.00054"
     ]
    },
    {
     "name": "stdout",
     "output_type": "stream",
     "text": [
      "1/1 [==============================] - 0s 47ms/step\n"
     ]
    },
    {
     "name": "stderr",
     "output_type": "stream",
     "text": [
      "processing file 56 of 1000: gtzan_genre_classical.00055"
     ]
    },
    {
     "name": "stdout",
     "output_type": "stream",
     "text": [
      "1/1 [==============================] - 0s 31ms/step\n"
     ]
    },
    {
     "name": "stderr",
     "output_type": "stream",
     "text": [
      "processing file 57 of 1000: gtzan_genre_classical.00056"
     ]
    },
    {
     "name": "stdout",
     "output_type": "stream",
     "text": [
      "1/1 [==============================] - 0s 38ms/step\n"
     ]
    },
    {
     "name": "stderr",
     "output_type": "stream",
     "text": [
      "processing file 58 of 1000: gtzan_genre_classical.00057"
     ]
    },
    {
     "name": "stdout",
     "output_type": "stream",
     "text": [
      "1/1 [==============================] - 0s 39ms/step\n"
     ]
    },
    {
     "name": "stderr",
     "output_type": "stream",
     "text": [
      "processing file 59 of 1000: gtzan_genre_classical.00058"
     ]
    },
    {
     "name": "stdout",
     "output_type": "stream",
     "text": [
      "1/1 [==============================] - 0s 47ms/step\n"
     ]
    },
    {
     "name": "stderr",
     "output_type": "stream",
     "text": [
      "processing file 60 of 1000: gtzan_genre_classical.00059"
     ]
    },
    {
     "name": "stdout",
     "output_type": "stream",
     "text": [
      "1/1 [==============================] - 0s 48ms/step\n"
     ]
    },
    {
     "name": "stderr",
     "output_type": "stream",
     "text": [
      "processing file 61 of 1000: gtzan_genre_classical.00060"
     ]
    },
    {
     "name": "stdout",
     "output_type": "stream",
     "text": [
      "1/1 [==============================] - 0s 43ms/step\n"
     ]
    },
    {
     "name": "stderr",
     "output_type": "stream",
     "text": [
      "processing file 62 of 1000: gtzan_genre_classical.00061"
     ]
    },
    {
     "name": "stdout",
     "output_type": "stream",
     "text": [
      "1/1 [==============================] - 0s 41ms/step\n"
     ]
    },
    {
     "name": "stderr",
     "output_type": "stream",
     "text": [
      "processing file 63 of 1000: gtzan_genre_classical.00062"
     ]
    },
    {
     "name": "stdout",
     "output_type": "stream",
     "text": [
      "1/1 [==============================] - 0s 46ms/step\n"
     ]
    },
    {
     "name": "stderr",
     "output_type": "stream",
     "text": [
      "processing file 64 of 1000: gtzan_genre_classical.00063"
     ]
    },
    {
     "name": "stdout",
     "output_type": "stream",
     "text": [
      "1/1 [==============================] - 0s 42ms/step\n"
     ]
    },
    {
     "name": "stderr",
     "output_type": "stream",
     "text": [
      "processing file 65 of 1000: gtzan_genre_classical.00064"
     ]
    },
    {
     "name": "stdout",
     "output_type": "stream",
     "text": [
      "1/1 [==============================] - 0s 40ms/step\n"
     ]
    },
    {
     "name": "stderr",
     "output_type": "stream",
     "text": [
      "processing file 66 of 1000: gtzan_genre_classical.00065"
     ]
    },
    {
     "name": "stdout",
     "output_type": "stream",
     "text": [
      "1/1 [==============================] - 0s 57ms/step\n"
     ]
    },
    {
     "name": "stderr",
     "output_type": "stream",
     "text": [
      "processing file 67 of 1000: gtzan_genre_classical.00066"
     ]
    },
    {
     "name": "stdout",
     "output_type": "stream",
     "text": [
      "1/1 [==============================] - 0s 43ms/step\n"
     ]
    },
    {
     "name": "stderr",
     "output_type": "stream",
     "text": [
      "processing file 68 of 1000: gtzan_genre_classical.00067"
     ]
    },
    {
     "name": "stdout",
     "output_type": "stream",
     "text": [
      "1/1 [==============================] - 0s 38ms/step\n"
     ]
    },
    {
     "name": "stderr",
     "output_type": "stream",
     "text": [
      "processing file 69 of 1000: gtzan_genre_classical.00068"
     ]
    },
    {
     "name": "stdout",
     "output_type": "stream",
     "text": [
      "1/1 [==============================] - 0s 53ms/step\n"
     ]
    },
    {
     "name": "stderr",
     "output_type": "stream",
     "text": [
      "processing file 70 of 1000: gtzan_genre_classical.00069"
     ]
    },
    {
     "name": "stdout",
     "output_type": "stream",
     "text": [
      "1/1 [==============================] - 0s 43ms/step\n"
     ]
    },
    {
     "name": "stderr",
     "output_type": "stream",
     "text": [
      "processing file 71 of 1000: gtzan_genre_classical.00070"
     ]
    },
    {
     "name": "stdout",
     "output_type": "stream",
     "text": [
      "1/1 [==============================] - 0s 44ms/step\n"
     ]
    },
    {
     "name": "stderr",
     "output_type": "stream",
     "text": [
      "processing file 72 of 1000: gtzan_genre_classical.00071"
     ]
    },
    {
     "name": "stdout",
     "output_type": "stream",
     "text": [
      "1/1 [==============================] - 0s 37ms/step\n"
     ]
    },
    {
     "name": "stderr",
     "output_type": "stream",
     "text": [
      "processing file 73 of 1000: gtzan_genre_classical.00072"
     ]
    },
    {
     "name": "stdout",
     "output_type": "stream",
     "text": [
      "1/1 [==============================] - 0s 45ms/step\n"
     ]
    },
    {
     "name": "stderr",
     "output_type": "stream",
     "text": [
      "processing file 74 of 1000: gtzan_genre_classical.00073"
     ]
    },
    {
     "name": "stdout",
     "output_type": "stream",
     "text": [
      "1/1 [==============================] - 0s 37ms/step\n"
     ]
    },
    {
     "name": "stderr",
     "output_type": "stream",
     "text": [
      "processing file 75 of 1000: gtzan_genre_classical.00074"
     ]
    },
    {
     "name": "stdout",
     "output_type": "stream",
     "text": [
      "1/1 [==============================] - 0s 44ms/step\n"
     ]
    },
    {
     "name": "stderr",
     "output_type": "stream",
     "text": [
      "processing file 76 of 1000: gtzan_genre_classical.00075"
     ]
    },
    {
     "name": "stdout",
     "output_type": "stream",
     "text": [
      "1/1 [==============================] - 0s 42ms/step\n"
     ]
    },
    {
     "name": "stderr",
     "output_type": "stream",
     "text": [
      "processing file 77 of 1000: gtzan_genre_classical.00076"
     ]
    },
    {
     "name": "stdout",
     "output_type": "stream",
     "text": [
      "1/1 [==============================] - 0s 56ms/step\n"
     ]
    },
    {
     "name": "stderr",
     "output_type": "stream",
     "text": [
      "processing file 78 of 1000: gtzan_genre_classical.00077"
     ]
    },
    {
     "name": "stdout",
     "output_type": "stream",
     "text": [
      "1/1 [==============================] - 0s 47ms/step\n"
     ]
    },
    {
     "name": "stderr",
     "output_type": "stream",
     "text": [
      "processing file 79 of 1000: gtzan_genre_classical.00078"
     ]
    },
    {
     "name": "stdout",
     "output_type": "stream",
     "text": [
      "1/1 [==============================] - 0s 58ms/step\n"
     ]
    },
    {
     "name": "stderr",
     "output_type": "stream",
     "text": [
      "processing file 80 of 1000: gtzan_genre_classical.00079"
     ]
    },
    {
     "name": "stdout",
     "output_type": "stream",
     "text": [
      "1/1 [==============================] - 0s 40ms/step\n"
     ]
    },
    {
     "name": "stderr",
     "output_type": "stream",
     "text": [
      "processing file 81 of 1000: gtzan_genre_classical.00080"
     ]
    },
    {
     "name": "stdout",
     "output_type": "stream",
     "text": [
      "1/1 [==============================] - 0s 56ms/step\n"
     ]
    },
    {
     "name": "stderr",
     "output_type": "stream",
     "text": [
      "processing file 82 of 1000: gtzan_genre_classical.00081"
     ]
    },
    {
     "name": "stdout",
     "output_type": "stream",
     "text": [
      "\n",
      "⚠️  Error in bar tracking for file gtzan_genre_classical.00080: index -1 is out of bounds for axis 0 with size 0\n",
      "\n",
      "⚠️  Error in bar tracking for file gtzan_genre_classical.00080: index -1 is out of bounds for axis 0 with size 0\n",
      "1/1 [==============================] - 0s 32ms/step\n"
     ]
    },
    {
     "name": "stderr",
     "output_type": "stream",
     "text": [
      "processing file 83 of 1000: gtzan_genre_classical.00082"
     ]
    },
    {
     "name": "stdout",
     "output_type": "stream",
     "text": [
      "1/1 [==============================] - 0s 43ms/step\n"
     ]
    },
    {
     "name": "stderr",
     "output_type": "stream",
     "text": [
      "processing file 84 of 1000: gtzan_genre_classical.00083"
     ]
    },
    {
     "name": "stdout",
     "output_type": "stream",
     "text": [
      "1/1 [==============================] - 0s 35ms/step\n"
     ]
    },
    {
     "name": "stderr",
     "output_type": "stream",
     "text": [
      "processing file 85 of 1000: gtzan_genre_classical.00084"
     ]
    },
    {
     "name": "stdout",
     "output_type": "stream",
     "text": [
      "\n",
      "⚠️  Error in bar tracking for file gtzan_genre_classical.00083: index -1 is out of bounds for axis 0 with size 0\n",
      "\n",
      "⚠️  Error in bar tracking for file gtzan_genre_classical.00083: index -1 is out of bounds for axis 0 with size 0\n",
      "1/1 [==============================] - 0s 60ms/step\n"
     ]
    },
    {
     "name": "stderr",
     "output_type": "stream",
     "text": [
      "processing file 86 of 1000: gtzan_genre_classical.00085"
     ]
    },
    {
     "name": "stdout",
     "output_type": "stream",
     "text": [
      "1/1 [==============================] - 0s 42ms/step\n"
     ]
    },
    {
     "name": "stderr",
     "output_type": "stream",
     "text": [
      "processing file 87 of 1000: gtzan_genre_classical.00086"
     ]
    },
    {
     "name": "stdout",
     "output_type": "stream",
     "text": [
      "1/1 [==============================] - 0s 39ms/step\n"
     ]
    },
    {
     "name": "stderr",
     "output_type": "stream",
     "text": [
      "processing file 88 of 1000: gtzan_genre_classical.00087"
     ]
    },
    {
     "name": "stdout",
     "output_type": "stream",
     "text": [
      "1/1 [==============================] - 0s 59ms/step\n"
     ]
    },
    {
     "name": "stderr",
     "output_type": "stream",
     "text": [
      "processing file 89 of 1000: gtzan_genre_classical.00088"
     ]
    },
    {
     "name": "stdout",
     "output_type": "stream",
     "text": [
      "1/1 [==============================] - 0s 45ms/step\n"
     ]
    },
    {
     "name": "stderr",
     "output_type": "stream",
     "text": [
      "processing file 90 of 1000: gtzan_genre_classical.00089"
     ]
    },
    {
     "name": "stdout",
     "output_type": "stream",
     "text": [
      "1/1 [==============================] - 0s 50ms/step\n"
     ]
    },
    {
     "name": "stderr",
     "output_type": "stream",
     "text": [
      "processing file 91 of 1000: gtzan_genre_classical.00090"
     ]
    },
    {
     "name": "stdout",
     "output_type": "stream",
     "text": [
      "1/1 [==============================] - 0s 57ms/step\n"
     ]
    },
    {
     "name": "stderr",
     "output_type": "stream",
     "text": [
      "processing file 92 of 1000: gtzan_genre_classical.00091"
     ]
    },
    {
     "name": "stdout",
     "output_type": "stream",
     "text": [
      "1/1 [==============================] - 0s 36ms/step\n"
     ]
    },
    {
     "name": "stderr",
     "output_type": "stream",
     "text": [
      "processing file 93 of 1000: gtzan_genre_classical.00092"
     ]
    },
    {
     "name": "stdout",
     "output_type": "stream",
     "text": [
      "1/1 [==============================] - 0s 47ms/step\n"
     ]
    },
    {
     "name": "stderr",
     "output_type": "stream",
     "text": [
      "processing file 94 of 1000: gtzan_genre_classical.00093"
     ]
    },
    {
     "name": "stdout",
     "output_type": "stream",
     "text": [
      "1/1 [==============================] - 0s 42ms/step\n"
     ]
    },
    {
     "name": "stderr",
     "output_type": "stream",
     "text": [
      "processing file 95 of 1000: gtzan_genre_classical.00094"
     ]
    },
    {
     "name": "stdout",
     "output_type": "stream",
     "text": [
      "1/1 [==============================] - 0s 57ms/step\n"
     ]
    },
    {
     "name": "stderr",
     "output_type": "stream",
     "text": [
      "processing file 96 of 1000: gtzan_genre_classical.00095"
     ]
    },
    {
     "name": "stdout",
     "output_type": "stream",
     "text": [
      "1/1 [==============================] - 0s 45ms/step\n"
     ]
    },
    {
     "name": "stderr",
     "output_type": "stream",
     "text": [
      "processing file 97 of 1000: gtzan_genre_classical.00096"
     ]
    },
    {
     "name": "stdout",
     "output_type": "stream",
     "text": [
      "1/1 [==============================] - 0s 36ms/step\n"
     ]
    },
    {
     "name": "stderr",
     "output_type": "stream",
     "text": [
      "processing file 98 of 1000: gtzan_genre_classical.00097"
     ]
    },
    {
     "name": "stdout",
     "output_type": "stream",
     "text": [
      "1/1 [==============================] - 0s 40ms/step\n"
     ]
    },
    {
     "name": "stderr",
     "output_type": "stream",
     "text": [
      "processing file 99 of 1000: gtzan_genre_classical.00098"
     ]
    },
    {
     "name": "stdout",
     "output_type": "stream",
     "text": [
      "1/1 [==============================] - 0s 38ms/step\n"
     ]
    },
    {
     "name": "stderr",
     "output_type": "stream",
     "text": [
      "processing file 100 of 1000: gtzan_genre_classical.00099"
     ]
    },
    {
     "name": "stdout",
     "output_type": "stream",
     "text": [
      "1/1 [==============================] - 0s 38ms/step\n"
     ]
    },
    {
     "name": "stderr",
     "output_type": "stream",
     "text": [
      "processing file 101 of 1000: gtzan_genre_country.00000"
     ]
    },
    {
     "name": "stdout",
     "output_type": "stream",
     "text": [
      "1/1 [==============================] - 0s 54ms/step\n"
     ]
    },
    {
     "name": "stderr",
     "output_type": "stream",
     "text": [
      "processing file 102 of 1000: gtzan_genre_country.00001"
     ]
    },
    {
     "name": "stdout",
     "output_type": "stream",
     "text": [
      "1/1 [==============================] - 0s 39ms/step\n"
     ]
    },
    {
     "name": "stderr",
     "output_type": "stream",
     "text": [
      "processing file 103 of 1000: gtzan_genre_country.00002"
     ]
    },
    {
     "name": "stdout",
     "output_type": "stream",
     "text": [
      "1/1 [==============================] - 0s 43ms/step\n"
     ]
    },
    {
     "name": "stderr",
     "output_type": "stream",
     "text": [
      "processing file 104 of 1000: gtzan_genre_country.00003"
     ]
    },
    {
     "name": "stdout",
     "output_type": "stream",
     "text": [
      "1/1 [==============================] - 0s 42ms/step\n"
     ]
    },
    {
     "name": "stderr",
     "output_type": "stream",
     "text": [
      "processing file 105 of 1000: gtzan_genre_country.00004"
     ]
    },
    {
     "name": "stdout",
     "output_type": "stream",
     "text": [
      "1/1 [==============================] - 0s 43ms/step\n"
     ]
    },
    {
     "name": "stderr",
     "output_type": "stream",
     "text": [
      "processing file 106 of 1000: gtzan_genre_country.00005"
     ]
    },
    {
     "name": "stdout",
     "output_type": "stream",
     "text": [
      "1/1 [==============================] - 0s 46ms/step\n"
     ]
    },
    {
     "name": "stderr",
     "output_type": "stream",
     "text": [
      "processing file 107 of 1000: gtzan_genre_country.00006"
     ]
    },
    {
     "name": "stdout",
     "output_type": "stream",
     "text": [
      "1/1 [==============================] - 0s 44ms/step\n"
     ]
    },
    {
     "name": "stderr",
     "output_type": "stream",
     "text": [
      "processing file 108 of 1000: gtzan_genre_country.00007"
     ]
    },
    {
     "name": "stdout",
     "output_type": "stream",
     "text": [
      "1/1 [==============================] - 0s 49ms/step\n"
     ]
    },
    {
     "name": "stderr",
     "output_type": "stream",
     "text": [
      "processing file 109 of 1000: gtzan_genre_country.00008"
     ]
    },
    {
     "name": "stdout",
     "output_type": "stream",
     "text": [
      "1/1 [==============================] - 0s 48ms/step\n"
     ]
    },
    {
     "name": "stderr",
     "output_type": "stream",
     "text": [
      "processing file 110 of 1000: gtzan_genre_country.00009"
     ]
    },
    {
     "name": "stdout",
     "output_type": "stream",
     "text": [
      "1/1 [==============================] - 0s 45ms/step\n"
     ]
    },
    {
     "name": "stderr",
     "output_type": "stream",
     "text": [
      "processing file 111 of 1000: gtzan_genre_country.00010"
     ]
    },
    {
     "name": "stdout",
     "output_type": "stream",
     "text": [
      "1/1 [==============================] - 0s 49ms/step\n"
     ]
    },
    {
     "name": "stderr",
     "output_type": "stream",
     "text": [
      "processing file 112 of 1000: gtzan_genre_country.00011"
     ]
    },
    {
     "name": "stdout",
     "output_type": "stream",
     "text": [
      "1/1 [==============================] - 0s 37ms/step\n"
     ]
    },
    {
     "name": "stderr",
     "output_type": "stream",
     "text": [
      "processing file 113 of 1000: gtzan_genre_country.00012"
     ]
    },
    {
     "name": "stdout",
     "output_type": "stream",
     "text": [
      "1/1 [==============================] - 0s 42ms/step\n"
     ]
    },
    {
     "name": "stderr",
     "output_type": "stream",
     "text": [
      "processing file 114 of 1000: gtzan_genre_country.00013"
     ]
    },
    {
     "name": "stdout",
     "output_type": "stream",
     "text": [
      "1/1 [==============================] - 0s 51ms/step\n"
     ]
    },
    {
     "name": "stderr",
     "output_type": "stream",
     "text": [
      "processing file 115 of 1000: gtzan_genre_country.00014"
     ]
    },
    {
     "name": "stdout",
     "output_type": "stream",
     "text": [
      "1/1 [==============================] - 0s 44ms/step\n"
     ]
    },
    {
     "name": "stderr",
     "output_type": "stream",
     "text": [
      "processing file 116 of 1000: gtzan_genre_country.00015"
     ]
    },
    {
     "name": "stdout",
     "output_type": "stream",
     "text": [
      "1/1 [==============================] - 0s 32ms/step\n"
     ]
    },
    {
     "name": "stderr",
     "output_type": "stream",
     "text": [
      "processing file 117 of 1000: gtzan_genre_country.00016"
     ]
    },
    {
     "name": "stdout",
     "output_type": "stream",
     "text": [
      "1/1 [==============================] - 0s 44ms/step\n"
     ]
    },
    {
     "name": "stderr",
     "output_type": "stream",
     "text": [
      "processing file 118 of 1000: gtzan_genre_country.00017"
     ]
    },
    {
     "name": "stdout",
     "output_type": "stream",
     "text": [
      "1/1 [==============================] - 0s 43ms/step\n"
     ]
    },
    {
     "name": "stderr",
     "output_type": "stream",
     "text": [
      "processing file 119 of 1000: gtzan_genre_country.00018"
     ]
    },
    {
     "name": "stdout",
     "output_type": "stream",
     "text": [
      "1/1 [==============================] - 0s 35ms/step\n"
     ]
    },
    {
     "name": "stderr",
     "output_type": "stream",
     "text": [
      "processing file 120 of 1000: gtzan_genre_country.00019"
     ]
    },
    {
     "name": "stdout",
     "output_type": "stream",
     "text": [
      "1/1 [==============================] - 0s 53ms/step\n"
     ]
    },
    {
     "name": "stderr",
     "output_type": "stream",
     "text": [
      "processing file 121 of 1000: gtzan_genre_country.00020"
     ]
    },
    {
     "name": "stdout",
     "output_type": "stream",
     "text": [
      "1/1 [==============================] - 0s 38ms/step\n"
     ]
    },
    {
     "name": "stderr",
     "output_type": "stream",
     "text": [
      "processing file 122 of 1000: gtzan_genre_country.00021"
     ]
    },
    {
     "name": "stdout",
     "output_type": "stream",
     "text": [
      "1/1 [==============================] - 0s 63ms/step\n"
     ]
    },
    {
     "name": "stderr",
     "output_type": "stream",
     "text": [
      "processing file 123 of 1000: gtzan_genre_country.00022"
     ]
    },
    {
     "name": "stdout",
     "output_type": "stream",
     "text": [
      "1/1 [==============================] - 0s 46ms/step\n"
     ]
    },
    {
     "name": "stderr",
     "output_type": "stream",
     "text": [
      "processing file 124 of 1000: gtzan_genre_country.00023"
     ]
    },
    {
     "name": "stdout",
     "output_type": "stream",
     "text": [
      "1/1 [==============================] - 0s 41ms/step\n"
     ]
    },
    {
     "name": "stderr",
     "output_type": "stream",
     "text": [
      "processing file 125 of 1000: gtzan_genre_country.00024"
     ]
    },
    {
     "name": "stdout",
     "output_type": "stream",
     "text": [
      "1/1 [==============================] - 0s 39ms/step\n"
     ]
    },
    {
     "name": "stderr",
     "output_type": "stream",
     "text": [
      "processing file 126 of 1000: gtzan_genre_country.00025"
     ]
    },
    {
     "name": "stdout",
     "output_type": "stream",
     "text": [
      "1/1 [==============================] - 0s 40ms/step\n"
     ]
    },
    {
     "name": "stderr",
     "output_type": "stream",
     "text": [
      "processing file 127 of 1000: gtzan_genre_country.00026"
     ]
    },
    {
     "name": "stdout",
     "output_type": "stream",
     "text": [
      "1/1 [==============================] - 0s 38ms/step\n"
     ]
    },
    {
     "name": "stderr",
     "output_type": "stream",
     "text": [
      "processing file 128 of 1000: gtzan_genre_country.00027"
     ]
    },
    {
     "name": "stdout",
     "output_type": "stream",
     "text": [
      "1/1 [==============================] - 0s 51ms/step\n"
     ]
    },
    {
     "name": "stderr",
     "output_type": "stream",
     "text": [
      "processing file 129 of 1000: gtzan_genre_country.00028"
     ]
    },
    {
     "name": "stdout",
     "output_type": "stream",
     "text": [
      "1/1 [==============================] - 0s 55ms/step\n"
     ]
    },
    {
     "name": "stderr",
     "output_type": "stream",
     "text": [
      "processing file 130 of 1000: gtzan_genre_country.00029"
     ]
    },
    {
     "name": "stdout",
     "output_type": "stream",
     "text": [
      "1/1 [==============================] - 0s 37ms/step\n"
     ]
    },
    {
     "name": "stderr",
     "output_type": "stream",
     "text": [
      "processing file 131 of 1000: gtzan_genre_country.00030"
     ]
    },
    {
     "name": "stdout",
     "output_type": "stream",
     "text": [
      "1/1 [==============================] - 0s 43ms/step\n"
     ]
    },
    {
     "name": "stderr",
     "output_type": "stream",
     "text": [
      "processing file 132 of 1000: gtzan_genre_country.00031"
     ]
    },
    {
     "name": "stdout",
     "output_type": "stream",
     "text": [
      "1/1 [==============================] - 0s 50ms/step\n"
     ]
    },
    {
     "name": "stderr",
     "output_type": "stream",
     "text": [
      "processing file 133 of 1000: gtzan_genre_country.00032"
     ]
    },
    {
     "name": "stdout",
     "output_type": "stream",
     "text": [
      "1/1 [==============================] - 0s 37ms/step\n"
     ]
    },
    {
     "name": "stderr",
     "output_type": "stream",
     "text": [
      "processing file 134 of 1000: gtzan_genre_country.00033"
     ]
    },
    {
     "name": "stdout",
     "output_type": "stream",
     "text": [
      "1/1 [==============================] - 0s 39ms/step\n"
     ]
    },
    {
     "name": "stderr",
     "output_type": "stream",
     "text": [
      "processing file 135 of 1000: gtzan_genre_country.00034"
     ]
    },
    {
     "name": "stdout",
     "output_type": "stream",
     "text": [
      "1/1 [==============================] - 0s 37ms/step\n"
     ]
    },
    {
     "name": "stderr",
     "output_type": "stream",
     "text": [
      "processing file 136 of 1000: gtzan_genre_country.00035"
     ]
    },
    {
     "name": "stdout",
     "output_type": "stream",
     "text": [
      "1/1 [==============================] - 0s 34ms/step\n"
     ]
    },
    {
     "name": "stderr",
     "output_type": "stream",
     "text": [
      "processing file 137 of 1000: gtzan_genre_country.00036"
     ]
    },
    {
     "name": "stdout",
     "output_type": "stream",
     "text": [
      "1/1 [==============================] - 0s 38ms/step\n"
     ]
    },
    {
     "name": "stderr",
     "output_type": "stream",
     "text": [
      "processing file 138 of 1000: gtzan_genre_country.00037"
     ]
    },
    {
     "name": "stdout",
     "output_type": "stream",
     "text": [
      "1/1 [==============================] - 0s 58ms/step\n"
     ]
    },
    {
     "name": "stderr",
     "output_type": "stream",
     "text": [
      "processing file 139 of 1000: gtzan_genre_country.00038"
     ]
    },
    {
     "name": "stdout",
     "output_type": "stream",
     "text": [
      "1/1 [==============================] - 0s 51ms/step\n"
     ]
    },
    {
     "name": "stderr",
     "output_type": "stream",
     "text": [
      "processing file 140 of 1000: gtzan_genre_country.00039"
     ]
    },
    {
     "name": "stdout",
     "output_type": "stream",
     "text": [
      "1/1 [==============================] - 0s 35ms/step\n"
     ]
    },
    {
     "name": "stderr",
     "output_type": "stream",
     "text": [
      "processing file 141 of 1000: gtzan_genre_country.00040"
     ]
    },
    {
     "name": "stdout",
     "output_type": "stream",
     "text": [
      "1/1 [==============================] - 0s 42ms/step\n"
     ]
    },
    {
     "name": "stderr",
     "output_type": "stream",
     "text": [
      "processing file 142 of 1000: gtzan_genre_country.00041"
     ]
    },
    {
     "name": "stdout",
     "output_type": "stream",
     "text": [
      "1/1 [==============================] - 0s 53ms/step\n"
     ]
    },
    {
     "name": "stderr",
     "output_type": "stream",
     "text": [
      "processing file 143 of 1000: gtzan_genre_country.00042"
     ]
    },
    {
     "name": "stdout",
     "output_type": "stream",
     "text": [
      "1/1 [==============================] - 0s 68ms/step\n"
     ]
    },
    {
     "name": "stderr",
     "output_type": "stream",
     "text": [
      "processing file 144 of 1000: gtzan_genre_country.00043"
     ]
    },
    {
     "name": "stdout",
     "output_type": "stream",
     "text": [
      "1/1 [==============================] - 0s 57ms/step\n"
     ]
    },
    {
     "name": "stderr",
     "output_type": "stream",
     "text": [
      "processing file 145 of 1000: gtzan_genre_country.00044"
     ]
    },
    {
     "name": "stdout",
     "output_type": "stream",
     "text": [
      "1/1 [==============================] - 0s 37ms/step\n"
     ]
    },
    {
     "name": "stderr",
     "output_type": "stream",
     "text": [
      "processing file 146 of 1000: gtzan_genre_country.00045"
     ]
    },
    {
     "name": "stdout",
     "output_type": "stream",
     "text": [
      "1/1 [==============================] - 0s 42ms/step\n"
     ]
    },
    {
     "name": "stderr",
     "output_type": "stream",
     "text": [
      "processing file 147 of 1000: gtzan_genre_country.00046"
     ]
    },
    {
     "name": "stdout",
     "output_type": "stream",
     "text": [
      "1/1 [==============================] - 0s 47ms/step\n"
     ]
    },
    {
     "name": "stderr",
     "output_type": "stream",
     "text": [
      "processing file 148 of 1000: gtzan_genre_country.00047"
     ]
    },
    {
     "name": "stdout",
     "output_type": "stream",
     "text": [
      "1/1 [==============================] - 0s 52ms/step\n"
     ]
    },
    {
     "name": "stderr",
     "output_type": "stream",
     "text": [
      "processing file 149 of 1000: gtzan_genre_country.00048"
     ]
    },
    {
     "name": "stdout",
     "output_type": "stream",
     "text": [
      "1/1 [==============================] - 0s 39ms/step\n"
     ]
    },
    {
     "name": "stderr",
     "output_type": "stream",
     "text": [
      "processing file 150 of 1000: gtzan_genre_country.00049"
     ]
    },
    {
     "name": "stdout",
     "output_type": "stream",
     "text": [
      "1/1 [==============================] - 0s 41ms/step\n"
     ]
    },
    {
     "name": "stderr",
     "output_type": "stream",
     "text": [
      "processing file 151 of 1000: gtzan_genre_country.00050"
     ]
    },
    {
     "name": "stdout",
     "output_type": "stream",
     "text": [
      "1/1 [==============================] - 0s 58ms/step\n"
     ]
    },
    {
     "name": "stderr",
     "output_type": "stream",
     "text": [
      "processing file 152 of 1000: gtzan_genre_country.00051"
     ]
    },
    {
     "name": "stdout",
     "output_type": "stream",
     "text": [
      "1/1 [==============================] - 0s 44ms/step\n"
     ]
    },
    {
     "name": "stderr",
     "output_type": "stream",
     "text": [
      "processing file 153 of 1000: gtzan_genre_country.00052"
     ]
    },
    {
     "name": "stdout",
     "output_type": "stream",
     "text": [
      "1/1 [==============================] - 0s 42ms/step\n"
     ]
    },
    {
     "name": "stderr",
     "output_type": "stream",
     "text": [
      "processing file 154 of 1000: gtzan_genre_country.00053"
     ]
    },
    {
     "name": "stdout",
     "output_type": "stream",
     "text": [
      "1/1 [==============================] - 0s 34ms/step\n"
     ]
    },
    {
     "name": "stderr",
     "output_type": "stream",
     "text": [
      "processing file 155 of 1000: gtzan_genre_country.00054"
     ]
    },
    {
     "name": "stdout",
     "output_type": "stream",
     "text": [
      "1/1 [==============================] - 0s 44ms/step\n"
     ]
    },
    {
     "name": "stderr",
     "output_type": "stream",
     "text": [
      "processing file 156 of 1000: gtzan_genre_country.00055"
     ]
    },
    {
     "name": "stdout",
     "output_type": "stream",
     "text": [
      "1/1 [==============================] - 0s 38ms/step\n"
     ]
    },
    {
     "name": "stderr",
     "output_type": "stream",
     "text": [
      "processing file 157 of 1000: gtzan_genre_country.00056"
     ]
    },
    {
     "name": "stdout",
     "output_type": "stream",
     "text": [
      "1/1 [==============================] - 0s 33ms/step\n"
     ]
    },
    {
     "name": "stderr",
     "output_type": "stream",
     "text": [
      "processing file 158 of 1000: gtzan_genre_country.00057"
     ]
    },
    {
     "name": "stdout",
     "output_type": "stream",
     "text": [
      "1/1 [==============================] - 0s 40ms/step\n"
     ]
    },
    {
     "name": "stderr",
     "output_type": "stream",
     "text": [
      "processing file 159 of 1000: gtzan_genre_country.00058"
     ]
    },
    {
     "name": "stdout",
     "output_type": "stream",
     "text": [
      "1/1 [==============================] - 0s 43ms/step\n"
     ]
    },
    {
     "name": "stderr",
     "output_type": "stream",
     "text": [
      "processing file 160 of 1000: gtzan_genre_country.00059"
     ]
    },
    {
     "name": "stdout",
     "output_type": "stream",
     "text": [
      "1/1 [==============================] - 0s 43ms/step\n"
     ]
    },
    {
     "name": "stderr",
     "output_type": "stream",
     "text": [
      "processing file 161 of 1000: gtzan_genre_country.00060"
     ]
    },
    {
     "name": "stdout",
     "output_type": "stream",
     "text": [
      "1/1 [==============================] - 0s 46ms/step\n"
     ]
    },
    {
     "name": "stderr",
     "output_type": "stream",
     "text": [
      "processing file 162 of 1000: gtzan_genre_country.00061"
     ]
    },
    {
     "name": "stdout",
     "output_type": "stream",
     "text": [
      "1/1 [==============================] - 0s 49ms/step\n"
     ]
    },
    {
     "name": "stderr",
     "output_type": "stream",
     "text": [
      "processing file 163 of 1000: gtzan_genre_country.00062"
     ]
    },
    {
     "name": "stdout",
     "output_type": "stream",
     "text": [
      "1/1 [==============================] - 0s 45ms/step\n"
     ]
    },
    {
     "name": "stderr",
     "output_type": "stream",
     "text": [
      "processing file 164 of 1000: gtzan_genre_country.00063"
     ]
    },
    {
     "name": "stdout",
     "output_type": "stream",
     "text": [
      "1/1 [==============================] - 0s 42ms/step\n"
     ]
    },
    {
     "name": "stderr",
     "output_type": "stream",
     "text": [
      "processing file 165 of 1000: gtzan_genre_country.00064"
     ]
    },
    {
     "name": "stdout",
     "output_type": "stream",
     "text": [
      "1/1 [==============================] - 0s 41ms/step\n"
     ]
    },
    {
     "name": "stderr",
     "output_type": "stream",
     "text": [
      "processing file 166 of 1000: gtzan_genre_country.00065"
     ]
    },
    {
     "name": "stdout",
     "output_type": "stream",
     "text": [
      "1/1 [==============================] - 0s 49ms/step\n"
     ]
    },
    {
     "name": "stderr",
     "output_type": "stream",
     "text": [
      "processing file 167 of 1000: gtzan_genre_country.00066"
     ]
    },
    {
     "name": "stdout",
     "output_type": "stream",
     "text": [
      "1/1 [==============================] - 0s 42ms/step\n"
     ]
    },
    {
     "name": "stderr",
     "output_type": "stream",
     "text": [
      "processing file 168 of 1000: gtzan_genre_country.00067"
     ]
    },
    {
     "name": "stdout",
     "output_type": "stream",
     "text": [
      "1/1 [==============================] - 0s 40ms/step\n"
     ]
    },
    {
     "name": "stderr",
     "output_type": "stream",
     "text": [
      "processing file 169 of 1000: gtzan_genre_country.00068"
     ]
    },
    {
     "name": "stdout",
     "output_type": "stream",
     "text": [
      "1/1 [==============================] - 0s 44ms/step\n"
     ]
    },
    {
     "name": "stderr",
     "output_type": "stream",
     "text": [
      "processing file 170 of 1000: gtzan_genre_country.00069"
     ]
    },
    {
     "name": "stdout",
     "output_type": "stream",
     "text": [
      "1/1 [==============================] - 0s 49ms/step\n"
     ]
    },
    {
     "name": "stderr",
     "output_type": "stream",
     "text": [
      "processing file 171 of 1000: gtzan_genre_country.00070"
     ]
    },
    {
     "name": "stdout",
     "output_type": "stream",
     "text": [
      "1/1 [==============================] - 0s 35ms/step\n"
     ]
    },
    {
     "name": "stderr",
     "output_type": "stream",
     "text": [
      "processing file 172 of 1000: gtzan_genre_country.00071"
     ]
    },
    {
     "name": "stdout",
     "output_type": "stream",
     "text": [
      "1/1 [==============================] - 0s 41ms/step\n"
     ]
    },
    {
     "name": "stderr",
     "output_type": "stream",
     "text": [
      "processing file 173 of 1000: gtzan_genre_country.00072"
     ]
    },
    {
     "name": "stdout",
     "output_type": "stream",
     "text": [
      "1/1 [==============================] - 0s 46ms/step\n"
     ]
    },
    {
     "name": "stderr",
     "output_type": "stream",
     "text": [
      "processing file 174 of 1000: gtzan_genre_country.00073"
     ]
    },
    {
     "name": "stdout",
     "output_type": "stream",
     "text": [
      "1/1 [==============================] - 0s 45ms/step\n"
     ]
    },
    {
     "name": "stderr",
     "output_type": "stream",
     "text": [
      "processing file 175 of 1000: gtzan_genre_country.00074"
     ]
    },
    {
     "name": "stdout",
     "output_type": "stream",
     "text": [
      "1/1 [==============================] - 0s 42ms/step\n"
     ]
    },
    {
     "name": "stderr",
     "output_type": "stream",
     "text": [
      "processing file 176 of 1000: gtzan_genre_country.00075"
     ]
    },
    {
     "name": "stdout",
     "output_type": "stream",
     "text": [
      "1/1 [==============================] - 0s 39ms/step\n"
     ]
    },
    {
     "name": "stderr",
     "output_type": "stream",
     "text": [
      "processing file 177 of 1000: gtzan_genre_country.00076"
     ]
    },
    {
     "name": "stdout",
     "output_type": "stream",
     "text": [
      "1/1 [==============================] - 0s 54ms/step\n"
     ]
    },
    {
     "name": "stderr",
     "output_type": "stream",
     "text": [
      "processing file 178 of 1000: gtzan_genre_country.00077"
     ]
    },
    {
     "name": "stdout",
     "output_type": "stream",
     "text": [
      "1/1 [==============================] - 0s 52ms/step\n"
     ]
    },
    {
     "name": "stderr",
     "output_type": "stream",
     "text": [
      "processing file 179 of 1000: gtzan_genre_country.00078"
     ]
    },
    {
     "name": "stdout",
     "output_type": "stream",
     "text": [
      "1/1 [==============================] - 0s 53ms/step\n"
     ]
    },
    {
     "name": "stderr",
     "output_type": "stream",
     "text": [
      "processing file 180 of 1000: gtzan_genre_country.00079"
     ]
    },
    {
     "name": "stdout",
     "output_type": "stream",
     "text": [
      "1/1 [==============================] - 0s 40ms/step\n"
     ]
    },
    {
     "name": "stderr",
     "output_type": "stream",
     "text": [
      "processing file 181 of 1000: gtzan_genre_country.00080"
     ]
    },
    {
     "name": "stdout",
     "output_type": "stream",
     "text": [
      "1/1 [==============================] - 0s 57ms/step\n"
     ]
    },
    {
     "name": "stderr",
     "output_type": "stream",
     "text": [
      "processing file 182 of 1000: gtzan_genre_country.00081"
     ]
    },
    {
     "name": "stdout",
     "output_type": "stream",
     "text": [
      "1/1 [==============================] - 0s 50ms/step\n"
     ]
    },
    {
     "name": "stderr",
     "output_type": "stream",
     "text": [
      "processing file 183 of 1000: gtzan_genre_country.00082"
     ]
    },
    {
     "name": "stdout",
     "output_type": "stream",
     "text": [
      "1/1 [==============================] - 0s 40ms/step\n"
     ]
    },
    {
     "name": "stderr",
     "output_type": "stream",
     "text": [
      "processing file 184 of 1000: gtzan_genre_country.00083"
     ]
    },
    {
     "name": "stdout",
     "output_type": "stream",
     "text": [
      "1/1 [==============================] - 0s 47ms/step\n"
     ]
    },
    {
     "name": "stderr",
     "output_type": "stream",
     "text": [
      "processing file 185 of 1000: gtzan_genre_country.00084"
     ]
    },
    {
     "name": "stdout",
     "output_type": "stream",
     "text": [
      "1/1 [==============================] - 0s 27ms/step\n"
     ]
    },
    {
     "name": "stderr",
     "output_type": "stream",
     "text": [
      "processing file 186 of 1000: gtzan_genre_country.00085"
     ]
    },
    {
     "name": "stdout",
     "output_type": "stream",
     "text": [
      "1/1 [==============================] - 0s 58ms/step\n"
     ]
    },
    {
     "name": "stderr",
     "output_type": "stream",
     "text": [
      "processing file 187 of 1000: gtzan_genre_country.00086"
     ]
    },
    {
     "name": "stdout",
     "output_type": "stream",
     "text": [
      "1/1 [==============================] - 0s 46ms/step\n"
     ]
    },
    {
     "name": "stderr",
     "output_type": "stream",
     "text": [
      "processing file 188 of 1000: gtzan_genre_country.00087"
     ]
    },
    {
     "name": "stdout",
     "output_type": "stream",
     "text": [
      "1/1 [==============================] - 0s 36ms/step\n"
     ]
    },
    {
     "name": "stderr",
     "output_type": "stream",
     "text": [
      "processing file 189 of 1000: gtzan_genre_country.00088"
     ]
    },
    {
     "name": "stdout",
     "output_type": "stream",
     "text": [
      "1/1 [==============================] - 0s 29ms/step\n"
     ]
    },
    {
     "name": "stderr",
     "output_type": "stream",
     "text": [
      "processing file 190 of 1000: gtzan_genre_country.00089"
     ]
    },
    {
     "name": "stdout",
     "output_type": "stream",
     "text": [
      "1/1 [==============================] - 0s 31ms/step\n"
     ]
    },
    {
     "name": "stderr",
     "output_type": "stream",
     "text": [
      "processing file 191 of 1000: gtzan_genre_country.00090"
     ]
    },
    {
     "name": "stdout",
     "output_type": "stream",
     "text": [
      "1/1 [==============================] - 0s 35ms/step\n"
     ]
    },
    {
     "name": "stderr",
     "output_type": "stream",
     "text": [
      "processing file 192 of 1000: gtzan_genre_country.00091"
     ]
    },
    {
     "name": "stdout",
     "output_type": "stream",
     "text": [
      "1/1 [==============================] - 0s 40ms/step\n"
     ]
    },
    {
     "name": "stderr",
     "output_type": "stream",
     "text": [
      "processing file 193 of 1000: gtzan_genre_country.00092"
     ]
    },
    {
     "name": "stdout",
     "output_type": "stream",
     "text": [
      "1/1 [==============================] - 0s 34ms/step\n"
     ]
    },
    {
     "name": "stderr",
     "output_type": "stream",
     "text": [
      "processing file 194 of 1000: gtzan_genre_country.00093"
     ]
    },
    {
     "name": "stdout",
     "output_type": "stream",
     "text": [
      "1/1 [==============================] - 0s 40ms/step\n"
     ]
    },
    {
     "name": "stderr",
     "output_type": "stream",
     "text": [
      "processing file 195 of 1000: gtzan_genre_country.00094"
     ]
    },
    {
     "name": "stdout",
     "output_type": "stream",
     "text": [
      "1/1 [==============================] - 0s 45ms/step\n"
     ]
    },
    {
     "name": "stderr",
     "output_type": "stream",
     "text": [
      "processing file 196 of 1000: gtzan_genre_country.00095"
     ]
    },
    {
     "name": "stdout",
     "output_type": "stream",
     "text": [
      "1/1 [==============================] - 0s 55ms/step\n"
     ]
    },
    {
     "name": "stderr",
     "output_type": "stream",
     "text": [
      "processing file 197 of 1000: gtzan_genre_country.00096"
     ]
    },
    {
     "name": "stdout",
     "output_type": "stream",
     "text": [
      "1/1 [==============================] - 0s 42ms/step\n"
     ]
    },
    {
     "name": "stderr",
     "output_type": "stream",
     "text": [
      "processing file 198 of 1000: gtzan_genre_country.00097"
     ]
    },
    {
     "name": "stdout",
     "output_type": "stream",
     "text": [
      "1/1 [==============================] - 0s 42ms/step\n"
     ]
    },
    {
     "name": "stderr",
     "output_type": "stream",
     "text": [
      "processing file 199 of 1000: gtzan_genre_country.00098"
     ]
    },
    {
     "name": "stdout",
     "output_type": "stream",
     "text": [
      "1/1 [==============================] - 0s 41ms/step\n"
     ]
    },
    {
     "name": "stderr",
     "output_type": "stream",
     "text": [
      "processing file 200 of 1000: gtzan_genre_country.00099"
     ]
    },
    {
     "name": "stdout",
     "output_type": "stream",
     "text": [
      "1/1 [==============================] - 0s 58ms/step\n"
     ]
    },
    {
     "name": "stderr",
     "output_type": "stream",
     "text": [
      "processing file 201 of 1000: gtzan_genre_disco.00000"
     ]
    },
    {
     "name": "stdout",
     "output_type": "stream",
     "text": [
      "1/1 [==============================] - 0s 45ms/step\n"
     ]
    },
    {
     "name": "stderr",
     "output_type": "stream",
     "text": [
      "processing file 202 of 1000: gtzan_genre_disco.00001"
     ]
    },
    {
     "name": "stdout",
     "output_type": "stream",
     "text": [
      "1/1 [==============================] - 0s 48ms/step\n"
     ]
    },
    {
     "name": "stderr",
     "output_type": "stream",
     "text": [
      "processing file 203 of 1000: gtzan_genre_disco.00002"
     ]
    },
    {
     "name": "stdout",
     "output_type": "stream",
     "text": [
      "1/1 [==============================] - 0s 49ms/step\n"
     ]
    },
    {
     "name": "stderr",
     "output_type": "stream",
     "text": [
      "processing file 204 of 1000: gtzan_genre_disco.00003"
     ]
    },
    {
     "name": "stdout",
     "output_type": "stream",
     "text": [
      "1/1 [==============================] - 0s 42ms/step\n"
     ]
    },
    {
     "name": "stderr",
     "output_type": "stream",
     "text": [
      "processing file 205 of 1000: gtzan_genre_disco.00004"
     ]
    },
    {
     "name": "stdout",
     "output_type": "stream",
     "text": [
      "1/1 [==============================] - 0s 42ms/step\n"
     ]
    },
    {
     "name": "stderr",
     "output_type": "stream",
     "text": [
      "processing file 206 of 1000: gtzan_genre_disco.00005"
     ]
    },
    {
     "name": "stdout",
     "output_type": "stream",
     "text": [
      "1/1 [==============================] - 0s 35ms/step\n"
     ]
    },
    {
     "name": "stderr",
     "output_type": "stream",
     "text": [
      "processing file 207 of 1000: gtzan_genre_disco.00006"
     ]
    },
    {
     "name": "stdout",
     "output_type": "stream",
     "text": [
      "1/1 [==============================] - 0s 42ms/step\n"
     ]
    },
    {
     "name": "stderr",
     "output_type": "stream",
     "text": [
      "processing file 208 of 1000: gtzan_genre_disco.00007"
     ]
    },
    {
     "name": "stdout",
     "output_type": "stream",
     "text": [
      "1/1 [==============================] - 0s 35ms/step\n"
     ]
    },
    {
     "name": "stderr",
     "output_type": "stream",
     "text": [
      "processing file 209 of 1000: gtzan_genre_disco.00008"
     ]
    },
    {
     "name": "stdout",
     "output_type": "stream",
     "text": [
      "1/1 [==============================] - 0s 37ms/step\n"
     ]
    },
    {
     "name": "stderr",
     "output_type": "stream",
     "text": [
      "processing file 210 of 1000: gtzan_genre_disco.00009"
     ]
    },
    {
     "name": "stdout",
     "output_type": "stream",
     "text": [
      "1/1 [==============================] - 0s 42ms/step\n"
     ]
    },
    {
     "name": "stderr",
     "output_type": "stream",
     "text": [
      "processing file 211 of 1000: gtzan_genre_disco.00010"
     ]
    },
    {
     "name": "stdout",
     "output_type": "stream",
     "text": [
      "1/1 [==============================] - 0s 44ms/step\n"
     ]
    },
    {
     "name": "stderr",
     "output_type": "stream",
     "text": [
      "processing file 212 of 1000: gtzan_genre_disco.00011"
     ]
    },
    {
     "name": "stdout",
     "output_type": "stream",
     "text": [
      "1/1 [==============================] - 0s 57ms/step\n"
     ]
    },
    {
     "name": "stderr",
     "output_type": "stream",
     "text": [
      "processing file 213 of 1000: gtzan_genre_disco.00012"
     ]
    },
    {
     "name": "stdout",
     "output_type": "stream",
     "text": [
      "1/1 [==============================] - 0s 47ms/step\n"
     ]
    },
    {
     "name": "stderr",
     "output_type": "stream",
     "text": [
      "processing file 214 of 1000: gtzan_genre_disco.00013"
     ]
    },
    {
     "name": "stdout",
     "output_type": "stream",
     "text": [
      "1/1 [==============================] - 0s 58ms/step\n"
     ]
    },
    {
     "name": "stderr",
     "output_type": "stream",
     "text": [
      "processing file 215 of 1000: gtzan_genre_disco.00014"
     ]
    },
    {
     "name": "stdout",
     "output_type": "stream",
     "text": [
      "1/1 [==============================] - 0s 47ms/step\n"
     ]
    },
    {
     "name": "stderr",
     "output_type": "stream",
     "text": [
      "processing file 216 of 1000: gtzan_genre_disco.00015"
     ]
    },
    {
     "name": "stdout",
     "output_type": "stream",
     "text": [
      "1/1 [==============================] - 0s 41ms/step\n"
     ]
    },
    {
     "name": "stderr",
     "output_type": "stream",
     "text": [
      "processing file 217 of 1000: gtzan_genre_disco.00016"
     ]
    },
    {
     "name": "stdout",
     "output_type": "stream",
     "text": [
      "1/1 [==============================] - 0s 44ms/step\n"
     ]
    },
    {
     "name": "stderr",
     "output_type": "stream",
     "text": [
      "processing file 218 of 1000: gtzan_genre_disco.00017"
     ]
    },
    {
     "name": "stdout",
     "output_type": "stream",
     "text": [
      "1/1 [==============================] - 0s 46ms/step\n"
     ]
    },
    {
     "name": "stderr",
     "output_type": "stream",
     "text": [
      "processing file 219 of 1000: gtzan_genre_disco.00018"
     ]
    },
    {
     "name": "stdout",
     "output_type": "stream",
     "text": [
      "1/1 [==============================] - 0s 42ms/step\n"
     ]
    },
    {
     "name": "stderr",
     "output_type": "stream",
     "text": [
      "processing file 220 of 1000: gtzan_genre_disco.00019"
     ]
    },
    {
     "name": "stdout",
     "output_type": "stream",
     "text": [
      "1/1 [==============================] - 0s 46ms/step\n"
     ]
    },
    {
     "name": "stderr",
     "output_type": "stream",
     "text": [
      "processing file 221 of 1000: gtzan_genre_disco.00020"
     ]
    },
    {
     "name": "stdout",
     "output_type": "stream",
     "text": [
      "1/1 [==============================] - 0s 46ms/step\n"
     ]
    },
    {
     "name": "stderr",
     "output_type": "stream",
     "text": [
      "processing file 222 of 1000: gtzan_genre_disco.00021"
     ]
    },
    {
     "name": "stdout",
     "output_type": "stream",
     "text": [
      "1/1 [==============================] - 0s 51ms/step\n"
     ]
    },
    {
     "name": "stderr",
     "output_type": "stream",
     "text": [
      "processing file 223 of 1000: gtzan_genre_disco.00022"
     ]
    },
    {
     "name": "stdout",
     "output_type": "stream",
     "text": [
      "1/1 [==============================] - 0s 39ms/step\n"
     ]
    },
    {
     "name": "stderr",
     "output_type": "stream",
     "text": [
      "processing file 224 of 1000: gtzan_genre_disco.00023"
     ]
    },
    {
     "name": "stdout",
     "output_type": "stream",
     "text": [
      "1/1 [==============================] - 0s 52ms/step\n"
     ]
    },
    {
     "name": "stderr",
     "output_type": "stream",
     "text": [
      "processing file 225 of 1000: gtzan_genre_disco.00024"
     ]
    },
    {
     "name": "stdout",
     "output_type": "stream",
     "text": [
      "1/1 [==============================] - 0s 46ms/step\n"
     ]
    },
    {
     "name": "stderr",
     "output_type": "stream",
     "text": [
      "processing file 226 of 1000: gtzan_genre_disco.00025"
     ]
    },
    {
     "name": "stdout",
     "output_type": "stream",
     "text": [
      "1/1 [==============================] - 0s 56ms/step\n"
     ]
    },
    {
     "name": "stderr",
     "output_type": "stream",
     "text": [
      "processing file 227 of 1000: gtzan_genre_disco.00026"
     ]
    },
    {
     "name": "stdout",
     "output_type": "stream",
     "text": [
      "1/1 [==============================] - 0s 58ms/step\n"
     ]
    },
    {
     "name": "stderr",
     "output_type": "stream",
     "text": [
      "processing file 228 of 1000: gtzan_genre_disco.00027"
     ]
    },
    {
     "name": "stdout",
     "output_type": "stream",
     "text": [
      "1/1 [==============================] - 0s 51ms/step\n"
     ]
    },
    {
     "name": "stderr",
     "output_type": "stream",
     "text": [
      "processing file 229 of 1000: gtzan_genre_disco.00028"
     ]
    },
    {
     "name": "stdout",
     "output_type": "stream",
     "text": [
      "1/1 [==============================] - 0s 46ms/step\n"
     ]
    },
    {
     "name": "stderr",
     "output_type": "stream",
     "text": [
      "processing file 230 of 1000: gtzan_genre_disco.00029"
     ]
    },
    {
     "name": "stdout",
     "output_type": "stream",
     "text": [
      "1/1 [==============================] - 0s 41ms/step\n"
     ]
    },
    {
     "name": "stderr",
     "output_type": "stream",
     "text": [
      "processing file 231 of 1000: gtzan_genre_disco.00030"
     ]
    },
    {
     "name": "stdout",
     "output_type": "stream",
     "text": [
      "1/1 [==============================] - 0s 53ms/step\n"
     ]
    },
    {
     "name": "stderr",
     "output_type": "stream",
     "text": [
      "processing file 232 of 1000: gtzan_genre_disco.00031"
     ]
    },
    {
     "name": "stdout",
     "output_type": "stream",
     "text": [
      "1/1 [==============================] - 0s 42ms/step\n"
     ]
    },
    {
     "name": "stderr",
     "output_type": "stream",
     "text": [
      "processing file 233 of 1000: gtzan_genre_disco.00032"
     ]
    },
    {
     "name": "stdout",
     "output_type": "stream",
     "text": [
      "1/1 [==============================] - 0s 43ms/step\n"
     ]
    },
    {
     "name": "stderr",
     "output_type": "stream",
     "text": [
      "processing file 234 of 1000: gtzan_genre_disco.00033"
     ]
    },
    {
     "name": "stdout",
     "output_type": "stream",
     "text": [
      "1/1 [==============================] - 0s 44ms/step\n"
     ]
    },
    {
     "name": "stderr",
     "output_type": "stream",
     "text": [
      "processing file 235 of 1000: gtzan_genre_disco.00034"
     ]
    },
    {
     "name": "stdout",
     "output_type": "stream",
     "text": [
      "1/1 [==============================] - 0s 38ms/step\n"
     ]
    },
    {
     "name": "stderr",
     "output_type": "stream",
     "text": [
      "processing file 236 of 1000: gtzan_genre_disco.00035"
     ]
    },
    {
     "name": "stdout",
     "output_type": "stream",
     "text": [
      "1/1 [==============================] - 0s 53ms/step\n"
     ]
    },
    {
     "name": "stderr",
     "output_type": "stream",
     "text": [
      "processing file 237 of 1000: gtzan_genre_disco.00036"
     ]
    },
    {
     "name": "stdout",
     "output_type": "stream",
     "text": [
      "1/1 [==============================] - 0s 44ms/step\n"
     ]
    },
    {
     "name": "stderr",
     "output_type": "stream",
     "text": [
      "processing file 238 of 1000: gtzan_genre_disco.00037"
     ]
    },
    {
     "name": "stdout",
     "output_type": "stream",
     "text": [
      "1/1 [==============================] - 0s 41ms/step\n"
     ]
    },
    {
     "name": "stderr",
     "output_type": "stream",
     "text": [
      "processing file 239 of 1000: gtzan_genre_disco.00038"
     ]
    },
    {
     "name": "stdout",
     "output_type": "stream",
     "text": [
      "1/1 [==============================] - 0s 43ms/step\n"
     ]
    },
    {
     "name": "stderr",
     "output_type": "stream",
     "text": [
      "processing file 240 of 1000: gtzan_genre_disco.00039"
     ]
    },
    {
     "name": "stdout",
     "output_type": "stream",
     "text": [
      "1/1 [==============================] - 0s 36ms/step\n"
     ]
    },
    {
     "name": "stderr",
     "output_type": "stream",
     "text": [
      "processing file 241 of 1000: gtzan_genre_disco.00040"
     ]
    },
    {
     "name": "stdout",
     "output_type": "stream",
     "text": [
      "1/1 [==============================] - 0s 44ms/step\n"
     ]
    },
    {
     "name": "stderr",
     "output_type": "stream",
     "text": [
      "processing file 242 of 1000: gtzan_genre_disco.00041"
     ]
    },
    {
     "name": "stdout",
     "output_type": "stream",
     "text": [
      "1/1 [==============================] - 0s 43ms/step\n"
     ]
    },
    {
     "name": "stderr",
     "output_type": "stream",
     "text": [
      "processing file 243 of 1000: gtzan_genre_disco.00042"
     ]
    },
    {
     "name": "stdout",
     "output_type": "stream",
     "text": [
      "1/1 [==============================] - 0s 54ms/step\n"
     ]
    },
    {
     "name": "stderr",
     "output_type": "stream",
     "text": [
      "processing file 244 of 1000: gtzan_genre_disco.00043"
     ]
    },
    {
     "name": "stdout",
     "output_type": "stream",
     "text": [
      "1/1 [==============================] - 0s 56ms/step\n"
     ]
    },
    {
     "name": "stderr",
     "output_type": "stream",
     "text": [
      "processing file 245 of 1000: gtzan_genre_disco.00044"
     ]
    },
    {
     "name": "stdout",
     "output_type": "stream",
     "text": [
      "1/1 [==============================] - 0s 38ms/step\n"
     ]
    },
    {
     "name": "stderr",
     "output_type": "stream",
     "text": [
      "processing file 246 of 1000: gtzan_genre_disco.00045"
     ]
    },
    {
     "name": "stdout",
     "output_type": "stream",
     "text": [
      "1/1 [==============================] - 0s 40ms/step\n"
     ]
    },
    {
     "name": "stderr",
     "output_type": "stream",
     "text": [
      "processing file 247 of 1000: gtzan_genre_disco.00046"
     ]
    },
    {
     "name": "stdout",
     "output_type": "stream",
     "text": [
      "1/1 [==============================] - 0s 46ms/step\n"
     ]
    },
    {
     "name": "stderr",
     "output_type": "stream",
     "text": [
      "processing file 248 of 1000: gtzan_genre_disco.00047"
     ]
    },
    {
     "name": "stdout",
     "output_type": "stream",
     "text": [
      "1/1 [==============================] - 0s 42ms/step\n"
     ]
    },
    {
     "name": "stderr",
     "output_type": "stream",
     "text": [
      "processing file 249 of 1000: gtzan_genre_disco.00048"
     ]
    },
    {
     "name": "stdout",
     "output_type": "stream",
     "text": [
      "1/1 [==============================] - 0s 53ms/step\n"
     ]
    },
    {
     "name": "stderr",
     "output_type": "stream",
     "text": [
      "processing file 250 of 1000: gtzan_genre_disco.00049"
     ]
    },
    {
     "name": "stdout",
     "output_type": "stream",
     "text": [
      "1/1 [==============================] - 0s 45ms/step\n"
     ]
    },
    {
     "name": "stderr",
     "output_type": "stream",
     "text": [
      "processing file 251 of 1000: gtzan_genre_disco.00050"
     ]
    },
    {
     "name": "stdout",
     "output_type": "stream",
     "text": [
      "1/1 [==============================] - 0s 37ms/step\n"
     ]
    },
    {
     "name": "stderr",
     "output_type": "stream",
     "text": [
      "processing file 252 of 1000: gtzan_genre_disco.00051"
     ]
    },
    {
     "name": "stdout",
     "output_type": "stream",
     "text": [
      "1/1 [==============================] - 0s 41ms/step\n"
     ]
    },
    {
     "name": "stderr",
     "output_type": "stream",
     "text": [
      "processing file 253 of 1000: gtzan_genre_disco.00052"
     ]
    },
    {
     "name": "stdout",
     "output_type": "stream",
     "text": [
      "1/1 [==============================] - 0s 32ms/step\n"
     ]
    },
    {
     "name": "stderr",
     "output_type": "stream",
     "text": [
      "processing file 254 of 1000: gtzan_genre_disco.00053"
     ]
    },
    {
     "name": "stdout",
     "output_type": "stream",
     "text": [
      "1/1 [==============================] - 0s 36ms/step\n"
     ]
    },
    {
     "name": "stderr",
     "output_type": "stream",
     "text": [
      "processing file 255 of 1000: gtzan_genre_disco.00054"
     ]
    },
    {
     "name": "stdout",
     "output_type": "stream",
     "text": [
      "1/1 [==============================] - 0s 47ms/step\n"
     ]
    },
    {
     "name": "stderr",
     "output_type": "stream",
     "text": [
      "processing file 256 of 1000: gtzan_genre_disco.00055"
     ]
    },
    {
     "name": "stdout",
     "output_type": "stream",
     "text": [
      "1/1 [==============================] - 0s 52ms/step\n"
     ]
    },
    {
     "name": "stderr",
     "output_type": "stream",
     "text": [
      "processing file 257 of 1000: gtzan_genre_disco.00056"
     ]
    },
    {
     "name": "stdout",
     "output_type": "stream",
     "text": [
      "1/1 [==============================] - 0s 47ms/step\n"
     ]
    },
    {
     "name": "stderr",
     "output_type": "stream",
     "text": [
      "processing file 258 of 1000: gtzan_genre_disco.00057"
     ]
    },
    {
     "name": "stdout",
     "output_type": "stream",
     "text": [
      "1/1 [==============================] - 0s 46ms/step\n"
     ]
    },
    {
     "name": "stderr",
     "output_type": "stream",
     "text": [
      "processing file 259 of 1000: gtzan_genre_disco.00058"
     ]
    },
    {
     "name": "stdout",
     "output_type": "stream",
     "text": [
      "1/1 [==============================] - 0s 45ms/step\n"
     ]
    },
    {
     "name": "stderr",
     "output_type": "stream",
     "text": [
      "processing file 260 of 1000: gtzan_genre_disco.00059"
     ]
    },
    {
     "name": "stdout",
     "output_type": "stream",
     "text": [
      "1/1 [==============================] - 0s 45ms/step\n"
     ]
    },
    {
     "name": "stderr",
     "output_type": "stream",
     "text": [
      "processing file 261 of 1000: gtzan_genre_disco.00060"
     ]
    },
    {
     "name": "stdout",
     "output_type": "stream",
     "text": [
      "1/1 [==============================] - 0s 47ms/step\n"
     ]
    },
    {
     "name": "stderr",
     "output_type": "stream",
     "text": [
      "processing file 262 of 1000: gtzan_genre_disco.00061"
     ]
    },
    {
     "name": "stdout",
     "output_type": "stream",
     "text": [
      "1/1 [==============================] - 0s 45ms/step\n"
     ]
    },
    {
     "name": "stderr",
     "output_type": "stream",
     "text": [
      "processing file 263 of 1000: gtzan_genre_disco.00062"
     ]
    },
    {
     "name": "stdout",
     "output_type": "stream",
     "text": [
      "1/1 [==============================] - 0s 40ms/step\n"
     ]
    },
    {
     "name": "stderr",
     "output_type": "stream",
     "text": [
      "processing file 264 of 1000: gtzan_genre_disco.00063"
     ]
    },
    {
     "name": "stdout",
     "output_type": "stream",
     "text": [
      "1/1 [==============================] - 0s 46ms/step\n"
     ]
    },
    {
     "name": "stderr",
     "output_type": "stream",
     "text": [
      "processing file 265 of 1000: gtzan_genre_disco.00064"
     ]
    },
    {
     "name": "stdout",
     "output_type": "stream",
     "text": [
      "1/1 [==============================] - 0s 38ms/step\n"
     ]
    },
    {
     "name": "stderr",
     "output_type": "stream",
     "text": [
      "processing file 266 of 1000: gtzan_genre_disco.00065"
     ]
    },
    {
     "name": "stdout",
     "output_type": "stream",
     "text": [
      "1/1 [==============================] - 0s 45ms/step\n"
     ]
    },
    {
     "name": "stderr",
     "output_type": "stream",
     "text": [
      "processing file 267 of 1000: gtzan_genre_disco.00066"
     ]
    },
    {
     "name": "stdout",
     "output_type": "stream",
     "text": [
      "1/1 [==============================] - 0s 50ms/step\n"
     ]
    },
    {
     "name": "stderr",
     "output_type": "stream",
     "text": [
      "processing file 268 of 1000: gtzan_genre_disco.00067"
     ]
    },
    {
     "name": "stdout",
     "output_type": "stream",
     "text": [
      "1/1 [==============================] - 0s 45ms/step\n"
     ]
    },
    {
     "name": "stderr",
     "output_type": "stream",
     "text": [
      "processing file 269 of 1000: gtzan_genre_disco.00068"
     ]
    },
    {
     "name": "stdout",
     "output_type": "stream",
     "text": [
      "1/1 [==============================] - 0s 38ms/step\n"
     ]
    },
    {
     "name": "stderr",
     "output_type": "stream",
     "text": [
      "processing file 270 of 1000: gtzan_genre_disco.00069"
     ]
    },
    {
     "name": "stdout",
     "output_type": "stream",
     "text": [
      "1/1 [==============================] - 0s 39ms/step\n"
     ]
    },
    {
     "name": "stderr",
     "output_type": "stream",
     "text": [
      "processing file 271 of 1000: gtzan_genre_disco.00070"
     ]
    },
    {
     "name": "stdout",
     "output_type": "stream",
     "text": [
      "1/1 [==============================] - 0s 40ms/step\n"
     ]
    },
    {
     "name": "stderr",
     "output_type": "stream",
     "text": [
      "processing file 272 of 1000: gtzan_genre_disco.00071"
     ]
    },
    {
     "name": "stdout",
     "output_type": "stream",
     "text": [
      "1/1 [==============================] - 0s 40ms/step\n"
     ]
    },
    {
     "name": "stderr",
     "output_type": "stream",
     "text": [
      "processing file 273 of 1000: gtzan_genre_disco.00072"
     ]
    },
    {
     "name": "stdout",
     "output_type": "stream",
     "text": [
      "1/1 [==============================] - 0s 48ms/step\n"
     ]
    },
    {
     "name": "stderr",
     "output_type": "stream",
     "text": [
      "processing file 274 of 1000: gtzan_genre_disco.00073"
     ]
    },
    {
     "name": "stdout",
     "output_type": "stream",
     "text": [
      "1/1 [==============================] - 0s 40ms/step\n"
     ]
    },
    {
     "name": "stderr",
     "output_type": "stream",
     "text": [
      "processing file 275 of 1000: gtzan_genre_disco.00074"
     ]
    },
    {
     "name": "stdout",
     "output_type": "stream",
     "text": [
      "1/1 [==============================] - 0s 40ms/step\n"
     ]
    },
    {
     "name": "stderr",
     "output_type": "stream",
     "text": [
      "processing file 276 of 1000: gtzan_genre_disco.00075"
     ]
    },
    {
     "name": "stdout",
     "output_type": "stream",
     "text": [
      "1/1 [==============================] - 0s 44ms/step\n"
     ]
    },
    {
     "name": "stderr",
     "output_type": "stream",
     "text": [
      "processing file 277 of 1000: gtzan_genre_disco.00076"
     ]
    },
    {
     "name": "stdout",
     "output_type": "stream",
     "text": [
      "1/1 [==============================] - 0s 44ms/step\n"
     ]
    },
    {
     "name": "stderr",
     "output_type": "stream",
     "text": [
      "processing file 278 of 1000: gtzan_genre_disco.00077"
     ]
    },
    {
     "name": "stdout",
     "output_type": "stream",
     "text": [
      "1/1 [==============================] - 0s 37ms/step\n"
     ]
    },
    {
     "name": "stderr",
     "output_type": "stream",
     "text": [
      "processing file 279 of 1000: gtzan_genre_disco.00078"
     ]
    },
    {
     "name": "stdout",
     "output_type": "stream",
     "text": [
      "1/1 [==============================] - 0s 39ms/step\n"
     ]
    },
    {
     "name": "stderr",
     "output_type": "stream",
     "text": [
      "processing file 280 of 1000: gtzan_genre_disco.00079"
     ]
    },
    {
     "name": "stdout",
     "output_type": "stream",
     "text": [
      "1/1 [==============================] - 0s 40ms/step\n"
     ]
    },
    {
     "name": "stderr",
     "output_type": "stream",
     "text": [
      "processing file 281 of 1000: gtzan_genre_disco.00080"
     ]
    },
    {
     "name": "stdout",
     "output_type": "stream",
     "text": [
      "1/1 [==============================] - 0s 45ms/step\n"
     ]
    },
    {
     "name": "stderr",
     "output_type": "stream",
     "text": [
      "processing file 282 of 1000: gtzan_genre_disco.00081"
     ]
    },
    {
     "name": "stdout",
     "output_type": "stream",
     "text": [
      "1/1 [==============================] - 0s 45ms/step\n"
     ]
    },
    {
     "name": "stderr",
     "output_type": "stream",
     "text": [
      "processing file 283 of 1000: gtzan_genre_disco.00082"
     ]
    },
    {
     "name": "stdout",
     "output_type": "stream",
     "text": [
      "1/1 [==============================] - 0s 43ms/step\n"
     ]
    },
    {
     "name": "stderr",
     "output_type": "stream",
     "text": [
      "processing file 284 of 1000: gtzan_genre_disco.00083"
     ]
    },
    {
     "name": "stdout",
     "output_type": "stream",
     "text": [
      "1/1 [==============================] - 0s 40ms/step\n"
     ]
    },
    {
     "name": "stderr",
     "output_type": "stream",
     "text": [
      "processing file 285 of 1000: gtzan_genre_disco.00084"
     ]
    },
    {
     "name": "stdout",
     "output_type": "stream",
     "text": [
      "1/1 [==============================] - 0s 45ms/step\n"
     ]
    },
    {
     "name": "stderr",
     "output_type": "stream",
     "text": [
      "processing file 286 of 1000: gtzan_genre_disco.00085"
     ]
    },
    {
     "name": "stdout",
     "output_type": "stream",
     "text": [
      "1/1 [==============================] - 0s 45ms/step\n"
     ]
    },
    {
     "name": "stderr",
     "output_type": "stream",
     "text": [
      "processing file 287 of 1000: gtzan_genre_disco.00086"
     ]
    },
    {
     "name": "stdout",
     "output_type": "stream",
     "text": [
      "1/1 [==============================] - 0s 44ms/step\n"
     ]
    },
    {
     "name": "stderr",
     "output_type": "stream",
     "text": [
      "processing file 288 of 1000: gtzan_genre_disco.00087"
     ]
    },
    {
     "name": "stdout",
     "output_type": "stream",
     "text": [
      "1/1 [==============================] - 0s 40ms/step\n"
     ]
    },
    {
     "name": "stderr",
     "output_type": "stream",
     "text": [
      "processing file 289 of 1000: gtzan_genre_disco.00088"
     ]
    },
    {
     "name": "stdout",
     "output_type": "stream",
     "text": [
      "1/1 [==============================] - 0s 45ms/step\n"
     ]
    },
    {
     "name": "stderr",
     "output_type": "stream",
     "text": [
      "processing file 290 of 1000: gtzan_genre_disco.00089"
     ]
    },
    {
     "name": "stdout",
     "output_type": "stream",
     "text": [
      "1/1 [==============================] - 0s 46ms/step\n"
     ]
    },
    {
     "name": "stderr",
     "output_type": "stream",
     "text": [
      "processing file 291 of 1000: gtzan_genre_disco.00090"
     ]
    },
    {
     "name": "stdout",
     "output_type": "stream",
     "text": [
      "1/1 [==============================] - 0s 41ms/step\n"
     ]
    },
    {
     "name": "stderr",
     "output_type": "stream",
     "text": [
      "processing file 292 of 1000: gtzan_genre_disco.00091"
     ]
    },
    {
     "name": "stdout",
     "output_type": "stream",
     "text": [
      "1/1 [==============================] - 0s 35ms/step\n"
     ]
    },
    {
     "name": "stderr",
     "output_type": "stream",
     "text": [
      "processing file 293 of 1000: gtzan_genre_disco.00092"
     ]
    },
    {
     "name": "stdout",
     "output_type": "stream",
     "text": [
      "1/1 [==============================] - 0s 40ms/step\n"
     ]
    },
    {
     "name": "stderr",
     "output_type": "stream",
     "text": [
      "processing file 294 of 1000: gtzan_genre_disco.00093"
     ]
    },
    {
     "name": "stdout",
     "output_type": "stream",
     "text": [
      "1/1 [==============================] - 0s 35ms/step\n"
     ]
    },
    {
     "name": "stderr",
     "output_type": "stream",
     "text": [
      "processing file 295 of 1000: gtzan_genre_disco.00094"
     ]
    },
    {
     "name": "stdout",
     "output_type": "stream",
     "text": [
      "1/1 [==============================] - 0s 45ms/step\n"
     ]
    },
    {
     "name": "stderr",
     "output_type": "stream",
     "text": [
      "processing file 296 of 1000: gtzan_genre_disco.00095"
     ]
    },
    {
     "name": "stdout",
     "output_type": "stream",
     "text": [
      "1/1 [==============================] - 0s 44ms/step\n"
     ]
    },
    {
     "name": "stderr",
     "output_type": "stream",
     "text": [
      "processing file 297 of 1000: gtzan_genre_disco.00096"
     ]
    },
    {
     "name": "stdout",
     "output_type": "stream",
     "text": [
      "1/1 [==============================] - 0s 40ms/step\n"
     ]
    },
    {
     "name": "stderr",
     "output_type": "stream",
     "text": [
      "processing file 298 of 1000: gtzan_genre_disco.00097"
     ]
    },
    {
     "name": "stdout",
     "output_type": "stream",
     "text": [
      "1/1 [==============================] - 0s 43ms/step\n"
     ]
    },
    {
     "name": "stderr",
     "output_type": "stream",
     "text": [
      "processing file 299 of 1000: gtzan_genre_disco.00098"
     ]
    },
    {
     "name": "stdout",
     "output_type": "stream",
     "text": [
      "1/1 [==============================] - 0s 36ms/step\n"
     ]
    },
    {
     "name": "stderr",
     "output_type": "stream",
     "text": [
      "processing file 300 of 1000: gtzan_genre_disco.00099"
     ]
    },
    {
     "name": "stdout",
     "output_type": "stream",
     "text": [
      "1/1 [==============================] - 0s 43ms/step\n"
     ]
    },
    {
     "name": "stderr",
     "output_type": "stream",
     "text": [
      "processing file 301 of 1000: gtzan_genre_hiphop.00000"
     ]
    },
    {
     "name": "stdout",
     "output_type": "stream",
     "text": [
      "1/1 [==============================] - 0s 42ms/step\n"
     ]
    },
    {
     "name": "stderr",
     "output_type": "stream",
     "text": [
      "processing file 302 of 1000: gtzan_genre_hiphop.00001"
     ]
    },
    {
     "name": "stdout",
     "output_type": "stream",
     "text": [
      "1/1 [==============================] - 0s 40ms/step\n"
     ]
    },
    {
     "name": "stderr",
     "output_type": "stream",
     "text": [
      "processing file 303 of 1000: gtzan_genre_hiphop.00002"
     ]
    },
    {
     "name": "stdout",
     "output_type": "stream",
     "text": [
      "1/1 [==============================] - 0s 37ms/step\n"
     ]
    },
    {
     "name": "stderr",
     "output_type": "stream",
     "text": [
      "processing file 304 of 1000: gtzan_genre_hiphop.00003"
     ]
    },
    {
     "name": "stdout",
     "output_type": "stream",
     "text": [
      "1/1 [==============================] - 0s 39ms/step\n"
     ]
    },
    {
     "name": "stderr",
     "output_type": "stream",
     "text": [
      "processing file 305 of 1000: gtzan_genre_hiphop.00004"
     ]
    },
    {
     "name": "stdout",
     "output_type": "stream",
     "text": [
      "1/1 [==============================] - 0s 40ms/step\n"
     ]
    },
    {
     "name": "stderr",
     "output_type": "stream",
     "text": [
      "processing file 306 of 1000: gtzan_genre_hiphop.00005"
     ]
    },
    {
     "name": "stdout",
     "output_type": "stream",
     "text": [
      "1/1 [==============================] - 0s 35ms/step\n"
     ]
    },
    {
     "name": "stderr",
     "output_type": "stream",
     "text": [
      "processing file 307 of 1000: gtzan_genre_hiphop.00006"
     ]
    },
    {
     "name": "stdout",
     "output_type": "stream",
     "text": [
      "1/1 [==============================] - 0s 35ms/step\n"
     ]
    },
    {
     "name": "stderr",
     "output_type": "stream",
     "text": [
      "processing file 308 of 1000: gtzan_genre_hiphop.00007"
     ]
    },
    {
     "name": "stdout",
     "output_type": "stream",
     "text": [
      "1/1 [==============================] - 0s 47ms/step\n"
     ]
    },
    {
     "name": "stderr",
     "output_type": "stream",
     "text": [
      "processing file 309 of 1000: gtzan_genre_hiphop.00008"
     ]
    },
    {
     "name": "stdout",
     "output_type": "stream",
     "text": [
      "1/1 [==============================] - 0s 41ms/step\n"
     ]
    },
    {
     "name": "stderr",
     "output_type": "stream",
     "text": [
      "processing file 310 of 1000: gtzan_genre_hiphop.00009"
     ]
    },
    {
     "name": "stdout",
     "output_type": "stream",
     "text": [
      "1/1 [==============================] - 0s 38ms/step\n"
     ]
    },
    {
     "name": "stderr",
     "output_type": "stream",
     "text": [
      "processing file 311 of 1000: gtzan_genre_hiphop.00010"
     ]
    },
    {
     "name": "stdout",
     "output_type": "stream",
     "text": [
      "1/1 [==============================] - 0s 40ms/step\n"
     ]
    },
    {
     "name": "stderr",
     "output_type": "stream",
     "text": [
      "processing file 312 of 1000: gtzan_genre_hiphop.00011"
     ]
    },
    {
     "name": "stdout",
     "output_type": "stream",
     "text": [
      "1/1 [==============================] - 0s 39ms/step\n"
     ]
    },
    {
     "name": "stderr",
     "output_type": "stream",
     "text": [
      "processing file 313 of 1000: gtzan_genre_hiphop.00012"
     ]
    },
    {
     "name": "stdout",
     "output_type": "stream",
     "text": [
      "1/1 [==============================] - 0s 43ms/step\n"
     ]
    },
    {
     "name": "stderr",
     "output_type": "stream",
     "text": [
      "processing file 314 of 1000: gtzan_genre_hiphop.00013"
     ]
    },
    {
     "name": "stdout",
     "output_type": "stream",
     "text": [
      "1/1 [==============================] - 0s 37ms/step\n"
     ]
    },
    {
     "name": "stderr",
     "output_type": "stream",
     "text": [
      "processing file 315 of 1000: gtzan_genre_hiphop.00014"
     ]
    },
    {
     "name": "stdout",
     "output_type": "stream",
     "text": [
      "1/1 [==============================] - 0s 38ms/step\n"
     ]
    },
    {
     "name": "stderr",
     "output_type": "stream",
     "text": [
      "processing file 316 of 1000: gtzan_genre_hiphop.00015"
     ]
    },
    {
     "name": "stdout",
     "output_type": "stream",
     "text": [
      "1/1 [==============================] - 0s 40ms/step\n"
     ]
    },
    {
     "name": "stderr",
     "output_type": "stream",
     "text": [
      "processing file 317 of 1000: gtzan_genre_hiphop.00016"
     ]
    },
    {
     "name": "stdout",
     "output_type": "stream",
     "text": [
      "1/1 [==============================] - 0s 30ms/step\n"
     ]
    },
    {
     "name": "stderr",
     "output_type": "stream",
     "text": [
      "processing file 318 of 1000: gtzan_genre_hiphop.00017"
     ]
    },
    {
     "name": "stdout",
     "output_type": "stream",
     "text": [
      "1/1 [==============================] - 0s 47ms/step\n"
     ]
    },
    {
     "name": "stderr",
     "output_type": "stream",
     "text": [
      "processing file 319 of 1000: gtzan_genre_hiphop.00018"
     ]
    },
    {
     "name": "stdout",
     "output_type": "stream",
     "text": [
      "1/1 [==============================] - 0s 40ms/step\n"
     ]
    },
    {
     "name": "stderr",
     "output_type": "stream",
     "text": [
      "processing file 320 of 1000: gtzan_genre_hiphop.00019"
     ]
    },
    {
     "name": "stdout",
     "output_type": "stream",
     "text": [
      "1/1 [==============================] - 0s 37ms/step\n"
     ]
    },
    {
     "name": "stderr",
     "output_type": "stream",
     "text": [
      "processing file 321 of 1000: gtzan_genre_hiphop.00020"
     ]
    },
    {
     "name": "stdout",
     "output_type": "stream",
     "text": [
      "1/1 [==============================] - 0s 57ms/step\n"
     ]
    },
    {
     "name": "stderr",
     "output_type": "stream",
     "text": [
      "processing file 322 of 1000: gtzan_genre_hiphop.00021"
     ]
    },
    {
     "name": "stdout",
     "output_type": "stream",
     "text": [
      "1/1 [==============================] - 0s 38ms/step\n"
     ]
    },
    {
     "name": "stderr",
     "output_type": "stream",
     "text": [
      "processing file 323 of 1000: gtzan_genre_hiphop.00022"
     ]
    },
    {
     "name": "stdout",
     "output_type": "stream",
     "text": [
      "1/1 [==============================] - 0s 45ms/step\n"
     ]
    },
    {
     "name": "stderr",
     "output_type": "stream",
     "text": [
      "processing file 324 of 1000: gtzan_genre_hiphop.00023"
     ]
    },
    {
     "name": "stdout",
     "output_type": "stream",
     "text": [
      "1/1 [==============================] - 0s 40ms/step\n"
     ]
    },
    {
     "name": "stderr",
     "output_type": "stream",
     "text": [
      "processing file 325 of 1000: gtzan_genre_hiphop.00024"
     ]
    },
    {
     "name": "stdout",
     "output_type": "stream",
     "text": [
      "1/1 [==============================] - 0s 36ms/step\n"
     ]
    },
    {
     "name": "stderr",
     "output_type": "stream",
     "text": [
      "processing file 326 of 1000: gtzan_genre_hiphop.00025"
     ]
    },
    {
     "name": "stdout",
     "output_type": "stream",
     "text": [
      "1/1 [==============================] - 0s 30ms/step\n"
     ]
    },
    {
     "name": "stderr",
     "output_type": "stream",
     "text": [
      "processing file 327 of 1000: gtzan_genre_hiphop.00026"
     ]
    },
    {
     "name": "stdout",
     "output_type": "stream",
     "text": [
      "1/1 [==============================] - 0s 43ms/step\n"
     ]
    },
    {
     "name": "stderr",
     "output_type": "stream",
     "text": [
      "processing file 328 of 1000: gtzan_genre_hiphop.00027"
     ]
    },
    {
     "name": "stdout",
     "output_type": "stream",
     "text": [
      "1/1 [==============================] - 0s 40ms/step\n"
     ]
    },
    {
     "name": "stderr",
     "output_type": "stream",
     "text": [
      "processing file 329 of 1000: gtzan_genre_hiphop.00028"
     ]
    },
    {
     "name": "stdout",
     "output_type": "stream",
     "text": [
      "1/1 [==============================] - 0s 36ms/step\n"
     ]
    },
    {
     "name": "stderr",
     "output_type": "stream",
     "text": [
      "processing file 330 of 1000: gtzan_genre_hiphop.00029"
     ]
    },
    {
     "name": "stdout",
     "output_type": "stream",
     "text": [
      "1/1 [==============================] - 0s 39ms/step\n"
     ]
    },
    {
     "name": "stderr",
     "output_type": "stream",
     "text": [
      "processing file 331 of 1000: gtzan_genre_hiphop.00030"
     ]
    },
    {
     "name": "stdout",
     "output_type": "stream",
     "text": [
      "1/1 [==============================] - 0s 38ms/step\n"
     ]
    },
    {
     "name": "stderr",
     "output_type": "stream",
     "text": [
      "processing file 332 of 1000: gtzan_genre_hiphop.00031"
     ]
    },
    {
     "name": "stdout",
     "output_type": "stream",
     "text": [
      "1/1 [==============================] - 0s 41ms/step\n"
     ]
    },
    {
     "name": "stderr",
     "output_type": "stream",
     "text": [
      "processing file 333 of 1000: gtzan_genre_hiphop.00032"
     ]
    },
    {
     "name": "stdout",
     "output_type": "stream",
     "text": [
      "1/1 [==============================] - 0s 33ms/step\n"
     ]
    },
    {
     "name": "stderr",
     "output_type": "stream",
     "text": [
      "processing file 334 of 1000: gtzan_genre_hiphop.00033"
     ]
    },
    {
     "name": "stdout",
     "output_type": "stream",
     "text": [
      "1/1 [==============================] - 0s 30ms/step\n"
     ]
    },
    {
     "name": "stderr",
     "output_type": "stream",
     "text": [
      "processing file 335 of 1000: gtzan_genre_hiphop.00034"
     ]
    },
    {
     "name": "stdout",
     "output_type": "stream",
     "text": [
      "1/1 [==============================] - 0s 40ms/step\n"
     ]
    },
    {
     "name": "stderr",
     "output_type": "stream",
     "text": [
      "processing file 336 of 1000: gtzan_genre_hiphop.00035"
     ]
    },
    {
     "name": "stdout",
     "output_type": "stream",
     "text": [
      "1/1 [==============================] - 0s 40ms/step\n"
     ]
    },
    {
     "name": "stderr",
     "output_type": "stream",
     "text": [
      "processing file 337 of 1000: gtzan_genre_hiphop.00036"
     ]
    },
    {
     "name": "stdout",
     "output_type": "stream",
     "text": [
      "1/1 [==============================] - 0s 42ms/step\n"
     ]
    },
    {
     "name": "stderr",
     "output_type": "stream",
     "text": [
      "processing file 338 of 1000: gtzan_genre_hiphop.00037"
     ]
    },
    {
     "name": "stdout",
     "output_type": "stream",
     "text": [
      "1/1 [==============================] - 0s 46ms/step\n"
     ]
    },
    {
     "name": "stderr",
     "output_type": "stream",
     "text": [
      "processing file 339 of 1000: gtzan_genre_hiphop.00038"
     ]
    },
    {
     "name": "stdout",
     "output_type": "stream",
     "text": [
      "1/1 [==============================] - 0s 44ms/step\n"
     ]
    },
    {
     "name": "stderr",
     "output_type": "stream",
     "text": [
      "processing file 340 of 1000: gtzan_genre_hiphop.00039"
     ]
    },
    {
     "name": "stdout",
     "output_type": "stream",
     "text": [
      "1/1 [==============================] - 0s 30ms/step\n"
     ]
    },
    {
     "name": "stderr",
     "output_type": "stream",
     "text": [
      "processing file 341 of 1000: gtzan_genre_hiphop.00040"
     ]
    },
    {
     "name": "stdout",
     "output_type": "stream",
     "text": [
      "1/1 [==============================] - 0s 35ms/step\n"
     ]
    },
    {
     "name": "stderr",
     "output_type": "stream",
     "text": [
      "processing file 342 of 1000: gtzan_genre_hiphop.00041"
     ]
    },
    {
     "name": "stdout",
     "output_type": "stream",
     "text": [
      "1/1 [==============================] - 0s 53ms/step\n"
     ]
    },
    {
     "name": "stderr",
     "output_type": "stream",
     "text": [
      "processing file 343 of 1000: gtzan_genre_hiphop.00042"
     ]
    },
    {
     "name": "stdout",
     "output_type": "stream",
     "text": [
      "1/1 [==============================] - 0s 42ms/step\n"
     ]
    },
    {
     "name": "stderr",
     "output_type": "stream",
     "text": [
      "processing file 344 of 1000: gtzan_genre_hiphop.00043"
     ]
    },
    {
     "name": "stdout",
     "output_type": "stream",
     "text": [
      "1/1 [==============================] - 0s 48ms/step\n"
     ]
    },
    {
     "name": "stderr",
     "output_type": "stream",
     "text": [
      "processing file 345 of 1000: gtzan_genre_hiphop.00044"
     ]
    },
    {
     "name": "stdout",
     "output_type": "stream",
     "text": [
      "1/1 [==============================] - 0s 46ms/step\n"
     ]
    },
    {
     "name": "stderr",
     "output_type": "stream",
     "text": [
      "processing file 346 of 1000: gtzan_genre_hiphop.00045"
     ]
    },
    {
     "name": "stdout",
     "output_type": "stream",
     "text": [
      "1/1 [==============================] - 0s 57ms/step\n"
     ]
    },
    {
     "name": "stderr",
     "output_type": "stream",
     "text": [
      "processing file 347 of 1000: gtzan_genre_hiphop.00046"
     ]
    },
    {
     "name": "stdout",
     "output_type": "stream",
     "text": [
      "1/1 [==============================] - 0s 57ms/step\n"
     ]
    },
    {
     "name": "stderr",
     "output_type": "stream",
     "text": [
      "processing file 348 of 1000: gtzan_genre_hiphop.00047"
     ]
    },
    {
     "name": "stdout",
     "output_type": "stream",
     "text": [
      "1/1 [==============================] - 0s 40ms/step\n"
     ]
    },
    {
     "name": "stderr",
     "output_type": "stream",
     "text": [
      "processing file 349 of 1000: gtzan_genre_hiphop.00048"
     ]
    },
    {
     "name": "stdout",
     "output_type": "stream",
     "text": [
      "1/1 [==============================] - 0s 50ms/step\n"
     ]
    },
    {
     "name": "stderr",
     "output_type": "stream",
     "text": [
      "processing file 350 of 1000: gtzan_genre_hiphop.00049"
     ]
    },
    {
     "name": "stdout",
     "output_type": "stream",
     "text": [
      "1/1 [==============================] - 0s 37ms/step\n"
     ]
    },
    {
     "name": "stderr",
     "output_type": "stream",
     "text": [
      "processing file 351 of 1000: gtzan_genre_hiphop.00050"
     ]
    },
    {
     "name": "stdout",
     "output_type": "stream",
     "text": [
      "1/1 [==============================] - 0s 40ms/step\n"
     ]
    },
    {
     "name": "stderr",
     "output_type": "stream",
     "text": [
      "processing file 352 of 1000: gtzan_genre_hiphop.00051"
     ]
    },
    {
     "name": "stdout",
     "output_type": "stream",
     "text": [
      "1/1 [==============================] - 0s 36ms/step\n"
     ]
    },
    {
     "name": "stderr",
     "output_type": "stream",
     "text": [
      "processing file 353 of 1000: gtzan_genre_hiphop.00052"
     ]
    },
    {
     "name": "stdout",
     "output_type": "stream",
     "text": [
      "1/1 [==============================] - 0s 38ms/step\n"
     ]
    },
    {
     "name": "stderr",
     "output_type": "stream",
     "text": [
      "processing file 354 of 1000: gtzan_genre_hiphop.00053"
     ]
    },
    {
     "name": "stdout",
     "output_type": "stream",
     "text": [
      "1/1 [==============================] - 0s 40ms/step\n"
     ]
    },
    {
     "name": "stderr",
     "output_type": "stream",
     "text": [
      "processing file 355 of 1000: gtzan_genre_hiphop.00054"
     ]
    },
    {
     "name": "stdout",
     "output_type": "stream",
     "text": [
      "1/1 [==============================] - 0s 35ms/step\n"
     ]
    },
    {
     "name": "stderr",
     "output_type": "stream",
     "text": [
      "processing file 356 of 1000: gtzan_genre_hiphop.00055"
     ]
    },
    {
     "name": "stdout",
     "output_type": "stream",
     "text": [
      "1/1 [==============================] - 0s 38ms/step\n"
     ]
    },
    {
     "name": "stderr",
     "output_type": "stream",
     "text": [
      "processing file 357 of 1000: gtzan_genre_hiphop.00056"
     ]
    },
    {
     "name": "stdout",
     "output_type": "stream",
     "text": [
      "1/1 [==============================] - 0s 40ms/step\n"
     ]
    },
    {
     "name": "stderr",
     "output_type": "stream",
     "text": [
      "processing file 358 of 1000: gtzan_genre_hiphop.00057"
     ]
    },
    {
     "name": "stdout",
     "output_type": "stream",
     "text": [
      "1/1 [==============================] - 0s 40ms/step\n"
     ]
    },
    {
     "name": "stderr",
     "output_type": "stream",
     "text": [
      "processing file 359 of 1000: gtzan_genre_hiphop.00058"
     ]
    },
    {
     "name": "stdout",
     "output_type": "stream",
     "text": [
      "1/1 [==============================] - 0s 32ms/step\n"
     ]
    },
    {
     "name": "stderr",
     "output_type": "stream",
     "text": [
      "processing file 360 of 1000: gtzan_genre_hiphop.00059"
     ]
    },
    {
     "name": "stdout",
     "output_type": "stream",
     "text": [
      "1/1 [==============================] - 0s 34ms/step\n"
     ]
    },
    {
     "name": "stderr",
     "output_type": "stream",
     "text": [
      "processing file 361 of 1000: gtzan_genre_hiphop.00060"
     ]
    },
    {
     "name": "stdout",
     "output_type": "stream",
     "text": [
      "1/1 [==============================] - 0s 40ms/step\n"
     ]
    },
    {
     "name": "stderr",
     "output_type": "stream",
     "text": [
      "processing file 362 of 1000: gtzan_genre_hiphop.00061"
     ]
    },
    {
     "name": "stdout",
     "output_type": "stream",
     "text": [
      "1/1 [==============================] - 0s 39ms/step\n"
     ]
    },
    {
     "name": "stderr",
     "output_type": "stream",
     "text": [
      "processing file 363 of 1000: gtzan_genre_hiphop.00062"
     ]
    },
    {
     "name": "stdout",
     "output_type": "stream",
     "text": [
      "1/1 [==============================] - 0s 46ms/step\n"
     ]
    },
    {
     "name": "stderr",
     "output_type": "stream",
     "text": [
      "processing file 364 of 1000: gtzan_genre_hiphop.00063"
     ]
    },
    {
     "name": "stdout",
     "output_type": "stream",
     "text": [
      "1/1 [==============================] - 0s 50ms/step\n"
     ]
    },
    {
     "name": "stderr",
     "output_type": "stream",
     "text": [
      "processing file 365 of 1000: gtzan_genre_hiphop.00064"
     ]
    },
    {
     "name": "stdout",
     "output_type": "stream",
     "text": [
      "1/1 [==============================] - 0s 42ms/step\n"
     ]
    },
    {
     "name": "stderr",
     "output_type": "stream",
     "text": [
      "processing file 366 of 1000: gtzan_genre_hiphop.00065"
     ]
    },
    {
     "name": "stdout",
     "output_type": "stream",
     "text": [
      "1/1 [==============================] - 0s 50ms/step\n"
     ]
    },
    {
     "name": "stderr",
     "output_type": "stream",
     "text": [
      "processing file 367 of 1000: gtzan_genre_hiphop.00066"
     ]
    },
    {
     "name": "stdout",
     "output_type": "stream",
     "text": [
      "1/1 [==============================] - 0s 32ms/step\n"
     ]
    },
    {
     "name": "stderr",
     "output_type": "stream",
     "text": [
      "processing file 368 of 1000: gtzan_genre_hiphop.00067"
     ]
    },
    {
     "name": "stdout",
     "output_type": "stream",
     "text": [
      "1/1 [==============================] - 0s 43ms/step\n"
     ]
    },
    {
     "name": "stderr",
     "output_type": "stream",
     "text": [
      "processing file 369 of 1000: gtzan_genre_hiphop.00068"
     ]
    },
    {
     "name": "stdout",
     "output_type": "stream",
     "text": [
      "1/1 [==============================] - 0s 38ms/step\n"
     ]
    },
    {
     "name": "stderr",
     "output_type": "stream",
     "text": [
      "processing file 370 of 1000: gtzan_genre_hiphop.00069"
     ]
    },
    {
     "name": "stdout",
     "output_type": "stream",
     "text": [
      "1/1 [==============================] - 0s 40ms/step\n"
     ]
    },
    {
     "name": "stderr",
     "output_type": "stream",
     "text": [
      "processing file 371 of 1000: gtzan_genre_hiphop.00070"
     ]
    },
    {
     "name": "stdout",
     "output_type": "stream",
     "text": [
      "1/1 [==============================] - 0s 48ms/step\n"
     ]
    },
    {
     "name": "stderr",
     "output_type": "stream",
     "text": [
      "processing file 372 of 1000: gtzan_genre_hiphop.00071"
     ]
    },
    {
     "name": "stdout",
     "output_type": "stream",
     "text": [
      "1/1 [==============================] - 0s 37ms/step\n"
     ]
    },
    {
     "name": "stderr",
     "output_type": "stream",
     "text": [
      "processing file 373 of 1000: gtzan_genre_hiphop.00072"
     ]
    },
    {
     "name": "stdout",
     "output_type": "stream",
     "text": [
      "1/1 [==============================] - 0s 34ms/step\n"
     ]
    },
    {
     "name": "stderr",
     "output_type": "stream",
     "text": [
      "processing file 374 of 1000: gtzan_genre_hiphop.00073"
     ]
    },
    {
     "name": "stdout",
     "output_type": "stream",
     "text": [
      "1/1 [==============================] - 0s 40ms/step\n"
     ]
    },
    {
     "name": "stderr",
     "output_type": "stream",
     "text": [
      "processing file 375 of 1000: gtzan_genre_hiphop.00074"
     ]
    },
    {
     "name": "stdout",
     "output_type": "stream",
     "text": [
      "1/1 [==============================] - 0s 42ms/step\n"
     ]
    },
    {
     "name": "stderr",
     "output_type": "stream",
     "text": [
      "processing file 376 of 1000: gtzan_genre_hiphop.00075"
     ]
    },
    {
     "name": "stdout",
     "output_type": "stream",
     "text": [
      "1/1 [==============================] - 0s 43ms/step\n"
     ]
    },
    {
     "name": "stderr",
     "output_type": "stream",
     "text": [
      "processing file 377 of 1000: gtzan_genre_hiphop.00076"
     ]
    },
    {
     "name": "stdout",
     "output_type": "stream",
     "text": [
      "1/1 [==============================] - 0s 33ms/step\n"
     ]
    },
    {
     "name": "stderr",
     "output_type": "stream",
     "text": [
      "processing file 378 of 1000: gtzan_genre_hiphop.00077"
     ]
    },
    {
     "name": "stdout",
     "output_type": "stream",
     "text": [
      "1/1 [==============================] - 0s 47ms/step\n"
     ]
    },
    {
     "name": "stderr",
     "output_type": "stream",
     "text": [
      "processing file 379 of 1000: gtzan_genre_hiphop.00078"
     ]
    },
    {
     "name": "stdout",
     "output_type": "stream",
     "text": [
      "1/1 [==============================] - 0s 41ms/step\n"
     ]
    },
    {
     "name": "stderr",
     "output_type": "stream",
     "text": [
      "processing file 380 of 1000: gtzan_genre_hiphop.00079"
     ]
    },
    {
     "name": "stdout",
     "output_type": "stream",
     "text": [
      "1/1 [==============================] - 0s 39ms/step\n"
     ]
    },
    {
     "name": "stderr",
     "output_type": "stream",
     "text": [
      "processing file 381 of 1000: gtzan_genre_hiphop.00080"
     ]
    },
    {
     "name": "stdout",
     "output_type": "stream",
     "text": [
      "1/1 [==============================] - 0s 40ms/step\n"
     ]
    },
    {
     "name": "stderr",
     "output_type": "stream",
     "text": [
      "processing file 382 of 1000: gtzan_genre_hiphop.00081"
     ]
    },
    {
     "name": "stdout",
     "output_type": "stream",
     "text": [
      "1/1 [==============================] - 0s 40ms/step\n"
     ]
    },
    {
     "name": "stderr",
     "output_type": "stream",
     "text": [
      "processing file 383 of 1000: gtzan_genre_hiphop.00082"
     ]
    },
    {
     "name": "stdout",
     "output_type": "stream",
     "text": [
      "1/1 [==============================] - 0s 35ms/step\n"
     ]
    },
    {
     "name": "stderr",
     "output_type": "stream",
     "text": [
      "processing file 384 of 1000: gtzan_genre_hiphop.00083"
     ]
    },
    {
     "name": "stdout",
     "output_type": "stream",
     "text": [
      "1/1 [==============================] - 0s 47ms/step\n"
     ]
    },
    {
     "name": "stderr",
     "output_type": "stream",
     "text": [
      "processing file 385 of 1000: gtzan_genre_hiphop.00084"
     ]
    },
    {
     "name": "stdout",
     "output_type": "stream",
     "text": [
      "1/1 [==============================] - 0s 36ms/step\n"
     ]
    },
    {
     "name": "stderr",
     "output_type": "stream",
     "text": [
      "processing file 386 of 1000: gtzan_genre_hiphop.00085"
     ]
    },
    {
     "name": "stdout",
     "output_type": "stream",
     "text": [
      "1/1 [==============================] - 0s 53ms/step\n"
     ]
    },
    {
     "name": "stderr",
     "output_type": "stream",
     "text": [
      "processing file 387 of 1000: gtzan_genre_hiphop.00086"
     ]
    },
    {
     "name": "stdout",
     "output_type": "stream",
     "text": [
      "1/1 [==============================] - 0s 45ms/step\n"
     ]
    },
    {
     "name": "stderr",
     "output_type": "stream",
     "text": [
      "processing file 388 of 1000: gtzan_genre_hiphop.00087"
     ]
    },
    {
     "name": "stdout",
     "output_type": "stream",
     "text": [
      "1/1 [==============================] - 0s 36ms/step\n"
     ]
    },
    {
     "name": "stderr",
     "output_type": "stream",
     "text": [
      "processing file 389 of 1000: gtzan_genre_hiphop.00088"
     ]
    },
    {
     "name": "stdout",
     "output_type": "stream",
     "text": [
      "1/1 [==============================] - 0s 37ms/step\n"
     ]
    },
    {
     "name": "stderr",
     "output_type": "stream",
     "text": [
      "processing file 390 of 1000: gtzan_genre_hiphop.00089"
     ]
    },
    {
     "name": "stdout",
     "output_type": "stream",
     "text": [
      "1/1 [==============================] - 0s 42ms/step\n"
     ]
    },
    {
     "name": "stderr",
     "output_type": "stream",
     "text": [
      "processing file 391 of 1000: gtzan_genre_hiphop.00090"
     ]
    },
    {
     "name": "stdout",
     "output_type": "stream",
     "text": [
      "1/1 [==============================] - 0s 35ms/step\n"
     ]
    },
    {
     "name": "stderr",
     "output_type": "stream",
     "text": [
      "processing file 392 of 1000: gtzan_genre_hiphop.00091"
     ]
    },
    {
     "name": "stdout",
     "output_type": "stream",
     "text": [
      "1/1 [==============================] - 0s 46ms/step\n"
     ]
    },
    {
     "name": "stderr",
     "output_type": "stream",
     "text": [
      "processing file 393 of 1000: gtzan_genre_hiphop.00092"
     ]
    },
    {
     "name": "stdout",
     "output_type": "stream",
     "text": [
      "1/1 [==============================] - 0s 42ms/step\n"
     ]
    },
    {
     "name": "stderr",
     "output_type": "stream",
     "text": [
      "processing file 394 of 1000: gtzan_genre_hiphop.00093"
     ]
    },
    {
     "name": "stdout",
     "output_type": "stream",
     "text": [
      "1/1 [==============================] - 0s 43ms/step\n"
     ]
    },
    {
     "name": "stderr",
     "output_type": "stream",
     "text": [
      "processing file 395 of 1000: gtzan_genre_hiphop.00094"
     ]
    },
    {
     "name": "stdout",
     "output_type": "stream",
     "text": [
      "1/1 [==============================] - 0s 35ms/step\n"
     ]
    },
    {
     "name": "stderr",
     "output_type": "stream",
     "text": [
      "processing file 396 of 1000: gtzan_genre_hiphop.00095"
     ]
    },
    {
     "name": "stdout",
     "output_type": "stream",
     "text": [
      "1/1 [==============================] - 0s 38ms/step\n"
     ]
    },
    {
     "name": "stderr",
     "output_type": "stream",
     "text": [
      "processing file 397 of 1000: gtzan_genre_hiphop.00096"
     ]
    },
    {
     "name": "stdout",
     "output_type": "stream",
     "text": [
      "1/1 [==============================] - 0s 41ms/step\n"
     ]
    },
    {
     "name": "stderr",
     "output_type": "stream",
     "text": [
      "processing file 398 of 1000: gtzan_genre_hiphop.00097"
     ]
    },
    {
     "name": "stdout",
     "output_type": "stream",
     "text": [
      "1/1 [==============================] - 0s 45ms/step\n"
     ]
    },
    {
     "name": "stderr",
     "output_type": "stream",
     "text": [
      "processing file 399 of 1000: gtzan_genre_hiphop.00098"
     ]
    },
    {
     "name": "stdout",
     "output_type": "stream",
     "text": [
      "1/1 [==============================] - 0s 41ms/step\n"
     ]
    },
    {
     "name": "stderr",
     "output_type": "stream",
     "text": [
      "processing file 400 of 1000: gtzan_genre_hiphop.00099"
     ]
    },
    {
     "name": "stdout",
     "output_type": "stream",
     "text": [
      "1/1 [==============================] - 0s 41ms/step\n"
     ]
    },
    {
     "name": "stderr",
     "output_type": "stream",
     "text": [
      "processing file 401 of 1000: gtzan_genre_jazz.00000"
     ]
    },
    {
     "name": "stdout",
     "output_type": "stream",
     "text": [
      "1/1 [==============================] - 0s 43ms/step\n"
     ]
    },
    {
     "name": "stderr",
     "output_type": "stream",
     "text": [
      "processing file 402 of 1000: gtzan_genre_jazz.00001"
     ]
    },
    {
     "name": "stdout",
     "output_type": "stream",
     "text": [
      "1/1 [==============================] - 0s 44ms/step\n"
     ]
    },
    {
     "name": "stderr",
     "output_type": "stream",
     "text": [
      "processing file 403 of 1000: gtzan_genre_jazz.00002"
     ]
    },
    {
     "name": "stdout",
     "output_type": "stream",
     "text": [
      "1/1 [==============================] - 0s 40ms/step\n"
     ]
    },
    {
     "name": "stderr",
     "output_type": "stream",
     "text": [
      "processing file 404 of 1000: gtzan_genre_jazz.00003"
     ]
    },
    {
     "name": "stdout",
     "output_type": "stream",
     "text": [
      "1/1 [==============================] - 0s 43ms/step\n"
     ]
    },
    {
     "name": "stderr",
     "output_type": "stream",
     "text": [
      "processing file 405 of 1000: gtzan_genre_jazz.00004"
     ]
    },
    {
     "name": "stdout",
     "output_type": "stream",
     "text": [
      "1/1 [==============================] - 0s 38ms/step\n"
     ]
    },
    {
     "name": "stderr",
     "output_type": "stream",
     "text": [
      "processing file 406 of 1000: gtzan_genre_jazz.00005"
     ]
    },
    {
     "name": "stdout",
     "output_type": "stream",
     "text": [
      "1/1 [==============================] - 0s 42ms/step\n"
     ]
    },
    {
     "name": "stderr",
     "output_type": "stream",
     "text": [
      "processing file 407 of 1000: gtzan_genre_jazz.00006"
     ]
    },
    {
     "name": "stdout",
     "output_type": "stream",
     "text": [
      "1/1 [==============================] - 0s 45ms/step\n"
     ]
    },
    {
     "name": "stderr",
     "output_type": "stream",
     "text": [
      "processing file 408 of 1000: gtzan_genre_jazz.00007"
     ]
    },
    {
     "name": "stdout",
     "output_type": "stream",
     "text": [
      "1/1 [==============================] - 0s 38ms/step\n"
     ]
    },
    {
     "name": "stderr",
     "output_type": "stream",
     "text": [
      "processing file 409 of 1000: gtzan_genre_jazz.00008"
     ]
    },
    {
     "name": "stdout",
     "output_type": "stream",
     "text": [
      "1/1 [==============================] - 0s 42ms/step\n"
     ]
    },
    {
     "name": "stderr",
     "output_type": "stream",
     "text": [
      "processing file 410 of 1000: gtzan_genre_jazz.00009"
     ]
    },
    {
     "name": "stdout",
     "output_type": "stream",
     "text": [
      "1/1 [==============================] - 0s 45ms/step\n"
     ]
    },
    {
     "name": "stderr",
     "output_type": "stream",
     "text": [
      "processing file 411 of 1000: gtzan_genre_jazz.00010"
     ]
    },
    {
     "name": "stdout",
     "output_type": "stream",
     "text": [
      "1/1 [==============================] - 0s 45ms/step\n"
     ]
    },
    {
     "name": "stderr",
     "output_type": "stream",
     "text": [
      "processing file 412 of 1000: gtzan_genre_jazz.00011"
     ]
    },
    {
     "name": "stdout",
     "output_type": "stream",
     "text": [
      "1/1 [==============================] - 0s 45ms/step\n"
     ]
    },
    {
     "name": "stderr",
     "output_type": "stream",
     "text": [
      "processing file 413 of 1000: gtzan_genre_jazz.00012"
     ]
    },
    {
     "name": "stdout",
     "output_type": "stream",
     "text": [
      "1/1 [==============================] - 0s 40ms/step\n"
     ]
    },
    {
     "name": "stderr",
     "output_type": "stream",
     "text": [
      "processing file 414 of 1000: gtzan_genre_jazz.00013"
     ]
    },
    {
     "name": "stdout",
     "output_type": "stream",
     "text": [
      "1/1 [==============================] - 0s 40ms/step\n"
     ]
    },
    {
     "name": "stderr",
     "output_type": "stream",
     "text": [
      "processing file 415 of 1000: gtzan_genre_jazz.00014"
     ]
    },
    {
     "name": "stdout",
     "output_type": "stream",
     "text": [
      "1/1 [==============================] - 0s 38ms/step\n"
     ]
    },
    {
     "name": "stderr",
     "output_type": "stream",
     "text": [
      "processing file 416 of 1000: gtzan_genre_jazz.00015"
     ]
    },
    {
     "name": "stdout",
     "output_type": "stream",
     "text": [
      "1/1 [==============================] - 0s 43ms/step\n"
     ]
    },
    {
     "name": "stderr",
     "output_type": "stream",
     "text": [
      "processing file 417 of 1000: gtzan_genre_jazz.00016"
     ]
    },
    {
     "name": "stdout",
     "output_type": "stream",
     "text": [
      "1/1 [==============================] - 0s 45ms/step\n"
     ]
    },
    {
     "name": "stderr",
     "output_type": "stream",
     "text": [
      "processing file 418 of 1000: gtzan_genre_jazz.00017"
     ]
    },
    {
     "name": "stdout",
     "output_type": "stream",
     "text": [
      "1/1 [==============================] - 0s 41ms/step\n"
     ]
    },
    {
     "name": "stderr",
     "output_type": "stream",
     "text": [
      "processing file 419 of 1000: gtzan_genre_jazz.00018"
     ]
    },
    {
     "name": "stdout",
     "output_type": "stream",
     "text": [
      "1/1 [==============================] - 0s 40ms/step\n"
     ]
    },
    {
     "name": "stderr",
     "output_type": "stream",
     "text": [
      "processing file 420 of 1000: gtzan_genre_jazz.00019"
     ]
    },
    {
     "name": "stdout",
     "output_type": "stream",
     "text": [
      "1/1 [==============================] - 0s 38ms/step\n"
     ]
    },
    {
     "name": "stderr",
     "output_type": "stream",
     "text": [
      "processing file 421 of 1000: gtzan_genre_jazz.00020"
     ]
    },
    {
     "name": "stdout",
     "output_type": "stream",
     "text": [
      "1/1 [==============================] - 0s 40ms/step\n"
     ]
    },
    {
     "name": "stderr",
     "output_type": "stream",
     "text": [
      "processing file 422 of 1000: gtzan_genre_jazz.00021"
     ]
    },
    {
     "name": "stdout",
     "output_type": "stream",
     "text": [
      "1/1 [==============================] - 0s 43ms/step\n"
     ]
    },
    {
     "name": "stderr",
     "output_type": "stream",
     "text": [
      "processing file 423 of 1000: gtzan_genre_jazz.00022"
     ]
    },
    {
     "name": "stdout",
     "output_type": "stream",
     "text": [
      "1/1 [==============================] - 0s 32ms/step\n"
     ]
    },
    {
     "name": "stderr",
     "output_type": "stream",
     "text": [
      "processing file 424 of 1000: gtzan_genre_jazz.00023"
     ]
    },
    {
     "name": "stdout",
     "output_type": "stream",
     "text": [
      "1/1 [==============================] - 0s 38ms/step\n"
     ]
    },
    {
     "name": "stderr",
     "output_type": "stream",
     "text": [
      "processing file 425 of 1000: gtzan_genre_jazz.00024"
     ]
    },
    {
     "name": "stdout",
     "output_type": "stream",
     "text": [
      "1/1 [==============================] - 0s 35ms/step\n"
     ]
    },
    {
     "name": "stderr",
     "output_type": "stream",
     "text": [
      "processing file 426 of 1000: gtzan_genre_jazz.00025"
     ]
    },
    {
     "name": "stdout",
     "output_type": "stream",
     "text": [
      "1/1 [==============================] - 0s 43ms/step\n"
     ]
    },
    {
     "name": "stderr",
     "output_type": "stream",
     "text": [
      "processing file 427 of 1000: gtzan_genre_jazz.00026"
     ]
    },
    {
     "name": "stdout",
     "output_type": "stream",
     "text": [
      "1/1 [==============================] - 0s 40ms/step\n"
     ]
    },
    {
     "name": "stderr",
     "output_type": "stream",
     "text": [
      "processing file 428 of 1000: gtzan_genre_jazz.00027"
     ]
    },
    {
     "name": "stdout",
     "output_type": "stream",
     "text": [
      "1/1 [==============================] - 0s 44ms/step\n"
     ]
    },
    {
     "name": "stderr",
     "output_type": "stream",
     "text": [
      "processing file 429 of 1000: gtzan_genre_jazz.00028"
     ]
    },
    {
     "name": "stdout",
     "output_type": "stream",
     "text": [
      "1/1 [==============================] - 0s 45ms/step\n"
     ]
    },
    {
     "name": "stderr",
     "output_type": "stream",
     "text": [
      "processing file 430 of 1000: gtzan_genre_jazz.00029"
     ]
    },
    {
     "name": "stdout",
     "output_type": "stream",
     "text": [
      "1/1 [==============================] - 0s 41ms/step\n"
     ]
    },
    {
     "name": "stderr",
     "output_type": "stream",
     "text": [
      "processing file 431 of 1000: gtzan_genre_jazz.00030"
     ]
    },
    {
     "name": "stdout",
     "output_type": "stream",
     "text": [
      "1/1 [==============================] - 0s 44ms/step\n"
     ]
    },
    {
     "name": "stderr",
     "output_type": "stream",
     "text": [
      "processing file 432 of 1000: gtzan_genre_jazz.00031"
     ]
    },
    {
     "name": "stdout",
     "output_type": "stream",
     "text": [
      "1/1 [==============================] - 0s 42ms/step\n"
     ]
    },
    {
     "name": "stderr",
     "output_type": "stream",
     "text": [
      "processing file 433 of 1000: gtzan_genre_jazz.00032"
     ]
    },
    {
     "name": "stdout",
     "output_type": "stream",
     "text": [
      "1/1 [==============================] - 0s 37ms/step\n"
     ]
    },
    {
     "name": "stderr",
     "output_type": "stream",
     "text": [
      "processing file 434 of 1000: gtzan_genre_jazz.00033"
     ]
    },
    {
     "name": "stdout",
     "output_type": "stream",
     "text": [
      "1/1 [==============================] - 0s 41ms/step\n"
     ]
    },
    {
     "name": "stderr",
     "output_type": "stream",
     "text": [
      "processing file 435 of 1000: gtzan_genre_jazz.00034"
     ]
    },
    {
     "name": "stdout",
     "output_type": "stream",
     "text": [
      "1/1 [==============================] - 0s 43ms/step\n"
     ]
    },
    {
     "name": "stderr",
     "output_type": "stream",
     "text": [
      "processing file 436 of 1000: gtzan_genre_jazz.00035"
     ]
    },
    {
     "name": "stdout",
     "output_type": "stream",
     "text": [
      "1/1 [==============================] - 0s 40ms/step\n"
     ]
    },
    {
     "name": "stderr",
     "output_type": "stream",
     "text": [
      "processing file 437 of 1000: gtzan_genre_jazz.00036"
     ]
    },
    {
     "name": "stdout",
     "output_type": "stream",
     "text": [
      "1/1 [==============================] - 0s 42ms/step\n"
     ]
    },
    {
     "name": "stderr",
     "output_type": "stream",
     "text": [
      "processing file 438 of 1000: gtzan_genre_jazz.00037"
     ]
    },
    {
     "name": "stdout",
     "output_type": "stream",
     "text": [
      "1/1 [==============================] - 0s 40ms/step\n"
     ]
    },
    {
     "name": "stderr",
     "output_type": "stream",
     "text": [
      "processing file 439 of 1000: gtzan_genre_jazz.00038"
     ]
    },
    {
     "name": "stdout",
     "output_type": "stream",
     "text": [
      "1/1 [==============================] - 0s 40ms/step\n"
     ]
    },
    {
     "name": "stderr",
     "output_type": "stream",
     "text": [
      "processing file 440 of 1000: gtzan_genre_jazz.00039"
     ]
    },
    {
     "name": "stdout",
     "output_type": "stream",
     "text": [
      "1/1 [==============================] - 0s 41ms/step\n"
     ]
    },
    {
     "name": "stderr",
     "output_type": "stream",
     "text": [
      "processing file 441 of 1000: gtzan_genre_jazz.00040"
     ]
    },
    {
     "name": "stdout",
     "output_type": "stream",
     "text": [
      "1/1 [==============================] - 0s 40ms/step\n"
     ]
    },
    {
     "name": "stderr",
     "output_type": "stream",
     "text": [
      "processing file 442 of 1000: gtzan_genre_jazz.00041"
     ]
    },
    {
     "name": "stdout",
     "output_type": "stream",
     "text": [
      "1/1 [==============================] - 0s 43ms/step\n"
     ]
    },
    {
     "name": "stderr",
     "output_type": "stream",
     "text": [
      "processing file 443 of 1000: gtzan_genre_jazz.00042"
     ]
    },
    {
     "name": "stdout",
     "output_type": "stream",
     "text": [
      "1/1 [==============================] - 0s 43ms/step\n"
     ]
    },
    {
     "name": "stderr",
     "output_type": "stream",
     "text": [
      "processing file 444 of 1000: gtzan_genre_jazz.00043"
     ]
    },
    {
     "name": "stdout",
     "output_type": "stream",
     "text": [
      "1/1 [==============================] - 0s 35ms/step\n"
     ]
    },
    {
     "name": "stderr",
     "output_type": "stream",
     "text": [
      "processing file 445 of 1000: gtzan_genre_jazz.00044"
     ]
    },
    {
     "name": "stdout",
     "output_type": "stream",
     "text": [
      "1/1 [==============================] - 0s 35ms/step\n"
     ]
    },
    {
     "name": "stderr",
     "output_type": "stream",
     "text": [
      "processing file 446 of 1000: gtzan_genre_jazz.00045"
     ]
    },
    {
     "name": "stdout",
     "output_type": "stream",
     "text": [
      "1/1 [==============================] - 0s 35ms/step\n"
     ]
    },
    {
     "name": "stderr",
     "output_type": "stream",
     "text": [
      "processing file 447 of 1000: gtzan_genre_jazz.00046"
     ]
    },
    {
     "name": "stdout",
     "output_type": "stream",
     "text": [
      "1/1 [==============================] - 0s 37ms/step\n"
     ]
    },
    {
     "name": "stderr",
     "output_type": "stream",
     "text": [
      "processing file 448 of 1000: gtzan_genre_jazz.00047"
     ]
    },
    {
     "name": "stdout",
     "output_type": "stream",
     "text": [
      "1/1 [==============================] - 0s 35ms/step\n"
     ]
    },
    {
     "name": "stderr",
     "output_type": "stream",
     "text": [
      "processing file 449 of 1000: gtzan_genre_jazz.00048"
     ]
    },
    {
     "name": "stdout",
     "output_type": "stream",
     "text": [
      "1/1 [==============================] - 0s 41ms/step\n"
     ]
    },
    {
     "name": "stderr",
     "output_type": "stream",
     "text": [
      "processing file 450 of 1000: gtzan_genre_jazz.00049"
     ]
    },
    {
     "name": "stdout",
     "output_type": "stream",
     "text": [
      "1/1 [==============================] - 0s 41ms/step\n"
     ]
    },
    {
     "name": "stderr",
     "output_type": "stream",
     "text": [
      "processing file 451 of 1000: gtzan_genre_jazz.00050"
     ]
    },
    {
     "name": "stdout",
     "output_type": "stream",
     "text": [
      "1/1 [==============================] - 0s 36ms/step\n"
     ]
    },
    {
     "name": "stderr",
     "output_type": "stream",
     "text": [
      "processing file 452 of 1000: gtzan_genre_jazz.00051"
     ]
    },
    {
     "name": "stdout",
     "output_type": "stream",
     "text": [
      "1/1 [==============================] - 0s 45ms/step\n"
     ]
    },
    {
     "name": "stderr",
     "output_type": "stream",
     "text": [
      "processing file 453 of 1000: gtzan_genre_jazz.00052"
     ]
    },
    {
     "name": "stdout",
     "output_type": "stream",
     "text": [
      "1/1 [==============================] - 0s 39ms/step\n"
     ]
    },
    {
     "name": "stderr",
     "output_type": "stream",
     "text": [
      "processing file 454 of 1000: gtzan_genre_jazz.00053"
     ]
    },
    {
     "name": "stdout",
     "output_type": "stream",
     "text": [
      "1/1 [==============================] - 0s 42ms/step\n"
     ]
    },
    {
     "name": "stderr",
     "output_type": "stream",
     "text": [
      "processing file 455 of 1000: gtzan_genre_jazz.00054"
     ]
    },
    {
     "name": "stdout",
     "output_type": "stream",
     "text": [
      "1/1 [==============================] - 0s 33ms/step\n"
     ]
    },
    {
     "name": "stderr",
     "output_type": "stream",
     "text": [
      "processing file 456 of 1000: gtzan_genre_jazz.00055"
     ]
    },
    {
     "name": "stdout",
     "output_type": "stream",
     "text": [
      "1/1 [==============================] - 0s 38ms/step\n"
     ]
    },
    {
     "name": "stderr",
     "output_type": "stream",
     "text": [
      "processing file 457 of 1000: gtzan_genre_jazz.00056"
     ]
    },
    {
     "name": "stdout",
     "output_type": "stream",
     "text": [
      "1/1 [==============================] - 0s 40ms/step\n"
     ]
    },
    {
     "name": "stderr",
     "output_type": "stream",
     "text": [
      "processing file 458 of 1000: gtzan_genre_jazz.00057"
     ]
    },
    {
     "name": "stdout",
     "output_type": "stream",
     "text": [
      "1/1 [==============================] - 0s 40ms/step\n"
     ]
    },
    {
     "name": "stderr",
     "output_type": "stream",
     "text": [
      "processing file 459 of 1000: gtzan_genre_jazz.00058"
     ]
    },
    {
     "name": "stdout",
     "output_type": "stream",
     "text": [
      "1/1 [==============================] - 0s 30ms/step\n"
     ]
    },
    {
     "name": "stderr",
     "output_type": "stream",
     "text": [
      "processing file 460 of 1000: gtzan_genre_jazz.00059"
     ]
    },
    {
     "name": "stdout",
     "output_type": "stream",
     "text": [
      "1/1 [==============================] - 0s 35ms/step\n"
     ]
    },
    {
     "name": "stderr",
     "output_type": "stream",
     "text": [
      "processing file 461 of 1000: gtzan_genre_jazz.00060"
     ]
    },
    {
     "name": "stdout",
     "output_type": "stream",
     "text": [
      "1/1 [==============================] - 0s 43ms/step\n"
     ]
    },
    {
     "name": "stderr",
     "output_type": "stream",
     "text": [
      "processing file 462 of 1000: gtzan_genre_jazz.00061"
     ]
    },
    {
     "name": "stdout",
     "output_type": "stream",
     "text": [
      "1/1 [==============================] - 0s 40ms/step\n"
     ]
    },
    {
     "name": "stderr",
     "output_type": "stream",
     "text": [
      "processing file 463 of 1000: gtzan_genre_jazz.00062"
     ]
    },
    {
     "name": "stdout",
     "output_type": "stream",
     "text": [
      "1/1 [==============================] - 0s 41ms/step\n"
     ]
    },
    {
     "name": "stderr",
     "output_type": "stream",
     "text": [
      "processing file 464 of 1000: gtzan_genre_jazz.00063"
     ]
    },
    {
     "name": "stdout",
     "output_type": "stream",
     "text": [
      "1/1 [==============================] - 0s 36ms/step\n"
     ]
    },
    {
     "name": "stderr",
     "output_type": "stream",
     "text": [
      "processing file 465 of 1000: gtzan_genre_jazz.00064"
     ]
    },
    {
     "name": "stdout",
     "output_type": "stream",
     "text": [
      "1/1 [==============================] - 0s 45ms/step\n"
     ]
    },
    {
     "name": "stderr",
     "output_type": "stream",
     "text": [
      "processing file 466 of 1000: gtzan_genre_jazz.00065"
     ]
    },
    {
     "name": "stdout",
     "output_type": "stream",
     "text": [
      "1/1 [==============================] - 0s 45ms/step\n"
     ]
    },
    {
     "name": "stderr",
     "output_type": "stream",
     "text": [
      "processing file 467 of 1000: gtzan_genre_jazz.00066"
     ]
    },
    {
     "name": "stdout",
     "output_type": "stream",
     "text": [
      "1/1 [==============================] - 0s 34ms/step\n"
     ]
    },
    {
     "name": "stderr",
     "output_type": "stream",
     "text": [
      "processing file 468 of 1000: gtzan_genre_jazz.00067"
     ]
    },
    {
     "name": "stdout",
     "output_type": "stream",
     "text": [
      "1/1 [==============================] - 0s 46ms/step\n"
     ]
    },
    {
     "name": "stderr",
     "output_type": "stream",
     "text": [
      "processing file 469 of 1000: gtzan_genre_jazz.00068"
     ]
    },
    {
     "name": "stdout",
     "output_type": "stream",
     "text": [
      "1/1 [==============================] - 0s 40ms/step\n"
     ]
    },
    {
     "name": "stderr",
     "output_type": "stream",
     "text": [
      "processing file 470 of 1000: gtzan_genre_jazz.00069"
     ]
    },
    {
     "name": "stdout",
     "output_type": "stream",
     "text": [
      "1/1 [==============================] - 0s 40ms/step\n"
     ]
    },
    {
     "name": "stderr",
     "output_type": "stream",
     "text": [
      "processing file 471 of 1000: gtzan_genre_jazz.00070"
     ]
    },
    {
     "name": "stdout",
     "output_type": "stream",
     "text": [
      "1/1 [==============================] - 0s 44ms/step\n"
     ]
    },
    {
     "name": "stderr",
     "output_type": "stream",
     "text": [
      "processing file 472 of 1000: gtzan_genre_jazz.00071"
     ]
    },
    {
     "name": "stdout",
     "output_type": "stream",
     "text": [
      "1/1 [==============================] - 0s 40ms/step\n"
     ]
    },
    {
     "name": "stderr",
     "output_type": "stream",
     "text": [
      "processing file 473 of 1000: gtzan_genre_jazz.00072"
     ]
    },
    {
     "name": "stdout",
     "output_type": "stream",
     "text": [
      "1/1 [==============================] - 0s 40ms/step\n"
     ]
    },
    {
     "name": "stderr",
     "output_type": "stream",
     "text": [
      "processing file 474 of 1000: gtzan_genre_jazz.00073"
     ]
    },
    {
     "name": "stdout",
     "output_type": "stream",
     "text": [
      "1/1 [==============================] - 0s 38ms/step\n"
     ]
    },
    {
     "name": "stderr",
     "output_type": "stream",
     "text": [
      "processing file 475 of 1000: gtzan_genre_jazz.00074"
     ]
    },
    {
     "name": "stdout",
     "output_type": "stream",
     "text": [
      "1/1 [==============================] - 0s 38ms/step\n"
     ]
    },
    {
     "name": "stderr",
     "output_type": "stream",
     "text": [
      "processing file 476 of 1000: gtzan_genre_jazz.00075"
     ]
    },
    {
     "name": "stdout",
     "output_type": "stream",
     "text": [
      "1/1 [==============================] - 0s 40ms/step\n"
     ]
    },
    {
     "name": "stderr",
     "output_type": "stream",
     "text": [
      "processing file 477 of 1000: gtzan_genre_jazz.00076"
     ]
    },
    {
     "name": "stdout",
     "output_type": "stream",
     "text": [
      "1/1 [==============================] - 0s 40ms/step\n"
     ]
    },
    {
     "name": "stderr",
     "output_type": "stream",
     "text": [
      "processing file 478 of 1000: gtzan_genre_jazz.00077"
     ]
    },
    {
     "name": "stdout",
     "output_type": "stream",
     "text": [
      "1/1 [==============================] - 0s 38ms/step\n"
     ]
    },
    {
     "name": "stderr",
     "output_type": "stream",
     "text": [
      "processing file 479 of 1000: gtzan_genre_jazz.00078"
     ]
    },
    {
     "name": "stdout",
     "output_type": "stream",
     "text": [
      "1/1 [==============================] - 0s 35ms/step\n"
     ]
    },
    {
     "name": "stderr",
     "output_type": "stream",
     "text": [
      "processing file 480 of 1000: gtzan_genre_jazz.00079"
     ]
    },
    {
     "name": "stdout",
     "output_type": "stream",
     "text": [
      "1/1 [==============================] - 0s 40ms/step\n"
     ]
    },
    {
     "name": "stderr",
     "output_type": "stream",
     "text": [
      "processing file 481 of 1000: gtzan_genre_jazz.00080"
     ]
    },
    {
     "name": "stdout",
     "output_type": "stream",
     "text": [
      "1/1 [==============================] - 0s 34ms/step\n"
     ]
    },
    {
     "name": "stderr",
     "output_type": "stream",
     "text": [
      "processing file 482 of 1000: gtzan_genre_jazz.00081"
     ]
    },
    {
     "name": "stdout",
     "output_type": "stream",
     "text": [
      "1/1 [==============================] - 0s 39ms/step\n"
     ]
    },
    {
     "name": "stderr",
     "output_type": "stream",
     "text": [
      "processing file 483 of 1000: gtzan_genre_jazz.00082"
     ]
    },
    {
     "name": "stdout",
     "output_type": "stream",
     "text": [
      "1/1 [==============================] - 0s 40ms/step\n"
     ]
    },
    {
     "name": "stderr",
     "output_type": "stream",
     "text": [
      "processing file 484 of 1000: gtzan_genre_jazz.00083"
     ]
    },
    {
     "name": "stdout",
     "output_type": "stream",
     "text": [
      "1/1 [==============================] - 0s 41ms/step\n"
     ]
    },
    {
     "name": "stderr",
     "output_type": "stream",
     "text": [
      "processing file 485 of 1000: gtzan_genre_jazz.00084"
     ]
    },
    {
     "name": "stdout",
     "output_type": "stream",
     "text": [
      "1/1 [==============================] - 0s 34ms/step\n"
     ]
    },
    {
     "name": "stderr",
     "output_type": "stream",
     "text": [
      "processing file 486 of 1000: gtzan_genre_jazz.00085"
     ]
    },
    {
     "name": "stdout",
     "output_type": "stream",
     "text": [
      "1/1 [==============================] - 0s 41ms/step\n"
     ]
    },
    {
     "name": "stderr",
     "output_type": "stream",
     "text": [
      "processing file 487 of 1000: gtzan_genre_jazz.00086"
     ]
    },
    {
     "name": "stdout",
     "output_type": "stream",
     "text": [
      "1/1 [==============================] - 0s 40ms/step\n"
     ]
    },
    {
     "name": "stderr",
     "output_type": "stream",
     "text": [
      "processing file 488 of 1000: gtzan_genre_jazz.00087"
     ]
    },
    {
     "name": "stdout",
     "output_type": "stream",
     "text": [
      "1/1 [==============================] - 0s 41ms/step\n"
     ]
    },
    {
     "name": "stderr",
     "output_type": "stream",
     "text": [
      "processing file 489 of 1000: gtzan_genre_jazz.00088"
     ]
    },
    {
     "name": "stdout",
     "output_type": "stream",
     "text": [
      "1/1 [==============================] - 0s 42ms/step\n"
     ]
    },
    {
     "name": "stderr",
     "output_type": "stream",
     "text": [
      "processing file 490 of 1000: gtzan_genre_jazz.00089"
     ]
    },
    {
     "name": "stdout",
     "output_type": "stream",
     "text": [
      "1/1 [==============================] - 0s 44ms/step\n"
     ]
    },
    {
     "name": "stderr",
     "output_type": "stream",
     "text": [
      "processing file 491 of 1000: gtzan_genre_jazz.00090"
     ]
    },
    {
     "name": "stdout",
     "output_type": "stream",
     "text": [
      "1/1 [==============================] - 0s 40ms/step\n"
     ]
    },
    {
     "name": "stderr",
     "output_type": "stream",
     "text": [
      "processing file 492 of 1000: gtzan_genre_jazz.00091"
     ]
    },
    {
     "name": "stdout",
     "output_type": "stream",
     "text": [
      "1/1 [==============================] - 0s 30ms/step\n"
     ]
    },
    {
     "name": "stderr",
     "output_type": "stream",
     "text": [
      "processing file 493 of 1000: gtzan_genre_jazz.00092"
     ]
    },
    {
     "name": "stdout",
     "output_type": "stream",
     "text": [
      "1/1 [==============================] - 0s 40ms/step\n"
     ]
    },
    {
     "name": "stderr",
     "output_type": "stream",
     "text": [
      "processing file 494 of 1000: gtzan_genre_jazz.00093"
     ]
    },
    {
     "name": "stdout",
     "output_type": "stream",
     "text": [
      "1/1 [==============================] - 0s 50ms/step\n"
     ]
    },
    {
     "name": "stderr",
     "output_type": "stream",
     "text": [
      "processing file 495 of 1000: gtzan_genre_jazz.00094"
     ]
    },
    {
     "name": "stdout",
     "output_type": "stream",
     "text": [
      "1/1 [==============================] - 0s 40ms/step\n"
     ]
    },
    {
     "name": "stderr",
     "output_type": "stream",
     "text": [
      "processing file 496 of 1000: gtzan_genre_jazz.00095"
     ]
    },
    {
     "name": "stdout",
     "output_type": "stream",
     "text": [
      "1/1 [==============================] - 0s 64ms/step\n"
     ]
    },
    {
     "name": "stderr",
     "output_type": "stream",
     "text": [
      "processing file 497 of 1000: gtzan_genre_jazz.00096"
     ]
    },
    {
     "name": "stdout",
     "output_type": "stream",
     "text": [
      "1/1 [==============================] - 0s 69ms/step\n"
     ]
    },
    {
     "name": "stderr",
     "output_type": "stream",
     "text": [
      "processing file 498 of 1000: gtzan_genre_jazz.00097"
     ]
    },
    {
     "name": "stdout",
     "output_type": "stream",
     "text": [
      "1/1 [==============================] - 0s 77ms/step\n"
     ]
    },
    {
     "name": "stderr",
     "output_type": "stream",
     "text": [
      "processing file 499 of 1000: gtzan_genre_jazz.00098"
     ]
    },
    {
     "name": "stdout",
     "output_type": "stream",
     "text": [
      "1/1 [==============================] - 0s 75ms/step\n"
     ]
    },
    {
     "name": "stderr",
     "output_type": "stream",
     "text": [
      "processing file 500 of 1000: gtzan_genre_jazz.00099"
     ]
    },
    {
     "name": "stdout",
     "output_type": "stream",
     "text": [
      "1/1 [==============================] - 0s 76ms/step\n"
     ]
    },
    {
     "name": "stderr",
     "output_type": "stream",
     "text": [
      "processing file 501 of 1000: gtzan_genre_rock.00000"
     ]
    },
    {
     "name": "stdout",
     "output_type": "stream",
     "text": [
      "1/1 [==============================] - 0s 67ms/step\n"
     ]
    },
    {
     "name": "stderr",
     "output_type": "stream",
     "text": [
      "processing file 502 of 1000: gtzan_genre_rock.00001"
     ]
    },
    {
     "name": "stdout",
     "output_type": "stream",
     "text": [
      "1/1 [==============================] - 0s 72ms/step\n"
     ]
    },
    {
     "name": "stderr",
     "output_type": "stream",
     "text": [
      "processing file 503 of 1000: gtzan_genre_rock.00002"
     ]
    },
    {
     "name": "stdout",
     "output_type": "stream",
     "text": [
      "1/1 [==============================] - 0s 57ms/step\n"
     ]
    },
    {
     "name": "stderr",
     "output_type": "stream",
     "text": [
      "processing file 504 of 1000: gtzan_genre_rock.00003"
     ]
    },
    {
     "name": "stdout",
     "output_type": "stream",
     "text": [
      "1/1 [==============================] - 0s 65ms/step\n"
     ]
    },
    {
     "name": "stderr",
     "output_type": "stream",
     "text": [
      "processing file 505 of 1000: gtzan_genre_rock.00004"
     ]
    },
    {
     "name": "stdout",
     "output_type": "stream",
     "text": [
      "1/1 [==============================] - 0s 59ms/step\n"
     ]
    },
    {
     "name": "stderr",
     "output_type": "stream",
     "text": [
      "processing file 506 of 1000: gtzan_genre_rock.00005"
     ]
    },
    {
     "name": "stdout",
     "output_type": "stream",
     "text": [
      "1/1 [==============================] - 0s 56ms/step\n"
     ]
    },
    {
     "name": "stderr",
     "output_type": "stream",
     "text": [
      "processing file 507 of 1000: gtzan_genre_rock.00006"
     ]
    },
    {
     "name": "stdout",
     "output_type": "stream",
     "text": [
      "1/1 [==============================] - 0s 58ms/step\n"
     ]
    },
    {
     "name": "stderr",
     "output_type": "stream",
     "text": [
      "processing file 508 of 1000: gtzan_genre_rock.00007"
     ]
    },
    {
     "name": "stdout",
     "output_type": "stream",
     "text": [
      "1/1 [==============================] - 0s 50ms/step\n"
     ]
    },
    {
     "name": "stderr",
     "output_type": "stream",
     "text": [
      "processing file 509 of 1000: gtzan_genre_rock.00008"
     ]
    },
    {
     "name": "stdout",
     "output_type": "stream",
     "text": [
      "1/1 [==============================] - 0s 55ms/step\n"
     ]
    },
    {
     "name": "stderr",
     "output_type": "stream",
     "text": [
      "processing file 510 of 1000: gtzan_genre_rock.00009"
     ]
    },
    {
     "name": "stdout",
     "output_type": "stream",
     "text": [
      "1/1 [==============================] - 0s 55ms/step\n"
     ]
    },
    {
     "name": "stderr",
     "output_type": "stream",
     "text": [
      "processing file 511 of 1000: gtzan_genre_rock.00010"
     ]
    },
    {
     "name": "stdout",
     "output_type": "stream",
     "text": [
      "1/1 [==============================] - 0s 57ms/step\n"
     ]
    },
    {
     "name": "stderr",
     "output_type": "stream",
     "text": [
      "processing file 512 of 1000: gtzan_genre_rock.00011"
     ]
    },
    {
     "name": "stdout",
     "output_type": "stream",
     "text": [
      "1/1 [==============================] - 0s 44ms/step\n"
     ]
    },
    {
     "name": "stderr",
     "output_type": "stream",
     "text": [
      "processing file 513 of 1000: gtzan_genre_rock.00012"
     ]
    },
    {
     "name": "stdout",
     "output_type": "stream",
     "text": [
      "1/1 [==============================] - 0s 53ms/step\n"
     ]
    },
    {
     "name": "stderr",
     "output_type": "stream",
     "text": [
      "processing file 514 of 1000: gtzan_genre_rock.00013"
     ]
    },
    {
     "name": "stdout",
     "output_type": "stream",
     "text": [
      "1/1 [==============================] - 0s 55ms/step\n"
     ]
    },
    {
     "name": "stderr",
     "output_type": "stream",
     "text": [
      "processing file 515 of 1000: gtzan_genre_rock.00014"
     ]
    },
    {
     "name": "stdout",
     "output_type": "stream",
     "text": [
      "1/1 [==============================] - 0s 55ms/step\n"
     ]
    },
    {
     "name": "stderr",
     "output_type": "stream",
     "text": [
      "processing file 516 of 1000: gtzan_genre_rock.00015"
     ]
    },
    {
     "name": "stdout",
     "output_type": "stream",
     "text": [
      "1/1 [==============================] - 0s 63ms/step\n"
     ]
    },
    {
     "name": "stderr",
     "output_type": "stream",
     "text": [
      "processing file 517 of 1000: gtzan_genre_rock.00016"
     ]
    },
    {
     "name": "stdout",
     "output_type": "stream",
     "text": [
      "1/1 [==============================] - 0s 50ms/step\n"
     ]
    },
    {
     "name": "stderr",
     "output_type": "stream",
     "text": [
      "processing file 518 of 1000: gtzan_genre_rock.00017"
     ]
    },
    {
     "name": "stdout",
     "output_type": "stream",
     "text": [
      "1/1 [==============================] - 0s 45ms/step\n"
     ]
    },
    {
     "name": "stderr",
     "output_type": "stream",
     "text": [
      "processing file 519 of 1000: gtzan_genre_rock.00018"
     ]
    },
    {
     "name": "stdout",
     "output_type": "stream",
     "text": [
      "1/1 [==============================] - 0s 49ms/step\n"
     ]
    },
    {
     "name": "stderr",
     "output_type": "stream",
     "text": [
      "processing file 520 of 1000: gtzan_genre_rock.00019"
     ]
    },
    {
     "name": "stdout",
     "output_type": "stream",
     "text": [
      "1/1 [==============================] - 0s 48ms/step\n"
     ]
    },
    {
     "name": "stderr",
     "output_type": "stream",
     "text": [
      "processing file 521 of 1000: gtzan_genre_rock.00020"
     ]
    },
    {
     "name": "stdout",
     "output_type": "stream",
     "text": [
      "1/1 [==============================] - 0s 46ms/step\n"
     ]
    },
    {
     "name": "stderr",
     "output_type": "stream",
     "text": [
      "processing file 522 of 1000: gtzan_genre_rock.00021"
     ]
    },
    {
     "name": "stdout",
     "output_type": "stream",
     "text": [
      "1/1 [==============================] - 0s 40ms/step\n"
     ]
    },
    {
     "name": "stderr",
     "output_type": "stream",
     "text": [
      "processing file 523 of 1000: gtzan_genre_rock.00022"
     ]
    },
    {
     "name": "stdout",
     "output_type": "stream",
     "text": [
      "1/1 [==============================] - 0s 35ms/step\n"
     ]
    },
    {
     "name": "stderr",
     "output_type": "stream",
     "text": [
      "processing file 524 of 1000: gtzan_genre_rock.00023"
     ]
    },
    {
     "name": "stdout",
     "output_type": "stream",
     "text": [
      "1/1 [==============================] - 0s 39ms/step\n"
     ]
    },
    {
     "name": "stderr",
     "output_type": "stream",
     "text": [
      "processing file 525 of 1000: gtzan_genre_rock.00024"
     ]
    },
    {
     "name": "stdout",
     "output_type": "stream",
     "text": [
      "1/1 [==============================] - 0s 50ms/step\n"
     ]
    },
    {
     "name": "stderr",
     "output_type": "stream",
     "text": [
      "processing file 526 of 1000: gtzan_genre_rock.00025"
     ]
    },
    {
     "name": "stdout",
     "output_type": "stream",
     "text": [
      "1/1 [==============================] - 0s 39ms/step\n"
     ]
    },
    {
     "name": "stderr",
     "output_type": "stream",
     "text": [
      "processing file 527 of 1000: gtzan_genre_rock.00026"
     ]
    },
    {
     "name": "stdout",
     "output_type": "stream",
     "text": [
      "1/1 [==============================] - 0s 40ms/step\n"
     ]
    },
    {
     "name": "stderr",
     "output_type": "stream",
     "text": [
      "processing file 528 of 1000: gtzan_genre_rock.00027"
     ]
    },
    {
     "name": "stdout",
     "output_type": "stream",
     "text": [
      "1/1 [==============================] - 0s 39ms/step\n"
     ]
    },
    {
     "name": "stderr",
     "output_type": "stream",
     "text": [
      "processing file 529 of 1000: gtzan_genre_rock.00028"
     ]
    },
    {
     "name": "stdout",
     "output_type": "stream",
     "text": [
      "1/1 [==============================] - 0s 40ms/step\n"
     ]
    },
    {
     "name": "stderr",
     "output_type": "stream",
     "text": [
      "processing file 530 of 1000: gtzan_genre_rock.00029"
     ]
    },
    {
     "name": "stdout",
     "output_type": "stream",
     "text": [
      "1/1 [==============================] - 0s 40ms/step\n"
     ]
    },
    {
     "name": "stderr",
     "output_type": "stream",
     "text": [
      "processing file 531 of 1000: gtzan_genre_rock.00030"
     ]
    },
    {
     "name": "stdout",
     "output_type": "stream",
     "text": [
      "1/1 [==============================] - 0s 47ms/step\n"
     ]
    },
    {
     "name": "stderr",
     "output_type": "stream",
     "text": [
      "processing file 532 of 1000: gtzan_genre_rock.00031"
     ]
    },
    {
     "name": "stdout",
     "output_type": "stream",
     "text": [
      "1/1 [==============================] - 0s 50ms/step\n"
     ]
    },
    {
     "name": "stderr",
     "output_type": "stream",
     "text": [
      "processing file 533 of 1000: gtzan_genre_rock.00032"
     ]
    },
    {
     "name": "stdout",
     "output_type": "stream",
     "text": [
      "1/1 [==============================] - 0s 42ms/step\n"
     ]
    },
    {
     "name": "stderr",
     "output_type": "stream",
     "text": [
      "processing file 534 of 1000: gtzan_genre_rock.00033"
     ]
    },
    {
     "name": "stdout",
     "output_type": "stream",
     "text": [
      "1/1 [==============================] - 0s 38ms/step\n"
     ]
    },
    {
     "name": "stderr",
     "output_type": "stream",
     "text": [
      "processing file 535 of 1000: gtzan_genre_rock.00034"
     ]
    },
    {
     "name": "stdout",
     "output_type": "stream",
     "text": [
      "1/1 [==============================] - 0s 50ms/step\n"
     ]
    },
    {
     "name": "stderr",
     "output_type": "stream",
     "text": [
      "processing file 536 of 1000: gtzan_genre_rock.00035"
     ]
    },
    {
     "name": "stdout",
     "output_type": "stream",
     "text": [
      "1/1 [==============================] - 0s 40ms/step\n"
     ]
    },
    {
     "name": "stderr",
     "output_type": "stream",
     "text": [
      "processing file 537 of 1000: gtzan_genre_rock.00036"
     ]
    },
    {
     "name": "stdout",
     "output_type": "stream",
     "text": [
      "1/1 [==============================] - 0s 38ms/step\n"
     ]
    },
    {
     "name": "stderr",
     "output_type": "stream",
     "text": [
      "processing file 538 of 1000: gtzan_genre_rock.00037"
     ]
    },
    {
     "name": "stdout",
     "output_type": "stream",
     "text": [
      "1/1 [==============================] - 0s 43ms/step\n"
     ]
    },
    {
     "name": "stderr",
     "output_type": "stream",
     "text": [
      "processing file 539 of 1000: gtzan_genre_rock.00038"
     ]
    },
    {
     "name": "stdout",
     "output_type": "stream",
     "text": [
      "1/1 [==============================] - 0s 41ms/step\n"
     ]
    },
    {
     "name": "stderr",
     "output_type": "stream",
     "text": [
      "processing file 540 of 1000: gtzan_genre_rock.00039"
     ]
    },
    {
     "name": "stdout",
     "output_type": "stream",
     "text": [
      "1/1 [==============================] - 0s 47ms/step\n"
     ]
    },
    {
     "name": "stderr",
     "output_type": "stream",
     "text": [
      "processing file 541 of 1000: gtzan_genre_rock.00040"
     ]
    },
    {
     "name": "stdout",
     "output_type": "stream",
     "text": [
      "1/1 [==============================] - 0s 38ms/step\n"
     ]
    },
    {
     "name": "stderr",
     "output_type": "stream",
     "text": [
      "processing file 542 of 1000: gtzan_genre_rock.00041"
     ]
    },
    {
     "name": "stdout",
     "output_type": "stream",
     "text": [
      "1/1 [==============================] - 0s 41ms/step\n"
     ]
    },
    {
     "name": "stderr",
     "output_type": "stream",
     "text": [
      "processing file 543 of 1000: gtzan_genre_rock.00042"
     ]
    },
    {
     "name": "stdout",
     "output_type": "stream",
     "text": [
      "1/1 [==============================] - 0s 46ms/step\n"
     ]
    },
    {
     "name": "stderr",
     "output_type": "stream",
     "text": [
      "processing file 544 of 1000: gtzan_genre_rock.00043"
     ]
    },
    {
     "name": "stdout",
     "output_type": "stream",
     "text": [
      "1/1 [==============================] - 0s 53ms/step\n"
     ]
    },
    {
     "name": "stderr",
     "output_type": "stream",
     "text": [
      "processing file 545 of 1000: gtzan_genre_rock.00044"
     ]
    },
    {
     "name": "stdout",
     "output_type": "stream",
     "text": [
      "1/1 [==============================] - 0s 53ms/step\n"
     ]
    },
    {
     "name": "stderr",
     "output_type": "stream",
     "text": [
      "processing file 546 of 1000: gtzan_genre_rock.00045"
     ]
    },
    {
     "name": "stdout",
     "output_type": "stream",
     "text": [
      "1/1 [==============================] - 0s 54ms/step\n"
     ]
    },
    {
     "name": "stderr",
     "output_type": "stream",
     "text": [
      "processing file 547 of 1000: gtzan_genre_rock.00046"
     ]
    },
    {
     "name": "stdout",
     "output_type": "stream",
     "text": [
      "1/1 [==============================] - 0s 50ms/step\n"
     ]
    },
    {
     "name": "stderr",
     "output_type": "stream",
     "text": [
      "processing file 548 of 1000: gtzan_genre_rock.00047"
     ]
    },
    {
     "name": "stdout",
     "output_type": "stream",
     "text": [
      "1/1 [==============================] - 0s 55ms/step\n"
     ]
    },
    {
     "name": "stderr",
     "output_type": "stream",
     "text": [
      "processing file 549 of 1000: gtzan_genre_rock.00048"
     ]
    },
    {
     "name": "stdout",
     "output_type": "stream",
     "text": [
      "1/1 [==============================] - 0s 50ms/step\n"
     ]
    },
    {
     "name": "stderr",
     "output_type": "stream",
     "text": [
      "processing file 550 of 1000: gtzan_genre_rock.00049"
     ]
    },
    {
     "name": "stdout",
     "output_type": "stream",
     "text": [
      "1/1 [==============================] - 0s 60ms/step\n"
     ]
    },
    {
     "name": "stderr",
     "output_type": "stream",
     "text": [
      "processing file 551 of 1000: gtzan_genre_rock.00050"
     ]
    },
    {
     "name": "stdout",
     "output_type": "stream",
     "text": [
      "1/1 [==============================] - 0s 46ms/step\n"
     ]
    },
    {
     "name": "stderr",
     "output_type": "stream",
     "text": [
      "processing file 552 of 1000: gtzan_genre_rock.00051"
     ]
    },
    {
     "name": "stdout",
     "output_type": "stream",
     "text": [
      "1/1 [==============================] - 0s 55ms/step\n"
     ]
    },
    {
     "name": "stderr",
     "output_type": "stream",
     "text": [
      "processing file 553 of 1000: gtzan_genre_rock.00052"
     ]
    },
    {
     "name": "stdout",
     "output_type": "stream",
     "text": [
      "1/1 [==============================] - 0s 62ms/step\n"
     ]
    },
    {
     "name": "stderr",
     "output_type": "stream",
     "text": [
      "processing file 554 of 1000: gtzan_genre_rock.00053"
     ]
    },
    {
     "name": "stdout",
     "output_type": "stream",
     "text": [
      "1/1 [==============================] - 0s 61ms/step\n"
     ]
    },
    {
     "name": "stderr",
     "output_type": "stream",
     "text": [
      "processing file 555 of 1000: gtzan_genre_rock.00054"
     ]
    },
    {
     "name": "stdout",
     "output_type": "stream",
     "text": [
      "1/1 [==============================] - 0s 80ms/step\n"
     ]
    },
    {
     "name": "stderr",
     "output_type": "stream",
     "text": [
      "processing file 556 of 1000: gtzan_genre_rock.00055"
     ]
    },
    {
     "name": "stdout",
     "output_type": "stream",
     "text": [
      "1/1 [==============================] - 0s 66ms/step\n"
     ]
    },
    {
     "name": "stderr",
     "output_type": "stream",
     "text": [
      "processing file 557 of 1000: gtzan_genre_rock.00056"
     ]
    },
    {
     "name": "stdout",
     "output_type": "stream",
     "text": [
      "1/1 [==============================] - 0s 73ms/step\n"
     ]
    },
    {
     "name": "stderr",
     "output_type": "stream",
     "text": [
      "processing file 558 of 1000: gtzan_genre_rock.00057"
     ]
    },
    {
     "name": "stdout",
     "output_type": "stream",
     "text": [
      "1/1 [==============================] - 0s 74ms/step\n"
     ]
    },
    {
     "name": "stderr",
     "output_type": "stream",
     "text": [
      "processing file 559 of 1000: gtzan_genre_rock.00058"
     ]
    },
    {
     "name": "stdout",
     "output_type": "stream",
     "text": [
      "1/1 [==============================] - 0s 64ms/step\n"
     ]
    },
    {
     "name": "stderr",
     "output_type": "stream",
     "text": [
      "processing file 560 of 1000: gtzan_genre_rock.00059"
     ]
    },
    {
     "name": "stdout",
     "output_type": "stream",
     "text": [
      "1/1 [==============================] - 0s 75ms/step\n"
     ]
    },
    {
     "name": "stderr",
     "output_type": "stream",
     "text": [
      "processing file 561 of 1000: gtzan_genre_rock.00060"
     ]
    },
    {
     "name": "stdout",
     "output_type": "stream",
     "text": [
      "1/1 [==============================] - 0s 82ms/step\n"
     ]
    },
    {
     "name": "stderr",
     "output_type": "stream",
     "text": [
      "processing file 562 of 1000: gtzan_genre_rock.00061"
     ]
    },
    {
     "name": "stdout",
     "output_type": "stream",
     "text": [
      "1/1 [==============================] - 0s 72ms/step\n"
     ]
    },
    {
     "name": "stderr",
     "output_type": "stream",
     "text": [
      "processing file 563 of 1000: gtzan_genre_rock.00062"
     ]
    },
    {
     "name": "stdout",
     "output_type": "stream",
     "text": [
      "1/1 [==============================] - 0s 86ms/step\n"
     ]
    },
    {
     "name": "stderr",
     "output_type": "stream",
     "text": [
      "processing file 564 of 1000: gtzan_genre_rock.00063"
     ]
    },
    {
     "name": "stdout",
     "output_type": "stream",
     "text": [
      "1/1 [==============================] - 0s 89ms/step\n"
     ]
    },
    {
     "name": "stderr",
     "output_type": "stream",
     "text": [
      "processing file 565 of 1000: gtzan_genre_rock.00064"
     ]
    },
    {
     "name": "stdout",
     "output_type": "stream",
     "text": [
      "1/1 [==============================] - 0s 82ms/step\n"
     ]
    },
    {
     "name": "stderr",
     "output_type": "stream",
     "text": [
      "processing file 566 of 1000: gtzan_genre_rock.00065"
     ]
    },
    {
     "name": "stdout",
     "output_type": "stream",
     "text": [
      "1/1 [==============================] - 0s 72ms/step\n"
     ]
    },
    {
     "name": "stderr",
     "output_type": "stream",
     "text": [
      "processing file 567 of 1000: gtzan_genre_rock.00066"
     ]
    },
    {
     "name": "stdout",
     "output_type": "stream",
     "text": [
      "1/1 [==============================] - 0s 70ms/step\n"
     ]
    },
    {
     "name": "stderr",
     "output_type": "stream",
     "text": [
      "processing file 568 of 1000: gtzan_genre_rock.00067"
     ]
    },
    {
     "name": "stdout",
     "output_type": "stream",
     "text": [
      "1/1 [==============================] - 0s 71ms/step\n"
     ]
    },
    {
     "name": "stderr",
     "output_type": "stream",
     "text": [
      "processing file 569 of 1000: gtzan_genre_rock.00068"
     ]
    },
    {
     "name": "stdout",
     "output_type": "stream",
     "text": [
      "1/1 [==============================] - 0s 60ms/step\n"
     ]
    },
    {
     "name": "stderr",
     "output_type": "stream",
     "text": [
      "processing file 570 of 1000: gtzan_genre_rock.00069"
     ]
    },
    {
     "name": "stdout",
     "output_type": "stream",
     "text": [
      "1/1 [==============================] - 0s 64ms/step\n"
     ]
    },
    {
     "name": "stderr",
     "output_type": "stream",
     "text": [
      "processing file 571 of 1000: gtzan_genre_rock.00070"
     ]
    },
    {
     "name": "stdout",
     "output_type": "stream",
     "text": [
      "1/1 [==============================] - 0s 66ms/step\n"
     ]
    },
    {
     "name": "stderr",
     "output_type": "stream",
     "text": [
      "processing file 572 of 1000: gtzan_genre_rock.00071"
     ]
    },
    {
     "name": "stdout",
     "output_type": "stream",
     "text": [
      "1/1 [==============================] - 0s 66ms/step\n"
     ]
    },
    {
     "name": "stderr",
     "output_type": "stream",
     "text": [
      "processing file 573 of 1000: gtzan_genre_rock.00072"
     ]
    },
    {
     "name": "stdout",
     "output_type": "stream",
     "text": [
      "1/1 [==============================] - 0s 68ms/step\n"
     ]
    },
    {
     "name": "stderr",
     "output_type": "stream",
     "text": [
      "processing file 574 of 1000: gtzan_genre_rock.00073"
     ]
    },
    {
     "name": "stdout",
     "output_type": "stream",
     "text": [
      "1/1 [==============================] - 0s 50ms/step\n"
     ]
    },
    {
     "name": "stderr",
     "output_type": "stream",
     "text": [
      "processing file 575 of 1000: gtzan_genre_rock.00074"
     ]
    },
    {
     "name": "stdout",
     "output_type": "stream",
     "text": [
      "1/1 [==============================] - 0s 50ms/step\n"
     ]
    },
    {
     "name": "stderr",
     "output_type": "stream",
     "text": [
      "processing file 576 of 1000: gtzan_genre_rock.00075"
     ]
    },
    {
     "name": "stdout",
     "output_type": "stream",
     "text": [
      "1/1 [==============================] - 0s 51ms/step\n"
     ]
    },
    {
     "name": "stderr",
     "output_type": "stream",
     "text": [
      "processing file 577 of 1000: gtzan_genre_rock.00076"
     ]
    },
    {
     "name": "stdout",
     "output_type": "stream",
     "text": [
      "1/1 [==============================] - 0s 49ms/step\n"
     ]
    },
    {
     "name": "stderr",
     "output_type": "stream",
     "text": [
      "processing file 578 of 1000: gtzan_genre_rock.00077"
     ]
    },
    {
     "name": "stdout",
     "output_type": "stream",
     "text": [
      "1/1 [==============================] - 0s 55ms/step\n"
     ]
    },
    {
     "name": "stderr",
     "output_type": "stream",
     "text": [
      "processing file 579 of 1000: gtzan_genre_rock.00078"
     ]
    },
    {
     "name": "stdout",
     "output_type": "stream",
     "text": [
      "1/1 [==============================] - 0s 54ms/step\n"
     ]
    },
    {
     "name": "stderr",
     "output_type": "stream",
     "text": [
      "processing file 580 of 1000: gtzan_genre_rock.00079"
     ]
    },
    {
     "name": "stdout",
     "output_type": "stream",
     "text": [
      "1/1 [==============================] - 0s 80ms/step\n"
     ]
    },
    {
     "name": "stderr",
     "output_type": "stream",
     "text": [
      "processing file 581 of 1000: gtzan_genre_rock.00080"
     ]
    },
    {
     "name": "stdout",
     "output_type": "stream",
     "text": [
      "1/1 [==============================] - 0s 60ms/step\n"
     ]
    },
    {
     "name": "stderr",
     "output_type": "stream",
     "text": [
      "processing file 582 of 1000: gtzan_genre_rock.00081"
     ]
    },
    {
     "name": "stdout",
     "output_type": "stream",
     "text": [
      "1/1 [==============================] - 0s 69ms/step\n"
     ]
    },
    {
     "name": "stderr",
     "output_type": "stream",
     "text": [
      "processing file 583 of 1000: gtzan_genre_rock.00082"
     ]
    },
    {
     "name": "stdout",
     "output_type": "stream",
     "text": [
      "1/1 [==============================] - 0s 55ms/step\n"
     ]
    },
    {
     "name": "stderr",
     "output_type": "stream",
     "text": [
      "processing file 584 of 1000: gtzan_genre_rock.00083"
     ]
    },
    {
     "name": "stdout",
     "output_type": "stream",
     "text": [
      "1/1 [==============================] - 0s 61ms/step\n"
     ]
    },
    {
     "name": "stderr",
     "output_type": "stream",
     "text": [
      "processing file 585 of 1000: gtzan_genre_rock.00084"
     ]
    },
    {
     "name": "stdout",
     "output_type": "stream",
     "text": [
      "1/1 [==============================] - 0s 53ms/step\n"
     ]
    },
    {
     "name": "stderr",
     "output_type": "stream",
     "text": [
      "processing file 586 of 1000: gtzan_genre_rock.00085"
     ]
    },
    {
     "name": "stdout",
     "output_type": "stream",
     "text": [
      "1/1 [==============================] - 0s 50ms/step\n"
     ]
    },
    {
     "name": "stderr",
     "output_type": "stream",
     "text": [
      "processing file 587 of 1000: gtzan_genre_rock.00086"
     ]
    },
    {
     "name": "stdout",
     "output_type": "stream",
     "text": [
      "1/1 [==============================] - 0s 55ms/step\n"
     ]
    },
    {
     "name": "stderr",
     "output_type": "stream",
     "text": [
      "processing file 588 of 1000: gtzan_genre_rock.00087"
     ]
    },
    {
     "name": "stdout",
     "output_type": "stream",
     "text": [
      "1/1 [==============================] - 0s 55ms/step\n"
     ]
    },
    {
     "name": "stderr",
     "output_type": "stream",
     "text": [
      "processing file 589 of 1000: gtzan_genre_rock.00088"
     ]
    },
    {
     "name": "stdout",
     "output_type": "stream",
     "text": [
      "1/1 [==============================] - 0s 64ms/step\n"
     ]
    },
    {
     "name": "stderr",
     "output_type": "stream",
     "text": [
      "processing file 590 of 1000: gtzan_genre_rock.00089"
     ]
    },
    {
     "name": "stdout",
     "output_type": "stream",
     "text": [
      "1/1 [==============================] - 0s 55ms/step\n"
     ]
    },
    {
     "name": "stderr",
     "output_type": "stream",
     "text": [
      "processing file 591 of 1000: gtzan_genre_rock.00090"
     ]
    },
    {
     "name": "stdout",
     "output_type": "stream",
     "text": [
      "1/1 [==============================] - 0s 47ms/step\n"
     ]
    },
    {
     "name": "stderr",
     "output_type": "stream",
     "text": [
      "processing file 592 of 1000: gtzan_genre_rock.00091"
     ]
    },
    {
     "name": "stdout",
     "output_type": "stream",
     "text": [
      "1/1 [==============================] - 0s 50ms/step\n"
     ]
    },
    {
     "name": "stderr",
     "output_type": "stream",
     "text": [
      "processing file 593 of 1000: gtzan_genre_rock.00092"
     ]
    },
    {
     "name": "stdout",
     "output_type": "stream",
     "text": [
      "1/1 [==============================] - 0s 50ms/step\n"
     ]
    },
    {
     "name": "stderr",
     "output_type": "stream",
     "text": [
      "processing file 594 of 1000: gtzan_genre_rock.00093"
     ]
    },
    {
     "name": "stdout",
     "output_type": "stream",
     "text": [
      "1/1 [==============================] - 0s 55ms/step\n"
     ]
    },
    {
     "name": "stderr",
     "output_type": "stream",
     "text": [
      "processing file 595 of 1000: gtzan_genre_rock.00094"
     ]
    },
    {
     "name": "stdout",
     "output_type": "stream",
     "text": [
      "1/1 [==============================] - 0s 50ms/step\n"
     ]
    },
    {
     "name": "stderr",
     "output_type": "stream",
     "text": [
      "processing file 596 of 1000: gtzan_genre_rock.00095"
     ]
    },
    {
     "name": "stdout",
     "output_type": "stream",
     "text": [
      "1/1 [==============================] - 0s 53ms/step\n"
     ]
    },
    {
     "name": "stderr",
     "output_type": "stream",
     "text": [
      "processing file 597 of 1000: gtzan_genre_rock.00096"
     ]
    },
    {
     "name": "stdout",
     "output_type": "stream",
     "text": [
      "1/1 [==============================] - 0s 65ms/step\n"
     ]
    },
    {
     "name": "stderr",
     "output_type": "stream",
     "text": [
      "processing file 598 of 1000: gtzan_genre_rock.00097"
     ]
    },
    {
     "name": "stdout",
     "output_type": "stream",
     "text": [
      "1/1 [==============================] - 0s 59ms/step\n"
     ]
    },
    {
     "name": "stderr",
     "output_type": "stream",
     "text": [
      "processing file 599 of 1000: gtzan_genre_rock.00098"
     ]
    },
    {
     "name": "stdout",
     "output_type": "stream",
     "text": [
      "1/1 [==============================] - 0s 60ms/step\n"
     ]
    },
    {
     "name": "stderr",
     "output_type": "stream",
     "text": [
      "processing file 600 of 1000: gtzan_genre_rock.00099"
     ]
    },
    {
     "name": "stdout",
     "output_type": "stream",
     "text": [
      "1/1 [==============================] - 0s 55ms/step\n"
     ]
    },
    {
     "name": "stderr",
     "output_type": "stream",
     "text": [
      "processing file 601 of 1000: gtzan_genre_blues.00000"
     ]
    },
    {
     "name": "stdout",
     "output_type": "stream",
     "text": [
      "1/1 [==============================] - 0s 59ms/step\n"
     ]
    },
    {
     "name": "stderr",
     "output_type": "stream",
     "text": [
      "processing file 602 of 1000: gtzan_genre_blues.00001"
     ]
    },
    {
     "name": "stdout",
     "output_type": "stream",
     "text": [
      "1/1 [==============================] - 0s 68ms/step\n"
     ]
    },
    {
     "name": "stderr",
     "output_type": "stream",
     "text": [
      "processing file 603 of 1000: gtzan_genre_blues.00002"
     ]
    },
    {
     "name": "stdout",
     "output_type": "stream",
     "text": [
      "1/1 [==============================] - 0s 52ms/step\n"
     ]
    },
    {
     "name": "stderr",
     "output_type": "stream",
     "text": [
      "processing file 604 of 1000: gtzan_genre_blues.00003"
     ]
    },
    {
     "name": "stdout",
     "output_type": "stream",
     "text": [
      "1/1 [==============================] - 0s 55ms/step\n"
     ]
    },
    {
     "name": "stderr",
     "output_type": "stream",
     "text": [
      "processing file 605 of 1000: gtzan_genre_blues.00004"
     ]
    },
    {
     "name": "stdout",
     "output_type": "stream",
     "text": [
      "1/1 [==============================] - 0s 50ms/step\n"
     ]
    },
    {
     "name": "stderr",
     "output_type": "stream",
     "text": [
      "processing file 606 of 1000: gtzan_genre_blues.00005"
     ]
    },
    {
     "name": "stdout",
     "output_type": "stream",
     "text": [
      "1/1 [==============================] - 0s 49ms/step\n"
     ]
    },
    {
     "name": "stderr",
     "output_type": "stream",
     "text": [
      "processing file 607 of 1000: gtzan_genre_blues.00006"
     ]
    },
    {
     "name": "stdout",
     "output_type": "stream",
     "text": [
      "1/1 [==============================] - 0s 69ms/step\n"
     ]
    },
    {
     "name": "stderr",
     "output_type": "stream",
     "text": [
      "processing file 608 of 1000: gtzan_genre_blues.00007"
     ]
    },
    {
     "name": "stdout",
     "output_type": "stream",
     "text": [
      "1/1 [==============================] - 0s 53ms/step\n"
     ]
    },
    {
     "name": "stderr",
     "output_type": "stream",
     "text": [
      "processing file 609 of 1000: gtzan_genre_blues.00008"
     ]
    },
    {
     "name": "stdout",
     "output_type": "stream",
     "text": [
      "1/1 [==============================] - 0s 50ms/step\n"
     ]
    },
    {
     "name": "stderr",
     "output_type": "stream",
     "text": [
      "processing file 610 of 1000: gtzan_genre_blues.00009"
     ]
    },
    {
     "name": "stdout",
     "output_type": "stream",
     "text": [
      "1/1 [==============================] - 0s 63ms/step\n"
     ]
    },
    {
     "name": "stderr",
     "output_type": "stream",
     "text": [
      "processing file 611 of 1000: gtzan_genre_blues.00010"
     ]
    },
    {
     "name": "stdout",
     "output_type": "stream",
     "text": [
      "1/1 [==============================] - 0s 59ms/step\n"
     ]
    },
    {
     "name": "stderr",
     "output_type": "stream",
     "text": [
      "processing file 612 of 1000: gtzan_genre_blues.00011"
     ]
    },
    {
     "name": "stdout",
     "output_type": "stream",
     "text": [
      "1/1 [==============================] - 0s 70ms/step\n"
     ]
    },
    {
     "name": "stderr",
     "output_type": "stream",
     "text": [
      "processing file 613 of 1000: gtzan_genre_blues.00012"
     ]
    },
    {
     "name": "stdout",
     "output_type": "stream",
     "text": [
      "1/1 [==============================] - 0s 58ms/step\n"
     ]
    },
    {
     "name": "stderr",
     "output_type": "stream",
     "text": [
      "processing file 614 of 1000: gtzan_genre_blues.00013"
     ]
    },
    {
     "name": "stdout",
     "output_type": "stream",
     "text": [
      "1/1 [==============================] - 0s 54ms/step\n"
     ]
    },
    {
     "name": "stderr",
     "output_type": "stream",
     "text": [
      "processing file 615 of 1000: gtzan_genre_blues.00014"
     ]
    },
    {
     "name": "stdout",
     "output_type": "stream",
     "text": [
      "1/1 [==============================] - 0s 50ms/step\n"
     ]
    },
    {
     "name": "stderr",
     "output_type": "stream",
     "text": [
      "processing file 616 of 1000: gtzan_genre_blues.00015"
     ]
    },
    {
     "name": "stdout",
     "output_type": "stream",
     "text": [
      "1/1 [==============================] - 0s 56ms/step\n"
     ]
    },
    {
     "name": "stderr",
     "output_type": "stream",
     "text": [
      "processing file 617 of 1000: gtzan_genre_blues.00016"
     ]
    },
    {
     "name": "stdout",
     "output_type": "stream",
     "text": [
      "1/1 [==============================] - 0s 60ms/step\n"
     ]
    },
    {
     "name": "stderr",
     "output_type": "stream",
     "text": [
      "processing file 618 of 1000: gtzan_genre_blues.00017"
     ]
    },
    {
     "name": "stdout",
     "output_type": "stream",
     "text": [
      "1/1 [==============================] - 0s 61ms/step\n"
     ]
    },
    {
     "name": "stderr",
     "output_type": "stream",
     "text": [
      "processing file 619 of 1000: gtzan_genre_blues.00018"
     ]
    },
    {
     "name": "stdout",
     "output_type": "stream",
     "text": [
      "1/1 [==============================] - 0s 58ms/step\n"
     ]
    },
    {
     "name": "stderr",
     "output_type": "stream",
     "text": [
      "processing file 620 of 1000: gtzan_genre_blues.00019"
     ]
    },
    {
     "name": "stdout",
     "output_type": "stream",
     "text": [
      "1/1 [==============================] - 0s 55ms/step\n"
     ]
    },
    {
     "name": "stderr",
     "output_type": "stream",
     "text": [
      "processing file 621 of 1000: gtzan_genre_blues.00020"
     ]
    },
    {
     "name": "stdout",
     "output_type": "stream",
     "text": [
      "1/1 [==============================] - 0s 57ms/step\n"
     ]
    },
    {
     "name": "stderr",
     "output_type": "stream",
     "text": [
      "processing file 622 of 1000: gtzan_genre_blues.00021"
     ]
    },
    {
     "name": "stdout",
     "output_type": "stream",
     "text": [
      "1/1 [==============================] - 0s 100ms/step\n"
     ]
    },
    {
     "name": "stderr",
     "output_type": "stream",
     "text": [
      "processing file 623 of 1000: gtzan_genre_blues.00022"
     ]
    },
    {
     "name": "stdout",
     "output_type": "stream",
     "text": [
      "1/1 [==============================] - 0s 111ms/step\n"
     ]
    },
    {
     "name": "stderr",
     "output_type": "stream",
     "text": [
      "processing file 624 of 1000: gtzan_genre_blues.00023"
     ]
    },
    {
     "name": "stdout",
     "output_type": "stream",
     "text": [
      "1/1 [==============================] - 0s 90ms/step\n"
     ]
    },
    {
     "name": "stderr",
     "output_type": "stream",
     "text": [
      "processing file 625 of 1000: gtzan_genre_blues.00024"
     ]
    },
    {
     "name": "stdout",
     "output_type": "stream",
     "text": [
      "1/1 [==============================] - 0s 78ms/step\n"
     ]
    },
    {
     "name": "stderr",
     "output_type": "stream",
     "text": [
      "processing file 626 of 1000: gtzan_genre_blues.00025"
     ]
    },
    {
     "name": "stdout",
     "output_type": "stream",
     "text": [
      "1/1 [==============================] - 0s 100ms/step\n"
     ]
    },
    {
     "name": "stderr",
     "output_type": "stream",
     "text": [
      "processing file 627 of 1000: gtzan_genre_blues.00026"
     ]
    },
    {
     "name": "stdout",
     "output_type": "stream",
     "text": [
      "1/1 [==============================] - 0s 99ms/step\n"
     ]
    },
    {
     "name": "stderr",
     "output_type": "stream",
     "text": [
      "processing file 628 of 1000: gtzan_genre_blues.00027"
     ]
    },
    {
     "name": "stdout",
     "output_type": "stream",
     "text": [
      "1/1 [==============================] - 0s 84ms/step\n"
     ]
    },
    {
     "name": "stderr",
     "output_type": "stream",
     "text": [
      "processing file 629 of 1000: gtzan_genre_blues.00028"
     ]
    },
    {
     "name": "stdout",
     "output_type": "stream",
     "text": [
      "1/1 [==============================] - 0s 80ms/step\n"
     ]
    },
    {
     "name": "stderr",
     "output_type": "stream",
     "text": [
      "processing file 630 of 1000: gtzan_genre_blues.00029"
     ]
    },
    {
     "name": "stdout",
     "output_type": "stream",
     "text": [
      "1/1 [==============================] - 0s 75ms/step\n"
     ]
    },
    {
     "name": "stderr",
     "output_type": "stream",
     "text": [
      "processing file 631 of 1000: gtzan_genre_blues.00030"
     ]
    },
    {
     "name": "stdout",
     "output_type": "stream",
     "text": [
      "1/1 [==============================] - 0s 66ms/step\n"
     ]
    },
    {
     "name": "stderr",
     "output_type": "stream",
     "text": [
      "processing file 632 of 1000: gtzan_genre_blues.00031"
     ]
    },
    {
     "name": "stdout",
     "output_type": "stream",
     "text": [
      "1/1 [==============================] - 0s 70ms/step\n"
     ]
    },
    {
     "name": "stderr",
     "output_type": "stream",
     "text": [
      "processing file 633 of 1000: gtzan_genre_blues.00032"
     ]
    },
    {
     "name": "stdout",
     "output_type": "stream",
     "text": [
      "1/1 [==============================] - 0s 60ms/step\n"
     ]
    },
    {
     "name": "stderr",
     "output_type": "stream",
     "text": [
      "processing file 634 of 1000: gtzan_genre_blues.00033"
     ]
    },
    {
     "name": "stdout",
     "output_type": "stream",
     "text": [
      "1/1 [==============================] - 0s 65ms/step\n"
     ]
    },
    {
     "name": "stderr",
     "output_type": "stream",
     "text": [
      "processing file 635 of 1000: gtzan_genre_blues.00034"
     ]
    },
    {
     "name": "stdout",
     "output_type": "stream",
     "text": [
      "1/1 [==============================] - 0s 76ms/step\n"
     ]
    },
    {
     "name": "stderr",
     "output_type": "stream",
     "text": [
      "processing file 636 of 1000: gtzan_genre_blues.00035"
     ]
    },
    {
     "name": "stdout",
     "output_type": "stream",
     "text": [
      "1/1 [==============================] - 0s 68ms/step\n"
     ]
    },
    {
     "name": "stderr",
     "output_type": "stream",
     "text": [
      "processing file 637 of 1000: gtzan_genre_blues.00036"
     ]
    },
    {
     "name": "stdout",
     "output_type": "stream",
     "text": [
      "1/1 [==============================] - 0s 62ms/step\n"
     ]
    },
    {
     "name": "stderr",
     "output_type": "stream",
     "text": [
      "processing file 638 of 1000: gtzan_genre_blues.00037"
     ]
    },
    {
     "name": "stdout",
     "output_type": "stream",
     "text": [
      "1/1 [==============================] - 0s 63ms/step\n"
     ]
    },
    {
     "name": "stderr",
     "output_type": "stream",
     "text": [
      "processing file 639 of 1000: gtzan_genre_blues.00038"
     ]
    },
    {
     "name": "stdout",
     "output_type": "stream",
     "text": [
      "1/1 [==============================] - 0s 72ms/step\n"
     ]
    },
    {
     "name": "stderr",
     "output_type": "stream",
     "text": [
      "processing file 640 of 1000: gtzan_genre_blues.00039"
     ]
    },
    {
     "name": "stdout",
     "output_type": "stream",
     "text": [
      "1/1 [==============================] - 0s 70ms/step\n"
     ]
    },
    {
     "name": "stderr",
     "output_type": "stream",
     "text": [
      "processing file 641 of 1000: gtzan_genre_blues.00040"
     ]
    },
    {
     "name": "stdout",
     "output_type": "stream",
     "text": [
      "1/1 [==============================] - 0s 66ms/step\n"
     ]
    },
    {
     "name": "stderr",
     "output_type": "stream",
     "text": [
      "processing file 642 of 1000: gtzan_genre_blues.00041"
     ]
    },
    {
     "name": "stdout",
     "output_type": "stream",
     "text": [
      "1/1 [==============================] - 0s 64ms/step\n"
     ]
    },
    {
     "name": "stderr",
     "output_type": "stream",
     "text": [
      "processing file 643 of 1000: gtzan_genre_blues.00042"
     ]
    },
    {
     "name": "stdout",
     "output_type": "stream",
     "text": [
      "1/1 [==============================] - 0s 70ms/step\n"
     ]
    },
    {
     "name": "stderr",
     "output_type": "stream",
     "text": [
      "processing file 644 of 1000: gtzan_genre_blues.00043"
     ]
    },
    {
     "name": "stdout",
     "output_type": "stream",
     "text": [
      "1/1 [==============================] - 0s 70ms/step\n"
     ]
    },
    {
     "name": "stderr",
     "output_type": "stream",
     "text": [
      "processing file 645 of 1000: gtzan_genre_blues.00044"
     ]
    },
    {
     "name": "stdout",
     "output_type": "stream",
     "text": [
      "1/1 [==============================] - 0s 63ms/step\n"
     ]
    },
    {
     "name": "stderr",
     "output_type": "stream",
     "text": [
      "processing file 646 of 1000: gtzan_genre_blues.00045"
     ]
    },
    {
     "name": "stdout",
     "output_type": "stream",
     "text": [
      "1/1 [==============================] - 0s 60ms/step\n"
     ]
    },
    {
     "name": "stderr",
     "output_type": "stream",
     "text": [
      "processing file 647 of 1000: gtzan_genre_blues.00046"
     ]
    },
    {
     "name": "stdout",
     "output_type": "stream",
     "text": [
      "1/1 [==============================] - 0s 64ms/step\n"
     ]
    },
    {
     "name": "stderr",
     "output_type": "stream",
     "text": [
      "processing file 648 of 1000: gtzan_genre_blues.00047"
     ]
    },
    {
     "name": "stdout",
     "output_type": "stream",
     "text": [
      "1/1 [==============================] - 0s 69ms/step\n"
     ]
    },
    {
     "name": "stderr",
     "output_type": "stream",
     "text": [
      "processing file 649 of 1000: gtzan_genre_blues.00048"
     ]
    },
    {
     "name": "stdout",
     "output_type": "stream",
     "text": [
      "1/1 [==============================] - 0s 63ms/step\n"
     ]
    },
    {
     "name": "stderr",
     "output_type": "stream",
     "text": [
      "processing file 650 of 1000: gtzan_genre_blues.00049"
     ]
    },
    {
     "name": "stdout",
     "output_type": "stream",
     "text": [
      "1/1 [==============================] - 0s 59ms/step\n"
     ]
    },
    {
     "name": "stderr",
     "output_type": "stream",
     "text": [
      "processing file 651 of 1000: gtzan_genre_blues.00050"
     ]
    },
    {
     "name": "stdout",
     "output_type": "stream",
     "text": [
      "1/1 [==============================] - 0s 60ms/step\n"
     ]
    },
    {
     "name": "stderr",
     "output_type": "stream",
     "text": [
      "processing file 652 of 1000: gtzan_genre_blues.00051"
     ]
    },
    {
     "name": "stdout",
     "output_type": "stream",
     "text": [
      "1/1 [==============================] - 0s 68ms/step\n"
     ]
    },
    {
     "name": "stderr",
     "output_type": "stream",
     "text": [
      "processing file 653 of 1000: gtzan_genre_blues.00052"
     ]
    },
    {
     "name": "stdout",
     "output_type": "stream",
     "text": [
      "1/1 [==============================] - 0s 72ms/step\n"
     ]
    },
    {
     "name": "stderr",
     "output_type": "stream",
     "text": [
      "processing file 654 of 1000: gtzan_genre_blues.00053"
     ]
    },
    {
     "name": "stdout",
     "output_type": "stream",
     "text": [
      "1/1 [==============================] - 0s 75ms/step\n"
     ]
    },
    {
     "name": "stderr",
     "output_type": "stream",
     "text": [
      "processing file 655 of 1000: gtzan_genre_blues.00054"
     ]
    },
    {
     "name": "stdout",
     "output_type": "stream",
     "text": [
      "1/1 [==============================] - 0s 65ms/step\n"
     ]
    },
    {
     "name": "stderr",
     "output_type": "stream",
     "text": [
      "processing file 656 of 1000: gtzan_genre_blues.00055"
     ]
    },
    {
     "name": "stdout",
     "output_type": "stream",
     "text": [
      "1/1 [==============================] - 0s 73ms/step\n"
     ]
    },
    {
     "name": "stderr",
     "output_type": "stream",
     "text": [
      "processing file 657 of 1000: gtzan_genre_blues.00056"
     ]
    },
    {
     "name": "stdout",
     "output_type": "stream",
     "text": [
      "1/1 [==============================] - 0s 71ms/step\n"
     ]
    },
    {
     "name": "stderr",
     "output_type": "stream",
     "text": [
      "processing file 658 of 1000: gtzan_genre_blues.00057"
     ]
    },
    {
     "name": "stdout",
     "output_type": "stream",
     "text": [
      "1/1 [==============================] - 0s 73ms/step\n"
     ]
    },
    {
     "name": "stderr",
     "output_type": "stream",
     "text": [
      "processing file 659 of 1000: gtzan_genre_blues.00058"
     ]
    },
    {
     "name": "stdout",
     "output_type": "stream",
     "text": [
      "1/1 [==============================] - 0s 80ms/step\n"
     ]
    },
    {
     "name": "stderr",
     "output_type": "stream",
     "text": [
      "processing file 660 of 1000: gtzan_genre_blues.00059"
     ]
    },
    {
     "name": "stdout",
     "output_type": "stream",
     "text": [
      "1/1 [==============================] - 0s 81ms/step\n"
     ]
    },
    {
     "name": "stderr",
     "output_type": "stream",
     "text": [
      "processing file 661 of 1000: gtzan_genre_blues.00060"
     ]
    },
    {
     "name": "stdout",
     "output_type": "stream",
     "text": [
      "1/1 [==============================] - 0s 81ms/step\n"
     ]
    },
    {
     "name": "stderr",
     "output_type": "stream",
     "text": [
      "processing file 662 of 1000: gtzan_genre_blues.00061"
     ]
    },
    {
     "name": "stdout",
     "output_type": "stream",
     "text": [
      "1/1 [==============================] - 0s 81ms/step\n"
     ]
    },
    {
     "name": "stderr",
     "output_type": "stream",
     "text": [
      "processing file 663 of 1000: gtzan_genre_blues.00062"
     ]
    },
    {
     "name": "stdout",
     "output_type": "stream",
     "text": [
      "1/1 [==============================] - 0s 80ms/step\n"
     ]
    },
    {
     "name": "stderr",
     "output_type": "stream",
     "text": [
      "processing file 664 of 1000: gtzan_genre_blues.00063"
     ]
    },
    {
     "name": "stdout",
     "output_type": "stream",
     "text": [
      "1/1 [==============================] - 0s 84ms/step\n"
     ]
    },
    {
     "name": "stderr",
     "output_type": "stream",
     "text": [
      "processing file 665 of 1000: gtzan_genre_blues.00064"
     ]
    },
    {
     "name": "stdout",
     "output_type": "stream",
     "text": [
      "1/1 [==============================] - 0s 74ms/step\n"
     ]
    },
    {
     "name": "stderr",
     "output_type": "stream",
     "text": [
      "processing file 666 of 1000: gtzan_genre_blues.00065"
     ]
    },
    {
     "name": "stdout",
     "output_type": "stream",
     "text": [
      "1/1 [==============================] - 0s 84ms/step\n"
     ]
    },
    {
     "name": "stderr",
     "output_type": "stream",
     "text": [
      "processing file 667 of 1000: gtzan_genre_blues.00066"
     ]
    },
    {
     "name": "stdout",
     "output_type": "stream",
     "text": [
      "1/1 [==============================] - 0s 80ms/step\n"
     ]
    },
    {
     "name": "stderr",
     "output_type": "stream",
     "text": [
      "processing file 668 of 1000: gtzan_genre_blues.00067"
     ]
    },
    {
     "name": "stdout",
     "output_type": "stream",
     "text": [
      "1/1 [==============================] - 0s 90ms/step\n"
     ]
    },
    {
     "name": "stderr",
     "output_type": "stream",
     "text": [
      "processing file 669 of 1000: gtzan_genre_blues.00068"
     ]
    },
    {
     "name": "stdout",
     "output_type": "stream",
     "text": [
      "1/1 [==============================] - 0s 96ms/step\n"
     ]
    },
    {
     "name": "stderr",
     "output_type": "stream",
     "text": [
      "processing file 670 of 1000: gtzan_genre_blues.00069"
     ]
    },
    {
     "name": "stdout",
     "output_type": "stream",
     "text": [
      "1/1 [==============================] - 0s 95ms/step\n"
     ]
    },
    {
     "name": "stderr",
     "output_type": "stream",
     "text": [
      "processing file 671 of 1000: gtzan_genre_blues.00070"
     ]
    },
    {
     "name": "stdout",
     "output_type": "stream",
     "text": [
      "1/1 [==============================] - 0s 90ms/step\n"
     ]
    },
    {
     "name": "stderr",
     "output_type": "stream",
     "text": [
      "processing file 672 of 1000: gtzan_genre_blues.00071"
     ]
    },
    {
     "name": "stdout",
     "output_type": "stream",
     "text": [
      "1/1 [==============================] - 0s 114ms/step\n"
     ]
    },
    {
     "name": "stderr",
     "output_type": "stream",
     "text": [
      "processing file 673 of 1000: gtzan_genre_blues.00072"
     ]
    },
    {
     "name": "stdout",
     "output_type": "stream",
     "text": [
      "1/1 [==============================] - 0s 105ms/step\n"
     ]
    },
    {
     "name": "stderr",
     "output_type": "stream",
     "text": [
      "processing file 674 of 1000: gtzan_genre_blues.00073"
     ]
    },
    {
     "name": "stdout",
     "output_type": "stream",
     "text": [
      "1/1 [==============================] - 0s 115ms/step\n"
     ]
    },
    {
     "name": "stderr",
     "output_type": "stream",
     "text": [
      "processing file 675 of 1000: gtzan_genre_blues.00074"
     ]
    },
    {
     "name": "stdout",
     "output_type": "stream",
     "text": [
      "1/1 [==============================] - 0s 90ms/step\n"
     ]
    },
    {
     "name": "stderr",
     "output_type": "stream",
     "text": [
      "processing file 676 of 1000: gtzan_genre_blues.00075"
     ]
    },
    {
     "name": "stdout",
     "output_type": "stream",
     "text": [
      "1/1 [==============================] - 0s 114ms/step\n"
     ]
    },
    {
     "name": "stderr",
     "output_type": "stream",
     "text": [
      "processing file 677 of 1000: gtzan_genre_blues.00076"
     ]
    },
    {
     "name": "stdout",
     "output_type": "stream",
     "text": [
      "1/1 [==============================] - 0s 102ms/step\n"
     ]
    },
    {
     "name": "stderr",
     "output_type": "stream",
     "text": [
      "processing file 678 of 1000: gtzan_genre_blues.00077"
     ]
    },
    {
     "name": "stdout",
     "output_type": "stream",
     "text": [
      "1/1 [==============================] - 0s 97ms/step\n"
     ]
    },
    {
     "name": "stderr",
     "output_type": "stream",
     "text": [
      "processing file 679 of 1000: gtzan_genre_blues.00078"
     ]
    },
    {
     "name": "stdout",
     "output_type": "stream",
     "text": [
      "1/1 [==============================] - 0s 99ms/step\n"
     ]
    },
    {
     "name": "stderr",
     "output_type": "stream",
     "text": [
      "processing file 680 of 1000: gtzan_genre_blues.00079"
     ]
    },
    {
     "name": "stdout",
     "output_type": "stream",
     "text": [
      "1/1 [==============================] - 0s 106ms/step\n"
     ]
    },
    {
     "name": "stderr",
     "output_type": "stream",
     "text": [
      "processing file 681 of 1000: gtzan_genre_blues.00080"
     ]
    },
    {
     "name": "stdout",
     "output_type": "stream",
     "text": [
      "1/1 [==============================] - 0s 100ms/step\n"
     ]
    },
    {
     "name": "stderr",
     "output_type": "stream",
     "text": [
      "processing file 682 of 1000: gtzan_genre_blues.00081"
     ]
    },
    {
     "name": "stdout",
     "output_type": "stream",
     "text": [
      "1/1 [==============================] - 0s 130ms/step\n"
     ]
    },
    {
     "name": "stderr",
     "output_type": "stream",
     "text": [
      "processing file 683 of 1000: gtzan_genre_blues.00082"
     ]
    },
    {
     "name": "stdout",
     "output_type": "stream",
     "text": [
      "1/1 [==============================] - 0s 107ms/step\n"
     ]
    },
    {
     "name": "stderr",
     "output_type": "stream",
     "text": [
      "processing file 684 of 1000: gtzan_genre_blues.00083"
     ]
    },
    {
     "name": "stdout",
     "output_type": "stream",
     "text": [
      "1/1 [==============================] - 0s 95ms/step\n"
     ]
    },
    {
     "name": "stderr",
     "output_type": "stream",
     "text": [
      "processing file 685 of 1000: gtzan_genre_blues.00084"
     ]
    },
    {
     "name": "stdout",
     "output_type": "stream",
     "text": [
      "1/1 [==============================] - 0s 88ms/step\n"
     ]
    },
    {
     "name": "stderr",
     "output_type": "stream",
     "text": [
      "processing file 686 of 1000: gtzan_genre_blues.00085"
     ]
    },
    {
     "name": "stdout",
     "output_type": "stream",
     "text": [
      "1/1 [==============================] - 0s 112ms/step\n"
     ]
    },
    {
     "name": "stderr",
     "output_type": "stream",
     "text": [
      "processing file 687 of 1000: gtzan_genre_blues.00086"
     ]
    },
    {
     "name": "stdout",
     "output_type": "stream",
     "text": [
      "1/1 [==============================] - 0s 90ms/step\n"
     ]
    },
    {
     "name": "stderr",
     "output_type": "stream",
     "text": [
      "processing file 688 of 1000: gtzan_genre_blues.00087"
     ]
    },
    {
     "name": "stdout",
     "output_type": "stream",
     "text": [
      "1/1 [==============================] - 0s 82ms/step\n"
     ]
    },
    {
     "name": "stderr",
     "output_type": "stream",
     "text": [
      "processing file 689 of 1000: gtzan_genre_blues.00088"
     ]
    },
    {
     "name": "stdout",
     "output_type": "stream",
     "text": [
      "1/1 [==============================] - 0s 66ms/step\n"
     ]
    },
    {
     "name": "stderr",
     "output_type": "stream",
     "text": [
      "processing file 690 of 1000: gtzan_genre_blues.00089"
     ]
    },
    {
     "name": "stdout",
     "output_type": "stream",
     "text": [
      "1/1 [==============================] - 0s 80ms/step\n"
     ]
    },
    {
     "name": "stderr",
     "output_type": "stream",
     "text": [
      "processing file 691 of 1000: gtzan_genre_blues.00090"
     ]
    },
    {
     "name": "stdout",
     "output_type": "stream",
     "text": [
      "1/1 [==============================] - 0s 68ms/step\n"
     ]
    },
    {
     "name": "stderr",
     "output_type": "stream",
     "text": [
      "processing file 692 of 1000: gtzan_genre_blues.00091"
     ]
    },
    {
     "name": "stdout",
     "output_type": "stream",
     "text": [
      "1/1 [==============================] - 0s 73ms/step\n"
     ]
    },
    {
     "name": "stderr",
     "output_type": "stream",
     "text": [
      "processing file 693 of 1000: gtzan_genre_blues.00092"
     ]
    },
    {
     "name": "stdout",
     "output_type": "stream",
     "text": [
      "1/1 [==============================] - 0s 62ms/step\n"
     ]
    },
    {
     "name": "stderr",
     "output_type": "stream",
     "text": [
      "processing file 694 of 1000: gtzan_genre_blues.00093"
     ]
    },
    {
     "name": "stdout",
     "output_type": "stream",
     "text": [
      "1/1 [==============================] - 0s 61ms/step\n"
     ]
    },
    {
     "name": "stderr",
     "output_type": "stream",
     "text": [
      "processing file 695 of 1000: gtzan_genre_blues.00094"
     ]
    },
    {
     "name": "stdout",
     "output_type": "stream",
     "text": [
      "1/1 [==============================] - 0s 67ms/step\n"
     ]
    },
    {
     "name": "stderr",
     "output_type": "stream",
     "text": [
      "processing file 696 of 1000: gtzan_genre_blues.00095"
     ]
    },
    {
     "name": "stdout",
     "output_type": "stream",
     "text": [
      "1/1 [==============================] - 0s 68ms/step\n"
     ]
    },
    {
     "name": "stderr",
     "output_type": "stream",
     "text": [
      "processing file 697 of 1000: gtzan_genre_blues.00096"
     ]
    },
    {
     "name": "stdout",
     "output_type": "stream",
     "text": [
      "1/1 [==============================] - 0s 60ms/step\n"
     ]
    },
    {
     "name": "stderr",
     "output_type": "stream",
     "text": [
      "processing file 698 of 1000: gtzan_genre_blues.00097"
     ]
    },
    {
     "name": "stdout",
     "output_type": "stream",
     "text": [
      "1/1 [==============================] - 0s 70ms/step\n"
     ]
    },
    {
     "name": "stderr",
     "output_type": "stream",
     "text": [
      "processing file 699 of 1000: gtzan_genre_blues.00098"
     ]
    },
    {
     "name": "stdout",
     "output_type": "stream",
     "text": [
      "1/1 [==============================] - 0s 63ms/step\n"
     ]
    },
    {
     "name": "stderr",
     "output_type": "stream",
     "text": [
      "processing file 700 of 1000: gtzan_genre_blues.00099"
     ]
    },
    {
     "name": "stdout",
     "output_type": "stream",
     "text": [
      "1/1 [==============================] - 0s 76ms/step\n"
     ]
    },
    {
     "name": "stderr",
     "output_type": "stream",
     "text": [
      "processing file 701 of 1000: gtzan_genre_reggae.00000"
     ]
    },
    {
     "name": "stdout",
     "output_type": "stream",
     "text": [
      "1/1 [==============================] - 0s 63ms/step\n"
     ]
    },
    {
     "name": "stderr",
     "output_type": "stream",
     "text": [
      "processing file 702 of 1000: gtzan_genre_reggae.00001"
     ]
    },
    {
     "name": "stdout",
     "output_type": "stream",
     "text": [
      "1/1 [==============================] - 0s 68ms/step\n"
     ]
    },
    {
     "name": "stderr",
     "output_type": "stream",
     "text": [
      "processing file 703 of 1000: gtzan_genre_reggae.00002"
     ]
    },
    {
     "name": "stdout",
     "output_type": "stream",
     "text": [
      "1/1 [==============================] - 0s 63ms/step\n"
     ]
    },
    {
     "name": "stderr",
     "output_type": "stream",
     "text": [
      "processing file 704 of 1000: gtzan_genre_reggae.00003"
     ]
    },
    {
     "name": "stdout",
     "output_type": "stream",
     "text": [
      "1/1 [==============================] - 0s 57ms/step\n"
     ]
    },
    {
     "name": "stderr",
     "output_type": "stream",
     "text": [
      "processing file 705 of 1000: gtzan_genre_reggae.00004"
     ]
    },
    {
     "name": "stdout",
     "output_type": "stream",
     "text": [
      "1/1 [==============================] - 0s 67ms/step\n"
     ]
    },
    {
     "name": "stderr",
     "output_type": "stream",
     "text": [
      "processing file 706 of 1000: gtzan_genre_reggae.00005"
     ]
    },
    {
     "name": "stdout",
     "output_type": "stream",
     "text": [
      "1/1 [==============================] - 0s 66ms/step\n"
     ]
    },
    {
     "name": "stderr",
     "output_type": "stream",
     "text": [
      "processing file 707 of 1000: gtzan_genre_reggae.00006"
     ]
    },
    {
     "name": "stdout",
     "output_type": "stream",
     "text": [
      "1/1 [==============================] - 0s 57ms/step\n"
     ]
    },
    {
     "name": "stderr",
     "output_type": "stream",
     "text": [
      "processing file 708 of 1000: gtzan_genre_reggae.00007"
     ]
    },
    {
     "name": "stdout",
     "output_type": "stream",
     "text": [
      "1/1 [==============================] - 0s 67ms/step\n"
     ]
    },
    {
     "name": "stderr",
     "output_type": "stream",
     "text": [
      "processing file 709 of 1000: gtzan_genre_reggae.00008"
     ]
    },
    {
     "name": "stdout",
     "output_type": "stream",
     "text": [
      "1/1 [==============================] - 0s 59ms/step\n"
     ]
    },
    {
     "name": "stderr",
     "output_type": "stream",
     "text": [
      "processing file 710 of 1000: gtzan_genre_reggae.00009"
     ]
    },
    {
     "name": "stdout",
     "output_type": "stream",
     "text": [
      "1/1 [==============================] - 0s 61ms/step\n"
     ]
    },
    {
     "name": "stderr",
     "output_type": "stream",
     "text": [
      "processing file 711 of 1000: gtzan_genre_reggae.00010"
     ]
    },
    {
     "name": "stdout",
     "output_type": "stream",
     "text": [
      "1/1 [==============================] - 0s 56ms/step\n"
     ]
    },
    {
     "name": "stderr",
     "output_type": "stream",
     "text": [
      "processing file 712 of 1000: gtzan_genre_reggae.00011"
     ]
    },
    {
     "name": "stdout",
     "output_type": "stream",
     "text": [
      "1/1 [==============================] - 0s 56ms/step\n"
     ]
    },
    {
     "name": "stderr",
     "output_type": "stream",
     "text": [
      "processing file 713 of 1000: gtzan_genre_reggae.00012"
     ]
    },
    {
     "name": "stdout",
     "output_type": "stream",
     "text": [
      "1/1 [==============================] - 0s 59ms/step\n"
     ]
    },
    {
     "name": "stderr",
     "output_type": "stream",
     "text": [
      "processing file 714 of 1000: gtzan_genre_reggae.00013"
     ]
    },
    {
     "name": "stdout",
     "output_type": "stream",
     "text": [
      "1/1 [==============================] - 0s 65ms/step\n"
     ]
    },
    {
     "name": "stderr",
     "output_type": "stream",
     "text": [
      "processing file 715 of 1000: gtzan_genre_reggae.00014"
     ]
    },
    {
     "name": "stdout",
     "output_type": "stream",
     "text": [
      "1/1 [==============================] - 0s 57ms/step\n"
     ]
    },
    {
     "name": "stderr",
     "output_type": "stream",
     "text": [
      "processing file 716 of 1000: gtzan_genre_reggae.00015"
     ]
    },
    {
     "name": "stdout",
     "output_type": "stream",
     "text": [
      "1/1 [==============================] - 0s 58ms/step\n"
     ]
    },
    {
     "name": "stderr",
     "output_type": "stream",
     "text": [
      "processing file 717 of 1000: gtzan_genre_reggae.00016"
     ]
    },
    {
     "name": "stdout",
     "output_type": "stream",
     "text": [
      "1/1 [==============================] - 0s 68ms/step\n"
     ]
    },
    {
     "name": "stderr",
     "output_type": "stream",
     "text": [
      "processing file 718 of 1000: gtzan_genre_reggae.00017"
     ]
    },
    {
     "name": "stdout",
     "output_type": "stream",
     "text": [
      "1/1 [==============================] - 0s 65ms/step\n"
     ]
    },
    {
     "name": "stderr",
     "output_type": "stream",
     "text": [
      "processing file 719 of 1000: gtzan_genre_reggae.00018"
     ]
    },
    {
     "name": "stdout",
     "output_type": "stream",
     "text": [
      "1/1 [==============================] - 0s 69ms/step\n"
     ]
    },
    {
     "name": "stderr",
     "output_type": "stream",
     "text": [
      "processing file 720 of 1000: gtzan_genre_reggae.00019"
     ]
    },
    {
     "name": "stdout",
     "output_type": "stream",
     "text": [
      "1/1 [==============================] - 0s 60ms/step\n"
     ]
    },
    {
     "name": "stderr",
     "output_type": "stream",
     "text": [
      "processing file 721 of 1000: gtzan_genre_reggae.00020"
     ]
    },
    {
     "name": "stdout",
     "output_type": "stream",
     "text": [
      "1/1 [==============================] - 0s 63ms/step\n"
     ]
    },
    {
     "name": "stderr",
     "output_type": "stream",
     "text": [
      "processing file 722 of 1000: gtzan_genre_reggae.00021"
     ]
    },
    {
     "name": "stdout",
     "output_type": "stream",
     "text": [
      "1/1 [==============================] - 0s 58ms/step\n"
     ]
    },
    {
     "name": "stderr",
     "output_type": "stream",
     "text": [
      "processing file 723 of 1000: gtzan_genre_reggae.00022"
     ]
    },
    {
     "name": "stdout",
     "output_type": "stream",
     "text": [
      "1/1 [==============================] - 0s 49ms/step\n"
     ]
    },
    {
     "name": "stderr",
     "output_type": "stream",
     "text": [
      "processing file 724 of 1000: gtzan_genre_reggae.00023"
     ]
    },
    {
     "name": "stdout",
     "output_type": "stream",
     "text": [
      "1/1 [==============================] - 0s 49ms/step\n"
     ]
    },
    {
     "name": "stderr",
     "output_type": "stream",
     "text": [
      "processing file 725 of 1000: gtzan_genre_reggae.00024"
     ]
    },
    {
     "name": "stdout",
     "output_type": "stream",
     "text": [
      "1/1 [==============================] - 0s 57ms/step\n"
     ]
    },
    {
     "name": "stderr",
     "output_type": "stream",
     "text": [
      "processing file 726 of 1000: gtzan_genre_reggae.00025"
     ]
    },
    {
     "name": "stdout",
     "output_type": "stream",
     "text": [
      "1/1 [==============================] - 0s 54ms/step\n"
     ]
    },
    {
     "name": "stderr",
     "output_type": "stream",
     "text": [
      "processing file 727 of 1000: gtzan_genre_reggae.00026"
     ]
    },
    {
     "name": "stdout",
     "output_type": "stream",
     "text": [
      "1/1 [==============================] - 0s 55ms/step\n"
     ]
    },
    {
     "name": "stderr",
     "output_type": "stream",
     "text": [
      "processing file 728 of 1000: gtzan_genre_reggae.00027"
     ]
    },
    {
     "name": "stdout",
     "output_type": "stream",
     "text": [
      "1/1 [==============================] - 0s 54ms/step\n"
     ]
    },
    {
     "name": "stderr",
     "output_type": "stream",
     "text": [
      "processing file 729 of 1000: gtzan_genre_reggae.00028"
     ]
    },
    {
     "name": "stdout",
     "output_type": "stream",
     "text": [
      "1/1 [==============================] - 0s 49ms/step\n"
     ]
    },
    {
     "name": "stderr",
     "output_type": "stream",
     "text": [
      "processing file 730 of 1000: gtzan_genre_reggae.00029"
     ]
    },
    {
     "name": "stdout",
     "output_type": "stream",
     "text": [
      "1/1 [==============================] - 0s 65ms/step\n"
     ]
    },
    {
     "name": "stderr",
     "output_type": "stream",
     "text": [
      "processing file 731 of 1000: gtzan_genre_reggae.00030"
     ]
    },
    {
     "name": "stdout",
     "output_type": "stream",
     "text": [
      "1/1 [==============================] - 0s 60ms/step\n"
     ]
    },
    {
     "name": "stderr",
     "output_type": "stream",
     "text": [
      "processing file 732 of 1000: gtzan_genre_reggae.00031"
     ]
    },
    {
     "name": "stdout",
     "output_type": "stream",
     "text": [
      "1/1 [==============================] - 0s 55ms/step\n"
     ]
    },
    {
     "name": "stderr",
     "output_type": "stream",
     "text": [
      "processing file 733 of 1000: gtzan_genre_reggae.00032"
     ]
    },
    {
     "name": "stdout",
     "output_type": "stream",
     "text": [
      "1/1 [==============================] - 0s 57ms/step\n"
     ]
    },
    {
     "name": "stderr",
     "output_type": "stream",
     "text": [
      "processing file 734 of 1000: gtzan_genre_reggae.00033"
     ]
    },
    {
     "name": "stdout",
     "output_type": "stream",
     "text": [
      "1/1 [==============================] - 0s 57ms/step\n"
     ]
    },
    {
     "name": "stderr",
     "output_type": "stream",
     "text": [
      "processing file 735 of 1000: gtzan_genre_reggae.00034"
     ]
    },
    {
     "name": "stdout",
     "output_type": "stream",
     "text": [
      "1/1 [==============================] - 0s 56ms/step\n"
     ]
    },
    {
     "name": "stderr",
     "output_type": "stream",
     "text": [
      "processing file 736 of 1000: gtzan_genre_reggae.00035"
     ]
    },
    {
     "name": "stdout",
     "output_type": "stream",
     "text": [
      "1/1 [==============================] - 0s 66ms/step\n"
     ]
    },
    {
     "name": "stderr",
     "output_type": "stream",
     "text": [
      "processing file 737 of 1000: gtzan_genre_reggae.00036"
     ]
    },
    {
     "name": "stdout",
     "output_type": "stream",
     "text": [
      "1/1 [==============================] - 0s 73ms/step\n"
     ]
    },
    {
     "name": "stderr",
     "output_type": "stream",
     "text": [
      "processing file 738 of 1000: gtzan_genre_reggae.00037"
     ]
    },
    {
     "name": "stdout",
     "output_type": "stream",
     "text": [
      "1/1 [==============================] - 0s 61ms/step\n"
     ]
    },
    {
     "name": "stderr",
     "output_type": "stream",
     "text": [
      "processing file 739 of 1000: gtzan_genre_reggae.00038"
     ]
    },
    {
     "name": "stdout",
     "output_type": "stream",
     "text": [
      "1/1 [==============================] - 0s 62ms/step\n"
     ]
    },
    {
     "name": "stderr",
     "output_type": "stream",
     "text": [
      "processing file 740 of 1000: gtzan_genre_reggae.00039"
     ]
    },
    {
     "name": "stdout",
     "output_type": "stream",
     "text": [
      "1/1 [==============================] - 0s 57ms/step\n"
     ]
    },
    {
     "name": "stderr",
     "output_type": "stream",
     "text": [
      "processing file 741 of 1000: gtzan_genre_reggae.00040"
     ]
    },
    {
     "name": "stdout",
     "output_type": "stream",
     "text": [
      "1/1 [==============================] - 0s 57ms/step\n"
     ]
    },
    {
     "name": "stderr",
     "output_type": "stream",
     "text": [
      "processing file 742 of 1000: gtzan_genre_reggae.00041"
     ]
    },
    {
     "name": "stdout",
     "output_type": "stream",
     "text": [
      "1/1 [==============================] - 0s 55ms/step\n"
     ]
    },
    {
     "name": "stderr",
     "output_type": "stream",
     "text": [
      "processing file 743 of 1000: gtzan_genre_reggae.00042"
     ]
    },
    {
     "name": "stdout",
     "output_type": "stream",
     "text": [
      "1/1 [==============================] - 0s 45ms/step\n"
     ]
    },
    {
     "name": "stderr",
     "output_type": "stream",
     "text": [
      "processing file 744 of 1000: gtzan_genre_reggae.00043"
     ]
    },
    {
     "name": "stdout",
     "output_type": "stream",
     "text": [
      "1/1 [==============================] - 0s 44ms/step\n"
     ]
    },
    {
     "name": "stderr",
     "output_type": "stream",
     "text": [
      "processing file 745 of 1000: gtzan_genre_reggae.00044"
     ]
    },
    {
     "name": "stdout",
     "output_type": "stream",
     "text": [
      "1/1 [==============================] - 0s 45ms/step\n"
     ]
    },
    {
     "name": "stderr",
     "output_type": "stream",
     "text": [
      "processing file 746 of 1000: gtzan_genre_reggae.00045"
     ]
    },
    {
     "name": "stdout",
     "output_type": "stream",
     "text": [
      "1/1 [==============================] - 0s 46ms/step\n"
     ]
    },
    {
     "name": "stderr",
     "output_type": "stream",
     "text": [
      "processing file 747 of 1000: gtzan_genre_reggae.00046"
     ]
    },
    {
     "name": "stdout",
     "output_type": "stream",
     "text": [
      "1/1 [==============================] - 0s 45ms/step\n"
     ]
    },
    {
     "name": "stderr",
     "output_type": "stream",
     "text": [
      "processing file 748 of 1000: gtzan_genre_reggae.00047"
     ]
    },
    {
     "name": "stdout",
     "output_type": "stream",
     "text": [
      "1/1 [==============================] - 0s 53ms/step\n"
     ]
    },
    {
     "name": "stderr",
     "output_type": "stream",
     "text": [
      "processing file 749 of 1000: gtzan_genre_reggae.00048"
     ]
    },
    {
     "name": "stdout",
     "output_type": "stream",
     "text": [
      "1/1 [==============================] - 0s 56ms/step\n"
     ]
    },
    {
     "name": "stderr",
     "output_type": "stream",
     "text": [
      "processing file 750 of 1000: gtzan_genre_reggae.00049"
     ]
    },
    {
     "name": "stdout",
     "output_type": "stream",
     "text": [
      "1/1 [==============================] - 0s 46ms/step\n"
     ]
    },
    {
     "name": "stderr",
     "output_type": "stream",
     "text": [
      "processing file 751 of 1000: gtzan_genre_reggae.00050"
     ]
    },
    {
     "name": "stdout",
     "output_type": "stream",
     "text": [
      "1/1 [==============================] - 0s 48ms/step\n"
     ]
    },
    {
     "name": "stderr",
     "output_type": "stream",
     "text": [
      "processing file 752 of 1000: gtzan_genre_reggae.00051"
     ]
    },
    {
     "name": "stdout",
     "output_type": "stream",
     "text": [
      "1/1 [==============================] - 0s 52ms/step\n"
     ]
    },
    {
     "name": "stderr",
     "output_type": "stream",
     "text": [
      "processing file 753 of 1000: gtzan_genre_reggae.00052"
     ]
    },
    {
     "name": "stdout",
     "output_type": "stream",
     "text": [
      "1/1 [==============================] - 0s 45ms/step\n"
     ]
    },
    {
     "name": "stderr",
     "output_type": "stream",
     "text": [
      "processing file 754 of 1000: gtzan_genre_reggae.00053"
     ]
    },
    {
     "name": "stdout",
     "output_type": "stream",
     "text": [
      "1/1 [==============================] - 0s 43ms/step\n"
     ]
    },
    {
     "name": "stderr",
     "output_type": "stream",
     "text": [
      "processing file 755 of 1000: gtzan_genre_reggae.00054"
     ]
    },
    {
     "name": "stdout",
     "output_type": "stream",
     "text": [
      "1/1 [==============================] - 0s 42ms/step\n"
     ]
    },
    {
     "name": "stderr",
     "output_type": "stream",
     "text": [
      "processing file 756 of 1000: gtzan_genre_reggae.00055"
     ]
    },
    {
     "name": "stdout",
     "output_type": "stream",
     "text": [
      "1/1 [==============================] - 0s 50ms/step\n"
     ]
    },
    {
     "name": "stderr",
     "output_type": "stream",
     "text": [
      "processing file 757 of 1000: gtzan_genre_reggae.00056"
     ]
    },
    {
     "name": "stdout",
     "output_type": "stream",
     "text": [
      "1/1 [==============================] - 0s 44ms/step\n"
     ]
    },
    {
     "name": "stderr",
     "output_type": "stream",
     "text": [
      "processing file 758 of 1000: gtzan_genre_reggae.00057"
     ]
    },
    {
     "name": "stdout",
     "output_type": "stream",
     "text": [
      "1/1 [==============================] - 0s 49ms/step\n"
     ]
    },
    {
     "name": "stderr",
     "output_type": "stream",
     "text": [
      "processing file 759 of 1000: gtzan_genre_reggae.00058"
     ]
    },
    {
     "name": "stdout",
     "output_type": "stream",
     "text": [
      "1/1 [==============================] - 0s 48ms/step\n"
     ]
    },
    {
     "name": "stderr",
     "output_type": "stream",
     "text": [
      "processing file 760 of 1000: gtzan_genre_reggae.00059"
     ]
    },
    {
     "name": "stdout",
     "output_type": "stream",
     "text": [
      "1/1 [==============================] - 0s 45ms/step\n"
     ]
    },
    {
     "name": "stderr",
     "output_type": "stream",
     "text": [
      "processing file 761 of 1000: gtzan_genre_reggae.00060"
     ]
    },
    {
     "name": "stdout",
     "output_type": "stream",
     "text": [
      "1/1 [==============================] - 0s 56ms/step\n"
     ]
    },
    {
     "name": "stderr",
     "output_type": "stream",
     "text": [
      "processing file 762 of 1000: gtzan_genre_reggae.00061"
     ]
    },
    {
     "name": "stdout",
     "output_type": "stream",
     "text": [
      "1/1 [==============================] - 0s 50ms/step\n"
     ]
    },
    {
     "name": "stderr",
     "output_type": "stream",
     "text": [
      "processing file 763 of 1000: gtzan_genre_reggae.00062"
     ]
    },
    {
     "name": "stdout",
     "output_type": "stream",
     "text": [
      "1/1 [==============================] - 0s 58ms/step\n"
     ]
    },
    {
     "name": "stderr",
     "output_type": "stream",
     "text": [
      "processing file 764 of 1000: gtzan_genre_reggae.00063"
     ]
    },
    {
     "name": "stdout",
     "output_type": "stream",
     "text": [
      "1/1 [==============================] - 0s 50ms/step\n"
     ]
    },
    {
     "name": "stderr",
     "output_type": "stream",
     "text": [
      "processing file 765 of 1000: gtzan_genre_reggae.00064"
     ]
    },
    {
     "name": "stdout",
     "output_type": "stream",
     "text": [
      "1/1 [==============================] - 0s 50ms/step\n"
     ]
    },
    {
     "name": "stderr",
     "output_type": "stream",
     "text": [
      "processing file 766 of 1000: gtzan_genre_reggae.00065"
     ]
    },
    {
     "name": "stdout",
     "output_type": "stream",
     "text": [
      "1/1 [==============================] - 0s 50ms/step\n"
     ]
    },
    {
     "name": "stderr",
     "output_type": "stream",
     "text": [
      "processing file 767 of 1000: gtzan_genre_reggae.00066"
     ]
    },
    {
     "name": "stdout",
     "output_type": "stream",
     "text": [
      "1/1 [==============================] - 0s 50ms/step\n"
     ]
    },
    {
     "name": "stderr",
     "output_type": "stream",
     "text": [
      "processing file 768 of 1000: gtzan_genre_reggae.00067"
     ]
    },
    {
     "name": "stdout",
     "output_type": "stream",
     "text": [
      "1/1 [==============================] - 0s 52ms/step\n"
     ]
    },
    {
     "name": "stderr",
     "output_type": "stream",
     "text": [
      "processing file 769 of 1000: gtzan_genre_reggae.00068"
     ]
    },
    {
     "name": "stdout",
     "output_type": "stream",
     "text": [
      "1/1 [==============================] - 0s 50ms/step\n"
     ]
    },
    {
     "name": "stderr",
     "output_type": "stream",
     "text": [
      "processing file 770 of 1000: gtzan_genre_reggae.00069"
     ]
    },
    {
     "name": "stdout",
     "output_type": "stream",
     "text": [
      "1/1 [==============================] - 0s 50ms/step\n"
     ]
    },
    {
     "name": "stderr",
     "output_type": "stream",
     "text": [
      "processing file 771 of 1000: gtzan_genre_reggae.00070"
     ]
    },
    {
     "name": "stdout",
     "output_type": "stream",
     "text": [
      "1/1 [==============================] - 0s 40ms/step\n"
     ]
    },
    {
     "name": "stderr",
     "output_type": "stream",
     "text": [
      "processing file 772 of 1000: gtzan_genre_reggae.00071"
     ]
    },
    {
     "name": "stdout",
     "output_type": "stream",
     "text": [
      "1/1 [==============================] - 0s 47ms/step\n"
     ]
    },
    {
     "name": "stderr",
     "output_type": "stream",
     "text": [
      "processing file 773 of 1000: gtzan_genre_reggae.00072"
     ]
    },
    {
     "name": "stdout",
     "output_type": "stream",
     "text": [
      "1/1 [==============================] - 0s 51ms/step\n"
     ]
    },
    {
     "name": "stderr",
     "output_type": "stream",
     "text": [
      "processing file 774 of 1000: gtzan_genre_reggae.00073"
     ]
    },
    {
     "name": "stdout",
     "output_type": "stream",
     "text": [
      "1/1 [==============================] - 0s 58ms/step\n"
     ]
    },
    {
     "name": "stderr",
     "output_type": "stream",
     "text": [
      "processing file 775 of 1000: gtzan_genre_reggae.00074"
     ]
    },
    {
     "name": "stdout",
     "output_type": "stream",
     "text": [
      "1/1 [==============================] - 0s 66ms/step\n"
     ]
    },
    {
     "name": "stderr",
     "output_type": "stream",
     "text": [
      "processing file 776 of 1000: gtzan_genre_reggae.00075"
     ]
    },
    {
     "name": "stdout",
     "output_type": "stream",
     "text": [
      "1/1 [==============================] - 0s 52ms/step\n"
     ]
    },
    {
     "name": "stderr",
     "output_type": "stream",
     "text": [
      "processing file 777 of 1000: gtzan_genre_reggae.00076"
     ]
    },
    {
     "name": "stdout",
     "output_type": "stream",
     "text": [
      "1/1 [==============================] - 0s 58ms/step\n"
     ]
    },
    {
     "name": "stderr",
     "output_type": "stream",
     "text": [
      "processing file 778 of 1000: gtzan_genre_reggae.00077"
     ]
    },
    {
     "name": "stdout",
     "output_type": "stream",
     "text": [
      "1/1 [==============================] - 0s 65ms/step\n"
     ]
    },
    {
     "name": "stderr",
     "output_type": "stream",
     "text": [
      "processing file 779 of 1000: gtzan_genre_reggae.00078"
     ]
    },
    {
     "name": "stdout",
     "output_type": "stream",
     "text": [
      "1/1 [==============================] - 0s 66ms/step\n"
     ]
    },
    {
     "name": "stderr",
     "output_type": "stream",
     "text": [
      "processing file 780 of 1000: gtzan_genre_reggae.00079"
     ]
    },
    {
     "name": "stdout",
     "output_type": "stream",
     "text": [
      "1/1 [==============================] - 0s 55ms/step\n"
     ]
    },
    {
     "name": "stderr",
     "output_type": "stream",
     "text": [
      "processing file 781 of 1000: gtzan_genre_reggae.00080"
     ]
    },
    {
     "name": "stdout",
     "output_type": "stream",
     "text": [
      "1/1 [==============================] - 0s 55ms/step\n"
     ]
    },
    {
     "name": "stderr",
     "output_type": "stream",
     "text": [
      "processing file 782 of 1000: gtzan_genre_reggae.00081"
     ]
    },
    {
     "name": "stdout",
     "output_type": "stream",
     "text": [
      "1/1 [==============================] - 0s 60ms/step\n"
     ]
    },
    {
     "name": "stderr",
     "output_type": "stream",
     "text": [
      "processing file 783 of 1000: gtzan_genre_reggae.00082"
     ]
    },
    {
     "name": "stdout",
     "output_type": "stream",
     "text": [
      "1/1 [==============================] - 0s 50ms/step\n"
     ]
    },
    {
     "name": "stderr",
     "output_type": "stream",
     "text": [
      "processing file 784 of 1000: gtzan_genre_reggae.00083"
     ]
    },
    {
     "name": "stdout",
     "output_type": "stream",
     "text": [
      "1/1 [==============================] - 0s 55ms/step\n"
     ]
    },
    {
     "name": "stderr",
     "output_type": "stream",
     "text": [
      "processing file 785 of 1000: gtzan_genre_reggae.00084"
     ]
    },
    {
     "name": "stdout",
     "output_type": "stream",
     "text": [
      "1/1 [==============================] - 0s 50ms/step\n"
     ]
    },
    {
     "name": "stderr",
     "output_type": "stream",
     "text": [
      "processing file 786 of 1000: gtzan_genre_reggae.00085"
     ]
    },
    {
     "name": "stdout",
     "output_type": "stream",
     "text": [
      "1/1 [==============================] - 0s 50ms/step\n"
     ]
    },
    {
     "name": "stderr",
     "output_type": "stream",
     "text": [
      "processing file 787 of 1000: gtzan_genre_reggae.00086"
     ]
    },
    {
     "name": "stdout",
     "output_type": "stream",
     "text": [
      "1/1 [==============================] - 0s 50ms/step\n"
     ]
    },
    {
     "name": "stderr",
     "output_type": "stream",
     "text": [
      "processing file 788 of 1000: gtzan_genre_reggae.00087"
     ]
    },
    {
     "name": "stdout",
     "output_type": "stream",
     "text": [
      "1/1 [==============================] - 0s 50ms/step\n"
     ]
    },
    {
     "name": "stderr",
     "output_type": "stream",
     "text": [
      "processing file 789 of 1000: gtzan_genre_reggae.00088"
     ]
    },
    {
     "name": "stdout",
     "output_type": "stream",
     "text": [
      "1/1 [==============================] - 0s 51ms/step\n"
     ]
    },
    {
     "name": "stderr",
     "output_type": "stream",
     "text": [
      "processing file 790 of 1000: gtzan_genre_reggae.00089"
     ]
    },
    {
     "name": "stdout",
     "output_type": "stream",
     "text": [
      "1/1 [==============================] - 0s 48ms/step\n"
     ]
    },
    {
     "name": "stderr",
     "output_type": "stream",
     "text": [
      "processing file 791 of 1000: gtzan_genre_reggae.00090"
     ]
    },
    {
     "name": "stdout",
     "output_type": "stream",
     "text": [
      "1/1 [==============================] - 0s 51ms/step\n"
     ]
    },
    {
     "name": "stderr",
     "output_type": "stream",
     "text": [
      "processing file 792 of 1000: gtzan_genre_reggae.00091"
     ]
    },
    {
     "name": "stdout",
     "output_type": "stream",
     "text": [
      "1/1 [==============================] - 0s 59ms/step\n"
     ]
    },
    {
     "name": "stderr",
     "output_type": "stream",
     "text": [
      "processing file 793 of 1000: gtzan_genre_reggae.00092"
     ]
    },
    {
     "name": "stdout",
     "output_type": "stream",
     "text": [
      "1/1 [==============================] - 0s 55ms/step\n"
     ]
    },
    {
     "name": "stderr",
     "output_type": "stream",
     "text": [
      "processing file 794 of 1000: gtzan_genre_reggae.00093"
     ]
    },
    {
     "name": "stdout",
     "output_type": "stream",
     "text": [
      "1/1 [==============================] - 0s 53ms/step\n"
     ]
    },
    {
     "name": "stderr",
     "output_type": "stream",
     "text": [
      "processing file 795 of 1000: gtzan_genre_reggae.00094"
     ]
    },
    {
     "name": "stdout",
     "output_type": "stream",
     "text": [
      "1/1 [==============================] - 0s 46ms/step\n"
     ]
    },
    {
     "name": "stderr",
     "output_type": "stream",
     "text": [
      "processing file 796 of 1000: gtzan_genre_reggae.00095"
     ]
    },
    {
     "name": "stdout",
     "output_type": "stream",
     "text": [
      "1/1 [==============================] - 0s 53ms/step\n"
     ]
    },
    {
     "name": "stderr",
     "output_type": "stream",
     "text": [
      "processing file 797 of 1000: gtzan_genre_reggae.00096"
     ]
    },
    {
     "name": "stdout",
     "output_type": "stream",
     "text": [
      "1/1 [==============================] - 0s 50ms/step\n"
     ]
    },
    {
     "name": "stderr",
     "output_type": "stream",
     "text": [
      "processing file 798 of 1000: gtzan_genre_reggae.00097"
     ]
    },
    {
     "name": "stdout",
     "output_type": "stream",
     "text": [
      "1/1 [==============================] - 0s 55ms/step\n"
     ]
    },
    {
     "name": "stderr",
     "output_type": "stream",
     "text": [
      "processing file 799 of 1000: gtzan_genre_reggae.00098"
     ]
    },
    {
     "name": "stdout",
     "output_type": "stream",
     "text": [
      "1/1 [==============================] - 0s 50ms/step\n"
     ]
    },
    {
     "name": "stderr",
     "output_type": "stream",
     "text": [
      "processing file 800 of 1000: gtzan_genre_reggae.00099"
     ]
    },
    {
     "name": "stdout",
     "output_type": "stream",
     "text": [
      "1/1 [==============================] - 0s 58ms/step\n"
     ]
    },
    {
     "name": "stderr",
     "output_type": "stream",
     "text": [
      "processing file 801 of 1000: gtzan_genre_pop.00000"
     ]
    },
    {
     "name": "stdout",
     "output_type": "stream",
     "text": [
      "1/1 [==============================] - 0s 72ms/step\n"
     ]
    },
    {
     "name": "stderr",
     "output_type": "stream",
     "text": [
      "processing file 802 of 1000: gtzan_genre_pop.00001"
     ]
    },
    {
     "name": "stdout",
     "output_type": "stream",
     "text": [
      "1/1 [==============================] - 0s 78ms/step\n"
     ]
    },
    {
     "name": "stderr",
     "output_type": "stream",
     "text": [
      "processing file 803 of 1000: gtzan_genre_pop.00002"
     ]
    },
    {
     "name": "stdout",
     "output_type": "stream",
     "text": [
      "1/1 [==============================] - 0s 85ms/step\n"
     ]
    },
    {
     "name": "stderr",
     "output_type": "stream",
     "text": [
      "processing file 804 of 1000: gtzan_genre_pop.00003"
     ]
    },
    {
     "name": "stdout",
     "output_type": "stream",
     "text": [
      "1/1 [==============================] - 0s 82ms/step\n"
     ]
    },
    {
     "name": "stderr",
     "output_type": "stream",
     "text": [
      "processing file 805 of 1000: gtzan_genre_pop.00004"
     ]
    },
    {
     "name": "stdout",
     "output_type": "stream",
     "text": [
      "1/1 [==============================] - 0s 77ms/step\n"
     ]
    },
    {
     "name": "stderr",
     "output_type": "stream",
     "text": [
      "processing file 806 of 1000: gtzan_genre_pop.00005"
     ]
    },
    {
     "name": "stdout",
     "output_type": "stream",
     "text": [
      "1/1 [==============================] - 0s 98ms/step\n"
     ]
    },
    {
     "name": "stderr",
     "output_type": "stream",
     "text": [
      "processing file 807 of 1000: gtzan_genre_pop.00006"
     ]
    },
    {
     "name": "stdout",
     "output_type": "stream",
     "text": [
      "1/1 [==============================] - 0s 98ms/step\n"
     ]
    },
    {
     "name": "stderr",
     "output_type": "stream",
     "text": [
      "processing file 808 of 1000: gtzan_genre_pop.00007"
     ]
    },
    {
     "name": "stdout",
     "output_type": "stream",
     "text": [
      "1/1 [==============================] - 0s 100ms/step\n"
     ]
    },
    {
     "name": "stderr",
     "output_type": "stream",
     "text": [
      "processing file 809 of 1000: gtzan_genre_pop.00008"
     ]
    },
    {
     "name": "stdout",
     "output_type": "stream",
     "text": [
      "1/1 [==============================] - 0s 130ms/step\n"
     ]
    },
    {
     "name": "stderr",
     "output_type": "stream",
     "text": [
      "processing file 810 of 1000: gtzan_genre_pop.00009"
     ]
    },
    {
     "name": "stdout",
     "output_type": "stream",
     "text": [
      "1/1 [==============================] - 0s 90ms/step\n"
     ]
    },
    {
     "name": "stderr",
     "output_type": "stream",
     "text": [
      "processing file 811 of 1000: gtzan_genre_pop.00010"
     ]
    },
    {
     "name": "stdout",
     "output_type": "stream",
     "text": [
      "1/1 [==============================] - 0s 79ms/step\n"
     ]
    },
    {
     "name": "stderr",
     "output_type": "stream",
     "text": [
      "processing file 812 of 1000: gtzan_genre_pop.00011"
     ]
    },
    {
     "name": "stdout",
     "output_type": "stream",
     "text": [
      "1/1 [==============================] - 0s 88ms/step\n"
     ]
    },
    {
     "name": "stderr",
     "output_type": "stream",
     "text": [
      "processing file 813 of 1000: gtzan_genre_pop.00012"
     ]
    },
    {
     "name": "stdout",
     "output_type": "stream",
     "text": [
      "1/1 [==============================] - 0s 74ms/step\n"
     ]
    },
    {
     "name": "stderr",
     "output_type": "stream",
     "text": [
      "processing file 814 of 1000: gtzan_genre_pop.00013"
     ]
    },
    {
     "name": "stdout",
     "output_type": "stream",
     "text": [
      "1/1 [==============================] - 0s 75ms/step\n"
     ]
    },
    {
     "name": "stderr",
     "output_type": "stream",
     "text": [
      "processing file 815 of 1000: gtzan_genre_pop.00014"
     ]
    },
    {
     "name": "stdout",
     "output_type": "stream",
     "text": [
      "1/1 [==============================] - 0s 64ms/step\n"
     ]
    },
    {
     "name": "stderr",
     "output_type": "stream",
     "text": [
      "processing file 816 of 1000: gtzan_genre_pop.00015"
     ]
    },
    {
     "name": "stdout",
     "output_type": "stream",
     "text": [
      "1/1 [==============================] - 0s 78ms/step\n"
     ]
    },
    {
     "name": "stderr",
     "output_type": "stream",
     "text": [
      "processing file 817 of 1000: gtzan_genre_pop.00016"
     ]
    },
    {
     "name": "stdout",
     "output_type": "stream",
     "text": [
      "1/1 [==============================] - 0s 91ms/step\n"
     ]
    },
    {
     "name": "stderr",
     "output_type": "stream",
     "text": [
      "processing file 818 of 1000: gtzan_genre_pop.00017"
     ]
    },
    {
     "name": "stdout",
     "output_type": "stream",
     "text": [
      "1/1 [==============================] - 0s 70ms/step\n"
     ]
    },
    {
     "name": "stderr",
     "output_type": "stream",
     "text": [
      "processing file 819 of 1000: gtzan_genre_pop.00018"
     ]
    },
    {
     "name": "stdout",
     "output_type": "stream",
     "text": [
      "1/1 [==============================] - 0s 67ms/step\n"
     ]
    },
    {
     "name": "stderr",
     "output_type": "stream",
     "text": [
      "processing file 820 of 1000: gtzan_genre_pop.00019"
     ]
    },
    {
     "name": "stdout",
     "output_type": "stream",
     "text": [
      "1/1 [==============================] - 0s 66ms/step\n"
     ]
    },
    {
     "name": "stderr",
     "output_type": "stream",
     "text": [
      "processing file 821 of 1000: gtzan_genre_pop.00020"
     ]
    },
    {
     "name": "stdout",
     "output_type": "stream",
     "text": [
      "1/1 [==============================] - 0s 63ms/step\n"
     ]
    },
    {
     "name": "stderr",
     "output_type": "stream",
     "text": [
      "processing file 822 of 1000: gtzan_genre_pop.00021"
     ]
    },
    {
     "name": "stdout",
     "output_type": "stream",
     "text": [
      "1/1 [==============================] - 0s 60ms/step\n"
     ]
    },
    {
     "name": "stderr",
     "output_type": "stream",
     "text": [
      "processing file 823 of 1000: gtzan_genre_pop.00022"
     ]
    },
    {
     "name": "stdout",
     "output_type": "stream",
     "text": [
      "1/1 [==============================] - 0s 56ms/step\n"
     ]
    },
    {
     "name": "stderr",
     "output_type": "stream",
     "text": [
      "processing file 824 of 1000: gtzan_genre_pop.00023"
     ]
    },
    {
     "name": "stdout",
     "output_type": "stream",
     "text": [
      "1/1 [==============================] - 0s 54ms/step\n"
     ]
    },
    {
     "name": "stderr",
     "output_type": "stream",
     "text": [
      "processing file 825 of 1000: gtzan_genre_pop.00024"
     ]
    },
    {
     "name": "stdout",
     "output_type": "stream",
     "text": [
      "1/1 [==============================] - 0s 53ms/step\n"
     ]
    },
    {
     "name": "stderr",
     "output_type": "stream",
     "text": [
      "processing file 826 of 1000: gtzan_genre_pop.00025"
     ]
    },
    {
     "name": "stdout",
     "output_type": "stream",
     "text": [
      "1/1 [==============================] - 0s 65ms/step\n"
     ]
    },
    {
     "name": "stderr",
     "output_type": "stream",
     "text": [
      "processing file 827 of 1000: gtzan_genre_pop.00026"
     ]
    },
    {
     "name": "stdout",
     "output_type": "stream",
     "text": [
      "1/1 [==============================] - 0s 55ms/step\n"
     ]
    },
    {
     "name": "stderr",
     "output_type": "stream",
     "text": [
      "processing file 828 of 1000: gtzan_genre_pop.00027"
     ]
    },
    {
     "name": "stdout",
     "output_type": "stream",
     "text": [
      "1/1 [==============================] - 0s 51ms/step\n"
     ]
    },
    {
     "name": "stderr",
     "output_type": "stream",
     "text": [
      "processing file 829 of 1000: gtzan_genre_pop.00028"
     ]
    },
    {
     "name": "stdout",
     "output_type": "stream",
     "text": [
      "1/1 [==============================] - 0s 61ms/step\n"
     ]
    },
    {
     "name": "stderr",
     "output_type": "stream",
     "text": [
      "processing file 830 of 1000: gtzan_genre_pop.00029"
     ]
    },
    {
     "name": "stdout",
     "output_type": "stream",
     "text": [
      "1/1 [==============================] - 0s 56ms/step\n"
     ]
    },
    {
     "name": "stderr",
     "output_type": "stream",
     "text": [
      "processing file 831 of 1000: gtzan_genre_pop.00030"
     ]
    },
    {
     "name": "stdout",
     "output_type": "stream",
     "text": [
      "1/1 [==============================] - 0s 54ms/step\n"
     ]
    },
    {
     "name": "stderr",
     "output_type": "stream",
     "text": [
      "processing file 832 of 1000: gtzan_genre_pop.00031"
     ]
    },
    {
     "name": "stdout",
     "output_type": "stream",
     "text": [
      "1/1 [==============================] - 0s 66ms/step\n"
     ]
    },
    {
     "name": "stderr",
     "output_type": "stream",
     "text": [
      "processing file 833 of 1000: gtzan_genre_pop.00032"
     ]
    },
    {
     "name": "stdout",
     "output_type": "stream",
     "text": [
      "1/1 [==============================] - 0s 51ms/step\n"
     ]
    },
    {
     "name": "stderr",
     "output_type": "stream",
     "text": [
      "processing file 834 of 1000: gtzan_genre_pop.00033"
     ]
    },
    {
     "name": "stdout",
     "output_type": "stream",
     "text": [
      "1/1 [==============================] - 0s 58ms/step\n"
     ]
    },
    {
     "name": "stderr",
     "output_type": "stream",
     "text": [
      "processing file 835 of 1000: gtzan_genre_pop.00034"
     ]
    },
    {
     "name": "stdout",
     "output_type": "stream",
     "text": [
      "1/1 [==============================] - 0s 56ms/step\n"
     ]
    },
    {
     "name": "stderr",
     "output_type": "stream",
     "text": [
      "processing file 836 of 1000: gtzan_genre_pop.00035"
     ]
    },
    {
     "name": "stdout",
     "output_type": "stream",
     "text": [
      "1/1 [==============================] - 0s 66ms/step\n"
     ]
    },
    {
     "name": "stderr",
     "output_type": "stream",
     "text": [
      "processing file 837 of 1000: gtzan_genre_pop.00036"
     ]
    },
    {
     "name": "stdout",
     "output_type": "stream",
     "text": [
      "1/1 [==============================] - 0s 50ms/step\n"
     ]
    },
    {
     "name": "stderr",
     "output_type": "stream",
     "text": [
      "processing file 838 of 1000: gtzan_genre_pop.00037"
     ]
    },
    {
     "name": "stdout",
     "output_type": "stream",
     "text": [
      "1/1 [==============================] - 0s 50ms/step\n"
     ]
    },
    {
     "name": "stderr",
     "output_type": "stream",
     "text": [
      "processing file 839 of 1000: gtzan_genre_pop.00038"
     ]
    },
    {
     "name": "stdout",
     "output_type": "stream",
     "text": [
      "1/1 [==============================] - 0s 59ms/step\n"
     ]
    },
    {
     "name": "stderr",
     "output_type": "stream",
     "text": [
      "processing file 840 of 1000: gtzan_genre_pop.00039"
     ]
    },
    {
     "name": "stdout",
     "output_type": "stream",
     "text": [
      "1/1 [==============================] - 0s 55ms/step\n"
     ]
    },
    {
     "name": "stderr",
     "output_type": "stream",
     "text": [
      "processing file 841 of 1000: gtzan_genre_pop.00040"
     ]
    },
    {
     "name": "stdout",
     "output_type": "stream",
     "text": [
      "1/1 [==============================] - 0s 62ms/step\n"
     ]
    },
    {
     "name": "stderr",
     "output_type": "stream",
     "text": [
      "processing file 842 of 1000: gtzan_genre_pop.00041"
     ]
    },
    {
     "name": "stdout",
     "output_type": "stream",
     "text": [
      "1/1 [==============================] - 0s 69ms/step\n"
     ]
    },
    {
     "name": "stderr",
     "output_type": "stream",
     "text": [
      "processing file 843 of 1000: gtzan_genre_pop.00042"
     ]
    },
    {
     "name": "stdout",
     "output_type": "stream",
     "text": [
      "1/1 [==============================] - 0s 67ms/step\n"
     ]
    },
    {
     "name": "stderr",
     "output_type": "stream",
     "text": [
      "processing file 844 of 1000: gtzan_genre_pop.00043"
     ]
    },
    {
     "name": "stdout",
     "output_type": "stream",
     "text": [
      "1/1 [==============================] - 0s 58ms/step\n"
     ]
    },
    {
     "name": "stderr",
     "output_type": "stream",
     "text": [
      "processing file 845 of 1000: gtzan_genre_pop.00044"
     ]
    },
    {
     "name": "stdout",
     "output_type": "stream",
     "text": [
      "1/1 [==============================] - 0s 64ms/step\n"
     ]
    },
    {
     "name": "stderr",
     "output_type": "stream",
     "text": [
      "processing file 846 of 1000: gtzan_genre_pop.00045"
     ]
    },
    {
     "name": "stdout",
     "output_type": "stream",
     "text": [
      "1/1 [==============================] - 0s 70ms/step\n"
     ]
    },
    {
     "name": "stderr",
     "output_type": "stream",
     "text": [
      "processing file 847 of 1000: gtzan_genre_pop.00046"
     ]
    },
    {
     "name": "stdout",
     "output_type": "stream",
     "text": [
      "1/1 [==============================] - 0s 65ms/step\n"
     ]
    },
    {
     "name": "stderr",
     "output_type": "stream",
     "text": [
      "processing file 848 of 1000: gtzan_genre_pop.00047"
     ]
    },
    {
     "name": "stdout",
     "output_type": "stream",
     "text": [
      "1/1 [==============================] - 0s 64ms/step\n"
     ]
    },
    {
     "name": "stderr",
     "output_type": "stream",
     "text": [
      "processing file 849 of 1000: gtzan_genre_pop.00048"
     ]
    },
    {
     "name": "stdout",
     "output_type": "stream",
     "text": [
      "1/1 [==============================] - 0s 56ms/step\n"
     ]
    },
    {
     "name": "stderr",
     "output_type": "stream",
     "text": [
      "processing file 850 of 1000: gtzan_genre_pop.00049"
     ]
    },
    {
     "name": "stdout",
     "output_type": "stream",
     "text": [
      "1/1 [==============================] - 0s 66ms/step\n"
     ]
    },
    {
     "name": "stderr",
     "output_type": "stream",
     "text": [
      "processing file 851 of 1000: gtzan_genre_pop.00050"
     ]
    },
    {
     "name": "stdout",
     "output_type": "stream",
     "text": [
      "1/1 [==============================] - 0s 66ms/step\n"
     ]
    },
    {
     "name": "stderr",
     "output_type": "stream",
     "text": [
      "processing file 852 of 1000: gtzan_genre_pop.00051"
     ]
    },
    {
     "name": "stdout",
     "output_type": "stream",
     "text": [
      "1/1 [==============================] - 0s 67ms/step\n"
     ]
    },
    {
     "name": "stderr",
     "output_type": "stream",
     "text": [
      "processing file 853 of 1000: gtzan_genre_pop.00052"
     ]
    },
    {
     "name": "stdout",
     "output_type": "stream",
     "text": [
      "1/1 [==============================] - 0s 70ms/step\n"
     ]
    },
    {
     "name": "stderr",
     "output_type": "stream",
     "text": [
      "processing file 854 of 1000: gtzan_genre_pop.00053"
     ]
    },
    {
     "name": "stdout",
     "output_type": "stream",
     "text": [
      "1/1 [==============================] - 0s 82ms/step\n"
     ]
    },
    {
     "name": "stderr",
     "output_type": "stream",
     "text": [
      "processing file 855 of 1000: gtzan_genre_pop.00054"
     ]
    },
    {
     "name": "stdout",
     "output_type": "stream",
     "text": [
      "1/1 [==============================] - 0s 86ms/step\n"
     ]
    },
    {
     "name": "stderr",
     "output_type": "stream",
     "text": [
      "processing file 856 of 1000: gtzan_genre_pop.00055"
     ]
    },
    {
     "name": "stdout",
     "output_type": "stream",
     "text": [
      "1/1 [==============================] - 0s 66ms/step\n"
     ]
    },
    {
     "name": "stderr",
     "output_type": "stream",
     "text": [
      "processing file 857 of 1000: gtzan_genre_pop.00056"
     ]
    },
    {
     "name": "stdout",
     "output_type": "stream",
     "text": [
      "1/1 [==============================] - 0s 64ms/step\n"
     ]
    },
    {
     "name": "stderr",
     "output_type": "stream",
     "text": [
      "processing file 858 of 1000: gtzan_genre_pop.00057"
     ]
    },
    {
     "name": "stdout",
     "output_type": "stream",
     "text": [
      "1/1 [==============================] - 0s 58ms/step\n"
     ]
    },
    {
     "name": "stderr",
     "output_type": "stream",
     "text": [
      "processing file 859 of 1000: gtzan_genre_pop.00058"
     ]
    },
    {
     "name": "stdout",
     "output_type": "stream",
     "text": [
      "1/1 [==============================] - 0s 67ms/step\n"
     ]
    },
    {
     "name": "stderr",
     "output_type": "stream",
     "text": [
      "processing file 860 of 1000: gtzan_genre_pop.00059"
     ]
    },
    {
     "name": "stdout",
     "output_type": "stream",
     "text": [
      "1/1 [==============================] - 0s 51ms/step\n"
     ]
    },
    {
     "name": "stderr",
     "output_type": "stream",
     "text": [
      "processing file 861 of 1000: gtzan_genre_pop.00060"
     ]
    },
    {
     "name": "stdout",
     "output_type": "stream",
     "text": [
      "1/1 [==============================] - 0s 50ms/step\n"
     ]
    },
    {
     "name": "stderr",
     "output_type": "stream",
     "text": [
      "processing file 862 of 1000: gtzan_genre_pop.00061"
     ]
    },
    {
     "name": "stdout",
     "output_type": "stream",
     "text": [
      "1/1 [==============================] - 0s 48ms/step\n"
     ]
    },
    {
     "name": "stderr",
     "output_type": "stream",
     "text": [
      "processing file 863 of 1000: gtzan_genre_pop.00062"
     ]
    },
    {
     "name": "stdout",
     "output_type": "stream",
     "text": [
      "1/1 [==============================] - 0s 56ms/step\n"
     ]
    },
    {
     "name": "stderr",
     "output_type": "stream",
     "text": [
      "processing file 864 of 1000: gtzan_genre_pop.00063"
     ]
    },
    {
     "name": "stdout",
     "output_type": "stream",
     "text": [
      "1/1 [==============================] - 0s 57ms/step\n"
     ]
    },
    {
     "name": "stderr",
     "output_type": "stream",
     "text": [
      "processing file 865 of 1000: gtzan_genre_pop.00064"
     ]
    },
    {
     "name": "stdout",
     "output_type": "stream",
     "text": [
      "1/1 [==============================] - 0s 45ms/step\n"
     ]
    },
    {
     "name": "stderr",
     "output_type": "stream",
     "text": [
      "processing file 866 of 1000: gtzan_genre_pop.00065"
     ]
    },
    {
     "name": "stdout",
     "output_type": "stream",
     "text": [
      "1/1 [==============================] - 0s 66ms/step\n"
     ]
    },
    {
     "name": "stderr",
     "output_type": "stream",
     "text": [
      "processing file 867 of 1000: gtzan_genre_pop.00066"
     ]
    },
    {
     "name": "stdout",
     "output_type": "stream",
     "text": [
      "1/1 [==============================] - 0s 49ms/step\n"
     ]
    },
    {
     "name": "stderr",
     "output_type": "stream",
     "text": [
      "processing file 868 of 1000: gtzan_genre_pop.00067"
     ]
    },
    {
     "name": "stdout",
     "output_type": "stream",
     "text": [
      "1/1 [==============================] - 0s 45ms/step\n"
     ]
    },
    {
     "name": "stderr",
     "output_type": "stream",
     "text": [
      "processing file 869 of 1000: gtzan_genre_pop.00068"
     ]
    },
    {
     "name": "stdout",
     "output_type": "stream",
     "text": [
      "1/1 [==============================] - 0s 54ms/step\n"
     ]
    },
    {
     "name": "stderr",
     "output_type": "stream",
     "text": [
      "processing file 870 of 1000: gtzan_genre_pop.00069"
     ]
    },
    {
     "name": "stdout",
     "output_type": "stream",
     "text": [
      "1/1 [==============================] - 0s 49ms/step\n"
     ]
    },
    {
     "name": "stderr",
     "output_type": "stream",
     "text": [
      "processing file 871 of 1000: gtzan_genre_pop.00070"
     ]
    },
    {
     "name": "stdout",
     "output_type": "stream",
     "text": [
      "1/1 [==============================] - 0s 41ms/step\n"
     ]
    },
    {
     "name": "stderr",
     "output_type": "stream",
     "text": [
      "processing file 872 of 1000: gtzan_genre_pop.00071"
     ]
    },
    {
     "name": "stdout",
     "output_type": "stream",
     "text": [
      "1/1 [==============================] - 0s 50ms/step\n"
     ]
    },
    {
     "name": "stderr",
     "output_type": "stream",
     "text": [
      "processing file 873 of 1000: gtzan_genre_pop.00072"
     ]
    },
    {
     "name": "stdout",
     "output_type": "stream",
     "text": [
      "1/1 [==============================] - 0s 57ms/step\n"
     ]
    },
    {
     "name": "stderr",
     "output_type": "stream",
     "text": [
      "processing file 874 of 1000: gtzan_genre_pop.00073"
     ]
    },
    {
     "name": "stdout",
     "output_type": "stream",
     "text": [
      "1/1 [==============================] - 0s 52ms/step\n"
     ]
    },
    {
     "name": "stderr",
     "output_type": "stream",
     "text": [
      "processing file 875 of 1000: gtzan_genre_pop.00074"
     ]
    },
    {
     "name": "stdout",
     "output_type": "stream",
     "text": [
      "1/1 [==============================] - 0s 48ms/step\n"
     ]
    },
    {
     "name": "stderr",
     "output_type": "stream",
     "text": [
      "processing file 876 of 1000: gtzan_genre_pop.00075"
     ]
    },
    {
     "name": "stdout",
     "output_type": "stream",
     "text": [
      "1/1 [==============================] - 0s 50ms/step\n"
     ]
    },
    {
     "name": "stderr",
     "output_type": "stream",
     "text": [
      "processing file 877 of 1000: gtzan_genre_pop.00076"
     ]
    },
    {
     "name": "stdout",
     "output_type": "stream",
     "text": [
      "1/1 [==============================] - 0s 52ms/step\n"
     ]
    },
    {
     "name": "stderr",
     "output_type": "stream",
     "text": [
      "processing file 878 of 1000: gtzan_genre_pop.00077"
     ]
    },
    {
     "name": "stdout",
     "output_type": "stream",
     "text": [
      "1/1 [==============================] - 0s 52ms/step\n"
     ]
    },
    {
     "name": "stderr",
     "output_type": "stream",
     "text": [
      "processing file 879 of 1000: gtzan_genre_pop.00078"
     ]
    },
    {
     "name": "stdout",
     "output_type": "stream",
     "text": [
      "1/1 [==============================] - 0s 50ms/step\n"
     ]
    },
    {
     "name": "stderr",
     "output_type": "stream",
     "text": [
      "processing file 880 of 1000: gtzan_genre_pop.00079"
     ]
    },
    {
     "name": "stdout",
     "output_type": "stream",
     "text": [
      "1/1 [==============================] - 0s 56ms/step\n"
     ]
    },
    {
     "name": "stderr",
     "output_type": "stream",
     "text": [
      "processing file 881 of 1000: gtzan_genre_pop.00080"
     ]
    },
    {
     "name": "stdout",
     "output_type": "stream",
     "text": [
      "1/1 [==============================] - 0s 47ms/step\n"
     ]
    },
    {
     "name": "stderr",
     "output_type": "stream",
     "text": [
      "processing file 882 of 1000: gtzan_genre_pop.00081"
     ]
    },
    {
     "name": "stdout",
     "output_type": "stream",
     "text": [
      "1/1 [==============================] - 0s 49ms/step\n"
     ]
    },
    {
     "name": "stderr",
     "output_type": "stream",
     "text": [
      "processing file 883 of 1000: gtzan_genre_pop.00082"
     ]
    },
    {
     "name": "stdout",
     "output_type": "stream",
     "text": [
      "1/1 [==============================] - 0s 45ms/step\n"
     ]
    },
    {
     "name": "stderr",
     "output_type": "stream",
     "text": [
      "processing file 884 of 1000: gtzan_genre_pop.00083"
     ]
    },
    {
     "name": "stdout",
     "output_type": "stream",
     "text": [
      "1/1 [==============================] - 0s 50ms/step\n"
     ]
    },
    {
     "name": "stderr",
     "output_type": "stream",
     "text": [
      "processing file 885 of 1000: gtzan_genre_pop.00084"
     ]
    },
    {
     "name": "stdout",
     "output_type": "stream",
     "text": [
      "1/1 [==============================] - 0s 50ms/step\n"
     ]
    },
    {
     "name": "stderr",
     "output_type": "stream",
     "text": [
      "processing file 886 of 1000: gtzan_genre_pop.00085"
     ]
    },
    {
     "name": "stdout",
     "output_type": "stream",
     "text": [
      "1/1 [==============================] - 0s 52ms/step\n"
     ]
    },
    {
     "name": "stderr",
     "output_type": "stream",
     "text": [
      "processing file 887 of 1000: gtzan_genre_pop.00086"
     ]
    },
    {
     "name": "stdout",
     "output_type": "stream",
     "text": [
      "1/1 [==============================] - 0s 57ms/step\n"
     ]
    },
    {
     "name": "stderr",
     "output_type": "stream",
     "text": [
      "processing file 888 of 1000: gtzan_genre_pop.00087"
     ]
    },
    {
     "name": "stdout",
     "output_type": "stream",
     "text": [
      "1/1 [==============================] - 0s 52ms/step\n"
     ]
    },
    {
     "name": "stderr",
     "output_type": "stream",
     "text": [
      "processing file 889 of 1000: gtzan_genre_pop.00088"
     ]
    },
    {
     "name": "stdout",
     "output_type": "stream",
     "text": [
      "1/1 [==============================] - 0s 48ms/step\n"
     ]
    },
    {
     "name": "stderr",
     "output_type": "stream",
     "text": [
      "processing file 890 of 1000: gtzan_genre_pop.00089"
     ]
    },
    {
     "name": "stdout",
     "output_type": "stream",
     "text": [
      "1/1 [==============================] - 0s 50ms/step\n"
     ]
    },
    {
     "name": "stderr",
     "output_type": "stream",
     "text": [
      "processing file 891 of 1000: gtzan_genre_pop.00090"
     ]
    },
    {
     "name": "stdout",
     "output_type": "stream",
     "text": [
      "1/1 [==============================] - 0s 49ms/step\n"
     ]
    },
    {
     "name": "stderr",
     "output_type": "stream",
     "text": [
      "processing file 892 of 1000: gtzan_genre_pop.00091"
     ]
    },
    {
     "name": "stdout",
     "output_type": "stream",
     "text": [
      "1/1 [==============================] - 0s 47ms/step\n"
     ]
    },
    {
     "name": "stderr",
     "output_type": "stream",
     "text": [
      "processing file 893 of 1000: gtzan_genre_pop.00092"
     ]
    },
    {
     "name": "stdout",
     "output_type": "stream",
     "text": [
      "1/1 [==============================] - 0s 50ms/step\n"
     ]
    },
    {
     "name": "stderr",
     "output_type": "stream",
     "text": [
      "processing file 894 of 1000: gtzan_genre_pop.00093"
     ]
    },
    {
     "name": "stdout",
     "output_type": "stream",
     "text": [
      "1/1 [==============================] - 0s 59ms/step\n"
     ]
    },
    {
     "name": "stderr",
     "output_type": "stream",
     "text": [
      "processing file 895 of 1000: gtzan_genre_pop.00094"
     ]
    },
    {
     "name": "stdout",
     "output_type": "stream",
     "text": [
      "1/1 [==============================] - 0s 61ms/step\n"
     ]
    },
    {
     "name": "stderr",
     "output_type": "stream",
     "text": [
      "processing file 896 of 1000: gtzan_genre_pop.00095"
     ]
    },
    {
     "name": "stdout",
     "output_type": "stream",
     "text": [
      "1/1 [==============================] - 0s 59ms/step\n"
     ]
    },
    {
     "name": "stderr",
     "output_type": "stream",
     "text": [
      "processing file 897 of 1000: gtzan_genre_pop.00096"
     ]
    },
    {
     "name": "stdout",
     "output_type": "stream",
     "text": [
      "1/1 [==============================] - 0s 62ms/step\n"
     ]
    },
    {
     "name": "stderr",
     "output_type": "stream",
     "text": [
      "processing file 898 of 1000: gtzan_genre_pop.00097"
     ]
    },
    {
     "name": "stdout",
     "output_type": "stream",
     "text": [
      "1/1 [==============================] - 0s 67ms/step\n"
     ]
    },
    {
     "name": "stderr",
     "output_type": "stream",
     "text": [
      "processing file 899 of 1000: gtzan_genre_pop.00098"
     ]
    },
    {
     "name": "stdout",
     "output_type": "stream",
     "text": [
      "1/1 [==============================] - 0s 56ms/step\n"
     ]
    },
    {
     "name": "stderr",
     "output_type": "stream",
     "text": [
      "processing file 900 of 1000: gtzan_genre_pop.00099"
     ]
    },
    {
     "name": "stdout",
     "output_type": "stream",
     "text": [
      "1/1 [==============================] - 0s 74ms/step\n"
     ]
    },
    {
     "name": "stderr",
     "output_type": "stream",
     "text": [
      "processing file 901 of 1000: gtzan_genre_metal.00000"
     ]
    },
    {
     "name": "stdout",
     "output_type": "stream",
     "text": [
      "1/1 [==============================] - 0s 61ms/step\n"
     ]
    },
    {
     "name": "stderr",
     "output_type": "stream",
     "text": [
      "processing file 902 of 1000: gtzan_genre_metal.00001"
     ]
    },
    {
     "name": "stdout",
     "output_type": "stream",
     "text": [
      "1/1 [==============================] - 0s 68ms/step\n"
     ]
    },
    {
     "name": "stderr",
     "output_type": "stream",
     "text": [
      "processing file 903 of 1000: gtzan_genre_metal.00002"
     ]
    },
    {
     "name": "stdout",
     "output_type": "stream",
     "text": [
      "1/1 [==============================] - 0s 59ms/step\n"
     ]
    },
    {
     "name": "stderr",
     "output_type": "stream",
     "text": [
      "processing file 904 of 1000: gtzan_genre_metal.00003"
     ]
    },
    {
     "name": "stdout",
     "output_type": "stream",
     "text": [
      "1/1 [==============================] - 0s 64ms/step\n"
     ]
    },
    {
     "name": "stderr",
     "output_type": "stream",
     "text": [
      "processing file 905 of 1000: gtzan_genre_metal.00004"
     ]
    },
    {
     "name": "stdout",
     "output_type": "stream",
     "text": [
      "1/1 [==============================] - 0s 56ms/step\n"
     ]
    },
    {
     "name": "stderr",
     "output_type": "stream",
     "text": [
      "processing file 906 of 1000: gtzan_genre_metal.00005"
     ]
    },
    {
     "name": "stdout",
     "output_type": "stream",
     "text": [
      "1/1 [==============================] - 0s 60ms/step\n"
     ]
    },
    {
     "name": "stderr",
     "output_type": "stream",
     "text": [
      "processing file 907 of 1000: gtzan_genre_metal.00006"
     ]
    },
    {
     "name": "stdout",
     "output_type": "stream",
     "text": [
      "1/1 [==============================] - 0s 51ms/step\n"
     ]
    },
    {
     "name": "stderr",
     "output_type": "stream",
     "text": [
      "processing file 908 of 1000: gtzan_genre_metal.00007"
     ]
    },
    {
     "name": "stdout",
     "output_type": "stream",
     "text": [
      "1/1 [==============================] - 0s 61ms/step\n"
     ]
    },
    {
     "name": "stderr",
     "output_type": "stream",
     "text": [
      "processing file 909 of 1000: gtzan_genre_metal.00008"
     ]
    },
    {
     "name": "stdout",
     "output_type": "stream",
     "text": [
      "1/1 [==============================] - 0s 55ms/step\n"
     ]
    },
    {
     "name": "stderr",
     "output_type": "stream",
     "text": [
      "processing file 910 of 1000: gtzan_genre_metal.00009"
     ]
    },
    {
     "name": "stdout",
     "output_type": "stream",
     "text": [
      "1/1 [==============================] - 0s 60ms/step\n"
     ]
    },
    {
     "name": "stderr",
     "output_type": "stream",
     "text": [
      "processing file 911 of 1000: gtzan_genre_metal.00010"
     ]
    },
    {
     "name": "stdout",
     "output_type": "stream",
     "text": [
      "1/1 [==============================] - 0s 47ms/step\n"
     ]
    },
    {
     "name": "stderr",
     "output_type": "stream",
     "text": [
      "processing file 912 of 1000: gtzan_genre_metal.00011"
     ]
    },
    {
     "name": "stdout",
     "output_type": "stream",
     "text": [
      "1/1 [==============================] - 0s 55ms/step\n"
     ]
    },
    {
     "name": "stderr",
     "output_type": "stream",
     "text": [
      "processing file 913 of 1000: gtzan_genre_metal.00012"
     ]
    },
    {
     "name": "stdout",
     "output_type": "stream",
     "text": [
      "1/1 [==============================] - 0s 68ms/step\n"
     ]
    },
    {
     "name": "stderr",
     "output_type": "stream",
     "text": [
      "processing file 914 of 1000: gtzan_genre_metal.00013"
     ]
    },
    {
     "name": "stdout",
     "output_type": "stream",
     "text": [
      "1/1 [==============================] - 0s 57ms/step\n"
     ]
    },
    {
     "name": "stderr",
     "output_type": "stream",
     "text": [
      "processing file 915 of 1000: gtzan_genre_metal.00014"
     ]
    },
    {
     "name": "stdout",
     "output_type": "stream",
     "text": [
      "1/1 [==============================] - 0s 58ms/step\n"
     ]
    },
    {
     "name": "stderr",
     "output_type": "stream",
     "text": [
      "processing file 916 of 1000: gtzan_genre_metal.00015"
     ]
    },
    {
     "name": "stdout",
     "output_type": "stream",
     "text": [
      "1/1 [==============================] - 0s 50ms/step\n"
     ]
    },
    {
     "name": "stderr",
     "output_type": "stream",
     "text": [
      "processing file 917 of 1000: gtzan_genre_metal.00016"
     ]
    },
    {
     "name": "stdout",
     "output_type": "stream",
     "text": [
      "1/1 [==============================] - 0s 42ms/step\n"
     ]
    },
    {
     "name": "stderr",
     "output_type": "stream",
     "text": [
      "processing file 918 of 1000: gtzan_genre_metal.00017"
     ]
    },
    {
     "name": "stdout",
     "output_type": "stream",
     "text": [
      "1/1 [==============================] - 0s 53ms/step\n"
     ]
    },
    {
     "name": "stderr",
     "output_type": "stream",
     "text": [
      "processing file 919 of 1000: gtzan_genre_metal.00018"
     ]
    },
    {
     "name": "stdout",
     "output_type": "stream",
     "text": [
      "1/1 [==============================] - 0s 49ms/step\n"
     ]
    },
    {
     "name": "stderr",
     "output_type": "stream",
     "text": [
      "processing file 920 of 1000: gtzan_genre_metal.00019"
     ]
    },
    {
     "name": "stdout",
     "output_type": "stream",
     "text": [
      "1/1 [==============================] - 0s 64ms/step\n"
     ]
    },
    {
     "name": "stderr",
     "output_type": "stream",
     "text": [
      "processing file 921 of 1000: gtzan_genre_metal.00020"
     ]
    },
    {
     "name": "stdout",
     "output_type": "stream",
     "text": [
      "1/1 [==============================] - 0s 50ms/step\n"
     ]
    },
    {
     "name": "stderr",
     "output_type": "stream",
     "text": [
      "processing file 922 of 1000: gtzan_genre_metal.00021"
     ]
    },
    {
     "name": "stdout",
     "output_type": "stream",
     "text": [
      "1/1 [==============================] - 0s 50ms/step\n"
     ]
    },
    {
     "name": "stderr",
     "output_type": "stream",
     "text": [
      "processing file 923 of 1000: gtzan_genre_metal.00022"
     ]
    },
    {
     "name": "stdout",
     "output_type": "stream",
     "text": [
      "1/1 [==============================] - 0s 50ms/step\n"
     ]
    },
    {
     "name": "stderr",
     "output_type": "stream",
     "text": [
      "processing file 924 of 1000: gtzan_genre_metal.00023"
     ]
    },
    {
     "name": "stdout",
     "output_type": "stream",
     "text": [
      "1/1 [==============================] - 0s 57ms/step\n"
     ]
    },
    {
     "name": "stderr",
     "output_type": "stream",
     "text": [
      "processing file 925 of 1000: gtzan_genre_metal.00024"
     ]
    },
    {
     "name": "stdout",
     "output_type": "stream",
     "text": [
      "1/1 [==============================] - 0s 49ms/step\n"
     ]
    },
    {
     "name": "stderr",
     "output_type": "stream",
     "text": [
      "processing file 926 of 1000: gtzan_genre_metal.00025"
     ]
    },
    {
     "name": "stdout",
     "output_type": "stream",
     "text": [
      "1/1 [==============================] - 0s 46ms/step\n"
     ]
    },
    {
     "name": "stderr",
     "output_type": "stream",
     "text": [
      "processing file 927 of 1000: gtzan_genre_metal.00026"
     ]
    },
    {
     "name": "stdout",
     "output_type": "stream",
     "text": [
      "1/1 [==============================] - 0s 46ms/step\n"
     ]
    },
    {
     "name": "stderr",
     "output_type": "stream",
     "text": [
      "processing file 928 of 1000: gtzan_genre_metal.00027"
     ]
    },
    {
     "name": "stdout",
     "output_type": "stream",
     "text": [
      "1/1 [==============================] - 0s 45ms/step\n"
     ]
    },
    {
     "name": "stderr",
     "output_type": "stream",
     "text": [
      "processing file 929 of 1000: gtzan_genre_metal.00028"
     ]
    },
    {
     "name": "stdout",
     "output_type": "stream",
     "text": [
      "1/1 [==============================] - 0s 40ms/step\n"
     ]
    },
    {
     "name": "stderr",
     "output_type": "stream",
     "text": [
      "processing file 930 of 1000: gtzan_genre_metal.00029"
     ]
    },
    {
     "name": "stdout",
     "output_type": "stream",
     "text": [
      "1/1 [==============================] - 0s 54ms/step\n"
     ]
    },
    {
     "name": "stderr",
     "output_type": "stream",
     "text": [
      "processing file 931 of 1000: gtzan_genre_metal.00030"
     ]
    },
    {
     "name": "stdout",
     "output_type": "stream",
     "text": [
      "1/1 [==============================] - 0s 47ms/step\n"
     ]
    },
    {
     "name": "stderr",
     "output_type": "stream",
     "text": [
      "processing file 932 of 1000: gtzan_genre_metal.00031"
     ]
    },
    {
     "name": "stdout",
     "output_type": "stream",
     "text": [
      "1/1 [==============================] - 0s 50ms/step\n"
     ]
    },
    {
     "name": "stderr",
     "output_type": "stream",
     "text": [
      "processing file 933 of 1000: gtzan_genre_metal.00032"
     ]
    },
    {
     "name": "stdout",
     "output_type": "stream",
     "text": [
      "1/1 [==============================] - 0s 49ms/step\n"
     ]
    },
    {
     "name": "stderr",
     "output_type": "stream",
     "text": [
      "processing file 934 of 1000: gtzan_genre_metal.00033"
     ]
    },
    {
     "name": "stdout",
     "output_type": "stream",
     "text": [
      "1/1 [==============================] - 0s 49ms/step\n"
     ]
    },
    {
     "name": "stderr",
     "output_type": "stream",
     "text": [
      "processing file 935 of 1000: gtzan_genre_metal.00034"
     ]
    },
    {
     "name": "stdout",
     "output_type": "stream",
     "text": [
      "1/1 [==============================] - 0s 48ms/step\n"
     ]
    },
    {
     "name": "stderr",
     "output_type": "stream",
     "text": [
      "processing file 936 of 1000: gtzan_genre_metal.00035"
     ]
    },
    {
     "name": "stdout",
     "output_type": "stream",
     "text": [
      "1/1 [==============================] - 0s 54ms/step\n"
     ]
    },
    {
     "name": "stderr",
     "output_type": "stream",
     "text": [
      "processing file 937 of 1000: gtzan_genre_metal.00036"
     ]
    },
    {
     "name": "stdout",
     "output_type": "stream",
     "text": [
      "1/1 [==============================] - 0s 43ms/step\n"
     ]
    },
    {
     "name": "stderr",
     "output_type": "stream",
     "text": [
      "processing file 938 of 1000: gtzan_genre_metal.00037"
     ]
    },
    {
     "name": "stdout",
     "output_type": "stream",
     "text": [
      "1/1 [==============================] - 0s 50ms/step\n"
     ]
    },
    {
     "name": "stderr",
     "output_type": "stream",
     "text": [
      "processing file 939 of 1000: gtzan_genre_metal.00038"
     ]
    },
    {
     "name": "stdout",
     "output_type": "stream",
     "text": [
      "1/1 [==============================] - 0s 48ms/step\n"
     ]
    },
    {
     "name": "stderr",
     "output_type": "stream",
     "text": [
      "processing file 940 of 1000: gtzan_genre_metal.00039"
     ]
    },
    {
     "name": "stdout",
     "output_type": "stream",
     "text": [
      "1/1 [==============================] - 0s 48ms/step\n"
     ]
    },
    {
     "name": "stderr",
     "output_type": "stream",
     "text": [
      "processing file 941 of 1000: gtzan_genre_metal.00040"
     ]
    },
    {
     "name": "stdout",
     "output_type": "stream",
     "text": [
      "1/1 [==============================] - 0s 50ms/step\n"
     ]
    },
    {
     "name": "stderr",
     "output_type": "stream",
     "text": [
      "processing file 942 of 1000: gtzan_genre_metal.00041"
     ]
    },
    {
     "name": "stdout",
     "output_type": "stream",
     "text": [
      "1/1 [==============================] - 0s 47ms/step\n"
     ]
    },
    {
     "name": "stderr",
     "output_type": "stream",
     "text": [
      "processing file 943 of 1000: gtzan_genre_metal.00042"
     ]
    },
    {
     "name": "stdout",
     "output_type": "stream",
     "text": [
      "1/1 [==============================] - 0s 50ms/step\n"
     ]
    },
    {
     "name": "stderr",
     "output_type": "stream",
     "text": [
      "processing file 944 of 1000: gtzan_genre_metal.00043"
     ]
    },
    {
     "name": "stdout",
     "output_type": "stream",
     "text": [
      "1/1 [==============================] - 0s 55ms/step\n"
     ]
    },
    {
     "name": "stderr",
     "output_type": "stream",
     "text": [
      "processing file 945 of 1000: gtzan_genre_metal.00044"
     ]
    },
    {
     "name": "stdout",
     "output_type": "stream",
     "text": [
      "1/1 [==============================] - 0s 55ms/step\n"
     ]
    },
    {
     "name": "stderr",
     "output_type": "stream",
     "text": [
      "processing file 946 of 1000: gtzan_genre_metal.00045"
     ]
    },
    {
     "name": "stdout",
     "output_type": "stream",
     "text": [
      "1/1 [==============================] - 0s 56ms/step\n"
     ]
    },
    {
     "name": "stderr",
     "output_type": "stream",
     "text": [
      "processing file 947 of 1000: gtzan_genre_metal.00046"
     ]
    },
    {
     "name": "stdout",
     "output_type": "stream",
     "text": [
      "1/1 [==============================] - 0s 59ms/step\n"
     ]
    },
    {
     "name": "stderr",
     "output_type": "stream",
     "text": [
      "processing file 948 of 1000: gtzan_genre_metal.00047"
     ]
    },
    {
     "name": "stdout",
     "output_type": "stream",
     "text": [
      "1/1 [==============================] - 0s 60ms/step\n"
     ]
    },
    {
     "name": "stderr",
     "output_type": "stream",
     "text": [
      "processing file 949 of 1000: gtzan_genre_metal.00048"
     ]
    },
    {
     "name": "stdout",
     "output_type": "stream",
     "text": [
      "1/1 [==============================] - 0s 64ms/step\n"
     ]
    },
    {
     "name": "stderr",
     "output_type": "stream",
     "text": [
      "processing file 950 of 1000: gtzan_genre_metal.00049"
     ]
    },
    {
     "name": "stdout",
     "output_type": "stream",
     "text": [
      "1/1 [==============================] - 0s 59ms/step\n"
     ]
    },
    {
     "name": "stderr",
     "output_type": "stream",
     "text": [
      "processing file 951 of 1000: gtzan_genre_metal.00050"
     ]
    },
    {
     "name": "stdout",
     "output_type": "stream",
     "text": [
      "1/1 [==============================] - 0s 55ms/step\n"
     ]
    },
    {
     "name": "stderr",
     "output_type": "stream",
     "text": [
      "processing file 952 of 1000: gtzan_genre_metal.00051"
     ]
    },
    {
     "name": "stdout",
     "output_type": "stream",
     "text": [
      "1/1 [==============================] - 0s 40ms/step\n"
     ]
    },
    {
     "name": "stderr",
     "output_type": "stream",
     "text": [
      "processing file 953 of 1000: gtzan_genre_metal.00052"
     ]
    },
    {
     "name": "stdout",
     "output_type": "stream",
     "text": [
      "1/1 [==============================] - 0s 44ms/step\n"
     ]
    },
    {
     "name": "stderr",
     "output_type": "stream",
     "text": [
      "processing file 954 of 1000: gtzan_genre_metal.00053"
     ]
    },
    {
     "name": "stdout",
     "output_type": "stream",
     "text": [
      "1/1 [==============================] - 0s 46ms/step\n"
     ]
    },
    {
     "name": "stderr",
     "output_type": "stream",
     "text": [
      "processing file 955 of 1000: gtzan_genre_metal.00054"
     ]
    },
    {
     "name": "stdout",
     "output_type": "stream",
     "text": [
      "1/1 [==============================] - 0s 42ms/step\n"
     ]
    },
    {
     "name": "stderr",
     "output_type": "stream",
     "text": [
      "processing file 956 of 1000: gtzan_genre_metal.00055"
     ]
    },
    {
     "name": "stdout",
     "output_type": "stream",
     "text": [
      "1/1 [==============================] - 0s 42ms/step\n"
     ]
    },
    {
     "name": "stderr",
     "output_type": "stream",
     "text": [
      "processing file 957 of 1000: gtzan_genre_metal.00056"
     ]
    },
    {
     "name": "stdout",
     "output_type": "stream",
     "text": [
      "1/1 [==============================] - 0s 43ms/step\n"
     ]
    },
    {
     "name": "stderr",
     "output_type": "stream",
     "text": [
      "processing file 958 of 1000: gtzan_genre_metal.00057"
     ]
    },
    {
     "name": "stdout",
     "output_type": "stream",
     "text": [
      "1/1 [==============================] - 0s 35ms/step\n"
     ]
    },
    {
     "name": "stderr",
     "output_type": "stream",
     "text": [
      "processing file 959 of 1000: gtzan_genre_metal.00058"
     ]
    },
    {
     "name": "stdout",
     "output_type": "stream",
     "text": [
      "1/1 [==============================] - 0s 37ms/step\n"
     ]
    },
    {
     "name": "stderr",
     "output_type": "stream",
     "text": [
      "processing file 960 of 1000: gtzan_genre_metal.00059"
     ]
    },
    {
     "name": "stdout",
     "output_type": "stream",
     "text": [
      "1/1 [==============================] - 0s 40ms/step\n"
     ]
    },
    {
     "name": "stderr",
     "output_type": "stream",
     "text": [
      "processing file 961 of 1000: gtzan_genre_metal.00060"
     ]
    },
    {
     "name": "stdout",
     "output_type": "stream",
     "text": [
      "1/1 [==============================] - 0s 43ms/step\n"
     ]
    },
    {
     "name": "stderr",
     "output_type": "stream",
     "text": [
      "processing file 962 of 1000: gtzan_genre_metal.00061"
     ]
    },
    {
     "name": "stdout",
     "output_type": "stream",
     "text": [
      "1/1 [==============================] - 0s 41ms/step\n"
     ]
    },
    {
     "name": "stderr",
     "output_type": "stream",
     "text": [
      "processing file 963 of 1000: gtzan_genre_metal.00062"
     ]
    },
    {
     "name": "stdout",
     "output_type": "stream",
     "text": [
      "1/1 [==============================] - 0s 43ms/step\n"
     ]
    },
    {
     "name": "stderr",
     "output_type": "stream",
     "text": [
      "processing file 964 of 1000: gtzan_genre_metal.00063"
     ]
    },
    {
     "name": "stdout",
     "output_type": "stream",
     "text": [
      "1/1 [==============================] - 0s 45ms/step\n"
     ]
    },
    {
     "name": "stderr",
     "output_type": "stream",
     "text": [
      "processing file 965 of 1000: gtzan_genre_metal.00064"
     ]
    },
    {
     "name": "stdout",
     "output_type": "stream",
     "text": [
      "1/1 [==============================] - 0s 34ms/step\n"
     ]
    },
    {
     "name": "stderr",
     "output_type": "stream",
     "text": [
      "processing file 966 of 1000: gtzan_genre_metal.00065"
     ]
    },
    {
     "name": "stdout",
     "output_type": "stream",
     "text": [
      "1/1 [==============================] - 0s 41ms/step\n"
     ]
    },
    {
     "name": "stderr",
     "output_type": "stream",
     "text": [
      "processing file 967 of 1000: gtzan_genre_metal.00066"
     ]
    },
    {
     "name": "stdout",
     "output_type": "stream",
     "text": [
      "1/1 [==============================] - 0s 40ms/step\n"
     ]
    },
    {
     "name": "stderr",
     "output_type": "stream",
     "text": [
      "processing file 968 of 1000: gtzan_genre_metal.00067"
     ]
    },
    {
     "name": "stdout",
     "output_type": "stream",
     "text": [
      "1/1 [==============================] - 0s 44ms/step\n"
     ]
    },
    {
     "name": "stderr",
     "output_type": "stream",
     "text": [
      "processing file 969 of 1000: gtzan_genre_metal.00068"
     ]
    },
    {
     "name": "stdout",
     "output_type": "stream",
     "text": [
      "1/1 [==============================] - 0s 40ms/step\n"
     ]
    },
    {
     "name": "stderr",
     "output_type": "stream",
     "text": [
      "processing file 970 of 1000: gtzan_genre_metal.00069"
     ]
    },
    {
     "name": "stdout",
     "output_type": "stream",
     "text": [
      "1/1 [==============================] - 0s 45ms/step\n"
     ]
    },
    {
     "name": "stderr",
     "output_type": "stream",
     "text": [
      "processing file 971 of 1000: gtzan_genre_metal.00070"
     ]
    },
    {
     "name": "stdout",
     "output_type": "stream",
     "text": [
      "1/1 [==============================] - 0s 45ms/step\n"
     ]
    },
    {
     "name": "stderr",
     "output_type": "stream",
     "text": [
      "processing file 972 of 1000: gtzan_genre_metal.00071"
     ]
    },
    {
     "name": "stdout",
     "output_type": "stream",
     "text": [
      "1/1 [==============================] - 0s 32ms/step\n"
     ]
    },
    {
     "name": "stderr",
     "output_type": "stream",
     "text": [
      "processing file 973 of 1000: gtzan_genre_metal.00072"
     ]
    },
    {
     "name": "stdout",
     "output_type": "stream",
     "text": [
      "1/1 [==============================] - 0s 39ms/step\n"
     ]
    },
    {
     "name": "stderr",
     "output_type": "stream",
     "text": [
      "processing file 974 of 1000: gtzan_genre_metal.00073"
     ]
    },
    {
     "name": "stdout",
     "output_type": "stream",
     "text": [
      "1/1 [==============================] - 0s 42ms/step\n"
     ]
    },
    {
     "name": "stderr",
     "output_type": "stream",
     "text": [
      "processing file 975 of 1000: gtzan_genre_metal.00074"
     ]
    },
    {
     "name": "stdout",
     "output_type": "stream",
     "text": [
      "1/1 [==============================] - 0s 38ms/step\n"
     ]
    },
    {
     "name": "stderr",
     "output_type": "stream",
     "text": [
      "processing file 976 of 1000: gtzan_genre_metal.00075"
     ]
    },
    {
     "name": "stdout",
     "output_type": "stream",
     "text": [
      "1/1 [==============================] - 0s 38ms/step\n"
     ]
    },
    {
     "name": "stderr",
     "output_type": "stream",
     "text": [
      "processing file 977 of 1000: gtzan_genre_metal.00076"
     ]
    },
    {
     "name": "stdout",
     "output_type": "stream",
     "text": [
      "1/1 [==============================] - 0s 43ms/step\n"
     ]
    },
    {
     "name": "stderr",
     "output_type": "stream",
     "text": [
      "processing file 978 of 1000: gtzan_genre_metal.00077"
     ]
    },
    {
     "name": "stdout",
     "output_type": "stream",
     "text": [
      "1/1 [==============================] - 0s 42ms/step\n"
     ]
    },
    {
     "name": "stderr",
     "output_type": "stream",
     "text": [
      "processing file 979 of 1000: gtzan_genre_metal.00078"
     ]
    },
    {
     "name": "stdout",
     "output_type": "stream",
     "text": [
      "1/1 [==============================] - 0s 43ms/step\n"
     ]
    },
    {
     "name": "stderr",
     "output_type": "stream",
     "text": [
      "processing file 980 of 1000: gtzan_genre_metal.00079"
     ]
    },
    {
     "name": "stdout",
     "output_type": "stream",
     "text": [
      "1/1 [==============================] - 0s 44ms/step\n"
     ]
    },
    {
     "name": "stderr",
     "output_type": "stream",
     "text": [
      "processing file 981 of 1000: gtzan_genre_metal.00080"
     ]
    },
    {
     "name": "stdout",
     "output_type": "stream",
     "text": [
      "1/1 [==============================] - 0s 36ms/step\n"
     ]
    },
    {
     "name": "stderr",
     "output_type": "stream",
     "text": [
      "processing file 982 of 1000: gtzan_genre_metal.00081"
     ]
    },
    {
     "name": "stdout",
     "output_type": "stream",
     "text": [
      "1/1 [==============================] - 0s 39ms/step\n"
     ]
    },
    {
     "name": "stderr",
     "output_type": "stream",
     "text": [
      "processing file 983 of 1000: gtzan_genre_metal.00082"
     ]
    },
    {
     "name": "stdout",
     "output_type": "stream",
     "text": [
      "1/1 [==============================] - 0s 37ms/step\n"
     ]
    },
    {
     "name": "stderr",
     "output_type": "stream",
     "text": [
      "processing file 984 of 1000: gtzan_genre_metal.00083"
     ]
    },
    {
     "name": "stdout",
     "output_type": "stream",
     "text": [
      "1/1 [==============================] - 0s 34ms/step\n"
     ]
    },
    {
     "name": "stderr",
     "output_type": "stream",
     "text": [
      "processing file 985 of 1000: gtzan_genre_metal.00084"
     ]
    },
    {
     "name": "stdout",
     "output_type": "stream",
     "text": [
      "1/1 [==============================] - 0s 40ms/step\n"
     ]
    },
    {
     "name": "stderr",
     "output_type": "stream",
     "text": [
      "processing file 986 of 1000: gtzan_genre_metal.00085"
     ]
    },
    {
     "name": "stdout",
     "output_type": "stream",
     "text": [
      "1/1 [==============================] - 0s 39ms/step\n"
     ]
    },
    {
     "name": "stderr",
     "output_type": "stream",
     "text": [
      "processing file 987 of 1000: gtzan_genre_metal.00086"
     ]
    },
    {
     "name": "stdout",
     "output_type": "stream",
     "text": [
      "1/1 [==============================] - 0s 36ms/step\n"
     ]
    },
    {
     "name": "stderr",
     "output_type": "stream",
     "text": [
      "processing file 988 of 1000: gtzan_genre_metal.00087"
     ]
    },
    {
     "name": "stdout",
     "output_type": "stream",
     "text": [
      "1/1 [==============================] - 0s 43ms/step\n"
     ]
    },
    {
     "name": "stderr",
     "output_type": "stream",
     "text": [
      "processing file 989 of 1000: gtzan_genre_metal.00088"
     ]
    },
    {
     "name": "stdout",
     "output_type": "stream",
     "text": [
      "1/1 [==============================] - 0s 40ms/step\n"
     ]
    },
    {
     "name": "stderr",
     "output_type": "stream",
     "text": [
      "processing file 990 of 1000: gtzan_genre_metal.00089"
     ]
    },
    {
     "name": "stdout",
     "output_type": "stream",
     "text": [
      "1/1 [==============================] - 0s 41ms/step\n"
     ]
    },
    {
     "name": "stderr",
     "output_type": "stream",
     "text": [
      "processing file 991 of 1000: gtzan_genre_metal.00090"
     ]
    },
    {
     "name": "stdout",
     "output_type": "stream",
     "text": [
      "1/1 [==============================] - 0s 50ms/step\n"
     ]
    },
    {
     "name": "stderr",
     "output_type": "stream",
     "text": [
      "processing file 992 of 1000: gtzan_genre_metal.00091"
     ]
    },
    {
     "name": "stdout",
     "output_type": "stream",
     "text": [
      "1/1 [==============================] - 0s 41ms/step\n"
     ]
    },
    {
     "name": "stderr",
     "output_type": "stream",
     "text": [
      "processing file 993 of 1000: gtzan_genre_metal.00092"
     ]
    },
    {
     "name": "stdout",
     "output_type": "stream",
     "text": [
      "1/1 [==============================] - 0s 40ms/step\n"
     ]
    },
    {
     "name": "stderr",
     "output_type": "stream",
     "text": [
      "processing file 994 of 1000: gtzan_genre_metal.00093"
     ]
    },
    {
     "name": "stdout",
     "output_type": "stream",
     "text": [
      "1/1 [==============================] - 0s 40ms/step\n"
     ]
    },
    {
     "name": "stderr",
     "output_type": "stream",
     "text": [
      "processing file 995 of 1000: gtzan_genre_metal.00094"
     ]
    },
    {
     "name": "stdout",
     "output_type": "stream",
     "text": [
      "1/1 [==============================] - 0s 40ms/step\n"
     ]
    },
    {
     "name": "stderr",
     "output_type": "stream",
     "text": [
      "processing file 996 of 1000: gtzan_genre_metal.00095"
     ]
    },
    {
     "name": "stdout",
     "output_type": "stream",
     "text": [
      "1/1 [==============================] - 0s 44ms/step\n"
     ]
    },
    {
     "name": "stderr",
     "output_type": "stream",
     "text": [
      "processing file 997 of 1000: gtzan_genre_metal.00096"
     ]
    },
    {
     "name": "stdout",
     "output_type": "stream",
     "text": [
      "1/1 [==============================] - 0s 37ms/step\n"
     ]
    },
    {
     "name": "stderr",
     "output_type": "stream",
     "text": [
      "processing file 998 of 1000: gtzan_genre_metal.00097"
     ]
    },
    {
     "name": "stdout",
     "output_type": "stream",
     "text": [
      "1/1 [==============================] - 0s 40ms/step\n"
     ]
    },
    {
     "name": "stderr",
     "output_type": "stream",
     "text": [
      "processing file 999 of 1000: gtzan_genre_metal.00098"
     ]
    },
    {
     "name": "stdout",
     "output_type": "stream",
     "text": [
      "1/1 [==============================] - 0s 40ms/step\n"
     ]
    },
    {
     "name": "stderr",
     "output_type": "stream",
     "text": [
      "processing file 1000 of 1000: gtzan_genre_metal.00099"
     ]
    },
    {
     "name": "stdout",
     "output_type": "stream",
     "text": [
      "1/1 [==============================] - 0s 33ms/step\n"
     ]
    }
   ],
   "source": [
    "# create a directory to put the activations and detections into\n",
    "detdir = f'{outdir}/detections/'\n",
    "\n",
    "# we can use validation set as test set, since we did not use it for anything besides monitoring progress\n",
    "activations, detections = predict(model, test, detdir)"
   ]
  },
  {
   "cell_type": "markdown",
   "metadata": {
    "id": "YY59Sq0vqLLi"
   },
   "source": [
    "# Evaluare"
   ]
  },
  {
   "cell_type": "code",
   "execution_count": null,
   "metadata": {},
   "outputs": [],
   "source": [
    "def strip_prefix(key):\n",
    "    known_prefixes = [\"gtzan_genre\", \"ballroom\", \"hainsworth\", \"smc\", \"carnatic\", \"giantsteps_tempo\"]\n",
    "    for prefix in known_prefixes:\n",
    "        if key.startswith(prefix + \"_\"):\n",
    "            return key[len(prefix) + 1:]\n",
    "    return key\n",
    "\n",
    "# functii de evaluare\n",
    "def evaluate_beats(detections, annotations):\n",
    "    evals = []\n",
    "    for key, det in detections.items():\n",
    "        if key not in annotations:\n",
    "            print(f\"Lipsa beat annotation pentru {key}\")\n",
    "            continue\n",
    "        ann = annotations[key]\n",
    "        e = madmom.evaluation.beats.BeatEvaluation(det, ann)\n",
    "        evals.append(e)\n",
    "    return madmom.evaluation.beats.BeatMeanEvaluation(evals)\n",
    "\n",
    "def evaluate_downbeats(detections, annotations):\n",
    "    evals = []\n",
    "    for key, det in detections.items():\n",
    "        if key not in annotations:\n",
    "            print(f\"Lipsa downbeat annotation pentru {key}\")\n",
    "            continue\n",
    "        ann = annotations[key]\n",
    "        e = madmom.evaluation.beats.BeatEvaluation(det, ann, downbeats=True)\n",
    "        evals.append(e)\n",
    "    return madmom.evaluation.beats.BeatMeanEvaluation(evals)\n",
    "\n",
    "def evaluate_tempo(detections, annotations):\n",
    "    evals = []\n",
    "    for key, det in detections.items():\n",
    "        if key not in annotations:\n",
    "            print(f\"Lipsa tempo annotation pentru {key}\")\n",
    "            continue\n",
    "        ann = annotations[key]\n",
    "        e = madmom.evaluation.tempo.TempoEvaluation(det, ann)\n",
    "        evals.append(e)\n",
    "    return madmom.evaluation.tempo.TempoMeanEvaluation(evals)"
   ]
  },
  {
   "cell_type": "code",
   "execution_count": null,
   "metadata": {
    "colab": {
     "base_uri": "https://localhost:8080/"
    },
    "id": "LBCiE0qttzwe",
    "outputId": "66a8d540-5a32-4176-a32e-b8913bba1507"
   },
   "outputs": [],
   "source": [
    "np.bool = bool\n",
    "\n",
    "beat_detections = {strip_prefix(k): v['beats'] for k, v in detections.items()}\n",
    "downbeat_detections = {strip_prefix(k): v['downbeats'] for k, v in detections.items()}\n",
    "bar_detections = {strip_prefix(k): v['bars'] for k, v in detections.items()}\n",
    "tempo_detections = {strip_prefix(k): v['tempo'][0, 0] for k, v in detections.items()}\n",
    "\n",
    "# print(beat_detections)\n",
    "# print(downbeat_detections)\n",
    "# print(bar_detections)\n",
    "# print(tempo_detections)\n",
    "\n",
    "beat_annotations = {}\n",
    "downbeat_annotations = {}\n",
    "tempo_annotations = {}\n",
    "\n",
    "for dataset_name, dataset_tracks in tracks.items():\n",
    "    for track_id, track in dataset_tracks.items():\n",
    "        key = track_id \n",
    "        # print(key)\n",
    "        # Tempo\n",
    "        if hasattr(track, \"tempo\") and track.tempo is not None:\n",
    "            tempo_annotations[key] = track.tempo\n",
    "        # Beats & downbeats\n",
    "        if hasattr(track, \"beats\") and track.beats is not None:\n",
    "            beat_annotations[key] = track.beats.times\n",
    "            if hasattr(track.beats, \"positions\"):\n",
    "                downbeat_annotations[key] = track.beats.times[track.beats.positions == 1]\n",
    "\n",
    "        # print(tempo_annotations)\n",
    "        # # print(beat_detections[key])\n",
    "        # print(downbeat_annotations)\n",
    "        # print(beat_annotations)\n",
    "\n",
    "# Evaluari\n",
    "print(' Beat evaluation\\n--------------------')\n",
    "print(' Beat tracker:    ', evaluate_beats(beat_detections, beat_annotations))\n",
    "print(' Downbeat tracker:', evaluate_beats(downbeat_detections, beat_annotations))\n",
    "\n",
    "print('\\n Downbeat evaluation\\n-----------------------')\n",
    "print(' Bar tracker:     ', evaluate_downbeats(bar_detections, downbeat_annotations))\n",
    "print(' Downbeat tracker:', evaluate_downbeats(downbeat_detections, downbeat_annotations))\n",
    "\n",
    "print('\\n Tempo evaluation\\n--------------------')\n",
    "print(' Tempo:           ', evaluate_tempo(tempo_detections, tempo_annotations))"
   ]
  }
 ],
 "metadata": {
  "accelerator": "GPU",
  "colab": {
   "collapsed_sections": [],
   "name": "ISMIR_2021_tutorial_small.ipynb",
   "provenance": [],
   "toc_visible": true
  },
  "kernelspec": {
   "display_name": "beat",
   "language": "python",
   "name": "python3"
  },
  "language_info": {
   "codemirror_mode": {
    "name": "ipython",
    "version": 3
   },
   "file_extension": ".py",
   "mimetype": "text/x-python",
   "name": "python",
   "nbconvert_exporter": "python",
   "pygments_lexer": "ipython3",
   "version": "3.8.18"
  }
 },
 "nbformat": 4,
 "nbformat_minor": 1
}
